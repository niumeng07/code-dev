{
 "cells": [
  {
   "cell_type": "markdown",
   "metadata": {},
   "source": [
    "### 介绍隐马尔科夫模型，一个HMM模型包含三个主要的参数\n",
    "- A: 状态间的转移参数（矩阵）\n",
    "- B：状态与观察值之间的转移参数（矩阵）\n",
    "- PI: 初始状态概率向量\n",
    "#### HMM的计算涉及到如下三个方面\n",
    "- 概率计算问题：给定模型和观察序列，计算观察序列出现的概率\n",
    "- 训练问题：估计模型参数\n",
    "- 预测问题：给定模型和观察序列，预测其状态信息"
   ]
  },
  {
   "cell_type": "code",
   "execution_count": 2,
   "metadata": {
    "collapsed": true
   },
   "outputs": [],
   "source": [
    "# encoding:utf-8\n",
    "\n",
    "import numpy as np\n",
    "from util.utils import *"
   ]
  },
  {
   "cell_type": "code",
   "execution_count": 3,
   "metadata": {
    "collapsed": true
   },
   "outputs": [],
   "source": [
    "class HMM():\n",
    "    '''隐马尔科夫模型，模型包括三部分参数\n",
    "    A: 状态间的转移参数（矩阵）\n",
    "    B：状态与观察值之间的转移参数（矩阵）\n",
    "    PI: 初始状态概率向量'''\n",
    "\n",
    "    def __init__(self, state_num, obser_num, A=None, B=None, PI=None):\n",
    "        self.state_num = state_num\n",
    "        self.obser_num = obser_num\n",
    "        if A is not None:\n",
    "            self.A = A\n",
    "        else:\n",
    "            self.A = normalize(np.ones((state_num, state_num)))\n",
    "        if B is not None:\n",
    "            self.B = B\n",
    "        else:\n",
    "            self.B = normalize(np.ones((state_num, obser_num)))\n",
    "        if PI is not None:\n",
    "            self.PI = PI\n",
    "        else:\n",
    "            self.PI = np.full(state_num, 1.0 / state_num)\n",
    "        print \"A：\\n\", self.A\n",
    "        print \"B：\\n\", self.B\n",
    "        print \"PI：\\n\", self.PI\n",
    "\n",
    "    \n",
    "    # 估计参数\n",
    "    def fit(self, state_seqs, obser_seqs):\n",
    "        # 计算初始概率\n",
    "        # self.PI = np.zeros((self.state_num,))\n",
    "        self.PI = np.full(self.state_num, 1.0 / 100)\n",
    "        for s in [x[0] for x in state_seqs]:\n",
    "            self.PI[s] += 1.0\n",
    "        self.PI /= np.sum(self.PI)\n",
    "        # 计算状态转移概率和状态生成观察值概率\n",
    "        # self.A = np.zeros((self.state_num, self.state_num))\n",
    "        # self.B = np.zeros((self.state_num, self.obser_num))\n",
    "        self.A = np.full((self.state_num, self.state_num), 1.0 / 100)\n",
    "        self.B = np.full((self.state_num, self.obser_num), 1.0 / 100)\n",
    "        for state_seq, obser_seq in zip(state_seqs, obser_seqs):\n",
    "            for i in range(len(state_seq)-1):\n",
    "                self.A[state_seq[i], state_seq[i+1]] += 1.0\n",
    "            for s, o in zip(state_seq, obser_seq):\n",
    "                self.B[s, o] += 1.0\n",
    "        self.A = normalize(self.A)\n",
    "        self.B = normalize(self.B)\n",
    "        print \"A：\\n\", self.A\n",
    "        print \"B：\\n\", self.B\n",
    "        print \"PI：\\n\", self.PI\n",
    "    \n",
    "    def baum_welch(self):\n",
    "        pass\n",
    "\n",
    "    \n",
    "    # 概率估计，计算一个观察序列出现的概率\n",
    "    def prob_comp(self, obser_seq):\n",
    "        hist_prob_s = np.zeros(self.state_num)\n",
    "        # 初始状态\n",
    "        for state in range(self.state_num):\n",
    "            hist_prob_s[state] = self.PI[state] * self.B[state][obser_seq[0]]\n",
    "        for t in range(1, len(obser_seq)):\n",
    "            new_prob_s = np.zeros(self.state_num)\n",
    "            for curr_state in range(self.state_num):\n",
    "                curr_prob = 0.0\n",
    "                for last_state in range(self.state_num):\n",
    "                    curr_prob += hist_prob_s[last_state] * self.A[last_state][curr_state]\n",
    "                new_prob_s[curr_state] = curr_prob * self.B[curr_state][obser_seq[t]]\n",
    "            hist_prob_s = new_prob_s\n",
    "        return np.sum(hist_prob_s)\n",
    "\n",
    "    \n",
    "    # 解码，给定一个观察序列，求解最可能的状态序列，即，维特比算法\n",
    "    def predict(self, obser_seq):\n",
    "        n = len(obser_seq)\n",
    "        max_prob_ts = np.zeros((n, self.state_num))\n",
    "        max_prob_paths = list()\n",
    "        # 初始化\n",
    "        for state in range(self.state_num):\n",
    "            max_prob_ts[0][state] = self.PI[state] * self.B[state][obser_seq[0]]\n",
    "        max_prob_paths.append([0] * self.state_num)\n",
    "        # 开始递推\n",
    "        for t in range(1, n):\n",
    "            best_path = []\n",
    "            for state in range(self.state_num):\n",
    "                curr_max, max_state = -100, -1\n",
    "                for last_state in range(self.state_num):\n",
    "                    prob = max_prob_ts[t-1][last_state] * self.A[last_state][state] * \\\n",
    "                           self.B[state][obser_seq[t]]\n",
    "                    if prob > curr_max:\n",
    "                        curr_max, max_state = prob, last_state\n",
    "                max_prob_ts[t][state] = curr_max\n",
    "                best_path.append(max_state)\n",
    "            max_prob_paths.append(best_path)\n",
    "        max_prob = np.max(max_prob_ts[n-1])\n",
    "        print \"最佳状态概率：\", max_prob\n",
    "        best_path = []\n",
    "        last_state = np.argmax(max_prob_ts[n-1])\n",
    "        best_path.append(last_state)\n",
    "\n",
    "        for t in range(n-1, 0, -1):\n",
    "            last_state = max_prob_paths[t][last_state]\n",
    "            best_path.append(last_state)\n",
    "        return [x for x in reversed(best_path)]"
   ]
  },
  {
   "cell_type": "code",
   "execution_count": 4,
   "metadata": {},
   "outputs": [
    {
     "name": "stdout",
     "output_type": "stream",
     "text": [
      "A：\n",
      "[[0.5, 0.2, 0.3], [0.3, 0.5, 0.2], [0.2, 0.3, 0.5]]\n",
      "B：\n",
      "[[0.5, 0.5], [0.4, 0.6], [0.7, 0.3]]\n",
      "PI：\n",
      "[0.2, 0.4, 0.4]\n"
     ]
    }
   ],
   "source": [
    "A = [[0.5, 0.2, 0.3],\n",
    "     [0.3, 0.5, 0.2],\n",
    "     [0.2, 0.3, 0.5]]\n",
    "B = [[0.5, 0.5],\n",
    "     [0.4, 0.6],\n",
    "     [0.7, 0.3]]\n",
    "PI = [0.2, 0.4, 0.4]\n",
    "hmm = HMM(3, 2, A, B, PI)"
   ]
  },
  {
   "cell_type": "code",
   "execution_count": 9,
   "metadata": {},
   "outputs": [
    {
     "name": "stdout",
     "output_type": "stream",
     "text": [
      "模型生成观察序列的概率： 0.130218\n"
     ]
    }
   ],
   "source": [
    "obser_seq = [0, 1, 0]\n",
    "print \"模型生成观察序列的概率：\", hmm.prob_comp(obser_seq)"
   ]
  },
  {
   "cell_type": "code",
   "execution_count": 10,
   "metadata": {},
   "outputs": [
    {
     "name": "stdout",
     "output_type": "stream",
     "text": [
      "观察序列对应的最优状态序列： 最佳状态概率： 0.0147\n",
      "2\t2\t2\n"
     ]
    }
   ],
   "source": [
    "obser_seq = [0, 1, 0]\n",
    "print \"观察序列对应的最优状态序列：\",'\\t'.join(map(str, hmm.predict(obser_seq)))"
   ]
  },
  {
   "cell_type": "code",
   "execution_count": null,
   "metadata": {
    "collapsed": true
   },
   "outputs": [],
   "source": []
  }
 ],
 "metadata": {
  "kernelspec": {
   "display_name": "Python 2",
   "language": "python",
   "name": "python2"
  },
  "language_info": {
   "codemirror_mode": {
    "name": "ipython",
    "version": 2
   },
   "file_extension": ".py",
   "mimetype": "text/x-python",
   "name": "python",
   "nbconvert_exporter": "python",
   "pygments_lexer": "ipython2",
   "version": "2.7.10"
  }
 },
 "nbformat": 4,
 "nbformat_minor": 2
}
