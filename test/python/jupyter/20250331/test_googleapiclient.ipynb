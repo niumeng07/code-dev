{
 "cells": [
  {
   "cell_type": "code",
   "execution_count": 1,
   "id": "720ca7b5-8f01-4aa9-aa91-09b5dee36112",
   "metadata": {},
   "outputs": [
    {
     "ename": "ModuleNotFoundError",
     "evalue": "No module named 'googleapiclient'",
     "output_type": "error",
     "traceback": [
      "\u001b[0;31m---------------------------------------------------------------------------\u001b[0m",
      "\u001b[0;31mModuleNotFoundError\u001b[0m                       Traceback (most recent call last)",
      "Cell \u001b[0;32mIn[1], line 1\u001b[0m\n\u001b[0;32m----> 1\u001b[0m \u001b[38;5;28;01mfrom\u001b[39;00m \u001b[38;5;21;01mgoogleapiclient\u001b[39;00m\u001b[38;5;21;01m.\u001b[39;00m\u001b[38;5;21;01mdiscovery\u001b[39;00m \u001b[38;5;28;01mimport\u001b[39;00m build\n",
      "\u001b[0;31mModuleNotFoundError\u001b[0m: No module named 'googleapiclient'"
     ]
    }
   ],
   "source": [
    "from googleapiclient.discovery import build"
   ]
  },
  {
   "cell_type": "code",
   "execution_count": null,
   "id": "1b6977fc-537f-4615-a1e2-54406c2cd205",
   "metadata": {},
   "outputs": [],
   "source": [
    "def get_channel_id(api_key: str, custom_username: str) -> str:\n",
    "    \"\"\"\n",
    "    根据自定义用户名（例如 @StockCafe）获取对应的 channelId。\n",
    "    \"\"\"\n",
    "    youtube = build('youtube', 'v3', developerKey=api_key)\n",
    "    request = youtube.search().list(\n",
    "        part='snippet',\n",
    "        q=custom_username,\n",
    "        type='channel',\n",
    "        maxResults=1\n",
    "    )\n",
    "    response = request.execute()\n",
    "    \n",
    "    try:\n",
    "        channel_id = response['items'][0]['id']['channelId']\n",
    "        return channel_id\n",
    "    except (KeyError, IndexError):\n",
    "        print(\"未找到对应的频道\")\n",
    "        return \"\"\n",
    "\n",
    "def get_youtube_subscriber_count(api_key: str, channel_id: str) -> int:\n",
    "    \"\"\"\n",
    "    根据 channelId 获取粉丝数。\n",
    "    \"\"\"\n",
    "    youtube = build('youtube', 'v3', developerKey=api_key)\n",
    "    request = youtube.channels().list(\n",
    "        part='statistics',\n",
    "        id=channel_id\n",
    "    )\n",
    "    response = request.execute()\n",
    "    \n",
    "    try:\n",
    "        subscriber_count = response['items'][0]['statistics']['subscriberCount']\n",
    "        return int(subscriber_count)\n",
    "    except (KeyError, IndexError):\n",
    "        print(\"未找到频道或无法获取粉丝数\")\n",
    "        return 0\n",
    "    "
   ]
  },
  {
   "cell_type": "code",
   "execution_count": null,
   "id": "4ad76ba8-a7f4-427b-bd70-58c4963c6980",
   "metadata": {},
   "outputs": [],
   "source": [
    "API_KEY = \"YOUR_API_KEY\"\n",
    "CUSTOM_USERNAME = \"@StockCafe\"  # 自定义用户名\n",
    "\n",
    "# 获取频道 ID\n",
    "channel_id = get_channel_id(API_KEY, CUSTOM_USERNAME)\n",
    "if channel_id:\n",
    "    print(f\"频道 ID: {channel_id}\")\n",
    "    # 获取粉丝数\n",
    "    subscribers = get_youtube_subscriber_count(API_KEY, channel_id)\n",
    "    print(f\"{CUSTOM_USERNAME} 的粉丝数: {subscribers}\")\n",
    "else:\n",
    "    print(\"无法解析频道 ID\")"
   ]
  }
 ],
 "metadata": {
  "kernelspec": {
   "display_name": "Python 3 (ipykernel)",
   "language": "python",
   "name": "python3"
  },
  "language_info": {
   "codemirror_mode": {
    "name": "ipython",
    "version": 3
   },
   "file_extension": ".py",
   "mimetype": "text/x-python",
   "name": "python",
   "nbconvert_exporter": "python",
   "pygments_lexer": "ipython3",
   "version": "3.10.16"
  }
 },
 "nbformat": 4,
 "nbformat_minor": 5
}
