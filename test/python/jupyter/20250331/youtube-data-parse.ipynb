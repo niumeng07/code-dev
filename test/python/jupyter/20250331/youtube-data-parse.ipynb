{
 "cells": [
  {
   "cell_type": "code",
   "execution_count": 71,
   "id": "7083a834-b021-45e0-8068-5567a13fc2b3",
   "metadata": {},
   "outputs": [],
   "source": [
    "import pandas as pd\n",
    "import json\n",
    "import re\n",
    "from datetime import datetime"
   ]
  },
  {
   "cell_type": "code",
   "execution_count": 72,
   "id": "49e023b4-2951-41a5-9051-6826683d17f3",
   "metadata": {},
   "outputs": [],
   "source": [
    "input_file = '/Users/liuda/Desktop/youtube-schema/account-0000.csv'"
   ]
  },
  {
   "cell_type": "code",
   "execution_count": 83,
   "id": "22962642-19b8-4a75-ae6d-d9c0e64c23ab",
   "metadata": {},
   "outputs": [],
   "source": [
    "df = pd.read_csv(input_file)"
   ]
  },
  {
   "cell_type": "code",
   "execution_count": null,
   "id": "ad371f97-94cd-455a-becd-63223645a1c9",
   "metadata": {},
   "outputs": [],
   "source": []
  },
  {
   "cell_type": "code",
   "execution_count": 91,
   "id": "00bba8be-7ffb-414a-a7c1-a681147d64ed",
   "metadata": {},
   "outputs": [],
   "source": [
    "def json_parse(input_str):\n",
    "    d = re.search(r\"'availableCountries':.*?,\", input_str)\n",
    "    if d is None:\n",
    "        return {}\n",
    "    ss = input_str.replace(d[0], '')\n",
    "    json_data = eval(ss)\n",
    "    return json_data"
   ]
  },
  {
   "cell_type": "code",
   "execution_count": null,
   "id": "94edda47-bce8-4dc4-bf29-037b8e07d085",
   "metadata": {},
   "outputs": [],
   "source": []
  },
  {
   "cell_type": "code",
   "execution_count": 95,
   "id": "e38d9f1d-12a8-4488-a809-877a1fad335d",
   "metadata": {},
   "outputs": [],
   "source": [
    "df['parsed_detail'] = df['details_json'].apply(json_parse)"
   ]
  },
  {
   "cell_type": "code",
   "execution_count": 96,
   "id": "4cae3f5d-3add-4881-afda-6bc640b2a317",
   "metadata": {},
   "outputs": [],
   "source": [
    "df['publish_date'] = df['parsed_detail'].apply(\n",
    "    lambda row: datetime.strftime(\n",
    "        datetime.strptime(\n",
    "            row['microformat']['playerMicroformatRenderer']['publishDate'],\n",
    "            \"%Y-%m-%dT%H:%M:%S%z\"),\n",
    "        '%Y-%m-%d')\n",
    ")\n",
    "df['auther'] = df['parsed_detail'].apply(lambda row: row['videoDetails']['author'])\n",
    "df['title'] = df['parsed_detail'].apply(lambda row: row['videoDetails']['title'])\n",
    "df['viewCount'] = df['parsed_detail'].apply(lambda row: row['videoDetails']['viewCount'])"
   ]
  },
  {
   "cell_type": "code",
   "execution_count": 102,
   "id": "c528d216-1e0a-4821-836d-e31f33d96c06",
   "metadata": {},
   "outputs": [],
   "source": [
    "df['parsed_data'] = df['json_data'].apply(eval)"
   ]
  },
  {
   "cell_type": "code",
   "execution_count": 114,
   "id": "e704cbcc-6ebc-4e68-8175-ddc30da24be0",
   "metadata": {},
   "outputs": [],
   "source": [
    "df['trackingParams'] = df['parsed_data'].apply(lambda row: row['richItemRenderer']['trackingParams'])\n",
    "\n",
    "df['publishedTimeText'] = df['parsed_data'].apply(lambda row: row['richItemRenderer']['content']['videoRenderer']['publishedTimeText'])\n",
    "df['viewCountText'] = df['parsed_data'].apply(lambda row: row['richItemRenderer']['content']['videoRenderer']['viewCountText'])"
   ]
  },
  {
   "cell_type": "code",
   "execution_count": 115,
   "id": "f27f4ff2-a2e0-4bdc-bceb-88cdb9cfc1d7",
   "metadata": {},
   "outputs": [
    {
     "data": {
      "text/html": [
       "<div>\n",
       "<style scoped>\n",
       "    .dataframe tbody tr th:only-of-type {\n",
       "        vertical-align: middle;\n",
       "    }\n",
       "\n",
       "    .dataframe tbody tr th {\n",
       "        vertical-align: top;\n",
       "    }\n",
       "\n",
       "    .dataframe thead th {\n",
       "        text-align: right;\n",
       "    }\n",
       "</style>\n",
       "<table border=\"1\" class=\"dataframe\">\n",
       "  <thead>\n",
       "    <tr style=\"text-align: right;\">\n",
       "      <th></th>\n",
       "      <th>publish_date</th>\n",
       "      <th>publishedTimeText</th>\n",
       "      <th>viewCountText</th>\n",
       "      <th>viewCount</th>\n",
       "    </tr>\n",
       "  </thead>\n",
       "  <tbody>\n",
       "    <tr>\n",
       "      <th>0</th>\n",
       "      <td>2024-04-20</td>\n",
       "      <td>{'simpleText': '8个月前'}</td>\n",
       "      <td>{'simpleText': '2,748次观看'}</td>\n",
       "      <td>2748</td>\n",
       "    </tr>\n",
       "    <tr>\n",
       "      <th>1</th>\n",
       "      <td>2024-08-05</td>\n",
       "      <td>{'simpleText': '4个月前'}</td>\n",
       "      <td>{'simpleText': '18,162次观看'}</td>\n",
       "      <td>18162</td>\n",
       "    </tr>\n",
       "    <tr>\n",
       "      <th>2</th>\n",
       "      <td>2024-12-03</td>\n",
       "      <td>{'simpleText': '3周前'}</td>\n",
       "      <td>{'simpleText': '6,462次观看'}</td>\n",
       "      <td>6462</td>\n",
       "    </tr>\n",
       "    <tr>\n",
       "      <th>3</th>\n",
       "      <td>2024-05-24</td>\n",
       "      <td>{'simpleText': '7个月前'}</td>\n",
       "      <td>{'simpleText': '18,381次观看'}</td>\n",
       "      <td>18381</td>\n",
       "    </tr>\n",
       "    <tr>\n",
       "      <th>4</th>\n",
       "      <td>2024-09-08</td>\n",
       "      <td>{'simpleText': '3个月前'}</td>\n",
       "      <td>{'simpleText': '4,286次观看'}</td>\n",
       "      <td>4286</td>\n",
       "    </tr>\n",
       "    <tr>\n",
       "      <th>...</th>\n",
       "      <td>...</td>\n",
       "      <td>...</td>\n",
       "      <td>...</td>\n",
       "      <td>...</td>\n",
       "    </tr>\n",
       "    <tr>\n",
       "      <th>715</th>\n",
       "      <td>2024-01-03</td>\n",
       "      <td>{'simpleText': '11个月前'}</td>\n",
       "      <td>{'simpleText': '14,185次观看'}</td>\n",
       "      <td>14185</td>\n",
       "    </tr>\n",
       "    <tr>\n",
       "      <th>716</th>\n",
       "      <td>2023-12-28</td>\n",
       "      <td>{'simpleText': '11个月前'}</td>\n",
       "      <td>{'simpleText': '3,135次观看'}</td>\n",
       "      <td>3135</td>\n",
       "    </tr>\n",
       "    <tr>\n",
       "      <th>717</th>\n",
       "      <td>2024-10-13</td>\n",
       "      <td>{'simpleText': '2个月前'}</td>\n",
       "      <td>{'simpleText': '3,673次观看'}</td>\n",
       "      <td>3673</td>\n",
       "    </tr>\n",
       "    <tr>\n",
       "      <th>718</th>\n",
       "      <td>2024-04-16</td>\n",
       "      <td>{'simpleText': '8个月前'}</td>\n",
       "      <td>{'simpleText': '3,456次观看'}</td>\n",
       "      <td>3456</td>\n",
       "    </tr>\n",
       "    <tr>\n",
       "      <th>719</th>\n",
       "      <td>2024-10-01</td>\n",
       "      <td>{'simpleText': '2个月前'}</td>\n",
       "      <td>{'simpleText': '19,703次观看'}</td>\n",
       "      <td>19703</td>\n",
       "    </tr>\n",
       "  </tbody>\n",
       "</table>\n",
       "<p>720 rows × 4 columns</p>\n",
       "</div>"
      ],
      "text/plain": [
       "    publish_date        publishedTimeText                viewCountText  \\\n",
       "0     2024-04-20   {'simpleText': '8个月前'}   {'simpleText': '2,748次观看'}   \n",
       "1     2024-08-05   {'simpleText': '4个月前'}  {'simpleText': '18,162次观看'}   \n",
       "2     2024-12-03    {'simpleText': '3周前'}   {'simpleText': '6,462次观看'}   \n",
       "3     2024-05-24   {'simpleText': '7个月前'}  {'simpleText': '18,381次观看'}   \n",
       "4     2024-09-08   {'simpleText': '3个月前'}   {'simpleText': '4,286次观看'}   \n",
       "..           ...                      ...                          ...   \n",
       "715   2024-01-03  {'simpleText': '11个月前'}  {'simpleText': '14,185次观看'}   \n",
       "716   2023-12-28  {'simpleText': '11个月前'}   {'simpleText': '3,135次观看'}   \n",
       "717   2024-10-13   {'simpleText': '2个月前'}   {'simpleText': '3,673次观看'}   \n",
       "718   2024-04-16   {'simpleText': '8个月前'}   {'simpleText': '3,456次观看'}   \n",
       "719   2024-10-01   {'simpleText': '2个月前'}  {'simpleText': '19,703次观看'}   \n",
       "\n",
       "    viewCount  \n",
       "0        2748  \n",
       "1       18162  \n",
       "2        6462  \n",
       "3       18381  \n",
       "4        4286  \n",
       "..        ...  \n",
       "715     14185  \n",
       "716      3135  \n",
       "717      3673  \n",
       "718      3456  \n",
       "719     19703  \n",
       "\n",
       "[720 rows x 4 columns]"
      ]
     },
     "execution_count": 115,
     "metadata": {},
     "output_type": "execute_result"
    }
   ],
   "source": [
    "df[['publish_date', 'publishedTimeText', 'viewCountText', 'viewCount']]"
   ]
  },
  {
   "cell_type": "code",
   "execution_count": 88,
   "id": "c34e3a53-67f2-4a90-9028-2c26b6117679",
   "metadata": {},
   "outputs": [
    {
     "data": {
      "text/html": [
       "<div>\n",
       "<style scoped>\n",
       "    .dataframe tbody tr th:only-of-type {\n",
       "        vertical-align: middle;\n",
       "    }\n",
       "\n",
       "    .dataframe tbody tr th {\n",
       "        vertical-align: top;\n",
       "    }\n",
       "\n",
       "    .dataframe thead th {\n",
       "        text-align: right;\n",
       "    }\n",
       "</style>\n",
       "<table border=\"1\" class=\"dataframe\">\n",
       "  <thead>\n",
       "    <tr style=\"text-align: right;\">\n",
       "      <th></th>\n",
       "      <th>url</th>\n",
       "      <th>publish_date</th>\n",
       "      <th>auther</th>\n",
       "      <th>title</th>\n",
       "      <th>viewCount</th>\n",
       "    </tr>\n",
       "  </thead>\n",
       "  <tbody>\n",
       "    <tr>\n",
       "      <th>0</th>\n",
       "      <td>https://www.youtube.com/watch?v=5Itq-lPYzWU</td>\n",
       "      <td>2024-04-20</td>\n",
       "      <td>美股嘉可能【mgjkn.com】</td>\n",
       "      <td>【美股嘉可能】下周能止跌吗？NVDA/soxl继续空还是？惊呆啦！NVDA与TSLA竟然很像...</td>\n",
       "      <td>2748</td>\n",
       "    </tr>\n",
       "  </tbody>\n",
       "</table>\n",
       "</div>"
      ],
      "text/plain": [
       "                                           url publish_date            auther  \\\n",
       "0  https://www.youtube.com/watch?v=5Itq-lPYzWU   2024-04-20  美股嘉可能【mgjkn.com】   \n",
       "\n",
       "                                               title viewCount  \n",
       "0  【美股嘉可能】下周能止跌吗？NVDA/soxl继续空还是？惊呆啦！NVDA与TSLA竟然很像...      2748  "
      ]
     },
     "execution_count": 88,
     "metadata": {},
     "output_type": "execute_result"
    }
   ],
   "source": [
    "df[df['url']=='https://www.youtube.com/watch?v=5Itq-lPYzWU'][['url', 'publish_date', 'auther', 'title', 'viewCount']]"
   ]
  },
  {
   "cell_type": "code",
   "execution_count": null,
   "id": "276519cf-f12e-4ff0-863b-0387e97dced6",
   "metadata": {},
   "outputs": [],
   "source": []
  }
 ],
 "metadata": {
  "kernelspec": {
   "display_name": "Python 3 (ipykernel)",
   "language": "python",
   "name": "python3"
  },
  "language_info": {
   "codemirror_mode": {
    "name": "ipython",
    "version": 3
   },
   "file_extension": ".py",
   "mimetype": "text/x-python",
   "name": "python",
   "nbconvert_exporter": "python",
   "pygments_lexer": "ipython3",
   "version": "3.10.16"
  }
 },
 "nbformat": 4,
 "nbformat_minor": 5
}
