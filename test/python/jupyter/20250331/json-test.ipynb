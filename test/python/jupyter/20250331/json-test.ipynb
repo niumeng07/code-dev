{
 "cells": [
  {
   "cell_type": "code",
   "execution_count": 1,
   "id": "734d51e3-66a4-4e93-b600-ba3ef4ba2eee",
   "metadata": {},
   "outputs": [],
   "source": [
    "import json"
   ]
  },
  {
   "cell_type": "code",
   "execution_count": 3,
   "id": "ba6f982a-9133-48a7-9ceb-9fd17d7090c8",
   "metadata": {},
   "outputs": [],
   "source": [
    "data = json.load(open('/Users/liuda/Local/data/trading/data/output/ticker/overview/TSM.json'))"
   ]
  },
  {
   "cell_type": "code",
   "execution_count": 4,
   "id": "1a438595-baa3-4795-96f0-f8180dac3f78",
   "metadata": {},
   "outputs": [],
   "source": [
    "import pandas as pd"
   ]
  },
  {
   "cell_type": "code",
   "execution_count": 7,
   "id": "a4bfd172-e6cd-4d70-8a1d-74ef3e68f713",
   "metadata": {},
   "outputs": [
    {
     "data": {
      "text/plain": [
       "{'ticker_id': 'TSM',\n",
       " 'technical_trend': 'Neutral',\n",
       " 'YTD_gain': '-13.41%',\n",
       " 'daily_gain': '-0.74%',\n",
       " 'current_price': 174.55499267578125,\n",
       " 'key_signals': {'SMA_5_day': 0},\n",
       " 'key_events': [{'technical_trend': 'Neutral',\n",
       "   'weight': 3,\n",
       "   'description': 'Technical Trend'},\n",
       "  {'technical_trend_short': 'Neutral',\n",
       "   'weight': 5,\n",
       "   'description': 'Technical Trend Short'},\n",
       "  {'price_to_key_point': 1, 'weight': 2, 'description': 'TODO'}],\n",
       " 'trend_score': -10.0,\n",
       " 'direct_SMA_50_weekly': 1,\n",
       " 'direct_SMA_50_day': -1,\n",
       " 'direct_SMA_20_weekly': -1,\n",
       " 'direct_SMA_20_day': -1,\n",
       " 'invest_signals': {'fundamental': 0,\n",
       "  'technical': 0,\n",
       "  'hedge_manager': '# TODO'},\n",
       " 'institution_trend': 'Bullish',\n",
       " 'buy_sell_value_diff_4': 3.773743619794813,\n",
       " 'HIS_AVG_INC_VAL_1': 39878938.25,\n",
       " 'HIS_AVG_DRC_VAL_1': -5415652.875,\n",
       " 'HIS_AVG_INC_VAL_3': 18448306.875,\n",
       " 'HIS_AVG_INC_VAL_4': 151823372.75,\n",
       " 'HIS_AVG_INC_VAL_5': 216923396.625,\n",
       " 'HIS_AVG_INC_VAL_2': 39878938.25,\n",
       " 'HIS_AVG_DRC_VAL_2': -5415652.875,\n",
       " 'HIS_AVG_DRC_VAL_3': -3002813.375,\n",
       " 'HIS_AVG_DRC_VAL_4': -3558705.625,\n",
       " 'HIS_AVG_DRC_VAL_5': -74561451.0,\n",
       " 'buy_sell_value_diff_1': 185.77199559733683,\n",
       " 'buy_sell_value_diff_2': 2.172059233713414,\n",
       " 'buy_sell_value_diff_3': 11.620342912464663,\n",
       " 'buy_sell_value_diff_5': 42.808924922960294,\n",
       " 'buy_value_1': 306675940.0,\n",
       " 'buy_value_2': 24631067.0,\n",
       " 'buy_value_3': 36920781.0,\n",
       " 'buy_value_4': 613485696.0,\n",
       " 'buy_value_5': 82448063.0,\n",
       " 'sell_value_1': -1650818.0,\n",
       " 'sell_value_2': -11339960.0,\n",
       " 'sell_value_3': -3177253.0,\n",
       " 'sell_value_4': -162566871.0,\n",
       " 'sell_value_5': -1925954.0,\n",
       " 'hedge_cost_price': 47.97429374229744,\n",
       " 'hedge_year': 2024,\n",
       " 'hedge_qt': 4,\n",
       " 'next_earnings_date': '2025-04-16',\n",
       " 'EPS': 2.24,\n",
       " 'EPS_surprise': '0.68%',\n",
       " 'fundamental_trend': 'Neutral',\n",
       " 'EPS_surprise_growth_rate': '15.46%',\n",
       " 'trend_status': 'safe',\n",
       " 'risk_score': 0,\n",
       " 'risk_reason': 'Neutral trend and 2 Bull trend at most.',\n",
       " 'technical_score': 2,\n",
       " 'fundamental_score': 2,\n",
       " 'institution_score': 3,\n",
       " 'invest_score': 7,\n",
       " 'buy_sell_value_diff': 5.890382480583495,\n",
       " 'buy_value': 1064161547.0,\n",
       " 'sell_value': -180660856.0}"
      ]
     },
     "execution_count": 7,
     "metadata": {},
     "output_type": "execute_result"
    }
   ],
   "source": [
    "data"
   ]
  },
  {
   "cell_type": "code",
   "execution_count": null,
   "id": "6137734c-ce3c-4a4a-98c1-0821e47db988",
   "metadata": {},
   "outputs": [],
   "source": []
  }
 ],
 "metadata": {
  "kernelspec": {
   "display_name": "Python 3 (ipykernel)",
   "language": "python",
   "name": "python3"
  },
  "language_info": {
   "codemirror_mode": {
    "name": "ipython",
    "version": 3
   },
   "file_extension": ".py",
   "mimetype": "text/x-python",
   "name": "python",
   "nbconvert_exporter": "python",
   "pygments_lexer": "ipython3",
   "version": "3.10.16"
  }
 },
 "nbformat": 4,
 "nbformat_minor": 5
}
