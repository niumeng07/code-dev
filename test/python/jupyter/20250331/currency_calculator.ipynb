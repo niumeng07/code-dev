{
 "cells": [
  {
   "cell_type": "code",
   "execution_count": 1,
   "id": "5c608e80-11ab-465a-b669-e54bdc54a66e",
   "metadata": {},
   "outputs": [
    {
     "name": "stdout",
     "output_type": "stream",
     "text": [
      "100 USD = 726.23 CNY\n"
     ]
    }
   ],
   "source": [
    "import requests\n",
    "\n",
    "def get_exchange_rate(api_key, base_currency, target_currency):\n",
    "    url = f\"https://v6.exchangerate-api.com/v6/{api_key}/pair/{base_currency}/{target_currency}\"\n",
    "    response = requests.get(url)\n",
    "    \n",
    "    if response.status_code == 200:\n",
    "        data = response.json()\n",
    "        if data.get(\"result\") == \"success\":\n",
    "            return data.get(\"conversion_rate\")\n",
    "        else:\n",
    "            raise ValueError(f\"Failed to fetch exchange rate: {data.get('error-type')}\")\n",
    "    else:\n",
    "        raise ConnectionError(f\"Failed to connect to API: {response.status_code}\")\n",
    "\n",
    "def convert_currency(amount, base_currency, target_currency, api_key):\n",
    "    exchange_rate = get_exchange_rate(api_key, base_currency, target_currency)\n",
    "    return amount * exchange_rate\n",
    "\n",
    "\n",
    "API_KEY = \"c7297a40fb7906268372c239\"\n",
    "\n",
    "# 输入参数\n",
    "amount = 100  # 要转换的金额\n",
    "base_currency = \"USD\"  # 基础货币\n",
    "target_currency = \"CNY\"  # 目标货币\n",
    "\n",
    "try:\n",
    "    converted_amount = convert_currency(amount, base_currency, target_currency, API_KEY)\n",
    "    print(f\"{amount} {base_currency} = {converted_amount:.2f} {target_currency}\")\n",
    "except Exception as e:\n",
    "    print(f\"Error: {e}\")"
   ]
  },
  {
   "cell_type": "code",
   "execution_count": null,
   "id": "901f577d-7f22-4016-bde9-f53b847993e7",
   "metadata": {},
   "outputs": [],
   "source": []
  }
 ],
 "metadata": {
  "kernelspec": {
   "display_name": "Python 3",
   "language": "python",
   "name": "python3"
  },
  "language_info": {
   "codemirror_mode": {
    "name": "ipython",
    "version": 3
   },
   "file_extension": ".py",
   "mimetype": "text/x-python",
   "name": "python",
   "nbconvert_exporter": "python",
   "pygments_lexer": "ipython3",
   "version": "3.10.16"
  }
 },
 "nbformat": 4,
 "nbformat_minor": 5
}
