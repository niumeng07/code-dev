{
 "cells": [
  {
   "cell_type": "code",
   "execution_count": 49,
   "id": "eebf4b74-a464-42e7-aba0-fcf43310d6ca",
   "metadata": {},
   "outputs": [],
   "source": [
    "import os\n",
    "import sys\n",
    "from datetime import datetime, timedelta\n",
    "import time\n",
    "import re\n",
    "import json\n",
    "import hashlib\n",
    "import requests\n",
    "import pandas as pd\n",
    "import traceback\n",
    "from zhconv import convert"
   ]
  },
  {
   "cell_type": "code",
   "execution_count": null,
   "id": "2fe6eb05-3cf1-4ddd-94cc-e2aa16ae971f",
   "metadata": {},
   "outputs": [],
   "source": []
  },
  {
   "cell_type": "code",
   "execution_count": 48,
   "id": "47d133b8-b1e9-4237-9d2c-90475dcbc64a",
   "metadata": {},
   "outputs": [],
   "source": [
    "# lastfm\n",
    "API_KEY = \"075f071c1677f21928e128a9a387a85c\"\n",
    "API_SECRET = \"deaf6fbbd01c80e9371d9266beee627c\"\n",
    "\n",
    "## spotify\n",
    "def get_spotify_access_token():\n",
    "    url = \"https://accounts.spotify.com/api/token\"\n",
    "    data = {\n",
    "        \"grant_type\": \"client_credentials\",\n",
    "        \"client_id\": \"80b61d0e98d346e086860b2b8d6db2e3\",\n",
    "        \"client_secret\": \"687903def61f49849bb0546ad683e46c\",\n",
    "    }\n",
    "\n",
    "    headers = {\n",
    "        \"Content-Type\": \"application/x-www-form-urlencoded\",\n",
    "    }\n",
    "\n",
    "    response = requests.post(url, data=data, headers=headers)\n",
    "\n",
    "    access_token = None\n",
    "\n",
    "    if response.status_code == 200:\n",
    "        # BQBWDhYFYwo-kgoA_LwD698vn8gZJvk78GQjUNcZx2M9j6un2PUYQFpfgEJIxmZAtrljzxYK9bvcpaDpSAUbEiyAa87fj6qFZ6t4Bvc69-Do2NRBBlQ\n",
    "        access_token = response.json().get(\"access_token\")\n",
    "    else:\n",
    "        print(\"Error:\", response.status_code, response.json())\n",
    "\n",
    "    return access_token\n",
    "\n",
    "\n",
    "def spotity_search(search_query, search_type, access_token, limit=1):\n",
    "    url = \"https://api.spotify.com/v1/search\"\n",
    "\n",
    "    headers = {\n",
    "        \"Authorization\": f\"Bearer {access_token}\"\n",
    "    }\n",
    "\n",
    "    params = {\n",
    "        \"q\": search_query,\n",
    "        \"type\": search_type,\n",
    "        \"limit\": limit\n",
    "    }\n",
    "\n",
    "    response = requests.get(url, params=params, headers=headers)\n",
    "\n",
    "    if response.status_code != 200:\n",
    "        print('error spotity_search', response.status_code)\n",
    "        return {}\n",
    "\n",
    "    return response.json()\n",
    "\n",
    "\n",
    "\n",
    "\n",
    "access_token = get_spotify_access_token()  # 不用每次运行\n",
    "access_token = \"BQBWDhYFYwo-kgoA_LwD698vn8gZJvk78GQjUNcZx2M9j6un2PUYQFpfgEJIxmZAtrljzxYK9bvcpaDpSAUbEiyAa87fj6qFZ6t4Bvc69-Do2NRBBlQ\"\n",
    "\n",
    "spotity_search('Momoe Yamaguchi', 'artist', access_token, limit=1)\n"
   ]
  },
  {
   "cell_type": "code",
   "execution_count": null,
   "id": "5c336246-8b3f-47b0-88ce-5523680813d9",
   "metadata": {},
   "outputs": [],
   "source": []
  },
  {
   "cell_type": "code",
   "execution_count": null,
   "id": "0a74bf5e-e2db-4cb0-bcfd-ace5b665f9c4",
   "metadata": {},
   "outputs": [],
   "source": []
  },
  {
   "cell_type": "code",
   "execution_count": null,
   "id": "056a674b-b575-40e1-987c-61ae8e8313f3",
   "metadata": {},
   "outputs": [],
   "source": []
  }
 ],
 "metadata": {
  "kernelspec": {
   "display_name": "Python 3 (ipykernel)",
   "language": "python",
   "name": "python3"
  },
  "language_info": {
   "codemirror_mode": {
    "name": "ipython",
    "version": 3
   },
   "file_extension": ".py",
   "mimetype": "text/x-python",
   "name": "python",
   "nbconvert_exporter": "python",
   "pygments_lexer": "ipython3",
   "version": "3.10.15"
  }
 },
 "nbformat": 4,
 "nbformat_minor": 5
}
