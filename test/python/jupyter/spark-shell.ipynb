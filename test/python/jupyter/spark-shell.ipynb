{
 "cells": [
  {
   "cell_type": "code",
   "execution_count": 1,
   "id": "aad3a617-3d89-4634-a96d-42768c731852",
   "metadata": {},
   "outputs": [],
   "source": [
    "import os\n",
    "import sys\n",
    "import json\n",
    "import codecs\n",
    "\n",
    "import time\n",
    "from datetime import datetime"
   ]
  },
  {
   "cell_type": "code",
   "execution_count": 2,
   "id": "35eae89a-068b-4db8-b5d0-1b02f83a1684",
   "metadata": {},
   "outputs": [],
   "source": [
    "from pyspark.sql import SparkSession\n",
    "from pyspark import SparkConf, SparkContext, SQLContext\n",
    "import pyspark.sql.functions as F\n",
    "from pyspark.sql.types import *\n",
    "from pyspark.sql.window import Window\n",
    "from pyspark import SparkFiles\n",
    "from pyspark.sql.functions import col, lit, length, row_number, when"
   ]
  },
  {
   "cell_type": "code",
   "execution_count": 3,
   "id": "4a5960ea-cfab-4eeb-b2dc-23565d4c9ca5",
   "metadata": {},
   "outputs": [],
   "source": [
    "from lib import spark_utils"
   ]
  },
  {
   "cell_type": "code",
   "execution_count": 4,
   "id": "9191a6aa-88e5-4e0a-b27a-4016c4c4c5aa",
   "metadata": {},
   "outputs": [
    {
     "name": "stderr",
     "output_type": "stream",
     "text": [
      "25/03/08 11:44:58 WARN Utils: Your hostname, Mac-MD2XX1D4WV.local resolves to a loopback address: 127.0.0.1; using 192.168.10.30 instead (on interface en0)\n",
      "25/03/08 11:44:58 WARN Utils: Set SPARK_LOCAL_IP if you need to bind to another address\n",
      "Setting default log level to \"WARN\".\n",
      "To adjust logging level use sc.setLogLevel(newLevel). For SparkR, use setLogLevel(newLevel).\n",
      "25/03/08 11:44:58 WARN NativeCodeLoader: Unable to load native-hadoop library for your platform... using builtin-java classes where applicable\n",
      "25/03/08 11:44:59 WARN Utils: Service 'SparkUI' could not bind on port 4040. Attempting port 4041.\n"
     ]
    }
   ],
   "source": [
    "spark = spark_utils.get_spark()"
   ]
  },
  {
   "cell_type": "code",
   "execution_count": 5,
   "id": "95eda074-c500-4205-a8c7-48ade4851ea3",
   "metadata": {},
   "outputs": [
    {
     "data": {
      "text/html": [
       "\n",
       "            <div>\n",
       "                <p><b>SparkSession - hive</b></p>\n",
       "                \n",
       "        <div>\n",
       "            <p><b>SparkContext</b></p>\n",
       "\n",
       "            <p><a href=\"http://192.168.10.30:4041\">Spark UI</a></p>\n",
       "\n",
       "            <dl>\n",
       "              <dt>Version</dt>\n",
       "                <dd><code>v3.5.3</code></dd>\n",
       "              <dt>Master</dt>\n",
       "                <dd><code>local[*]</code></dd>\n",
       "              <dt>AppName</dt>\n",
       "                <dd><code>test</code></dd>\n",
       "            </dl>\n",
       "        </div>\n",
       "        \n",
       "            </div>\n",
       "        "
      ],
      "text/plain": [
       "<pyspark.sql.session.SparkSession at 0x108686cb0>"
      ]
     },
     "execution_count": 5,
     "metadata": {},
     "output_type": "execute_result"
    }
   ],
   "source": [
    "spark"
   ]
  },
  {
   "cell_type": "code",
   "execution_count": 6,
   "id": "0af844c9-9080-40ac-9743-4f5bbf10e6f9",
   "metadata": {},
   "outputs": [],
   "source": [
    "data = [(1, \"Alice\"), (2, \"Bob\")]\n",
    "columns = [\"id\", \"name\"]\n",
    "df = spark.createDataFrame(data, columns)"
   ]
  },
  {
   "cell_type": "code",
   "execution_count": 7,
   "id": "d258e4e9-aaa7-45b8-a2d0-afb03d1fd7f0",
   "metadata": {},
   "outputs": [],
   "source": [
    "cur_year = 1\n",
    "cur_qurt = 2\n",
    "pre_year = 3\n",
    "pre_qurt = 4"
   ]
  },
  {
   "cell_type": "code",
   "execution_count": 15,
   "id": "62cc4721-fb2c-4ef4-a0c4-52fc0537546c",
   "metadata": {},
   "outputs": [],
   "source": [
    "df =  df.withColumns({\n",
    "    'YEAR': lit(cur_year),\n",
    "    'QUARTER': lit(cur_qurt),\n",
    "    'DATA_YEAR': lit(pre_year),\n",
    "    'DATA_QURT': lit(pre_qurt),\n",
    "})"
   ]
  },
  {
   "cell_type": "code",
   "execution_count": 16,
   "id": "3c25cd47-7a5b-46d4-af37-3288b96a0e55",
   "metadata": {},
   "outputs": [
    {
     "name": "stdout",
     "output_type": "stream",
     "text": [
      "+---+-----+----+-------+---------+---------+\n",
      "| id| name|YEAR|QUARTER|DATA_YEAR|DATA_QURT|\n",
      "+---+-----+----+-------+---------+---------+\n",
      "|  1|Alice|   1|      2|        3|        4|\n",
      "|  2|  Bob|   1|      2|        3|        4|\n",
      "+---+-----+----+-------+---------+---------+\n",
      "\n"
     ]
    }
   ],
   "source": [
    "df.show()"
   ]
  },
  {
   "cell_type": "code",
   "execution_count": 12,
   "id": "70cd2ab6-c549-4de1-bb79-d4e56d4136c9",
   "metadata": {},
   "outputs": [],
   "source": [
    "input_file = '/Users/liuda/Local/data/trading/data/hedgeparsing/2021q4_form13f/ticker/part*'"
   ]
  },
  {
   "cell_type": "code",
   "execution_count": 27,
   "id": "b93af059-9cf7-496b-95d3-138ef773c88c",
   "metadata": {},
   "outputs": [],
   "source": [
    "schema = StructType([\n",
    "    StructField(\"CUSIP\", StringType(), nullable=True),\n",
    "    StructField(\"MANAGER_LEVEL\", StringType(), nullable=True),\n",
    "    StructField(\"INC_VALUE\", LongType(), nullable=True),\n",
    "    StructField(\"DRC_VALUE\", LongType(), nullable=True),\n",
    "    StructField(\"TOTAL_VALUE\", LongType(), nullable=True),\n",
    "    StructField(\"TOTAL_PREVALUE\", LongType(), nullable=True),\n",
    "    StructField(\"SYMBOL\", StringType(), nullable=True),\n",
    "])\n",
    "\n",
    "ticker_data = spark.read.schema(schema).option('delimiter', '\\t').option('header', True).csv(input_file)"
   ]
  },
  {
   "cell_type": "code",
   "execution_count": 28,
   "id": "85c870d6-1898-4905-81c7-ecb6e58135b4",
   "metadata": {},
   "outputs": [
    {
     "name": "stdout",
     "output_type": "stream",
     "text": [
      "+---------+-------------+---------+---------+-----------+--------------+------+\n",
      "|CUSIP    |MANAGER_LEVEL|INC_VALUE|DRC_VALUE|TOTAL_VALUE|TOTAL_PREVALUE|SYMBOL|\n",
      "+---------+-------------+---------+---------+-----------+--------------+------+\n",
      "|009126202|1            |44000    |-3917000 |2333000    |6206000       |AIQUY |\n",
      "|013091103|4            |23934000 |-10529000|63200000   |49795000      |ACI   |\n",
      "|025072877|2            |260000   |0        |512000     |252000        |AVUV  |\n",
      "+---------+-------------+---------+---------+-----------+--------------+------+\n",
      "only showing top 3 rows\n",
      "\n"
     ]
    }
   ],
   "source": [
    "ticker_data.filter(col('SYMBOL').isNotNull()).show(3, False)"
   ]
  },
  {
   "cell_type": "code",
   "execution_count": 29,
   "id": "e812a2d0-15a4-4e33-a1fe-c41c124560d2",
   "metadata": {},
   "outputs": [],
   "source": [
    "ticker_data = ticker_data.withColumns({\n",
    "    'DIFF_VALUE': col('INC_VALUE') + col('DRC_VALUE')\n",
    "})"
   ]
  },
  {
   "cell_type": "code",
   "execution_count": 30,
   "id": "41fd206c-7ce2-4826-ae57-2ed14c1e5844",
   "metadata": {},
   "outputs": [
    {
     "name": "stdout",
     "output_type": "stream",
     "text": [
      "+---------+-------------+---------+----------+-----------+--------------+------+----------+\n",
      "|CUSIP    |MANAGER_LEVEL|INC_VALUE|DRC_VALUE |TOTAL_VALUE|TOTAL_PREVALUE|SYMBOL|DIFF_VALUE|\n",
      "+---------+-------------+---------+----------+-----------+--------------+------+----------+\n",
      "|00208d408|2            |20000    |0         |221000     |201000        |NULL  |20000     |\n",
      "|006985383|2            |0        |-137524000|908246000  |1045770000    |NULL  |-137524000|\n",
      "|007025109|2            |1101000  |-22000    |1144000    |65000         |NULL  |1079000   |\n",
      "+---------+-------------+---------+----------+-----------+--------------+------+----------+\n",
      "only showing top 3 rows\n",
      "\n"
     ]
    }
   ],
   "source": [
    "ticker_data.show(3, False)"
   ]
  },
  {
   "cell_type": "code",
   "execution_count": 32,
   "id": "7a0b45c3-7d8f-4e71-905e-e8cdb1beb5a6",
   "metadata": {},
   "outputs": [],
   "source": [
    "ticker_data = ticker_data.withColumns({\n",
    "    # 当前qt的情况\n",
    "    'INC_VALUE': when(col('DIFF_VALUE').isNotNull() & (col('DIFF_VALUE') > 0), col('DIFF_VALUE')).otherwise(0),\n",
    "    'DRC_VALUE': when(col('DIFF_VALUE').isNotNull() & (col('DIFF_VALUE') < 0), col('DIFF_VALUE')).otherwise(0),\n",
    "    'INC_COUNT': sum(when(col('DIFF_VALUE') > 0, 1).otherwise(0)),\n",
    "    'DRC_COUNT': sum(when(col('DIFF_VALUE') < 0, 1).otherwise(0)),\n",
    "})"
   ]
  },
  {
   "cell_type": "code",
   "execution_count": null,
   "id": "9d54257e-c194-4dd4-9f0a-d3dd3aec7231",
   "metadata": {},
   "outputs": [],
   "source": []
  },
  {
   "cell_type": "code",
   "execution_count": null,
   "id": "ecec29f3-2617-44c4-8164-a899f754405b",
   "metadata": {},
   "outputs": [],
   "source": []
  }
 ],
 "metadata": {
  "kernelspec": {
   "display_name": "Python 3 (ipykernel)",
   "language": "python",
   "name": "python3"
  },
  "language_info": {
   "codemirror_mode": {
    "name": "ipython",
    "version": 3
   },
   "file_extension": ".py",
   "mimetype": "text/x-python",
   "name": "python",
   "nbconvert_exporter": "python",
   "pygments_lexer": "ipython3",
   "version": "3.10.16"
  }
 },
 "nbformat": 4,
 "nbformat_minor": 5
}
