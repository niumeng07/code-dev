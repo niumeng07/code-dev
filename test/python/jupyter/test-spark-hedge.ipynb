{
 "cells": [
  {
   "cell_type": "code",
   "execution_count": 1,
   "id": "61843f46-8e3a-46ee-bc76-484dac13de22",
   "metadata": {},
   "outputs": [],
   "source": [
    "import os\n",
    "import sys\n",
    "import json\n",
    "import codecs\n",
    "\n",
    "import time\n",
    "from datetime import datetime"
   ]
  },
  {
   "cell_type": "code",
   "execution_count": 2,
   "id": "87612d7b-8d61-4764-b023-7c0b940b4464",
   "metadata": {},
   "outputs": [],
   "source": [
    "from pyspark.sql import SparkSession\n",
    "from pyspark import SparkConf, SparkContext, SQLContext\n",
    "import pyspark.sql.functions as F\n",
    "from pyspark.sql.types import *\n",
    "from pyspark.sql.window import Window\n",
    "from pyspark import SparkFiles\n",
    "from pyspark.sql.functions import col, lit, length, row_number, when\n",
    "from pyspark.sql.functions import upper, lower"
   ]
  },
  {
   "cell_type": "code",
   "execution_count": 3,
   "id": "8993359c-fd59-48b9-abd7-7a81089fb9d5",
   "metadata": {},
   "outputs": [],
   "source": [
    "from lib import spark_utils"
   ]
  },
  {
   "cell_type": "code",
   "execution_count": 4,
   "id": "a92d8f59-d74b-4375-a93a-b6c40d09edd1",
   "metadata": {},
   "outputs": [
    {
     "name": "stderr",
     "output_type": "stream",
     "text": [
      "25/03/24 16:59:54 WARN Utils: Your hostname, Mac-MD2XX1D4WV.local resolves to a loopback address: 127.0.0.1; using 192.168.11.215 instead (on interface en0)\n",
      "25/03/24 16:59:54 WARN Utils: Set SPARK_LOCAL_IP if you need to bind to another address\n",
      "Setting default log level to \"WARN\".\n",
      "To adjust logging level use sc.setLogLevel(newLevel). For SparkR, use setLogLevel(newLevel).\n",
      "25/03/24 16:59:54 WARN NativeCodeLoader: Unable to load native-hadoop library for your platform... using builtin-java classes where applicable\n"
     ]
    }
   ],
   "source": [
    "spark = spark_utils.get_spark()"
   ]
  },
  {
   "cell_type": "code",
   "execution_count": 5,
   "id": "1fad1213-6444-46a9-aead-53b493668b4a",
   "metadata": {},
   "outputs": [
    {
     "data": {
      "text/html": [
       "\n",
       "            <div>\n",
       "                <p><b>SparkSession - hive</b></p>\n",
       "                \n",
       "        <div>\n",
       "            <p><b>SparkContext</b></p>\n",
       "\n",
       "            <p><a href=\"http://192.168.11.215:4040\">Spark UI</a></p>\n",
       "\n",
       "            <dl>\n",
       "              <dt>Version</dt>\n",
       "                <dd><code>v3.5.3</code></dd>\n",
       "              <dt>Master</dt>\n",
       "                <dd><code>local[*]</code></dd>\n",
       "              <dt>AppName</dt>\n",
       "                <dd><code>test</code></dd>\n",
       "            </dl>\n",
       "        </div>\n",
       "        \n",
       "            </div>\n",
       "        "
      ],
      "text/plain": [
       "<pyspark.sql.session.SparkSession at 0x104efc730>"
      ]
     },
     "execution_count": 5,
     "metadata": {},
     "output_type": "execute_result"
    }
   ],
   "source": [
    "spark"
   ]
  },
  {
   "cell_type": "code",
   "execution_count": 6,
   "id": "8c15de6f-fc5e-460a-93b5-9af61c37c5d8",
   "metadata": {},
   "outputs": [],
   "source": [
    "import os\n",
    "import glob\n",
    "from pyspark.sql.window import Window\n",
    "from pyspark.sql.functions import col, lit, length, row_number, when\n",
    "from pyspark.sql.functions import avg, count, sum\n",
    "from pyspark.sql.functions import upper, lower\n",
    "from pyspark.sql.functions import substring, split\n",
    "from pyspark.sql import functions\n",
    "from pyspark.sql.types import IntegerType, StringType, LongType\n",
    "from pyspark.sql.types import StructType, StructField\n",
    "from pyspark.sql.functions import udf"
   ]
  },
  {
   "cell_type": "code",
   "execution_count": 7,
   "id": "441bb403-44b7-42fd-aa5f-311143972257",
   "metadata": {},
   "outputs": [],
   "source": [
    "import pandas as pd\n",
    "pd.set_option('display.max_columns', None)\n",
    "pd.set_option('display.max_rows', 1000000)\n",
    "pd.set_option('display.width', 4000)"
   ]
  },
  {
   "cell_type": "code",
   "execution_count": 11,
   "id": "90a8764e-9554-4279-a2d0-9b8a48338695",
   "metadata": {},
   "outputs": [],
   "source": [
    "def cast_to_int_with_default(value):\n",
    "    try:\n",
    "        if value is None:\n",
    "            return 0  # or any other default value you prefer\n",
    "        else:\n",
    "            return int(value)\n",
    "    except ValueError:\n",
    "        return 0\n",
    "\n",
    "\n",
    "udf_cast_to_int_with_default = udf(cast_to_int_with_default, IntegerType())\n"
   ]
  },
  {
   "cell_type": "code",
   "execution_count": 12,
   "id": "dd1fc995-d91d-482e-b124-3855c48e1198",
   "metadata": {},
   "outputs": [],
   "source": [
    "def get_joined_data_with_qt(spark, input_path, _year, _qurt):\n",
    "    coverpage_ = spark.read.option(\n",
    "        'delimiter', '\\t').option(\n",
    "        'header', True).csv(\n",
    "        input_path % (_year, _qurt, 'COVERPAGE.tsv'))\n",
    "\n",
    "    coverpage_ = coverpage_.withColumns({'YEAR': lit(_year), 'QUARTER': lit(_qurt)})\n",
    "\n",
    "    infotable_ = spark.read.option(\n",
    "        'delimiter', '\\t').option(\n",
    "        'header', True).csv(\n",
    "        input_path % (_year, _qurt, 'INFOTABLE.tsv'))\n",
    "\n",
    "    # cusup 合法性检查\n",
    "    infotable_ = infotable_.withColumn('CUSIP', lower(col('CUSIP')))\n",
    "    infotable_ = infotable_.filter((infotable_['SSHPRNAMTTYPE'] == 'SH') &\n",
    "                                   (infotable_['PUTCALL'].isNull()) &\n",
    "                                   (infotable_['CUSIP'] != '000000000') &\n",
    "                                   (infotable_['CUSIP'] != '0000000na'))\n",
    "    infotable_ = infotable_.filter(length(infotable_['CUSIP']) == 9)\n",
    "\n",
    "    # 仅选取普通股\n",
    "    infotable_ = infotable_.filter(upper(col(\"TITLEOFCLASS\")).contains(\"COM\"))\n",
    "    infotable_ = infotable_.withColumns({\n",
    "        'YEAR': lit(_year), 'QUARTER': lit(_qurt)})\n",
    "\n",
    "    summarypage_ = spark.read.option('delimiter', '\\t').option(\n",
    "        'header', True).csv(input_path % (_year, _qurt, 'SUMMARYPAGE.tsv'))\n",
    "\n",
    "    summarypage_ = summarypage_.withColumns({\n",
    "        'YEAR': lit(_year),\n",
    "        'QUARTER': lit(_qurt)})\n",
    "\n",
    "    submission_ = spark.read.option(\n",
    "        'delimiter', '\\t').option(\n",
    "        'header', True).csv(input_path % (_year, _qurt, 'SUBMISSION.tsv'))\n",
    "    submission_ = submission_.withColumns({'YEAR': lit(_year), 'QUARTER': lit(_qurt)})\n",
    "\n",
    "    joined_ = infotable_.join(\n",
    "        coverpage_, (infotable_['ACCESSION_NUMBER'] == coverpage_['ACCESSION_NUMBER']) &\n",
    "        (infotable_['YEAR'] == coverpage_['YEAR']) & (infotable_['QUARTER'] == coverpage_['QUARTER']),\n",
    "        'left'\n",
    "    ).join(\n",
    "        summarypage_, (infotable_['ACCESSION_NUMBER'] == summarypage_['ACCESSION_NUMBER']) &\n",
    "        (infotable_['YEAR'] == summarypage_['YEAR']) & (infotable_['QUARTER'] == summarypage_['QUARTER']),\n",
    "        'left'\n",
    "    ).join(\n",
    "        submission_, (infotable_['ACCESSION_NUMBER'] == submission_['ACCESSION_NUMBER']) &\n",
    "        (infotable_['YEAR'] == submission_['YEAR']) & (infotable_['QUARTER'] == submission_['QUARTER']),\n",
    "        'left'\n",
    "    ).drop(\n",
    "        coverpage_['YEAR'], coverpage_['QUARTER'], coverpage_['ACCESSION_NUMBER'],\n",
    "        summarypage_['YEAR'], summarypage_['QUARTER'], summarypage_['ACCESSION_NUMBER'],\n",
    "        submission_['YEAR'], submission_['QUARTER'], submission_['ACCESSION_NUMBER'])\n",
    "\n",
    "    joined_ = joined_.withColumns({\n",
    "        'NAMEOFISSUER': upper(col('NAMEOFISSUER')),\n",
    "        'FILINGMANAGER_NAME': upper(col('FILINGMANAGER_NAME')),\n",
    "        'VALUE': udf_cast_to_int_with_default(col('VALUE')),\n",
    "    })\n",
    "\n",
    "    # 需要有一个去重判断,投资机构可能多次上传,13HR,13HR-A,...\n",
    "    window_spec = Window.partitionBy(\n",
    "        'CUSIP', 'FILINGMANAGER_NAME'\n",
    "    ).orderBy(col('FILING_DATE').desc(), col('VALUE').desc())\n",
    "\n",
    "    joined_ = joined_.withColumn('row_number', row_number().over(window_spec))\n",
    "    joined_ = joined_.filter(col('row_number') == 1).drop('row_number')\n",
    "\n",
    "    return joined_\n",
    "\n"
   ]
  },
  {
   "cell_type": "code",
   "execution_count": 13,
   "id": "d78ae74c-baa8-4319-9619-55091e642f78",
   "metadata": {},
   "outputs": [],
   "source": [
    "def transfer_standard_unit(filter_data, year):\n",
    "    filter_data = filter_data.withColumns({\n",
    "        'VALUE': udf_cast_to_int_with_default(col('VALUE')),\n",
    "        'SSHPRNAMT': udf_cast_to_int_with_default(col('SSHPRNAMT')),\n",
    "    })\n",
    "    # 2022年及以前的VALUE单位为千$，2023年及之后为$(实际从1月3号开始)\n",
    "    filter_data = filter_data.withColumn(\n",
    "        'VALUE', when(lit(year) >= 2023, col('VALUE')).otherwise(col('VALUE')*1000))\n",
    "    return filter_data\n",
    "\n"
   ]
  },
  {
   "cell_type": "code",
   "execution_count": 14,
   "id": "9ec64d6c-07c1-4626-b8b6-e3ec70c09724",
   "metadata": {},
   "outputs": [],
   "source": [
    "def filter_data_by_share_value(filter_data, year):\n",
    "    # 对空值或负值填0\n",
    "    filter_data = filter_data.withColumns({\n",
    "        \"VALUE\": when(col(\"VALUE\").isNull() | (col(\"VALUE\") < 0), 0).otherwise(col(\"VALUE\")),\n",
    "        \"SSHPRNAMT\": when(col(\"SSHPRNAMT\").isNull() | (col(\"SSHPRNAMT\") < 0), 0).otherwise(col(\"SSHPRNAMT\")),\n",
    "    })\n",
    "    # 以股票为Key统计总被交易价值、效果量\n",
    "    ticker_value = filter_data.groupby(['CUSIP']).agg(\n",
    "        sum(col('VALUE')).alias('VALUE'),\n",
    "        sum(col('SSHPRNAMT')).alias('SSHPRNAMT')\n",
    "    ).withColumn(\n",
    "        'VPSSH', col('VALUE') / col('SSHPRNAMT')\n",
    "    ).filter(\n",
    "        (col('VPSSH') > 0.00000000000001) & (col('VPSSH') < 100000000000.)\n",
    "    )\n",
    "\n",
    "    ticker_value = ticker_value.withColumnRenamed(\n",
    "        'CUSIP', 'CUSIP_ticker'\n",
    "    ).withColumnRenamed(\n",
    "        'VALUE', 'VALUE_ticker'\n",
    "    ).withColumnRenamed(\n",
    "        'SSHPRNAMT', 'SSHPRNAMT_ticker'\n",
    "    )\n",
    "\n",
    "    # 如果基金持有成本明显偏离总平均成本，认为是脏数据，过滤掉\n",
    "    filter_data = filter_data.join(\n",
    "        ticker_value, filter_data['CUSIP'] == ticker_value['CUSIP_ticker'], 'left'\n",
    "    ).drop('CUSIP_ticker', 'VALUE_ticker', 'SSHPRNAMT_ticker')\n",
    "\n",
    "    filter_data = filter_data.filter(\n",
    "        (col('VALUE') / col('SSHPRNAMT') > 0.1 * col('VPSSH'))\n",
    "        & (col('VALUE') / col('SSHPRNAMT') < 10 * col('VPSSH')))\n",
    "\n",
    "    filter_data = filter_data.drop('VPSSH')\n",
    "\n",
    "    return filter_data\n"
   ]
  },
  {
   "cell_type": "code",
   "execution_count": null,
   "id": "3b6f0087-934d-476a-9fe8-188ec27ae5d8",
   "metadata": {},
   "outputs": [],
   "source": []
  },
  {
   "cell_type": "code",
   "execution_count": 15,
   "id": "14ced48b-9506-47e5-ab00-f7ea8fbfa3a6",
   "metadata": {},
   "outputs": [],
   "source": [
    "def get_manager_level(args, config, spark, logger):\n",
    "    # 获取基金的历史体量数据，依赖上一年的数据产出,所有跑数据要从小年份开始跑\n",
    "    input_data_dirs = []\n",
    "    for stat_year in args.manager_level_year.split(','):\n",
    "        input_data_dirs += glob.glob('{base_dir}/{year}q*_form13f/manager/'.format(\n",
    "            base_dir=args.output_base_dir, year=int(stat_year)))\n",
    "\n",
    "    logger.info('get_manager_level from %s' % str(input_data_dirs))\n",
    "    schema = StructType([\n",
    "        StructField(\"FILINGMANAGER_NAME\", StringType(), nullable=True),\n",
    "        StructField(\"MANAGER_VALUE\", IntegerType(), nullable=True),\n",
    "        StructField(\"MANAGER_PREVALUE\", IntegerType(), nullable=True),\n",
    "        StructField(\"MANAGER_LEVEL\", IntegerType(), nullable=True),\n",
    "        StructField(\"YEAR\", IntegerType(), nullable=True),\n",
    "        StructField(\"QUARTER\", IntegerType(), nullable=True)\n",
    "    ])\n",
    "    #\n",
    "    data = spark.read.schema(schema).option('delimiter', '\\t').option('header', True).csv(input_data_dirs)\n",
    "    #\n",
    "    data = data.groupby(['FILINGMANAGER_NAME']).agg(avg(col('MANAGER_VALUE')).alias('MANAGER_VALUE'))\n",
    "\n",
    "    quantiles = data.approxQuantile(\"MANAGER_VALUE\", config.percentile_tiers, 0.01)\n",
    "    logger.info('quantiles: %s' % str(quantiles))\n",
    "\n",
    "    data = data.withColumn(\"MANAGER_LEVEL\",\n",
    "                           when(col(\"MANAGER_VALUE\") > quantiles[0], 0)\n",
    "                           .when(col(\"MANAGER_VALUE\") > quantiles[1], 1)\n",
    "                           .when(col(\"MANAGER_VALUE\") > quantiles[2], 2)\n",
    "                           .when(col(\"MANAGER_VALUE\") > quantiles[3], 3)\n",
    "                           .when(col(\"MANAGER_VALUE\") >= quantiles[4], 4)\n",
    "                           .otherwise(5))   # 5: 采用固定数据后有些ManagerLevel找不到，归入5\n",
    "\n",
    "    return data"
   ]
  },
  {
   "cell_type": "code",
   "execution_count": 17,
   "id": "2576b101-d6f4-489d-a4b6-0deb9974ee0b",
   "metadata": {},
   "outputs": [
    {
     "ename": "TypeError",
     "evalue": "get_manager_level() missing 2 required positional arguments: 'spark' and 'logger'",
     "output_type": "error",
     "traceback": [
      "\u001b[0;31m---------------------------------------------------------------------------\u001b[0m",
      "\u001b[0;31mTypeError\u001b[0m                                 Traceback (most recent call last)",
      "Cell \u001b[0;32mIn[17], line 2\u001b[0m\n\u001b[1;32m      1\u001b[0m \u001b[38;5;28;01mimport\u001b[39;00m \u001b[38;5;21;01mlogging\u001b[39;00m\n\u001b[0;32m----> 2\u001b[0m manager_history \u001b[38;5;241m=\u001b[39m get_manager_level(spark, logging)\n",
      "\u001b[0;31mTypeError\u001b[0m: get_manager_level() missing 2 required positional arguments: 'spark' and 'logger'"
     ]
    }
   ],
   "source": [
    "import logging\n",
    "manager_history = get_manager_level(spark, logging)  # 这份数据中有(基金-基金持仓总体量)"
   ]
  },
  {
   "cell_type": "code",
   "execution_count": 48,
   "id": "7ef21bf3-09ad-44a9-8863-4867c35dcd02",
   "metadata": {},
   "outputs": [
    {
     "data": {
      "text/html": [
       "<div>\n",
       "<style scoped>\n",
       "    .dataframe tbody tr th:only-of-type {\n",
       "        vertical-align: middle;\n",
       "    }\n",
       "\n",
       "    .dataframe tbody tr th {\n",
       "        vertical-align: top;\n",
       "    }\n",
       "\n",
       "    .dataframe thead th {\n",
       "        text-align: right;\n",
       "    }\n",
       "</style>\n",
       "<table border=\"1\" class=\"dataframe\">\n",
       "  <thead>\n",
       "    <tr style=\"text-align: right;\">\n",
       "      <th></th>\n",
       "      <th>FILINGMANAGER_NAME</th>\n",
       "      <th>MANAGER_VALUE</th>\n",
       "      <th>MANAGER_LEVEL</th>\n",
       "    </tr>\n",
       "  </thead>\n",
       "  <tbody>\n",
       "    <tr>\n",
       "      <th>0</th>\n",
       "      <td>ARDENT CAPITAL MANAGEMENT, INC.</td>\n",
       "      <td>7.133204e+07</td>\n",
       "      <td>3</td>\n",
       "    </tr>\n",
       "    <tr>\n",
       "      <th>1</th>\n",
       "      <td>ASPIRE WEALTH MANAGEMENT CORP</td>\n",
       "      <td>1.003179e+07</td>\n",
       "      <td>4</td>\n",
       "    </tr>\n",
       "    <tr>\n",
       "      <th>2</th>\n",
       "      <td>CANYON CAPITAL ADVISORS LLC</td>\n",
       "      <td>1.120701e+09</td>\n",
       "      <td>1</td>\n",
       "    </tr>\n",
       "  </tbody>\n",
       "</table>\n",
       "</div>"
      ],
      "text/plain": [
       "                FILINGMANAGER_NAME  MANAGER_VALUE  MANAGER_LEVEL\n",
       "0  ARDENT CAPITAL MANAGEMENT, INC.   7.133204e+07              3\n",
       "1    ASPIRE WEALTH MANAGEMENT CORP   1.003179e+07              4\n",
       "2      CANYON CAPITAL ADVISORS LLC   1.120701e+09              1"
      ]
     },
     "execution_count": 48,
     "metadata": {},
     "output_type": "execute_result"
    }
   ],
   "source": [
    "manager_history.limit(3).toPandas()"
   ]
  },
  {
   "cell_type": "code",
   "execution_count": 15,
   "id": "97f6873b-beb2-4250-9c48-751f42684fb3",
   "metadata": {},
   "outputs": [],
   "source": [
    "input_path = '/Users/liuda/Library/CloudStorage/Dropbox/shareit/code/trading/data/hedge/%sq%s_form13f/%s'\n",
    "cur_year='2022'\n",
    "cur_qurt='2'\n",
    "pre_year='2022'\n",
    "pre_qurt='1'"
   ]
  },
  {
   "cell_type": "code",
   "execution_count": null,
   "id": "751e0510-2b84-4ab3-962c-ec22f3df9082",
   "metadata": {},
   "outputs": [],
   "source": []
  },
  {
   "cell_type": "code",
   "execution_count": 69,
   "id": "9b65e7c5-6d58-4fa2-acb9-053f3573aec7",
   "metadata": {},
   "outputs": [],
   "source": [
    "joined_cur = get_joined_data_with_qt(spark, input_path, cur_year, cur_qurt)"
   ]
  },
  {
   "cell_type": "code",
   "execution_count": 70,
   "id": "6f7254df-87de-4ac6-98d0-afad65567468",
   "metadata": {},
   "outputs": [],
   "source": [
    "joined_cur = transfer_standard_unit(joined_cur, cur_year)"
   ]
  },
  {
   "cell_type": "code",
   "execution_count": 71,
   "id": "cb41c156-8ec9-459b-80c8-25cd684ee4e6",
   "metadata": {},
   "outputs": [],
   "source": [
    "joined_cur = filter_data_by_share_value(joined_cur, cur_year)"
   ]
  },
  {
   "cell_type": "code",
   "execution_count": null,
   "id": "3aab9c41-704a-4b2a-a930-9eb6cdd85973",
   "metadata": {},
   "outputs": [],
   "source": []
  },
  {
   "cell_type": "code",
   "execution_count": 73,
   "id": "27a54db8-420c-4a3f-ae4c-e163f121d78e",
   "metadata": {},
   "outputs": [],
   "source": [
    "joined_cur = joined_cur.join(\n",
    "    manager_history,\n",
    "    (joined_cur['FILINGMANAGER_NAME'] == manager_history['FILINGMANAGER_NAME']),\n",
    "    'left'\n",
    ").drop(manager_history['FILINGMANAGER_NAME'])"
   ]
  },
  {
   "cell_type": "code",
   "execution_count": 74,
   "id": "ffbfaf89-2458-4f0c-a816-9e0c897de364",
   "metadata": {},
   "outputs": [],
   "source": [
    "joined_cur = joined_cur.filter((col('CUSIP') == '874039100') & (col('MANAGER_LEVEL') == 2))"
   ]
  },
  {
   "cell_type": "code",
   "execution_count": 75,
   "id": "a76f6af2-090c-4d12-a452-411ef38a369d",
   "metadata": {},
   "outputs": [
    {
     "name": "stderr",
     "output_type": "stream",
     "text": [
      "                                                                                \r"
     ]
    },
    {
     "data": {
      "text/html": [
       "<div>\n",
       "<style scoped>\n",
       "    .dataframe tbody tr th:only-of-type {\n",
       "        vertical-align: middle;\n",
       "    }\n",
       "\n",
       "    .dataframe tbody tr th {\n",
       "        vertical-align: top;\n",
       "    }\n",
       "\n",
       "    .dataframe thead th {\n",
       "        text-align: right;\n",
       "    }\n",
       "</style>\n",
       "<table border=\"1\" class=\"dataframe\">\n",
       "  <thead>\n",
       "    <tr style=\"text-align: right;\">\n",
       "      <th></th>\n",
       "      <th>YEAR</th>\n",
       "      <th>QUARTER</th>\n",
       "      <th>MANAGER_LEVEL</th>\n",
       "      <th>sum(VALUE)</th>\n",
       "    </tr>\n",
       "  </thead>\n",
       "  <tbody>\n",
       "    <tr>\n",
       "      <th>0</th>\n",
       "      <td>2022</td>\n",
       "      <td>2</td>\n",
       "      <td>2</td>\n",
       "      <td>128295000</td>\n",
       "    </tr>\n",
       "  </tbody>\n",
       "</table>\n",
       "</div>"
      ],
      "text/plain": [
       "   YEAR QUARTER  MANAGER_LEVEL  sum(VALUE)\n",
       "0  2022       2              2   128295000"
      ]
     },
     "execution_count": 75,
     "metadata": {},
     "output_type": "execute_result"
    }
   ],
   "source": [
    "joined_cur.groupby(['YEAR', 'QUARTER', 'MANAGER_LEVEL']).agg({'VALUE': 'sum'}).toPandas()"
   ]
  },
  {
   "cell_type": "code",
   "execution_count": 57,
   "id": "41d14227-ef65-4a68-bea9-94d7a2ad11f6",
   "metadata": {},
   "outputs": [],
   "source": [
    "joined_pre = get_joined_data_with_qt(spark, input_path, pre_year, pre_qurt)   # 过滤CUSIP\n",
    "\n",
    "# 统一VALUE单位\n",
    "joined_pre = transfer_standard_unit(joined_pre, pre_year)\n",
    "\n",
    "# 统计股票的均价，如果基金成本明显异于均价，认为是异常值,过滤\n",
    "joined_pre = filter_data_by_share_value(joined_pre, pre_year)\n",
    "\n",
    "joined_pre = joined_pre.select(['NAMEOFISSUER', 'FILINGMANAGER_NAME', 'CUSIP',\n",
    "                                'YEAR', 'QUARTER', 'VALUE',\n",
    "                                'SSHPRNAMTTYPE', 'SSHPRNAMT',\n",
    "                                'FILING_DATE'])\n",
    "\n",
    "\n",
    "joined_pre = joined_pre.join(\n",
    "    manager_history,\n",
    "    (joined_pre['FILINGMANAGER_NAME'] == manager_history['FILINGMANAGER_NAME']),\n",
    "    'left'\n",
    ").drop(manager_history['FILINGMANAGER_NAME'])\n",
    "\n",
    "joined_pre = joined_pre.withColumnRenamed(\n",
    "    \"NAMEOFISSUER\", \"PRENAMEOFISSUER\").withColumnRenamed(\n",
    "    \"FILINGMANAGER_NAME\", \"PREFILINGMANAGER_NAME\").withColumnRenamed(\n",
    "    \"CUSIP\", \"PRECUSIP\").withColumnRenamed(\n",
    "    \"VALUE\", \"PREVALUE\").withColumnRenamed(\n",
    "    'YEAR', 'PREYEAR').withColumnRenamed(\n",
    "    'QUARTER', 'PREQUARTER').withColumnRenamed(\n",
    "    'SSHPRNAMTTYPE', 'PRESSHPRNAMTTYPE').withColumnRenamed(\n",
    "    'SSHPRNAMT', 'PRESSHPRNAMT').withColumnRenamed(\n",
    "    'FILING_DATE', 'PREFILING_DATE').withColumnRenamed(\n",
    "    'MANAGER_LEVEL', 'PREMANAGER_LEVEL')"
   ]
  },
  {
   "cell_type": "code",
   "execution_count": 76,
   "id": "7433abf9-f054-42a0-8947-cd6e487ee385",
   "metadata": {},
   "outputs": [],
   "source": [
    "joined_pre = joined_pre.filter((col('CUSIP') == '874039100') & (col('MANAGER_LEVEL') == 2))"
   ]
  },
  {
   "cell_type": "code",
   "execution_count": 77,
   "id": "f24e0eb1-d0dd-4f1e-bd57-2ea19394f537",
   "metadata": {},
   "outputs": [
    {
     "name": "stderr",
     "output_type": "stream",
     "text": [
      "                                                                                \r"
     ]
    },
    {
     "data": {
      "text/html": [
       "<div>\n",
       "<style scoped>\n",
       "    .dataframe tbody tr th:only-of-type {\n",
       "        vertical-align: middle;\n",
       "    }\n",
       "\n",
       "    .dataframe tbody tr th {\n",
       "        vertical-align: top;\n",
       "    }\n",
       "\n",
       "    .dataframe thead th {\n",
       "        text-align: right;\n",
       "    }\n",
       "</style>\n",
       "<table border=\"1\" class=\"dataframe\">\n",
       "  <thead>\n",
       "    <tr style=\"text-align: right;\">\n",
       "      <th></th>\n",
       "      <th>PREYEAR</th>\n",
       "      <th>PREQUARTER</th>\n",
       "      <th>PREMANAGER_LEVEL</th>\n",
       "      <th>sum(PREVALUE)</th>\n",
       "    </tr>\n",
       "  </thead>\n",
       "  <tbody>\n",
       "    <tr>\n",
       "      <th>0</th>\n",
       "      <td>2022</td>\n",
       "      <td>1</td>\n",
       "      <td>2</td>\n",
       "      <td>148828000</td>\n",
       "    </tr>\n",
       "  </tbody>\n",
       "</table>\n",
       "</div>"
      ],
      "text/plain": [
       "  PREYEAR PREQUARTER  PREMANAGER_LEVEL  sum(PREVALUE)\n",
       "0    2022          1                 2      148828000"
      ]
     },
     "execution_count": 77,
     "metadata": {},
     "output_type": "execute_result"
    }
   ],
   "source": [
    "joined_pre.groupby(['PREYEAR', 'PREQUARTER', 'PREMANAGER_LEVEL']).agg({'PREVALUE': 'sum'}).toPandas()"
   ]
  },
  {
   "cell_type": "code",
   "execution_count": 78,
   "id": "9bf1104f-cc13-48bc-bd0c-ca402772bf83",
   "metadata": {},
   "outputs": [],
   "source": [
    "joined_data = joined_cur.join(\n",
    "    joined_pre, (joined_cur['FILINGMANAGER_NAME'] == joined_pre['PREFILINGMANAGER_NAME']) &\n",
    "    (joined_cur['CUSIP'] == joined_pre['PRECUSIP']),\n",
    "    'outer'  # 这里因为要求PREVALUE，所以应该为outer\n",
    ")"
   ]
  },
  {
   "cell_type": "code",
   "execution_count": 80,
   "id": "e4911b3e-08e5-4e3a-a5ff-a0dc0284ae7c",
   "metadata": {},
   "outputs": [
    {
     "name": "stderr",
     "output_type": "stream",
     "text": [
      "                                                                                \r"
     ]
    },
    {
     "data": {
      "text/html": [
       "<div>\n",
       "<style scoped>\n",
       "    .dataframe tbody tr th:only-of-type {\n",
       "        vertical-align: middle;\n",
       "    }\n",
       "\n",
       "    .dataframe tbody tr th {\n",
       "        vertical-align: top;\n",
       "    }\n",
       "\n",
       "    .dataframe thead th {\n",
       "        text-align: right;\n",
       "    }\n",
       "</style>\n",
       "<table border=\"1\" class=\"dataframe\">\n",
       "  <thead>\n",
       "    <tr style=\"text-align: right;\">\n",
       "      <th></th>\n",
       "      <th>YEAR</th>\n",
       "      <th>QUARTER</th>\n",
       "      <th>MANAGER_LEVEL</th>\n",
       "      <th>PREMANAGER_LEVEL</th>\n",
       "      <th>PREYEAR</th>\n",
       "      <th>PREQUARTER</th>\n",
       "      <th>VALUE</th>\n",
       "      <th>PREVALUE</th>\n",
       "    </tr>\n",
       "  </thead>\n",
       "  <tbody>\n",
       "    <tr>\n",
       "      <th>0</th>\n",
       "      <td>None</td>\n",
       "      <td>None</td>\n",
       "      <td>NaN</td>\n",
       "      <td>2.0</td>\n",
       "      <td>2022</td>\n",
       "      <td>1</td>\n",
       "      <td>NaN</td>\n",
       "      <td>6134000.0</td>\n",
       "    </tr>\n",
       "    <tr>\n",
       "      <th>1</th>\n",
       "      <td>2022</td>\n",
       "      <td>2</td>\n",
       "      <td>2.0</td>\n",
       "      <td>NaN</td>\n",
       "      <td>None</td>\n",
       "      <td>None</td>\n",
       "      <td>1696000.0</td>\n",
       "      <td>NaN</td>\n",
       "    </tr>\n",
       "    <tr>\n",
       "      <th>2</th>\n",
       "      <td>2022</td>\n",
       "      <td>2</td>\n",
       "      <td>2.0</td>\n",
       "      <td>2.0</td>\n",
       "      <td>2022</td>\n",
       "      <td>1</td>\n",
       "      <td>126599000.0</td>\n",
       "      <td>142694000.0</td>\n",
       "    </tr>\n",
       "  </tbody>\n",
       "</table>\n",
       "</div>"
      ],
      "text/plain": [
       "   YEAR QUARTER  MANAGER_LEVEL  PREMANAGER_LEVEL PREYEAR PREQUARTER        VALUE     PREVALUE\n",
       "0  None    None            NaN               2.0    2022          1          NaN    6134000.0\n",
       "1  2022       2            2.0               NaN    None       None    1696000.0          NaN\n",
       "2  2022       2            2.0               2.0    2022          1  126599000.0  142694000.0"
      ]
     },
     "execution_count": 80,
     "metadata": {},
     "output_type": "execute_result"
    }
   ],
   "source": [
    "joined_data.groupby(['YEAR', 'QUARTER', 'MANAGER_LEVEL', 'PREMANAGER_LEVEL', 'PREYEAR', 'PREQUARTER']).agg(\n",
    "    sum('VALUE').alias('VALUE'), \n",
    "    sum('PREVALUE').alias('PREVALUE')\n",
    ").toPandas()"
   ]
  },
  {
   "cell_type": "code",
   "execution_count": null,
   "id": "8a1bcccc-bc0d-49fe-b6c4-152a7c71e9c8",
   "metadata": {},
   "outputs": [],
   "source": []
  },
  {
   "cell_type": "code",
   "execution_count": null,
   "id": "88ca032b-5dfe-41e0-b743-9d68e0ff44f5",
   "metadata": {},
   "outputs": [],
   "source": []
  },
  {
   "cell_type": "code",
   "execution_count": null,
   "id": "636261f9-5cb7-434a-82d1-6d95b0b81478",
   "metadata": {},
   "outputs": [],
   "source": []
  },
  {
   "cell_type": "code",
   "execution_count": null,
   "id": "31cbc345-21ac-414b-ab16-036527f94395",
   "metadata": {},
   "outputs": [],
   "source": []
  },
  {
   "cell_type": "code",
   "execution_count": null,
   "id": "a48c1220-e6a8-462e-b0d1-786763231192",
   "metadata": {},
   "outputs": [],
   "source": []
  },
  {
   "cell_type": "code",
   "execution_count": null,
   "id": "3cf4daf3-8e09-43fd-94d0-7758fe931334",
   "metadata": {},
   "outputs": [],
   "source": []
  },
  {
   "cell_type": "code",
   "execution_count": null,
   "id": "31431d03-5de1-4eab-8193-2779617711f5",
   "metadata": {},
   "outputs": [],
   "source": []
  },
  {
   "cell_type": "code",
   "execution_count": null,
   "id": "076ee789-3043-4309-a4dd-5296cf1c5092",
   "metadata": {},
   "outputs": [],
   "source": []
  },
  {
   "cell_type": "code",
   "execution_count": null,
   "id": "14c1ee92-33ac-445a-8983-af5546c5acf2",
   "metadata": {},
   "outputs": [],
   "source": []
  },
  {
   "cell_type": "code",
   "execution_count": null,
   "id": "cafab7c7-b3a3-49b8-8c96-1f74fc415512",
   "metadata": {},
   "outputs": [],
   "source": []
  },
  {
   "cell_type": "code",
   "execution_count": null,
   "id": "3d4962b8-eed9-4d15-a0d2-f0e892378e6a",
   "metadata": {},
   "outputs": [],
   "source": []
  },
  {
   "cell_type": "code",
   "execution_count": null,
   "id": "480cbb10-0909-4050-bb7d-aa8b5b90c6d1",
   "metadata": {},
   "outputs": [],
   "source": []
  },
  {
   "cell_type": "code",
   "execution_count": null,
   "id": "28e98838-010b-422a-bfa2-d69524e54560",
   "metadata": {},
   "outputs": [],
   "source": []
  },
  {
   "cell_type": "code",
   "execution_count": null,
   "id": "e5662602-4ad7-45eb-907d-9dead9fbad4d",
   "metadata": {},
   "outputs": [],
   "source": []
  },
  {
   "cell_type": "code",
   "execution_count": null,
   "id": "7da1a6c7-e128-4574-87fb-cc78b6153fc2",
   "metadata": {},
   "outputs": [],
   "source": []
  },
  {
   "cell_type": "code",
   "execution_count": null,
   "id": "3a4cb025-f5a1-44eb-bc5c-6c1a53e97436",
   "metadata": {},
   "outputs": [],
   "source": []
  }
 ],
 "metadata": {
  "kernelspec": {
   "display_name": "Python 3 (ipykernel)",
   "language": "python",
   "name": "python3"
  },
  "language_info": {
   "codemirror_mode": {
    "name": "ipython",
    "version": 3
   },
   "file_extension": ".py",
   "mimetype": "text/x-python",
   "name": "python",
   "nbconvert_exporter": "python",
   "pygments_lexer": "ipython3",
   "version": "3.10.16"
  }
 },
 "nbformat": 4,
 "nbformat_minor": 5
}
