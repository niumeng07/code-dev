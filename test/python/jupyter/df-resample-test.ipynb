{
 "cells": [
  {
   "cell_type": "code",
   "execution_count": 9,
   "id": "000202bd-e540-48e9-9043-7b959a0754fc",
   "metadata": {},
   "outputs": [],
   "source": [
    "import pandas as pd\n",
    "from datetime import datetime, timedelta"
   ]
  },
  {
   "cell_type": "code",
   "execution_count": 20,
   "id": "b3f8d34a-42fa-4ca8-8e23-a3b3fb9a4ef8",
   "metadata": {},
   "outputs": [
    {
     "data": {
      "text/plain": [
       "'2.2.2'"
      ]
     },
     "execution_count": 20,
     "metadata": {},
     "output_type": "execute_result"
    }
   ],
   "source": [
    "pd.__version__"
   ]
  },
  {
   "cell_type": "code",
   "execution_count": 23,
   "id": "9d153965-b707-475f-a9a0-177d63df9097",
   "metadata": {},
   "outputs": [
    {
     "name": "stdout",
     "output_type": "stream",
     "text": [
      "Python 3.10.16\n"
     ]
    }
   ],
   "source": [
    "!python3.10 --version"
   ]
  },
  {
   "cell_type": "code",
   "execution_count": 24,
   "id": "7df25716-7d18-469c-9bd0-41931b7b85c9",
   "metadata": {},
   "outputs": [],
   "source": [
    "ticker_file = '/Users/liuda/Local/data/trading/data/stocks/ticker/history/AMZN.csv'"
   ]
  },
  {
   "cell_type": "code",
   "execution_count": 25,
   "id": "3400b0dd-d394-485e-9248-57061061c66f",
   "metadata": {},
   "outputs": [],
   "source": [
    "ticker_data = pd.read_csv(ticker_file, sep=\",\")"
   ]
  },
  {
   "cell_type": "code",
   "execution_count": 26,
   "id": "bc4048af-5f17-4af6-a427-8253da06b845",
   "metadata": {},
   "outputs": [],
   "source": [
    "ticker_data['TICKER'] = 'AMZN'\n",
    "ticker_data['Adj High'] = ticker_data['High'] + ticker_data['Adj Close'] - ticker_data['Close']\n",
    "ticker_data['Adj Low'] = ticker_data['Low'] + ticker_data['Adj Close'] - ticker_data['Close']\n",
    "ticker_data['Adj Open'] = ticker_data['Open'] + ticker_data['Adj Close'] - ticker_data['Close']"
   ]
  },
  {
   "cell_type": "code",
   "execution_count": 28,
   "id": "168b1eb9-af60-4197-9af3-61f079cfedda",
   "metadata": {},
   "outputs": [],
   "source": [
    "ticker_data = ticker_data.sort_values(by=\"Date\").reset_index(drop=True)\n",
    "ticker_data['qt'] = ticker_data['Date'].apply(pd.to_datetime).dt.to_period('Q').astype(str).str.replace('Q', 'q')\n",
    "\n",
    "hedge_filter = pd.read_csv('/Users/liuda/Local/data/trading/data/output/filter/hedge_filters.csv')\n",
    "# ticker_data = join_hedge_filter(ticker_data, hedge_filter)\n",
    "\n",
    "ticker_data = ticker_data.sort_values(by='Date').reset_index(drop=True)\n",
    "ticker_data['Date'] = pd.to_datetime(ticker_data['Date'])\n",
    "ticker_data.set_index('Date', inplace=True)"
   ]
  },
  {
   "cell_type": "code",
   "execution_count": 29,
   "id": "17aa1e4b-4b10-4806-80d5-1a227ccdc12a",
   "metadata": {},
   "outputs": [],
   "source": [
    "resample_rules = [(\"W\", \"weekly\"), (\"ME\", \"monthly\")]"
   ]
  },
  {
   "cell_type": "code",
   "execution_count": 30,
   "id": "d5de2003-d599-4e7d-a61b-95dd66d16cc5",
   "metadata": {},
   "outputs": [],
   "source": [
    "ticker_data_fill_30_day = ticker_data.copy(deep=True)\n",
    "future_dates = pd.date_range(start=ticker_data_fill_30_day.index[-1] + pd.Timedelta(days=1), periods=30)\n",
    "ticker_data_fill_30_day = ticker_data_fill_30_day.reindex(ticker_data_fill_30_day.index.union(future_dates))\n",
    "ticker_data_fill_30_day = ticker_data_fill_30_day.ffill()\n",
    "ticker_data_fill_30_day.rename_axis('Date', inplace=True)   # index列重命名为Date，后续Join要使用\n"
   ]
  },
  {
   "cell_type": "code",
   "execution_count": 31,
   "id": "3b7a93c6-10c2-4669-9c04-483879a792e8",
   "metadata": {},
   "outputs": [],
   "source": [
    "rule, label = resample_rules[0]"
   ]
  },
  {
   "cell_type": "code",
   "execution_count": 32,
   "id": "ae08fba0-3937-4f62-9814-d4a9ca6d011a",
   "metadata": {},
   "outputs": [
    {
     "data": {
      "text/plain": [
       "('W', 'weekly')"
      ]
     },
     "execution_count": 32,
     "metadata": {},
     "output_type": "execute_result"
    }
   ],
   "source": [
    "rule, label"
   ]
  },
  {
   "cell_type": "code",
   "execution_count": 33,
   "id": "85c9a236-8436-446f-a291-f1c47ffd3233",
   "metadata": {},
   "outputs": [
    {
     "data": {
      "text/html": [
       "<div>\n",
       "<style scoped>\n",
       "    .dataframe tbody tr th:only-of-type {\n",
       "        vertical-align: middle;\n",
       "    }\n",
       "\n",
       "    .dataframe tbody tr th {\n",
       "        vertical-align: top;\n",
       "    }\n",
       "\n",
       "    .dataframe thead th {\n",
       "        text-align: right;\n",
       "    }\n",
       "</style>\n",
       "<table border=\"1\" class=\"dataframe\">\n",
       "  <thead>\n",
       "    <tr style=\"text-align: right;\">\n",
       "      <th></th>\n",
       "      <th>Open</th>\n",
       "      <th>High</th>\n",
       "      <th>Low</th>\n",
       "      <th>Adj High</th>\n",
       "      <th>Adj Open</th>\n",
       "      <th>Adj Low</th>\n",
       "      <th>Adj Close</th>\n",
       "      <th>Volume</th>\n",
       "    </tr>\n",
       "    <tr>\n",
       "      <th>Date</th>\n",
       "      <th></th>\n",
       "      <th></th>\n",
       "      <th></th>\n",
       "      <th></th>\n",
       "      <th></th>\n",
       "      <th></th>\n",
       "      <th></th>\n",
       "      <th></th>\n",
       "    </tr>\n",
       "  </thead>\n",
       "  <tbody>\n",
       "    <tr>\n",
       "      <th>2010-03-28</th>\n",
       "      <td>6.7685</td>\n",
       "      <td>6.909500</td>\n",
       "      <td>6.559000</td>\n",
       "      <td>6.909500</td>\n",
       "      <td>6.7685</td>\n",
       "      <td>6.559000</td>\n",
       "      <td>6.590500</td>\n",
       "      <td>4.841200e+08</td>\n",
       "    </tr>\n",
       "    <tr>\n",
       "      <th>2010-04-04</th>\n",
       "      <td>6.6425</td>\n",
       "      <td>7.066500</td>\n",
       "      <td>6.539000</td>\n",
       "      <td>7.066500</td>\n",
       "      <td>6.6425</td>\n",
       "      <td>6.539000</td>\n",
       "      <td>7.003000</td>\n",
       "      <td>7.682480e+08</td>\n",
       "    </tr>\n",
       "    <tr>\n",
       "      <th>2010-04-11</th>\n",
       "      <td>7.0000</td>\n",
       "      <td>7.358500</td>\n",
       "      <td>6.956000</td>\n",
       "      <td>7.358500</td>\n",
       "      <td>7.0000</td>\n",
       "      <td>6.956000</td>\n",
       "      <td>7.108500</td>\n",
       "      <td>6.871500e+08</td>\n",
       "    </tr>\n",
       "    <tr>\n",
       "      <th>2010-04-18</th>\n",
       "      <td>7.1175</td>\n",
       "      <td>7.554500</td>\n",
       "      <td>6.956500</td>\n",
       "      <td>7.554500</td>\n",
       "      <td>7.1175</td>\n",
       "      <td>6.956500</td>\n",
       "      <td>7.181500</td>\n",
       "      <td>1.036982e+09</td>\n",
       "    </tr>\n",
       "    <tr>\n",
       "      <th>2010-04-25</th>\n",
       "      <td>7.1600</td>\n",
       "      <td>7.386500</td>\n",
       "      <td>6.845500</td>\n",
       "      <td>7.386500</td>\n",
       "      <td>7.1600</td>\n",
       "      <td>6.845500</td>\n",
       "      <td>6.855000</td>\n",
       "      <td>7.924060e+08</td>\n",
       "    </tr>\n",
       "    <tr>\n",
       "      <th>...</th>\n",
       "      <td>...</td>\n",
       "      <td>...</td>\n",
       "      <td>...</td>\n",
       "      <td>...</td>\n",
       "      <td>...</td>\n",
       "      <td>...</td>\n",
       "      <td>...</td>\n",
       "      <td>...</td>\n",
       "    </tr>\n",
       "    <tr>\n",
       "      <th>2025-03-23</th>\n",
       "      <td>200.0000</td>\n",
       "      <td>203.639999</td>\n",
       "      <td>199.949997</td>\n",
       "      <td>203.639999</td>\n",
       "      <td>200.0000</td>\n",
       "      <td>199.949997</td>\n",
       "      <td>203.259995</td>\n",
       "      <td>2.908507e+08</td>\n",
       "    </tr>\n",
       "    <tr>\n",
       "      <th>2025-03-30</th>\n",
       "      <td>200.0000</td>\n",
       "      <td>203.639999</td>\n",
       "      <td>199.949997</td>\n",
       "      <td>203.639999</td>\n",
       "      <td>200.0000</td>\n",
       "      <td>199.949997</td>\n",
       "      <td>203.259995</td>\n",
       "      <td>2.908507e+08</td>\n",
       "    </tr>\n",
       "    <tr>\n",
       "      <th>2025-04-06</th>\n",
       "      <td>200.0000</td>\n",
       "      <td>203.639999</td>\n",
       "      <td>199.949997</td>\n",
       "      <td>203.639999</td>\n",
       "      <td>200.0000</td>\n",
       "      <td>199.949997</td>\n",
       "      <td>203.259995</td>\n",
       "      <td>2.908507e+08</td>\n",
       "    </tr>\n",
       "    <tr>\n",
       "      <th>2025-04-13</th>\n",
       "      <td>200.0000</td>\n",
       "      <td>203.639999</td>\n",
       "      <td>199.949997</td>\n",
       "      <td>203.639999</td>\n",
       "      <td>200.0000</td>\n",
       "      <td>199.949997</td>\n",
       "      <td>203.259995</td>\n",
       "      <td>2.908507e+08</td>\n",
       "    </tr>\n",
       "    <tr>\n",
       "      <th>2025-04-20</th>\n",
       "      <td>200.0000</td>\n",
       "      <td>203.639999</td>\n",
       "      <td>199.949997</td>\n",
       "      <td>203.639999</td>\n",
       "      <td>200.0000</td>\n",
       "      <td>199.949997</td>\n",
       "      <td>203.259995</td>\n",
       "      <td>1.246503e+08</td>\n",
       "    </tr>\n",
       "  </tbody>\n",
       "</table>\n",
       "<p>787 rows × 8 columns</p>\n",
       "</div>"
      ],
      "text/plain": [
       "                Open        High         Low    Adj High  Adj Open  \\\n",
       "Date                                                                 \n",
       "2010-03-28    6.7685    6.909500    6.559000    6.909500    6.7685   \n",
       "2010-04-04    6.6425    7.066500    6.539000    7.066500    6.6425   \n",
       "2010-04-11    7.0000    7.358500    6.956000    7.358500    7.0000   \n",
       "2010-04-18    7.1175    7.554500    6.956500    7.554500    7.1175   \n",
       "2010-04-25    7.1600    7.386500    6.845500    7.386500    7.1600   \n",
       "...              ...         ...         ...         ...       ...   \n",
       "2025-03-23  200.0000  203.639999  199.949997  203.639999  200.0000   \n",
       "2025-03-30  200.0000  203.639999  199.949997  203.639999  200.0000   \n",
       "2025-04-06  200.0000  203.639999  199.949997  203.639999  200.0000   \n",
       "2025-04-13  200.0000  203.639999  199.949997  203.639999  200.0000   \n",
       "2025-04-20  200.0000  203.639999  199.949997  203.639999  200.0000   \n",
       "\n",
       "               Adj Low   Adj Close        Volume  \n",
       "Date                                              \n",
       "2010-03-28    6.559000    6.590500  4.841200e+08  \n",
       "2010-04-04    6.539000    7.003000  7.682480e+08  \n",
       "2010-04-11    6.956000    7.108500  6.871500e+08  \n",
       "2010-04-18    6.956500    7.181500  1.036982e+09  \n",
       "2010-04-25    6.845500    6.855000  7.924060e+08  \n",
       "...                ...         ...           ...  \n",
       "2025-03-23  199.949997  203.259995  2.908507e+08  \n",
       "2025-03-30  199.949997  203.259995  2.908507e+08  \n",
       "2025-04-06  199.949997  203.259995  2.908507e+08  \n",
       "2025-04-13  199.949997  203.259995  2.908507e+08  \n",
       "2025-04-20  199.949997  203.259995  1.246503e+08  \n",
       "\n",
       "[787 rows x 8 columns]"
      ]
     },
     "execution_count": 33,
     "metadata": {},
     "output_type": "execute_result"
    }
   ],
   "source": [
    "ticker_data_fill_30_day.resample(   # 从fill 30 day 采样，避免尾部值缺失\n",
    "    rule, label=\"left\", offset=\"1D\"\n",
    ").agg(\n",
    "    {\n",
    "        \"Open\": \"first\",\n",
    "        \"High\": \"max\",\n",
    "        \"Low\": \"min\",\n",
    "        \"Adj High\": \"max\",\n",
    "        \"Adj Open\": \"first\",\n",
    "        \"Adj Low\": \"min\",\n",
    "        \"Adj Close\": \"last\",\n",
    "        \"Volume\": \"sum\",\n",
    "    }\n",
    ")"
   ]
  },
  {
   "cell_type": "code",
   "execution_count": 1,
   "id": "4e7d658f-e193-42f1-a6d8-e5d515bbc2cb",
   "metadata": {},
   "outputs": [],
   "source": [
    "import pandas as pd"
   ]
  },
  {
   "cell_type": "code",
   "execution_count": 5,
   "id": "5ad7a678",
   "metadata": {},
   "outputs": [
    {
     "name": "stdout",
     "output_type": "stream",
     "text": [
      "TICKER               QQQ\n",
      "Adj Close     484.380005\n",
      "SMA_5_day      485.43407\n",
      "SMA_20_day    485.340225\n",
      "Name: 3770, dtype: object\n"
     ]
    }
   ],
   "source": [
    "input_file = '/Users/liuda/Desktop/QQQ.csv'\n",
    "\n",
    "df = pd.read_csv(input_file)\n",
    "print(df.loc[df['Date'].idxmax()][['TICKER', 'Adj Close', 'SMA_5_day', 'SMA_20_day']])"
   ]
  },
  {
   "cell_type": "code",
   "execution_count": 6,
   "id": "8619e64d",
   "metadata": {},
   "outputs": [
    {
     "name": "stdout",
     "output_type": "stream",
     "text": [
      "TICKER               SPY\n",
      "Adj Close     568.590027\n",
      "SMA_5_day     569.180811\n",
      "SMA_20_day    568.834583\n",
      "Name: 3770, dtype: object\n"
     ]
    }
   ],
   "source": [
    "input_file = '/Users/liuda/Desktop/SPY.csv'\n",
    "\n",
    "df = pd.read_csv(input_file)\n",
    "print(df.loc[df['Date'].idxmax()][['TICKER', 'Adj Close', 'SMA_5_day', 'SMA_20_day']])"
   ]
  },
  {
   "cell_type": "code",
   "execution_count": null,
   "id": "54fec79c",
   "metadata": {},
   "outputs": [],
   "source": []
  }
 ],
 "metadata": {
  "kernelspec": {
   "display_name": "Python 3",
   "language": "python",
   "name": "python3"
  },
  "language_info": {
   "codemirror_mode": {
    "name": "ipython",
    "version": 3
   },
   "file_extension": ".py",
   "mimetype": "text/x-python",
   "name": "python",
   "nbconvert_exporter": "python",
   "pygments_lexer": "ipython3",
   "version": "3.10.16"
  }
 },
 "nbformat": 4,
 "nbformat_minor": 5
}
