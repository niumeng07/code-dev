{
 "cells": [
  {
   "cell_type": "code",
   "execution_count": 38,
   "id": "e95326b2-cc32-46d8-93fc-599fa820ca8c",
   "metadata": {},
   "outputs": [],
   "source": [
    "import json\n",
    "from IPython.display import display"
   ]
  },
  {
   "cell_type": "code",
   "execution_count": 39,
   "id": "d3f82859-d0a1-4e16-ad1d-4958de282a0f",
   "metadata": {},
   "outputs": [],
   "source": [
    "data = json.load(open('/Users/liuda/Local/data/finance/stocks/polygon/ticker/financials/AMZN.json'))"
   ]
  },
  {
   "cell_type": "code",
   "execution_count": 40,
   "id": "73b5a563-7e97-4bc4-a3da-bc87d325743f",
   "metadata": {},
   "outputs": [
    {
     "data": {
      "text/plain": [
       "dict_keys(['results', 'status', 'request_id', 'next_url'])"
      ]
     },
     "execution_count": 40,
     "metadata": {},
     "output_type": "execute_result"
    }
   ],
   "source": [
    "data.keys()"
   ]
  },
  {
   "cell_type": "code",
   "execution_count": null,
   "id": "75b441bb-fec9-4b0d-89f1-ab40043207f7",
   "metadata": {},
   "outputs": [],
   "source": []
  },
  {
   "cell_type": "code",
   "execution_count": 44,
   "id": "f0aec138-f41a-4cd1-b6e8-04de51536cb9",
   "metadata": {},
   "outputs": [],
   "source": [
    "results = [ {\n",
    "    'start_date': item['start_date'],\n",
    "    'end_date': item['end_date'],\n",
    "    'diluted_earnings_per_share': item['financials']['income_statement']['diluted_earnings_per_share'],\n",
    "    'basic_earnings_per_share': item['financials']['income_statement']['basic_earnings_per_share']\n",
    "    }\n",
    "     for item in data['results']]"
   ]
  },
  {
   "cell_type": "code",
   "execution_count": 45,
   "id": "a9d50856-36fd-45e4-a21b-584457d652c6",
   "metadata": {},
   "outputs": [],
   "source": [
    "with open('/Users/liuda/Desktop/AMZN.test.json', 'w') as f:\n",
    "    f.writelines(json.dumps(results, indent=4))"
   ]
  },
  {
   "cell_type": "code",
   "execution_count": null,
   "id": "139e858d-cf71-46b2-934c-e68ecdcff302",
   "metadata": {},
   "outputs": [],
   "source": []
  },
  {
   "cell_type": "code",
   "execution_count": 55,
   "id": "cae05e4a-f942-4a76-a761-19f8245495e0",
   "metadata": {},
   "outputs": [],
   "source": [
    "import requests\n",
    "\n",
    "API_KEY = 'ct3bcu9r01qkff715ks0ct3bcu9r01qkff715ksg'\n",
    "symbol = 'AAPL'\n",
    "\n",
    "url = f'https://finnhub.io/api/v1/earnings?symbol={symbol}&token={API_KEY}'\n",
    "\n",
    "response = requests.get(\n",
    "    url, proxies={'http_proxy': 'http://127.0.0.1:8001', 'https_proxy': 'http://127.0.0.1:8001'})\n",
    "data = response.text\n",
    "#print(data)\n",
    "\n",
    "# 打印每季度的EPS预估和实际EPS\n",
    "# for report in data:\n",
    "#     print(f\"Report Date: {report['reportDate']}\")\n",
    "#     print(f\"EPS Estimate: {report['epsEstimate']}\")\n",
    "#     print(f\"Actual EPS: {report['epsActual']}\")\n",
    "#     print(f\"Earnings Surprise: {report['surprisePercent']}\")\n",
    "# "
   ]
  },
  {
   "cell_type": "code",
   "execution_count": 61,
   "id": "1e386f33-408f-4898-a5c8-8cd4b00c59e0",
   "metadata": {},
   "outputs": [
    {
     "name": "stdout",
     "output_type": "stream",
     "text": [
      "[{\"fiscalDateEnding\": \"2024-09-30\", \"reportedDate\": \"2024-10-31\", \"reportedEPS\": \"1.64\", \"estimatedEPS\": \"1.6\", \"surprise\": \"0.04\", \"surprisePercentage\": \"2.5\", \"reportTime\": \"post-market\"}, {\"fiscalDateEnding\": \"2024-06-30\", \"reportedDate\": \"2024-08-01\", \"reportedEPS\": \"1.4\", \"estimatedEPS\": \"1.35\", \"surprise\": \"0.05\", \"surprisePercentage\": \"3.7037\", \"reportTime\": \"post-market\"}, {\"fiscalDateEnding\": \"2024-03-31\", \"reportedDate\": \"2024-05-02\", \"reportedEPS\": \"1.53\", \"estimatedEPS\": \"1.5\", \"surprise\": \"0.03\", \"surprisePercentage\": \"2\", \"reportTime\": \"post-market\"}, {\"fiscalDateEnding\": \"2023-12-31\", \"reportedDate\": \"2024-02-01\", \"reportedEPS\": \"2.18\", \"estimatedEPS\": \"2.1\", \"surprise\": \"0.08\", \"surprisePercentage\": \"3.8095\", \"reportTime\": \"post-market\"}, {\"fiscalDateEnding\": \"2023-09-30\", \"reportedDate\": \"2023-11-02\", \"reportedEPS\": \"1.46\", \"estimatedEPS\": \"1.39\", \"surprise\": \"0.07\", \"surprisePercentage\": \"5.036\", \"reportTime\": \"post-market\"}, {\"fiscalDateEnding\": \"2023-06-30\", \"reportedDate\": \"2023-08-03\", \"reportedEPS\": \"1.26\", \"estimatedEPS\": \"1.19\", \"surprise\": \"0.07\", \"surprisePercentage\": \"5.8824\", \"reportTime\": \"post-market\"}, {\"fiscalDateEnding\": \"2023-03-31\", \"reportedDate\": \"2023-05-04\", \"reportedEPS\": \"1.52\", \"estimatedEPS\": \"1.43\", \"surprise\": \"0.09\", \"surprisePercentage\": \"6.2937\", \"reportTime\": \"post-market\"}, {\"fiscalDateEnding\": \"2022-12-31\", \"reportedDate\": \"2023-02-02\", \"reportedEPS\": \"1.88\", \"estimatedEPS\": \"1.94\", \"surprise\": \"-0.06\", \"surprisePercentage\": \"-3.0928\", \"reportTime\": \"post-market\"}, {\"fiscalDateEnding\": \"2022-09-30\", \"reportedDate\": \"2022-10-27\", \"reportedEPS\": \"1.29\", \"estimatedEPS\": \"1.27\", \"surprise\": \"0.02\", \"surprisePercentage\": \"1.5748\", \"reportTime\": \"post-market\"}, {\"fiscalDateEnding\": \"2022-06-30\", \"reportedDate\": \"2022-07-28\", \"reportedEPS\": \"1.2\", \"estimatedEPS\": \"1.16\", \"surprise\": \"0.04\", \"surprisePercentage\": \"3.4483\", \"reportTime\": \"post-market\"}, {\"fiscalDateEnding\": \"2022-03-31\", \"reportedDate\": \"2022-04-28\", \"reportedEPS\": \"1.52\", \"estimatedEPS\": \"1.43\", \"surprise\": \"0.09\", \"surprisePercentage\": \"6.2937\", \"reportTime\": \"post-market\"}, {\"fiscalDateEnding\": \"2021-12-31\", \"reportedDate\": \"2022-01-27\", \"reportedEPS\": \"2.1\", \"estimatedEPS\": \"1.89\", \"surprise\": \"0.21\", \"surprisePercentage\": \"11.1111\", \"reportTime\": \"post-market\"}, {\"fiscalDateEnding\": \"2021-09-30\", \"reportedDate\": \"2021-10-28\", \"reportedEPS\": \"1.24\", \"estimatedEPS\": \"1.24\", \"surprise\": \"0\", \"surprisePercentage\": \"0\", \"reportTime\": \"post-market\"}, {\"fiscalDateEnding\": \"2021-06-30\", \"reportedDate\": \"2021-07-27\", \"reportedEPS\": \"1.3\", \"estimatedEPS\": \"1.01\", \"surprise\": \"0.29\", \"surprisePercentage\": \"28.7129\", \"reportTime\": \"post-market\"}, {\"fiscalDateEnding\": \"2021-03-31\", \"reportedDate\": \"2021-04-28\", \"reportedEPS\": \"1.4\", \"estimatedEPS\": \"0.99\", \"surprise\": \"0.41\", \"surprisePercentage\": \"41.4141\", \"reportTime\": \"post-market\"}, {\"fiscalDateEnding\": \"2020-12-31\", \"reportedDate\": \"2021-01-27\", \"reportedEPS\": \"1.68\", \"estimatedEPS\": \"1.41\", \"surprise\": \"0.27\", \"surprisePercentage\": \"19.1489\", \"reportTime\": \"post-market\"}, {\"fiscalDateEnding\": \"2020-09-30\", \"reportedDate\": \"2020-10-29\", \"reportedEPS\": \"0.73\", \"estimatedEPS\": \"0.7\", \"surprise\": \"0.03\", \"surprisePercentage\": \"4.2857\", \"reportTime\": \"post-market\"}, {\"fiscalDateEnding\": \"2020-06-30\", \"reportedDate\": \"2020-07-30\", \"reportedEPS\": \"0.65\", \"estimatedEPS\": \"0.51\", \"surprise\": \"0.14\", \"surprisePercentage\": \"27.451\", \"reportTime\": \"post-market\"}, {\"fiscalDateEnding\": \"2020-03-31\", \"reportedDate\": \"2020-04-30\", \"reportedEPS\": \"0.64\", \"estimatedEPS\": \"0.56\", \"surprise\": \"0.08\", \"surprisePercentage\": \"14.2857\", \"reportTime\": \"post-market\"}, {\"fiscalDateEnding\": \"2019-12-31\", \"reportedDate\": \"2020-01-28\", \"reportedEPS\": \"1.25\", \"estimatedEPS\": \"1.14\", \"surprise\": \"0.11\", \"surprisePercentage\": \"9.6491\", \"reportTime\": \"post-market\"}, {\"fiscalDateEnding\": \"2019-09-30\", \"reportedDate\": \"2019-10-30\", \"reportedEPS\": \"0.76\", \"estimatedEPS\": \"0.71\", \"surprise\": \"0.05\", \"surprisePercentage\": \"7.0423\", \"reportTime\": \"post-market\"}, {\"fiscalDateEnding\": \"2019-06-30\", \"reportedDate\": \"2019-07-30\", \"reportedEPS\": \"0.55\", \"estimatedEPS\": \"0.53\", \"surprise\": \"0.02\", \"surprisePercentage\": \"3.7736\", \"reportTime\": \"post-market\"}, {\"fiscalDateEnding\": \"2019-03-31\", \"reportedDate\": \"2019-04-30\", \"reportedEPS\": \"0.62\", \"estimatedEPS\": \"0.59\", \"surprise\": \"0.03\", \"surprisePercentage\": \"5.0847\", \"reportTime\": \"post-market\"}, {\"fiscalDateEnding\": \"2018-12-31\", \"reportedDate\": \"2019-01-29\", \"reportedEPS\": \"1.05\", \"estimatedEPS\": \"1.04\", \"surprise\": \"0.01\", \"surprisePercentage\": \"0.9615\", \"reportTime\": \"post-market\"}, {\"fiscalDateEnding\": \"2018-09-30\", \"reportedDate\": \"2018-11-01\", \"reportedEPS\": \"0.73\", \"estimatedEPS\": \"0.7\", \"surprise\": \"0.03\", \"surprisePercentage\": \"4.2857\", \"reportTime\": \"post-market\"}, {\"fiscalDateEnding\": \"2018-06-30\", \"reportedDate\": \"2018-07-31\", \"reportedEPS\": \"0.585\", \"estimatedEPS\": \"0.545\", \"surprise\": \"0.04\", \"surprisePercentage\": \"7.3394\", \"reportTime\": \"post-market\"}, {\"fiscalDateEnding\": \"2018-03-31\", \"reportedDate\": \"2018-05-01\", \"reportedEPS\": \"0.6825\", \"estimatedEPS\": \"0.6725\", \"surprise\": \"0.01\", \"surprisePercentage\": \"1.487\", \"reportTime\": \"post-market\"}, {\"fiscalDateEnding\": \"2017-12-31\", \"reportedDate\": \"2018-02-01\", \"reportedEPS\": \"0.9725\", \"estimatedEPS\": \"0.965\", \"surprise\": \"0.0075\", \"surprisePercentage\": \"0.7772\", \"reportTime\": \"post-market\"}, {\"fiscalDateEnding\": \"2017-09-30\", \"reportedDate\": \"2017-11-02\", \"reportedEPS\": \"0.5175\", \"estimatedEPS\": \"0.4675\", \"surprise\": \"0.05\", \"surprisePercentage\": \"10.6952\", \"reportTime\": \"post-market\"}, {\"fiscalDateEnding\": \"2017-06-30\", \"reportedDate\": \"2017-08-01\", \"reportedEPS\": \"0.4175\", \"estimatedEPS\": \"0.3925\", \"surprise\": \"0.025\", \"surprisePercentage\": \"6.3694\", \"reportTime\": \"post-market\"}, {\"fiscalDateEnding\": \"2017-03-31\", \"reportedDate\": \"2017-05-02\", \"reportedEPS\": \"0.525\", \"estimatedEPS\": \"0.505\", \"surprise\": \"0.02\", \"surprisePercentage\": \"3.9604\", \"reportTime\": \"post-market\"}, {\"fiscalDateEnding\": \"2016-12-31\", \"reportedDate\": \"2017-01-31\", \"reportedEPS\": \"0.84\", \"estimatedEPS\": \"0.8025\", \"surprise\": \"0.0375\", \"surprisePercentage\": \"4.6729\", \"reportTime\": \"post-market\"}, {\"fiscalDateEnding\": \"2016-09-30\", \"reportedDate\": \"2016-10-25\", \"reportedEPS\": \"0.4175\", \"estimatedEPS\": \"0.415\", \"surprise\": \"0.0025\", \"surprisePercentage\": \"0.6024\", \"reportTime\": \"post-market\"}, {\"fiscalDateEnding\": \"2016-06-30\", \"reportedDate\": \"2016-07-26\", \"reportedEPS\": \"0.355\", \"estimatedEPS\": \"0.345\", \"surprise\": \"0.01\", \"surprisePercentage\": \"2.8986\", \"reportTime\": \"post-market\"}, {\"fiscalDateEnding\": \"2016-03-31\", \"reportedDate\": \"2016-04-26\", \"reportedEPS\": \"0.475\", \"estimatedEPS\": \"0.5\", \"surprise\": \"-0.025\", \"surprisePercentage\": \"-5\", \"reportTime\": \"post-market\"}, {\"fiscalDateEnding\": \"2015-12-31\", \"reportedDate\": \"2016-01-26\", \"reportedEPS\": \"0.82\", \"estimatedEPS\": \"0.8075\", \"surprise\": \"0.0125\", \"surprisePercentage\": \"1.548\", \"reportTime\": \"post-market\"}, {\"fiscalDateEnding\": \"2015-09-30\", \"reportedDate\": \"2015-10-27\", \"reportedEPS\": \"0.49\", \"estimatedEPS\": \"0.47\", \"surprise\": \"0.02\", \"surprisePercentage\": \"4.2553\", \"reportTime\": \"post-market\"}, {\"fiscalDateEnding\": \"2015-06-30\", \"reportedDate\": \"2015-07-21\", \"reportedEPS\": \"0.4625\", \"estimatedEPS\": \"0.4525\", \"surprise\": \"0.01\", \"surprisePercentage\": \"2.2099\", \"reportTime\": \"post-market\"}, {\"fiscalDateEnding\": \"2015-03-31\", \"reportedDate\": \"2015-04-27\", \"reportedEPS\": \"0.5825\", \"estimatedEPS\": \"0.54\", \"surprise\": \"0.0425\", \"surprisePercentage\": \"7.8704\", \"reportTime\": \"post-market\"}, {\"fiscalDateEnding\": \"2014-12-31\", \"reportedDate\": \"2015-01-27\", \"reportedEPS\": \"0.765\", \"estimatedEPS\": \"0.65\", \"surprise\": \"0.115\", \"surprisePercentage\": \"17.6923\", \"reportTime\": \"post-market\"}, {\"fiscalDateEnding\": \"2014-09-30\", \"reportedDate\": \"2014-10-20\", \"reportedEPS\": \"0.355\", \"estimatedEPS\": \"0.3275\", \"surprise\": \"0.0275\", \"surprisePercentage\": \"8.3969\", \"reportTime\": \"post-market\"}, {\"fiscalDateEnding\": \"2014-06-30\", \"reportedDate\": \"2014-07-22\", \"reportedEPS\": \"0.32\", \"estimatedEPS\": \"0.3075\", \"surprise\": \"0.0125\", \"surprisePercentage\": \"4.065\", \"reportTime\": \"post-market\"}, {\"fiscalDateEnding\": \"2014-03-31\", \"reportedDate\": \"2014-04-23\", \"reportedEPS\": \"0.415\", \"estimatedEPS\": \"0.365\", \"surprise\": \"0.05\", \"surprisePercentage\": \"13.6986\", \"reportTime\": \"post-market\"}, {\"fiscalDateEnding\": \"2013-12-31\", \"reportedDate\": \"2014-01-27\", \"reportedEPS\": \"0.5175\", \"estimatedEPS\": \"0.5025\", \"surprise\": \"0.015\", \"surprisePercentage\": \"2.9851\", \"reportTime\": \"post-market\"}, {\"fiscalDateEnding\": \"2013-09-30\", \"reportedDate\": \"2013-10-28\", \"reportedEPS\": \"0.295\", \"estimatedEPS\": \"0.285\", \"surprise\": \"0.01\", \"surprisePercentage\": \"3.5088\", \"reportTime\": \"post-market\"}, {\"fiscalDateEnding\": \"2013-06-30\", \"reportedDate\": \"2013-07-23\", \"reportedEPS\": \"0.2675\", \"estimatedEPS\": \"0.2625\", \"surprise\": \"0.005\", \"surprisePercentage\": \"1.9048\", \"reportTime\": \"post-market\"}, {\"fiscalDateEnding\": \"2013-03-31\", \"reportedDate\": \"2013-04-23\", \"reportedEPS\": \"0.36\", \"estimatedEPS\": \"0.3575\", \"surprise\": \"0.0025\", \"surprisePercentage\": \"0.6993\", \"reportTime\": \"post-market\"}, {\"fiscalDateEnding\": \"2012-12-31\", \"reportedDate\": \"2013-01-23\", \"reportedEPS\": \"0.4925\", \"estimatedEPS\": \"0.48\", \"surprise\": \"0.0125\", \"surprisePercentage\": \"2.6042\", \"reportTime\": \"post-market\"}, {\"fiscalDateEnding\": \"2012-09-30\", \"reportedDate\": \"2012-10-25\", \"reportedEPS\": \"0.31\", \"estimatedEPS\": \"0.3125\", \"surprise\": \"-0.0025\", \"surprisePercentage\": \"-0.8\", \"reportTime\": \"post-market\"}, {\"fiscalDateEnding\": \"2012-06-30\", \"reportedDate\": \"2012-07-24\", \"reportedEPS\": \"0.3325\", \"estimatedEPS\": \"0.37\", \"surprise\": \"-0.0375\", \"surprisePercentage\": \"-10.1351\", \"reportTime\": \"post-market\"}, {\"fiscalDateEnding\": \"2012-03-31\", \"reportedDate\": \"2012-04-24\", \"reportedEPS\": \"0.44\", \"estimatedEPS\": \"0.3575\", \"surprise\": \"0.0825\", \"surprisePercentage\": \"23.0769\", \"reportTime\": \"post-market\"}, {\"fiscalDateEnding\": \"2011-12-31\", \"reportedDate\": \"2012-01-24\", \"reportedEPS\": \"0.495\", \"estimatedEPS\": \"0.3625\", \"surprise\": \"0.1325\", \"surprisePercentage\": \"36.5517\", \"reportTime\": \"post-market\"}, {\"fiscalDateEnding\": \"2011-09-30\", \"reportedDate\": \"2011-10-18\", \"reportedEPS\": \"0.2525\", \"estimatedEPS\": \"0.265\", \"surprise\": \"-0.0125\", \"surprisePercentage\": \"-4.717\", \"reportTime\": \"post-market\"}, {\"fiscalDateEnding\": \"2011-06-30\", \"reportedDate\": \"2011-07-19\", \"reportedEPS\": \"0.2775\", \"estimatedEPS\": \"0.2075\", \"surprise\": \"0.07\", \"surprisePercentage\": \"33.7349\", \"reportTime\": \"post-market\"}, {\"fiscalDateEnding\": \"2011-03-31\", \"reportedDate\": \"2011-04-20\", \"reportedEPS\": \"0.2275\", \"estimatedEPS\": \"0.1925\", \"surprise\": \"0.035\", \"surprisePercentage\": \"18.1818\", \"reportTime\": \"post-market\"}, {\"fiscalDateEnding\": \"2010-12-31\", \"reportedDate\": \"2011-01-18\", \"reportedEPS\": \"0.23\", \"estimatedEPS\": \"0.1925\", \"surprise\": \"0.0375\", \"surprisePercentage\": \"19.4805\", \"reportTime\": \"post-market\"}, {\"fiscalDateEnding\": \"2010-09-30\", \"reportedDate\": \"2010-10-18\", \"reportedEPS\": \"0.165\", \"estimatedEPS\": \"0.145\", \"surprise\": \"0.02\", \"surprisePercentage\": \"13.7931\", \"reportTime\": \"post-market\"}, {\"fiscalDateEnding\": \"2010-06-30\", \"reportedDate\": \"2010-07-20\", \"reportedEPS\": \"0.125\", \"estimatedEPS\": \"0.11\", \"surprise\": \"0.015\", \"surprisePercentage\": \"13.6364\", \"reportTime\": \"post-market\"}, {\"fiscalDateEnding\": \"2010-03-31\", \"reportedDate\": \"2010-04-20\", \"reportedEPS\": \"0.12\", \"estimatedEPS\": \"0.0875\", \"surprise\": \"0.0325\", \"surprisePercentage\": \"37.1429\", \"reportTime\": \"post-market\"}, {\"fiscalDateEnding\": \"2009-12-31\", \"reportedDate\": \"2010-01-25\", \"reportedEPS\": \"0.13\", \"estimatedEPS\": \"0.075\", \"surprise\": \"0.055\", \"surprisePercentage\": \"73.3333\", \"reportTime\": \"post-market\"}, {\"fiscalDateEnding\": \"2009-09-30\", \"reportedDate\": \"2009-10-19\", \"reportedEPS\": \"0.065\", \"estimatedEPS\": \"0.05\", \"surprise\": \"0.015\", \"surprisePercentage\": \"30\", \"reportTime\": \"post-market\"}, {\"fiscalDateEnding\": \"2009-06-30\", \"reportedDate\": \"2009-07-21\", \"reportedEPS\": \"0.0475\", \"estimatedEPS\": \"0.0425\", \"surprise\": \"0.005\", \"surprisePercentage\": \"11.7647\", \"reportTime\": \"post-market\"}, {\"fiscalDateEnding\": \"2009-03-31\", \"reportedDate\": \"2009-04-22\", \"reportedEPS\": \"0.0475\", \"estimatedEPS\": \"0.04\", \"surprise\": \"0.0075\", \"surprisePercentage\": \"18.75\", \"reportTime\": \"post-market\"}, {\"fiscalDateEnding\": \"2008-12-31\", \"reportedDate\": \"2009-01-21\", \"reportedEPS\": \"0.0625\", \"estimatedEPS\": \"0.05\", \"surprise\": \"0.0125\", \"surprisePercentage\": \"25\", \"reportTime\": \"post-market\"}, {\"fiscalDateEnding\": \"2008-09-30\", \"reportedDate\": \"2008-10-21\", \"reportedEPS\": \"0.045\", \"estimatedEPS\": \"0.04\", \"surprise\": \"0.005\", \"surprisePercentage\": \"12.5\", \"reportTime\": \"post-market\"}, {\"fiscalDateEnding\": \"2008-06-30\", \"reportedDate\": \"2008-07-21\", \"reportedEPS\": \"0.0425\", \"estimatedEPS\": \"0.0375\", \"surprise\": \"0.005\", \"surprisePercentage\": \"13.3333\", \"reportTime\": \"post-market\"}, {\"fiscalDateEnding\": \"2008-03-31\", \"reportedDate\": \"2008-04-23\", \"reportedEPS\": \"0.0425\", \"estimatedEPS\": \"0.0375\", \"surprise\": \"0.005\", \"surprisePercentage\": \"13.3333\", \"reportTime\": \"post-market\"}, {\"fiscalDateEnding\": \"2007-12-31\", \"reportedDate\": \"2008-01-22\", \"reportedEPS\": \"0.06\", \"estimatedEPS\": \"0.06\", \"surprise\": \"0\", \"surprisePercentage\": \"0\", \"reportTime\": \"pre-market\"}, {\"fiscalDateEnding\": \"2007-09-30\", \"reportedDate\": \"2007-10-22\", \"reportedEPS\": \"0.04\", \"estimatedEPS\": \"0.03\", \"surprise\": \"0.01\", \"surprisePercentage\": \"33.3333\", \"reportTime\": \"pre-market\"}, {\"fiscalDateEnding\": \"2007-06-30\", \"reportedDate\": \"2007-07-25\", \"reportedEPS\": \"0.03\", \"estimatedEPS\": \"0.03\", \"surprise\": \"0\", \"surprisePercentage\": \"0\", \"reportTime\": \"pre-market\"}, {\"fiscalDateEnding\": \"2007-03-31\", \"reportedDate\": \"2007-04-25\", \"reportedEPS\": \"0.03\", \"estimatedEPS\": \"0.02\", \"surprise\": \"0.01\", \"surprisePercentage\": \"50\", \"reportTime\": \"pre-market\"}, {\"fiscalDateEnding\": \"2006-12-31\", \"reportedDate\": \"2007-01-17\", \"reportedEPS\": \"0.04\", \"estimatedEPS\": \"0.03\", \"surprise\": \"0.01\", \"surprisePercentage\": \"33.3333\", \"reportTime\": \"pre-market\"}, {\"fiscalDateEnding\": \"2006-09-30\", \"reportedDate\": \"2006-10-18\", \"reportedEPS\": \"0.02\", \"estimatedEPS\": \"0.02\", \"surprise\": \"0\", \"surprisePercentage\": \"0\", \"reportTime\": \"pre-market\"}, {\"fiscalDateEnding\": \"2006-06-30\", \"reportedDate\": \"2006-07-19\", \"reportedEPS\": \"0.02\", \"estimatedEPS\": \"0.02\", \"surprise\": \"0\", \"surprisePercentage\": \"0\", \"reportTime\": \"pre-market\"}, {\"fiscalDateEnding\": \"2006-03-31\", \"reportedDate\": \"2006-04-19\", \"reportedEPS\": \"0.02\", \"estimatedEPS\": \"0.02\", \"surprise\": \"0\", \"surprisePercentage\": \"0\", \"reportTime\": \"pre-market\"}, {\"fiscalDateEnding\": \"2005-12-31\", \"reportedDate\": \"2006-01-18\", \"reportedEPS\": \"0.02\", \"estimatedEPS\": \"0.02\", \"surprise\": \"0\", \"surprisePercentage\": \"0\", \"reportTime\": \"pre-market\"}, {\"fiscalDateEnding\": \"2005-09-30\", \"reportedDate\": \"2005-10-11\", \"reportedEPS\": \"0.01\", \"estimatedEPS\": \"0.01\", \"surprise\": \"0\", \"surprisePercentage\": \"0\", \"reportTime\": \"pre-market\"}, {\"fiscalDateEnding\": \"2005-06-30\", \"reportedDate\": \"2005-07-13\", \"reportedEPS\": \"0.01\", \"estimatedEPS\": \"0.01\", \"surprise\": \"0\", \"surprisePercentage\": \"0\", \"reportTime\": \"pre-market\"}, {\"fiscalDateEnding\": \"2005-03-31\", \"reportedDate\": \"2005-04-13\", \"reportedEPS\": \"0.01\", \"estimatedEPS\": \"0.01\", \"surprise\": \"0\", \"surprisePercentage\": \"0\", \"reportTime\": \"pre-market\"}, {\"fiscalDateEnding\": \"2004-12-31\", \"reportedDate\": \"2005-01-12\", \"reportedEPS\": \"0.01\", \"estimatedEPS\": \"0.01\", \"surprise\": \"0\", \"surprisePercentage\": \"0\", \"reportTime\": \"pre-market\"}, {\"fiscalDateEnding\": \"2004-09-30\", \"reportedDate\": \"2004-10-13\", \"reportedEPS\": \"0.02\", \"estimatedEPS\": \"0.01\", \"surprise\": \"0.01\", \"surprisePercentage\": \"100\", \"reportTime\": \"pre-market\"}, {\"fiscalDateEnding\": \"2004-06-30\", \"reportedDate\": \"2004-07-14\", \"reportedEPS\": \"0.01\", \"estimatedEPS\": \"0.01\", \"surprise\": \"0\", \"surprisePercentage\": \"0\", \"reportTime\": \"pre-market\"}, {\"fiscalDateEnding\": \"2004-03-31\", \"reportedDate\": \"2004-04-14\", \"reportedEPS\": \"0.01\", \"estimatedEPS\": \"0.01\", \"surprise\": \"0\", \"surprisePercentage\": \"0\", \"reportTime\": \"pre-market\"}, {\"fiscalDateEnding\": \"2003-12-31\", \"reportedDate\": \"2004-01-14\", \"reportedEPS\": \"0.01\", \"estimatedEPS\": \"0.01\", \"surprise\": \"0\", \"surprisePercentage\": \"0\", \"reportTime\": \"pre-market\"}, {\"fiscalDateEnding\": \"2003-09-30\", \"reportedDate\": \"2003-10-15\", \"reportedEPS\": \"0.01\", \"estimatedEPS\": \"None\", \"surprise\": \"None\", \"surprisePercentage\": \"None\", \"reportTime\": \"pre-market\"}, {\"fiscalDateEnding\": \"2003-06-30\", \"reportedDate\": \"2003-07-16\", \"reportedEPS\": \"0.0009\", \"estimatedEPS\": \"None\", \"surprise\": \"None\", \"surprisePercentage\": \"None\", \"reportTime\": \"pre-market\"}, {\"fiscalDateEnding\": \"2003-03-31\", \"reportedDate\": \"2003-04-16\", \"reportedEPS\": \"0.0007\", \"estimatedEPS\": \"None\", \"surprise\": \"None\", \"surprisePercentage\": \"None\", \"reportTime\": \"pre-market\"}, {\"fiscalDateEnding\": \"2002-12-31\", \"reportedDate\": \"2003-01-15\", \"reportedEPS\": \"-0.0004\", \"estimatedEPS\": \"None\", \"surprise\": \"None\", \"surprisePercentage\": \"None\", \"reportTime\": \"pre-market\"}, {\"fiscalDateEnding\": \"2002-09-30\", \"reportedDate\": \"2002-10-16\", \"reportedEPS\": \"-0.0022\", \"estimatedEPS\": \"None\", \"surprise\": \"None\", \"surprisePercentage\": \"None\", \"reportTime\": \"pre-market\"}, {\"fiscalDateEnding\": \"2002-06-30\", \"reportedDate\": \"2002-07-16\", \"reportedEPS\": \"0.01\", \"estimatedEPS\": \"0.01\", \"surprise\": \"0\", \"surprisePercentage\": \"0\", \"reportTime\": \"pre-market\"}, {\"fiscalDateEnding\": \"2002-03-31\", \"reportedDate\": \"2002-04-18\", \"reportedEPS\": \"0.002\", \"estimatedEPS\": \"None\", \"surprise\": \"None\", \"surprisePercentage\": \"None\", \"reportTime\": \"pre-market\"}, {\"fiscalDateEnding\": \"2001-12-31\", \"reportedDate\": \"2002-01-16\", \"reportedEPS\": \"0.01\", \"estimatedEPS\": \"0.01\", \"surprise\": \"0\", \"surprisePercentage\": \"0\", \"reportTime\": \"pre-market\"}, {\"fiscalDateEnding\": \"2001-09-30\", \"reportedDate\": \"2001-10-18\", \"reportedEPS\": \"0.0034\", \"estimatedEPS\": \"None\", \"surprise\": \"None\", \"surprisePercentage\": \"None\", \"reportTime\": \"pre-market\"}, {\"fiscalDateEnding\": \"2001-06-30\", \"reportedDate\": \"2001-07-18\", \"reportedEPS\": \"0.003\", \"estimatedEPS\": \"None\", \"surprise\": \"None\", \"surprisePercentage\": \"None\", \"reportTime\": \"pre-market\"}, {\"fiscalDateEnding\": \"2001-03-31\", \"reportedDate\": \"2001-04-18\", \"reportedEPS\": \"0.01\", \"estimatedEPS\": \"None\", \"surprise\": \"None\", \"surprisePercentage\": \"None\", \"reportTime\": \"pre-market\"}, {\"fiscalDateEnding\": \"2000-12-31\", \"reportedDate\": \"2000-12-31\", \"reportedEPS\": \"-0.0097\", \"estimatedEPS\": \"None\", \"surprise\": \"None\", \"surprisePercentage\": \"None\", \"reportTime\": \"pre-market\"}, {\"fiscalDateEnding\": \"2000-09-30\", \"reportedDate\": \"2000-10-18\", \"reportedEPS\": \"0.01\", \"estimatedEPS\": \"0.01\", \"surprise\": \"0\", \"surprisePercentage\": \"0\", \"reportTime\": \"pre-market\"}, {\"fiscalDateEnding\": \"2000-06-30\", \"reportedDate\": \"2000-07-18\", \"reportedEPS\": \"0.01\", \"estimatedEPS\": \"0.01\", \"surprise\": \"0\", \"surprisePercentage\": \"0\", \"reportTime\": \"pre-market\"}, {\"fiscalDateEnding\": \"2000-03-31\", \"reportedDate\": \"2000-04-19\", \"reportedEPS\": \"0.01\", \"estimatedEPS\": \"0.01\", \"surprise\": \"0\", \"surprisePercentage\": \"0\", \"reportTime\": \"pre-market\"}, {\"fiscalDateEnding\": \"1999-12-31\", \"reportedDate\": \"2000-01-19\", \"reportedEPS\": \"0.01\", \"estimatedEPS\": \"0.01\", \"surprise\": \"0\", \"surprisePercentage\": \"0\", \"reportTime\": \"pre-market\"}, {\"fiscalDateEnding\": \"1999-09-30\", \"reportedDate\": \"1999-10-13\", \"reportedEPS\": \"0.02\", \"estimatedEPS\": \"0.02\", \"surprise\": \"0\", \"surprisePercentage\": \"0\", \"reportTime\": \"pre-market\"}, {\"fiscalDateEnding\": \"1999-06-30\", \"reportedDate\": \"1999-07-14\", \"reportedEPS\": \"0.01\", \"estimatedEPS\": \"0.01\", \"surprise\": \"0\", \"surprisePercentage\": \"0\", \"reportTime\": \"pre-market\"}, {\"fiscalDateEnding\": \"1999-03-31\", \"reportedDate\": \"1999-04-14\", \"reportedEPS\": \"0.01\", \"estimatedEPS\": \"0.01\", \"surprise\": \"0\", \"surprisePercentage\": \"0\", \"reportTime\": \"pre-market\"}, {\"fiscalDateEnding\": \"1998-12-31\", \"reportedDate\": \"1999-01-13\", \"reportedEPS\": \"0.01\", \"estimatedEPS\": \"0.01\", \"surprise\": \"0\", \"surprisePercentage\": \"0\", \"reportTime\": \"pre-market\"}, {\"fiscalDateEnding\": \"1998-09-30\", \"reportedDate\": \"1998-10-14\", \"reportedEPS\": \"0.01\", \"estimatedEPS\": \"0.02\", \"surprise\": \"-0.01\", \"surprisePercentage\": \"-50\", \"reportTime\": \"pre-market\"}, {\"fiscalDateEnding\": \"1998-06-30\", \"reportedDate\": \"1998-07-15\", \"reportedEPS\": \"0.01\", \"estimatedEPS\": \"0.01\", \"surprise\": \"0\", \"surprisePercentage\": \"0\", \"reportTime\": \"pre-market\"}, {\"fiscalDateEnding\": \"1998-03-31\", \"reportedDate\": \"1998-04-15\", \"reportedEPS\": \"0.01\", \"estimatedEPS\": \"0.01\", \"surprise\": \"0\", \"surprisePercentage\": \"0\", \"reportTime\": \"pre-market\"}, {\"fiscalDateEnding\": \"1997-12-31\", \"reportedDate\": \"1998-01-14\", \"reportedEPS\": \"0.01\", \"estimatedEPS\": \"0.01\", \"surprise\": \"0\", \"surprisePercentage\": \"0\", \"reportTime\": \"pre-market\"}, {\"fiscalDateEnding\": \"1997-09-30\", \"reportedDate\": \"1997-10-15\", \"reportedEPS\": \"-0.0114\", \"estimatedEPS\": \"None\", \"surprise\": \"None\", \"surprisePercentage\": \"None\", \"reportTime\": \"pre-market\"}, {\"fiscalDateEnding\": \"1997-06-30\", \"reportedDate\": \"1997-07-16\", \"reportedEPS\": \"-0.02\", \"estimatedEPS\": \"-0.02\", \"surprise\": \"0\", \"surprisePercentage\": \"0\", \"reportTime\": \"pre-market\"}, {\"fiscalDateEnding\": \"1997-03-31\", \"reportedDate\": \"1997-04-16\", \"reportedEPS\": \"-0.05\", \"estimatedEPS\": \"-0.04\", \"surprise\": \"-0.01\", \"surprisePercentage\": \"-25\", \"reportTime\": \"pre-market\"}, {\"fiscalDateEnding\": \"1996-12-31\", \"reportedDate\": \"1997-01-15\", \"reportedEPS\": \"-0.03\", \"estimatedEPS\": \"-0.02\", \"surprise\": \"-0.01\", \"surprisePercentage\": \"-50\", \"reportTime\": \"pre-market\"}, {\"fiscalDateEnding\": \"1996-09-30\", \"reportedDate\": \"1996-10-16\", \"reportedEPS\": \"0.0018\", \"estimatedEPS\": \"-0.01\", \"surprise\": \"0.0118\", \"surprisePercentage\": \"118\", \"reportTime\": \"pre-market\"}, {\"fiscalDateEnding\": \"1996-06-30\", \"reportedDate\": \"1996-07-17\", \"reportedEPS\": \"-0.02\", \"estimatedEPS\": \"-0.04\", \"surprise\": \"0.02\", \"surprisePercentage\": \"50\", \"reportTime\": \"pre-market\"}, {\"fiscalDateEnding\": \"1996-03-31\", \"reportedDate\": \"1996-04-17\", \"reportedEPS\": \"-0.07\", \"estimatedEPS\": \"-0.05\", \"surprise\": \"-0.02\", \"surprisePercentage\": \"-40\", \"reportTime\": \"pre-market\"}]\n"
     ]
    }
   ],
   "source": [
    "import requests\n",
    "\n",
    "API_KEY = 'REU1BO1YXNAXRS3C'\n",
    "symbol = 'AAPL'\n",
    "\n",
    "url = f'https://www.alphavantage.co/query?function=EARNINGS&symbol={symbol}&apikey={API_KEY}'\n",
    "\n",
    "response = requests.get(url)\n",
    "data = response.json()\n",
    "\n",
    "\n",
    "# with open(f'/Users/liuda/Local/data/finance/stocks/alphavantage/ticker/earnings/{symbol}.json', 'w') as f:\n",
    "#     f.writelines(json.dumps(data, indent=4))\n",
    "\n",
    "data=data['quarterlyEarnings']\n",
    "print(json.dumps(data))"
   ]
  },
  {
   "cell_type": "code",
   "execution_count": null,
   "id": "2cf94f84-5f02-40d9-b9b6-8495bafa73b2",
   "metadata": {},
   "outputs": [],
   "source": []
  }
 ],
 "metadata": {
  "kernelspec": {
   "display_name": "Python 3 (ipykernel)",
   "language": "python",
   "name": "python3"
  },
  "language_info": {
   "codemirror_mode": {
    "name": "ipython",
    "version": 3
   },
   "file_extension": ".py",
   "mimetype": "text/x-python",
   "name": "python",
   "nbconvert_exporter": "python",
   "pygments_lexer": "ipython3",
   "version": "3.10.15"
  }
 },
 "nbformat": 4,
 "nbformat_minor": 5
}
