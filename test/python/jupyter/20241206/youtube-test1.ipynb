{
 "cells": [
  {
   "cell_type": "code",
   "execution_count": 12,
   "id": "1c747e46-3755-4e5f-bd3c-acdfb91ce845",
   "metadata": {},
   "outputs": [],
   "source": [
    "from importall import *"
   ]
  },
  {
   "cell_type": "code",
   "execution_count": null,
   "id": "af3ff94d-9587-4ec6-b13a-bf7aced8d2f9",
   "metadata": {},
   "outputs": [],
   "source": []
  },
  {
   "cell_type": "code",
   "execution_count": 13,
   "id": "586dc903-df81-45f1-a572-a2ed5492b11f",
   "metadata": {},
   "outputs": [
    {
     "name": "stdout",
     "output_type": "stream",
     "text": [
      "      Name  Reason         FinalReason\n",
      "0    Alice    Late                Late\n",
      "1      Bob    None  No Reason Provided\n",
      "2  Charlie  Absent              Absent\n"
     ]
    }
   ],
   "source": [
    "import pandas as pd\n",
    "\n",
    "# 示例数据\n",
    "data = {'Name': ['Alice', 'Bob', 'Charlie'],\n",
    "        'Reason': ['Late', None, 'Absent']}\n",
    "\n",
    "df = pd.DataFrame(data)\n",
    "\n",
    "# 默认值\n",
    "default_value = 'No Reason Provided'\n",
    "\n",
    "# 使用 fillna 填充缺失值\n",
    "df['FinalReason'] = df['Reason'].fillna(default_value)\n",
    "\n",
    "print(df)\n"
   ]
  },
  {
   "cell_type": "code",
   "execution_count": null,
   "id": "ac1b5eb5-7993-4946-a32e-7465c2edbb72",
   "metadata": {},
   "outputs": [],
   "source": []
  },
  {
   "cell_type": "code",
   "execution_count": 35,
   "id": "26d89f9a-1f5f-4c4a-ad31-6a3454221eff",
   "metadata": {},
   "outputs": [],
   "source": [
    "from urllib.parse import urlparse, parse_qs\n",
    "\n",
    "video_url = 'https://www.youtube.com/watch?v=2nFttwwt25c'"
   ]
  },
  {
   "cell_type": "code",
   "execution_count": 36,
   "id": "4badeaa0-7967-425d-aadb-9489ea6bc636",
   "metadata": {},
   "outputs": [],
   "source": [
    "parsedUrl = urlparse(video_url)"
   ]
  },
  {
   "cell_type": "code",
   "execution_count": 37,
   "id": "e11e19bc-33d5-4aa4-840d-66279026c1a5",
   "metadata": {},
   "outputs": [
    {
     "data": {
      "text/plain": [
       "ParseResult(scheme='https', netloc='www.youtube.com', path='/watch', params='', query='v=2nFttwwt25c', fragment='')"
      ]
     },
     "execution_count": 37,
     "metadata": {},
     "output_type": "execute_result"
    }
   ],
   "source": [
    "parsedUrl"
   ]
  },
  {
   "cell_type": "code",
   "execution_count": 38,
   "id": "71a8b424-dd51-4ee2-b303-befc4ad76d2e",
   "metadata": {},
   "outputs": [],
   "source": [
    "params = parse_qs(parsedUrl.query)\n",
    "video_file_name = params['v'][0] + \".mp4\"\n",
    "split_audio_file = params['v'][0] + \".wav\"\n",
    "stt_file_name = params['v'][0]\n"
   ]
  },
  {
   "cell_type": "code",
   "execution_count": 39,
   "id": "6fee4aa6-0de7-4fb5-a8b1-59c2302a7b77",
   "metadata": {},
   "outputs": [
    {
     "data": {
      "text/plain": [
       "{'v': ['2nFttwwt25c']}"
      ]
     },
     "execution_count": 39,
     "metadata": {},
     "output_type": "execute_result"
    }
   ],
   "source": [
    "params"
   ]
  },
  {
   "cell_type": "code",
   "execution_count": 40,
   "id": "7cd8c606-bcac-43c6-98c3-d82e2df9f43e",
   "metadata": {},
   "outputs": [],
   "source": [
    "from pytubefix import YouTube\n",
    "from pytubefix.cli import on_progress\n"
   ]
  },
  {
   "cell_type": "code",
   "execution_count": 41,
   "id": "a0698582-d344-4424-9519-ef0d05a23c20",
   "metadata": {},
   "outputs": [],
   "source": [
    "youtube = YouTube(video_url, on_progress_callback=on_progress, use_oauth=True)  # 云上环境\n"
   ]
  },
  {
   "cell_type": "code",
   "execution_count": 42,
   "id": "022eef6c-e182-4722-a8db-dd275985c33f",
   "metadata": {},
   "outputs": [
    {
     "data": {
      "text/plain": [
       "<pytubefix.__main__.YouTube object: videoId=2nFttwwt25c>"
      ]
     },
     "execution_count": 42,
     "metadata": {},
     "output_type": "execute_result"
    }
   ],
   "source": [
    "youtube"
   ]
  },
  {
   "cell_type": "code",
   "execution_count": 43,
   "id": "2584ab9c-c07c-4219-80a0-5f59f64350a1",
   "metadata": {},
   "outputs": [
    {
     "data": {
      "text/plain": [
       "datetime.datetime(2024, 9, 11, 4, 0, 3, tzinfo=datetime.timezone(datetime.timedelta(days=-1, seconds=61200)))"
      ]
     },
     "execution_count": 43,
     "metadata": {},
     "output_type": "execute_result"
    }
   ],
   "source": [
    "youtube.publish_date"
   ]
  },
  {
   "cell_type": "code",
   "execution_count": 44,
   "id": "b18b45cd-b934-425f-bfc6-96fcf1355dd8",
   "metadata": {},
   "outputs": [],
   "source": [
    "video_url = 'https://www.youtube.com/watch?v=2nFttwwt25c'\n",
    "youtube = YouTube(video_url, on_progress_callback=on_progress, use_oauth=True)  # 云上环境"
   ]
  },
  {
   "cell_type": "code",
   "execution_count": 45,
   "id": "e6b9e8b0-e8bc-483d-8503-86bf68b14876",
   "metadata": {},
   "outputs": [
    {
     "name": "stdout",
     "output_type": "stream",
     "text": [
      "Please open https://www.google.com/device and input code DLT-PVC-BRKB\n"
     ]
    },
    {
     "name": "stdin",
     "output_type": "stream",
     "text": [
      "Press enter when you have completed this step. \n"
     ]
    },
    {
     "data": {
      "text/plain": [
       "'新缠美股9.11：重磅数据！重磅特朗普哈里斯交易，比特币能玩吗？尤其个股纷纷背驰，行情是否断崖下跌？能否赌，这其实是一次机遇？具体：QQQ、SOXL、TSLA、NVDA、AMD、MSFT、COIN…'"
      ]
     },
     "execution_count": 45,
     "metadata": {},
     "output_type": "execute_result"
    }
   ],
   "source": [
    "youtube.title"
   ]
  },
  {
   "cell_type": "code",
   "execution_count": 47,
   "id": "f57a1148-211d-4f12-9efd-dadfcbd92cfe",
   "metadata": {},
   "outputs": [
    {
     "data": {
      "text/plain": [
       "datetime.datetime(2024, 9, 11, 4, 0, 3, tzinfo=datetime.timezone(datetime.timedelta(days=-1, seconds=61200)))"
      ]
     },
     "execution_count": 47,
     "metadata": {},
     "output_type": "execute_result"
    }
   ],
   "source": [
    "youtube.publish_date"
   ]
  },
  {
   "cell_type": "code",
   "execution_count": 52,
   "id": "116a2e08-6ab7-429f-a565-c59b64bb457c",
   "metadata": {},
   "outputs": [],
   "source": [
    "import pytubefix"
   ]
  },
  {
   "cell_type": "code",
   "execution_count": 55,
   "id": "8c5aad56-4d6d-419f-9825-e3f875bdd42a",
   "metadata": {},
   "outputs": [
    {
     "data": {
      "text/plain": [
       "<module 'pytubefix' from '/opt/homebrew/lib/python3.10/site-packages/pytubefix/__init__.py'>"
      ]
     },
     "execution_count": 55,
     "metadata": {},
     "output_type": "execute_result"
    }
   ],
   "source": [
    "pytubefix"
   ]
  },
  {
   "cell_type": "code",
   "execution_count": null,
   "id": "0d76405d-f080-4ad5-b23f-5d570327f188",
   "metadata": {},
   "outputs": [],
   "source": []
  }
 ],
 "metadata": {
  "kernelspec": {
   "display_name": "Python 3 (ipykernel)",
   "language": "python",
   "name": "python3"
  },
  "language_info": {
   "codemirror_mode": {
    "name": "ipython",
    "version": 3
   },
   "file_extension": ".py",
   "mimetype": "text/x-python",
   "name": "python",
   "nbconvert_exporter": "python",
   "pygments_lexer": "ipython3",
   "version": "3.10.16"
  }
 },
 "nbformat": 4,
 "nbformat_minor": 5
}
