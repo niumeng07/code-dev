{
 "cells": [
  {
   "cell_type": "code",
   "execution_count": 43,
   "id": "5099d70d-af01-4e3c-88c1-412ec9595b3d",
   "metadata": {},
   "outputs": [
    {
     "name": "stdout",
     "output_type": "stream",
     "text": [
      "新缠美股9.11：重磅数据！重磅特朗普哈里斯交易，比特币能玩吗？尤其个股纷纷背驰，行情是否断崖下跌？能否赌，这其实是一次机遇？具体：QQQ、SOXL、TSLA、NVDA、AMD、MSFT、COIN… 2024-09-11 04:00:03-07:00\n"
     ]
    }
   ],
   "source": [
    "import os\n",
    "from datetime import datetime, timezone, timedelta\n",
    "\n",
    "from pytubefix import YouTube\n",
    "from pytubefix.cli import on_progress\n",
    "\n",
    "video_url = 'https://www.youtube.com/watch?v=2nFttwwt25c'\n",
    "youtube = YouTube(video_url, on_progress_callback=on_progress, use_oauth=True)  # 云上环境\n",
    "\n",
    "print(youtube.title, youtube.publish_date)"
   ]
  },
  {
   "cell_type": "code",
   "execution_count": 44,
   "id": "d3709395-121f-471c-9485-d72f67ad1e03",
   "metadata": {},
   "outputs": [
    {
     "data": {
      "text/plain": [
       "'新缠美股9.11：重磅数据！重磅特朗普哈里斯交易，比特币能玩吗？尤其个股纷纷背驰，行情是否断崖下跌？能否赌，这其实是一次机遇？具体：QQQ、SOXL、TSLA、NVDA、AMD、MSFT、COIN…'"
      ]
     },
     "execution_count": 44,
     "metadata": {},
     "output_type": "execute_result"
    }
   ],
   "source": [
    "youtube.title"
   ]
  },
  {
   "cell_type": "code",
   "execution_count": 45,
   "id": "f37020cd-3644-4925-8c79-cabdf39027e0",
   "metadata": {},
   "outputs": [
    {
     "data": {
      "text/plain": [
       "datetime.datetime(2024, 9, 11, 4, 0, 3, tzinfo=datetime.timezone(datetime.timedelta(days=-1, seconds=61200)))"
      ]
     },
     "execution_count": 45,
     "metadata": {},
     "output_type": "execute_result"
    }
   ],
   "source": [
    "youtube.publish_date"
   ]
  },
  {
   "cell_type": "code",
   "execution_count": null,
   "id": "85329346-d745-4e95-a388-f74d0571c6b5",
   "metadata": {},
   "outputs": [],
   "source": []
  },
  {
   "cell_type": "code",
   "execution_count": null,
   "id": "54a356b9-f123-4766-8092-34e9b7b3bae9",
   "metadata": {},
   "outputs": [],
   "source": []
  },
  {
   "cell_type": "code",
   "execution_count": 47,
   "id": "9cb24d76-6c56-49e2-b289-b3359033efc2",
   "metadata": {},
   "outputs": [
    {
     "name": "stdout",
     "output_type": "stream",
     "text": [
      "2024-09-11\n"
     ]
    }
   ],
   "source": [
    "publish_date = youtube.vid_details['contents']['twoColumnWatchNextResults']['results']['results']['contents'][0]['videoPrimaryInfoRenderer']['dateText']['simpleText']\n",
    "date_obj = datetime.strptime(publish_date, '%b %d, %Y')\n",
    "\n",
    "publish_date_str = date_obj.strftime('%Y-%m-%d')\n",
    "print(publish_date_str)"
   ]
  },
  {
   "cell_type": "code",
   "execution_count": null,
   "id": "5f92d10b-8db1-4e8d-aef8-ad922f5fdb0c",
   "metadata": {},
   "outputs": [],
   "source": []
  },
  {
   "cell_type": "code",
   "execution_count": null,
   "id": "4e68f4c6-1fd3-4232-a7e5-187f8393d6c2",
   "metadata": {},
   "outputs": [],
   "source": []
  }
 ],
 "metadata": {
  "kernelspec": {
   "display_name": "Python 3 (ipykernel)",
   "language": "python",
   "name": "python3"
  },
  "language_info": {
   "codemirror_mode": {
    "name": "ipython",
    "version": 3
   },
   "file_extension": ".py",
   "mimetype": "text/x-python",
   "name": "python",
   "nbconvert_exporter": "python",
   "pygments_lexer": "ipython3",
   "version": "3.10.16"
  }
 },
 "nbformat": 4,
 "nbformat_minor": 5
}
