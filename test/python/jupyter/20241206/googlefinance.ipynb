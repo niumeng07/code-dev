{
 "cells": [
  {
   "cell_type": "code",
   "execution_count": 1,
   "id": "fb7747c3-afeb-4fa8-a807-16e9a8775925",
   "metadata": {},
   "outputs": [],
   "source": [
    "import googlefinance as gf"
   ]
  },
  {
   "cell_type": "code",
   "execution_count": 2,
   "id": "3a25eafc-b83c-472e-a3c6-4fb6e98554eb",
   "metadata": {},
   "outputs": [],
   "source": [
    "from googlefinance import getQuotes"
   ]
  },
  {
   "cell_type": "code",
   "execution_count": 3,
   "id": "251ee519-fe65-48ea-b703-172d48b9d675",
   "metadata": {},
   "outputs": [],
   "source": [
    "import json"
   ]
  },
  {
   "cell_type": "code",
   "execution_count": 6,
   "id": "76e3c2e8-88cc-4782-bed8-56ddf376e4ec",
   "metadata": {},
   "outputs": [
    {
     "ename": "TypeError",
     "evalue": "getQuotes() got an unexpected keyword argument 'proxy'",
     "output_type": "error",
     "traceback": [
      "\u001b[0;31m---------------------------------------------------------------------------\u001b[0m",
      "\u001b[0;31mTypeError\u001b[0m                                 Traceback (most recent call last)",
      "Cell \u001b[0;32mIn[6], line 1\u001b[0m\n\u001b[0;32m----> 1\u001b[0m \u001b[38;5;28mprint\u001b[39m(json\u001b[38;5;241m.\u001b[39mdumps(getQuotes(\u001b[38;5;124m'\u001b[39m\u001b[38;5;124mAAPL\u001b[39m\u001b[38;5;124m'\u001b[39m, proxy\u001b[38;5;241m=\u001b[39m\u001b[38;5;124m'\u001b[39m\u001b[38;5;124mhttp://127.0.0.1:8001\u001b[39m\u001b[38;5;124m'\u001b[39m), indent\u001b[38;5;241m=\u001b[39m\u001b[38;5;241m2\u001b[39m))\n",
      "\u001b[0;31mTypeError\u001b[0m: getQuotes() got an unexpected keyword argument 'proxy'"
     ]
    }
   ],
   "source": [
    "print(json.dumps(getQuotes('AAPL', proxy='http://127.0.0.1:8001'), indent=2))"
   ]
  },
  {
   "cell_type": "code",
   "execution_count": null,
   "id": "1879b475-fbaf-4cd2-91af-622f8590b156",
   "metadata": {},
   "outputs": [],
   "source": []
  },
  {
   "cell_type": "code",
   "execution_count": null,
   "id": "49c0f2c4-10b7-4843-98cc-06bb99735720",
   "metadata": {},
   "outputs": [],
   "source": [
    "print(json.dumps(getQuotes('AAPL', proxy='http://127.0.0.1:8001'), indent=2))"
   ]
  }
 ],
 "metadata": {
  "kernelspec": {
   "display_name": "Python 3 (ipykernel)",
   "language": "python",
   "name": "python3"
  },
  "language_info": {
   "codemirror_mode": {
    "name": "ipython",
    "version": 3
   },
   "file_extension": ".py",
   "mimetype": "text/x-python",
   "name": "python",
   "nbconvert_exporter": "python",
   "pygments_lexer": "ipython3",
   "version": "3.10.15"
  }
 },
 "nbformat": 4,
 "nbformat_minor": 5
}
