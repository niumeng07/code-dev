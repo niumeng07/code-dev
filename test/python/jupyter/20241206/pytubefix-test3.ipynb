{
 "cells": [
  {
   "cell_type": "code",
   "execution_count": 1,
   "id": "9f3931dc-40bc-471f-8564-4a35512a665b",
   "metadata": {},
   "outputs": [
    {
     "name": "stdout",
     "output_type": "stream",
     "text": [
      "短链接: http://short.url/z1PjH9\n"
     ]
    }
   ],
   "source": [
    "import hashlib\n",
    "import base64\n",
    "\n",
    "def generate_short_link(url: str) -> str:\n",
    "    # 计算 URL 的 MD5 哈希值\n",
    "    md5_hash = hashlib.md5(url.encode()).digest()\n",
    "    # 将哈希值编码为 base64，然后截取前 6 个字符作为短链接\n",
    "    short_link = base64.urlsafe_b64encode(md5_hash).decode()[:6]\n",
    "    return f\"http://short.url/{short_link}\"\n",
    "\n",
    "# 示例使用\n",
    "original_url = \"https://www.youtube.com/watch?v=bYe1TcX_DAk\"\n",
    "short_link = generate_short_link(original_url)\n",
    "print(\"短链接:\", short_link)\n"
   ]
  },
  {
   "cell_type": "code",
   "execution_count": 2,
   "id": "259bb58c-8ec7-429b-a929-9b6dc6e098b9",
   "metadata": {},
   "outputs": [],
   "source": [
    "from pytube import YouTube\n",
    "\n",
    "video_url = \"https://youtu.be/EbyjbPJEM6U\"\n",
    "yt = YouTube(video_url)\n",
    "yt.description\n",
    "# yt.title\n",
    "# stream = yt.streams.get_highest_resolution()\n",
    "# stream.download()\n",
    "# print(\"Download completed successfully!\")\n",
    "\n"
   ]
  },
  {
   "cell_type": "code",
   "execution_count": 3,
   "id": "d563d506-ef61-4005-bf69-6d22304219a3",
   "metadata": {},
   "outputs": [
    {
     "data": {
      "text/plain": [
       "'Casual Cruise in an F1 Car!  Forza Horizon 4 Gameplay'"
      ]
     },
     "execution_count": 3,
     "metadata": {},
     "output_type": "execute_result"
    }
   ],
   "source": [
    "from pytubefix import YouTube\n",
    "video_url = \"https://youtu.be/EbyjbPJEM6U\"\n",
    "yt = YouTube(video_url)\n",
    "yt.title\n"
   ]
  },
  {
   "cell_type": "code",
   "execution_count": 4,
   "id": "ba02d14e-cc67-400d-98c0-928d1ff97fc9",
   "metadata": {},
   "outputs": [
    {
     "data": {
      "text/plain": [
       "'Casual Cruise in an F1 Car!  Forza Horizon 4 Gameplay'"
      ]
     },
     "execution_count": 4,
     "metadata": {},
     "output_type": "execute_result"
    }
   ],
   "source": [
    "from pytubefix import YouTube\n",
    "video_url = \"https://youtu.be/EbyjbPJEM6U\"\n",
    "yt = YouTube(video_url)\n",
    "yt.title\n"
   ]
  },
  {
   "cell_type": "code",
   "execution_count": 5,
   "id": "af623581-0ec0-4289-93d8-b01fda4afad1",
   "metadata": {},
   "outputs": [
    {
     "data": {
      "text/plain": [
       "datetime.datetime(2024, 10, 16, 8, 53, 59, tzinfo=datetime.timezone(datetime.timedelta(days=-1, seconds=61200)))"
      ]
     },
     "execution_count": 5,
     "metadata": {},
     "output_type": "execute_result"
    }
   ],
   "source": [
    "yt.publish_date"
   ]
  },
  {
   "cell_type": "code",
   "execution_count": null,
   "id": "c945bcb7-1b2f-4999-ac57-1bc4f6f51ea6",
   "metadata": {},
   "outputs": [],
   "source": []
  },
  {
   "cell_type": "code",
   "execution_count": 6,
   "id": "57e84ad4-cdfa-40ec-bee0-89c2f7c7d0c7",
   "metadata": {},
   "outputs": [
    {
     "name": "stdout",
     "output_type": "stream",
     "text": [
      "05 10 2024\n"
     ]
    }
   ],
   "source": [
    "import re\n",
    "\n",
    "def extract_date(text):\n",
    "    match = re.search(r\"(\\d{2})/(\\d{2})/(\\d{4})\", text)  # Corrected regex\n",
    "    if match:\n",
    "        return match.group(0).split('/')  # Return the entire matched string\n",
    "    else:\n",
    "        return None, None, None\n",
    "\n",
    "text2 = \"Today is 05/10/2024, a nice day.\"\n",
    "month, day, year = extract_date(text2)\n",
    "print(month, day, year)  # Output: 05/10/2024"
   ]
  },
  {
   "cell_type": "code",
   "execution_count": 7,
   "id": "cee50972-7dfa-4786-a49b-c44fcc922663",
   "metadata": {},
   "outputs": [
    {
     "data": {
      "text/plain": [
       "<pytubefix.__main__.YouTube object: videoId=EbyjbPJEM6U>"
      ]
     },
     "execution_count": 7,
     "metadata": {},
     "output_type": "execute_result"
    }
   ],
   "source": [
    "yt"
   ]
  },
  {
   "cell_type": "code",
   "execution_count": 8,
   "id": "ad4e4d5d-7ada-432e-b5c1-7eaa8335eaed",
   "metadata": {},
   "outputs": [],
   "source": [
    "from pytubefix import YouTube\n",
    "from pytubefix.cli import on_progress\n",
    "\n",
    "video_url = \"https://youtu.be/EbyjbPJEM6U\"\n",
    "yt = YouTube(video_url, use_oauth=True)"
   ]
  },
  {
   "cell_type": "code",
   "execution_count": 4,
   "id": "7264021a-4dff-4dbc-9f71-fd9c6cbc97f6",
   "metadata": {},
   "outputs": [
    {
     "data": {
      "text/plain": [
       "[<Stream: itag=\"18\" mime_type=\"video/mp4\" res=\"360p\" fps=\"24fps\" vcodec=\"avc1.42001E\" acodec=\"mp4a.40.2\" progressive=\"True\" type=\"video\">, <Stream: itag=\"137\" mime_type=\"video/mp4\" res=\"1080p\" fps=\"24fps\" vcodec=\"avc1.640028\" progressive=\"False\" type=\"video\">, <Stream: itag=\"248\" mime_type=\"video/webm\" res=\"1080p\" fps=\"24fps\" vcodec=\"vp9\" progressive=\"False\" type=\"video\">, <Stream: itag=\"399\" mime_type=\"video/mp4\" res=\"1080p\" fps=\"24fps\" vcodec=\"av01.0.08M.08\" progressive=\"False\" type=\"video\">, <Stream: itag=\"136\" mime_type=\"video/mp4\" res=\"720p\" fps=\"24fps\" vcodec=\"avc1.4d401f\" progressive=\"False\" type=\"video\">, <Stream: itag=\"247\" mime_type=\"video/webm\" res=\"720p\" fps=\"24fps\" vcodec=\"vp9\" progressive=\"False\" type=\"video\">, <Stream: itag=\"398\" mime_type=\"video/mp4\" res=\"720p\" fps=\"24fps\" vcodec=\"av01.0.05M.08\" progressive=\"False\" type=\"video\">, <Stream: itag=\"135\" mime_type=\"video/mp4\" res=\"480p\" fps=\"24fps\" vcodec=\"avc1.4d401e\" progressive=\"False\" type=\"video\">, <Stream: itag=\"244\" mime_type=\"video/webm\" res=\"480p\" fps=\"24fps\" vcodec=\"vp9\" progressive=\"False\" type=\"video\">, <Stream: itag=\"397\" mime_type=\"video/mp4\" res=\"480p\" fps=\"24fps\" vcodec=\"av01.0.04M.08\" progressive=\"False\" type=\"video\">, <Stream: itag=\"134\" mime_type=\"video/mp4\" res=\"360p\" fps=\"24fps\" vcodec=\"avc1.4d401e\" progressive=\"False\" type=\"video\">, <Stream: itag=\"243\" mime_type=\"video/webm\" res=\"360p\" fps=\"24fps\" vcodec=\"vp9\" progressive=\"False\" type=\"video\">, <Stream: itag=\"396\" mime_type=\"video/mp4\" res=\"360p\" fps=\"24fps\" vcodec=\"av01.0.01M.08\" progressive=\"False\" type=\"video\">, <Stream: itag=\"133\" mime_type=\"video/mp4\" res=\"240p\" fps=\"24fps\" vcodec=\"avc1.4d4015\" progressive=\"False\" type=\"video\">, <Stream: itag=\"242\" mime_type=\"video/webm\" res=\"240p\" fps=\"24fps\" vcodec=\"vp9\" progressive=\"False\" type=\"video\">, <Stream: itag=\"395\" mime_type=\"video/mp4\" res=\"240p\" fps=\"24fps\" vcodec=\"av01.0.00M.08\" progressive=\"False\" type=\"video\">, <Stream: itag=\"160\" mime_type=\"video/mp4\" res=\"144p\" fps=\"24fps\" vcodec=\"avc1.4d400c\" progressive=\"False\" type=\"video\">, <Stream: itag=\"278\" mime_type=\"video/webm\" res=\"144p\" fps=\"24fps\" vcodec=\"vp9\" progressive=\"False\" type=\"video\">, <Stream: itag=\"394\" mime_type=\"video/mp4\" res=\"144p\" fps=\"24fps\" vcodec=\"av01.0.00M.08\" progressive=\"False\" type=\"video\">, <Stream: itag=\"139\" mime_type=\"audio/mp4\" abr=\"48kbps\" acodec=\"mp4a.40.5\" progressive=\"False\" type=\"audio\">, <Stream: itag=\"140\" mime_type=\"audio/mp4\" abr=\"128kbps\" acodec=\"mp4a.40.2\" progressive=\"False\" type=\"audio\">, <Stream: itag=\"249\" mime_type=\"audio/webm\" abr=\"50kbps\" acodec=\"opus\" progressive=\"False\" type=\"audio\">, <Stream: itag=\"250\" mime_type=\"audio/webm\" abr=\"70kbps\" acodec=\"opus\" progressive=\"False\" type=\"audio\">, <Stream: itag=\"251\" mime_type=\"audio/webm\" abr=\"160kbps\" acodec=\"opus\" progressive=\"False\" type=\"audio\">]"
      ]
     },
     "execution_count": 4,
     "metadata": {},
     "output_type": "execute_result"
    }
   ],
   "source": [
    "from pytubefix import YouTube\n",
    "yt = YouTube('http://youtube.com/watch?v=2lAe1cqCOXo')\n",
    "# yt.vid_info\n",
    "yt.streams"
   ]
  },
  {
   "cell_type": "code",
   "execution_count": 2,
   "id": "f6e337db-f854-4453-94ea-a25ecc0b3123",
   "metadata": {},
   "outputs": [],
   "source": [
    "import pandas as pd\n",
    "\n",
    "data = pd.DataFrame({'A': [1,2,None,3]})\n",
    "data['B'] = data['A'] / 10"
   ]
  },
  {
   "cell_type": "code",
   "execution_count": 3,
   "id": "ffcdd016-a64d-4297-bcce-56a29c7088e3",
   "metadata": {},
   "outputs": [
    {
     "data": {
      "text/html": [
       "<div>\n",
       "<style scoped>\n",
       "    .dataframe tbody tr th:only-of-type {\n",
       "        vertical-align: middle;\n",
       "    }\n",
       "\n",
       "    .dataframe tbody tr th {\n",
       "        vertical-align: top;\n",
       "    }\n",
       "\n",
       "    .dataframe thead th {\n",
       "        text-align: right;\n",
       "    }\n",
       "</style>\n",
       "<table border=\"1\" class=\"dataframe\">\n",
       "  <thead>\n",
       "    <tr style=\"text-align: right;\">\n",
       "      <th></th>\n",
       "      <th>A</th>\n",
       "      <th>B</th>\n",
       "    </tr>\n",
       "  </thead>\n",
       "  <tbody>\n",
       "    <tr>\n",
       "      <th>0</th>\n",
       "      <td>1.0</td>\n",
       "      <td>0.1</td>\n",
       "    </tr>\n",
       "    <tr>\n",
       "      <th>1</th>\n",
       "      <td>2.0</td>\n",
       "      <td>0.2</td>\n",
       "    </tr>\n",
       "    <tr>\n",
       "      <th>2</th>\n",
       "      <td>NaN</td>\n",
       "      <td>NaN</td>\n",
       "    </tr>\n",
       "    <tr>\n",
       "      <th>3</th>\n",
       "      <td>3.0</td>\n",
       "      <td>0.3</td>\n",
       "    </tr>\n",
       "  </tbody>\n",
       "</table>\n",
       "</div>"
      ],
      "text/plain": [
       "     A    B\n",
       "0  1.0  0.1\n",
       "1  2.0  0.2\n",
       "2  NaN  NaN\n",
       "3  3.0  0.3"
      ]
     },
     "execution_count": 3,
     "metadata": {},
     "output_type": "execute_result"
    }
   ],
   "source": [
    "data"
   ]
  },
  {
   "cell_type": "code",
   "execution_count": 11,
   "id": "32fb8803-d55e-4d54-aece-0b06dca201d2",
   "metadata": {},
   "outputs": [],
   "source": [
    "data = pd.DataFrame({'A': ['1','2', None,'3']})\n"
   ]
  },
  {
   "cell_type": "code",
   "execution_count": 12,
   "id": "aa10b3cb-72a3-4122-9a69-4fdeadcb9c6f",
   "metadata": {},
   "outputs": [],
   "source": [
    "data['A'] = data['A'].astype(float)"
   ]
  },
  {
   "cell_type": "code",
   "execution_count": 13,
   "id": "452fedda-e5c0-4a26-b5aa-370ef4a3e6f8",
   "metadata": {},
   "outputs": [
    {
     "data": {
      "text/html": [
       "<div>\n",
       "<style scoped>\n",
       "    .dataframe tbody tr th:only-of-type {\n",
       "        vertical-align: middle;\n",
       "    }\n",
       "\n",
       "    .dataframe tbody tr th {\n",
       "        vertical-align: top;\n",
       "    }\n",
       "\n",
       "    .dataframe thead th {\n",
       "        text-align: right;\n",
       "    }\n",
       "</style>\n",
       "<table border=\"1\" class=\"dataframe\">\n",
       "  <thead>\n",
       "    <tr style=\"text-align: right;\">\n",
       "      <th></th>\n",
       "      <th>A</th>\n",
       "    </tr>\n",
       "  </thead>\n",
       "  <tbody>\n",
       "    <tr>\n",
       "      <th>0</th>\n",
       "      <td>1.0</td>\n",
       "    </tr>\n",
       "    <tr>\n",
       "      <th>1</th>\n",
       "      <td>2.0</td>\n",
       "    </tr>\n",
       "    <tr>\n",
       "      <th>2</th>\n",
       "      <td>NaN</td>\n",
       "    </tr>\n",
       "    <tr>\n",
       "      <th>3</th>\n",
       "      <td>3.0</td>\n",
       "    </tr>\n",
       "  </tbody>\n",
       "</table>\n",
       "</div>"
      ],
      "text/plain": [
       "     A\n",
       "0  1.0\n",
       "1  2.0\n",
       "2  NaN\n",
       "3  3.0"
      ]
     },
     "execution_count": 13,
     "metadata": {},
     "output_type": "execute_result"
    }
   ],
   "source": [
    "data"
   ]
  },
  {
   "cell_type": "code",
   "execution_count": null,
   "id": "96e855e8-b4cb-4695-b7b7-c310803347b8",
   "metadata": {},
   "outputs": [],
   "source": []
  }
 ],
 "metadata": {
  "kernelspec": {
   "display_name": "Python 3 (ipykernel)",
   "language": "python",
   "name": "python3"
  },
  "language_info": {
   "codemirror_mode": {
    "name": "ipython",
    "version": 3
   },
   "file_extension": ".py",
   "mimetype": "text/x-python",
   "name": "python",
   "nbconvert_exporter": "python",
   "pygments_lexer": "ipython3",
   "version": "3.10.15"
  }
 },
 "nbformat": 4,
 "nbformat_minor": 5
}
