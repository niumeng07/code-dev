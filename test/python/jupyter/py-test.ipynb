{
 "cells": [
  {
   "cell_type": "code",
   "execution_count": null,
   "metadata": {},
   "outputs": [],
   "source": [
    "xxx = \"\"\"You are a stock analyst.\n",
    "The content inside <<< >>> includes multiple Reddit posts, each post consisting of:\n",
    "1. A title: Enclosed between [title] and [title-end]\n",
    "2. A text (body): Enclosed between [text] and [text-end]\n",
    "Each post block is wrapped by [post-idx}] and [post-idx-end], where idx is a unique identifier (e.g. 0, 1, 2...)\n",
    "\n",
    "Your tasks:\n",
    "1. Evaluate Content Quality of Every Reddit Post\n",
    "Assess each Reddit post based on the following criteria:\n",
    "- Relevance to Stock Performance: Does it directly relate to stock performance, market trends, or company fundamentals?\n",
    "- Evidence & Proof: Does it use strong supporting evidence (e.g. financial data, historical performance, credible sources)?\n",
    "- Logic & Reasoning: Is the argument well-structured and logically sound?\n",
    "\n",
    "Score each aspect from 0 to 10:\n",
    "- \"RelevanceScore\"\n",
    "- \"EvidenceScore\"\n",
    "- \"LogicScore\"\n",
    "Also assign an overall quality score, \"QualityScore\", based on overall clarity, reasoning, relevance, and support. (Range: 0-10)\n",
    "\n",
    "2. Rate Future Stock Trend Prediction of Every Reddit Post\n",
    "- Extract the author's prediction regarding any mentioned stock's future trend.\n",
    "- Assign a \"Score\" (0 to 10):\n",
    " 0 = Clearly bearish\n",
    " 10 = Clearly bullish\n",
    " 3 < Score < 7 = Neutral\n",
    "3. Determine the \"Trend\" based on the Score:\n",
    " Score ≥ 7 → \"Long\"\n",
    " Score ≤ 3 → \"Short\"\n",
    " 3 < Score < 7 → \"Neutral\"\n",
    "\n",
    "4. Extract Theoretical Basis\n",
    " - Identify the reasoning behind the prediction, including historical analysis or future outlook.\n",
    " - Store this in \"Reason\".\n",
    "5. Identify Stock Information\n",
    " - Extract the stock's ticker symbol (e.g., AMZN) → \"Ticker\"\n",
    " - Extract the full company name (e.g., Amazon) → \"Symbol\"\n",
    "\n",
    "Important Notes:\n",
    "1. If multiple stocks are mentioned, provide an individual entry for each.\n",
    "2. Trend and Score should be based only on the future prediction, while the Reason can include both historical and future perspectives.\n",
    "3. Ensure stock symbols are accurate (e.g., NVIDIA = NVDA, Netflix = NFLX, Amazon = AMZN).\n",
    "4. If no stock is mentioned, return a default output indicating no stock information was found.\n",
    "5. Do not include any extra data in the output.\n",
    "6. Strictly follow the JSON output format below.\n",
    "\n",
    "Output Format\n",
    "You must return a list, where each element corresponds to a single Reddit post evaluation in the following format:\n",
    "[\n",
    "  {{\n",
    "    \"QualityScore\": 9,\n",
    "    \"LogicScore\": 8,\n",
    "    \"RelevanceScore\": 9,\n",
    "    \"EvidenceScore\": 7,\n",
    "    \"Results\": [\n",
    "      {{\n",
    "        \"Ticker\": \"AAPL\",\n",
    "        \"Symbol\": \"Apple\",\n",
    "        \"Score\": 8,\n",
    "        \"Trend\": \"Long\",\n",
    "        \"Reason\": \"Strong quarterly earnings and growth in services segment\"\n",
    "      }}\n",
    "    ]\n",
    "  },}\n",
    "  {{\n",
    "    \"QualityScore\": 0,\n",
    "    \"LogicScore\": 1,\n",
    "    \"RelevanceScore\": 3,\n",
    "    \"EvidenceScore\": 2,\n",
    "    \"Results\": [\n",
    "      {{\n",
    "        \"Ticker\": \"None\"\n",
    "      }}\n",
    "    ]\n",
    "  }}\n",
    "]\n",
    "Following is input text:\n",
    "<<<{text}>>>\n",
    "\"\"\""
   ]
  },
  {
   "cell_type": "code",
   "execution_count": 18,
   "metadata": {},
   "outputs": [
    {
     "ename": "ValueError",
     "evalue": "Single '}' encountered in format string",
     "output_type": "error",
     "traceback": [
      "\u001b[0;31m---------------------------------------------------------------------------\u001b[0m",
      "\u001b[0;31mValueError\u001b[0m                                Traceback (most recent call last)",
      "Cell \u001b[0;32mIn[18], line 1\u001b[0m\n\u001b[0;32m----> 1\u001b[0m xxx\u001b[38;5;241m.\u001b[39mformat(text\u001b[38;5;241m=\u001b[39m\u001b[38;5;124m'\u001b[39m\u001b[38;5;124mabc\u001b[39m\u001b[38;5;124m'\u001b[39m)\n",
      "\u001b[0;31mValueError\u001b[0m: Single '}' encountered in format string"
     ]
    }
   ],
   "source": [
    "xxx.format(text='abc')"
   ]
  },
  {
   "cell_type": "code",
   "execution_count": null,
   "metadata": {},
   "outputs": [],
   "source": []
  }
 ],
 "metadata": {
  "kernelspec": {
   "display_name": "Python 3",
   "language": "python",
   "name": "python3"
  },
  "language_info": {
   "codemirror_mode": {
    "name": "ipython",
    "version": 3
   },
   "file_extension": ".py",
   "mimetype": "text/x-python",
   "name": "python",
   "nbconvert_exporter": "python",
   "pygments_lexer": "ipython3",
   "version": "3.10.16"
  }
 },
 "nbformat": 4,
 "nbformat_minor": 2
}
