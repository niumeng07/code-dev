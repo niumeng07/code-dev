{
 "cells": [
  {
   "cell_type": "code",
   "execution_count": 1,
   "id": "1b219444-8d0b-4d5c-a49b-abf54b74511a",
   "metadata": {},
   "outputs": [],
   "source": [
    "import re"
   ]
  },
  {
   "cell_type": "code",
   "execution_count": 10,
   "id": "8d10bbed-3c31-43af-bd7d-2f61f5ae36f1",
   "metadata": {},
   "outputs": [],
   "source": [
    "s = \"full_isin_chartXX_data_2_range[\\\"XLY\\\"][240] = [[Date.UTC(2015, 1, 1),12.797154\""
   ]
  },
  {
   "cell_type": "code",
   "execution_count": 11,
   "id": "60105067-c4ed-4352-8f68-23345229b5e0",
   "metadata": {},
   "outputs": [],
   "source": [
    "rule2 = r'full_isin_chart_data_(avg|range|2_range)\\[\"[A-Z]+\"\\]\\[\\d+\\] ='"
   ]
  },
  {
   "cell_type": "code",
   "execution_count": 13,
   "id": "3f177db5-9a57-4d1d-b224-b83af59fa84f",
   "metadata": {},
   "outputs": [],
   "source": [
    "if re.search(rule2, s):\n",
    "    print('search OK')\n",
    "    re_result = re.match(rule2, s)\n",
    "    print(re_result.group())"
   ]
  },
  {
   "cell_type": "code",
   "execution_count": 16,
   "id": "5b6379b9-fc16-4235-8d98-b5f0fc9e943d",
   "metadata": {},
   "outputs": [],
   "source": [
    "s = \"\\nfull_isin_chart_data[\\\"SPY\\\"] = [[Date.UTC(1995, 0, 1),12.3160],[Date.UTC(1995, 1, 1),12.3160],[Date.UTC(1995, 2, 1),12.6031],[Date.UTC(1995, 3, 1),12.6031],[Date.UTC(1995, 4, 1),12.8775],[Date.UTC(199\""
   ]
  },
  {
   "cell_type": "code",
   "execution_count": 17,
   "id": "b443e40c-42aa-42cf-aa89-1cb2271e2206",
   "metadata": {},
   "outputs": [
    {
     "data": {
      "text/plain": [
       "'\\nfull_isin_chart_data[\"SPY\"] = [[Date.UTC(1995, 0, 1),12.3160],[Date.UTC(1995, 1, 1),12.3160],[Date.UTC(1995, 2, 1),12.6031],[Date.UTC(1995, 3, 1),12.6031],[Date.UTC(1995, 4, 1),12.8775],[Date.UTC(199'"
      ]
     },
     "execution_count": 17,
     "metadata": {},
     "output_type": "execute_result"
    }
   ],
   "source": [
    "s"
   ]
  },
  {
   "cell_type": "code",
   "execution_count": 18,
   "id": "98b48ceb-51ac-4d13-9058-bd53861b761e",
   "metadata": {},
   "outputs": [],
   "source": [
    "rule1 = r'full_isin_chart_data\\[\"[A-Z]+\"\\] ='"
   ]
  },
  {
   "cell_type": "code",
   "execution_count": 19,
   "id": "e061dab2-c42a-401e-9120-535b91fe1891",
   "metadata": {},
   "outputs": [
    {
     "data": {
      "text/plain": [
       "<re.Match object; span=(1, 30), match='full_isin_chart_data[\"SPY\"] ='>"
      ]
     },
     "execution_count": 19,
     "metadata": {},
     "output_type": "execute_result"
    }
   ],
   "source": [
    "re.search(rule1, s)"
   ]
  },
  {
   "cell_type": "code",
   "execution_count": 21,
   "id": "c444c70a-346a-435c-931c-64dd3d74f40c",
   "metadata": {},
   "outputs": [
    {
     "name": "stdout",
     "output_type": "stream",
     "text": [
      "================\n",
      "full_isin_chart_data[\"SPY\"] =\n"
     ]
    }
   ],
   "source": [
    "if re.search(rule1, s):\n",
    "    print('================')\n",
    "    re_result = re.search(rule1, s)\n",
    "    print(re_result.group())"
   ]
  },
  {
   "cell_type": "code",
   "execution_count": null,
   "id": "e88089d0-2e1a-4bea-91b4-ca442be4aae0",
   "metadata": {},
   "outputs": [],
   "source": []
  }
 ],
 "metadata": {
  "kernelspec": {
   "display_name": "Python 3 (ipykernel)",
   "language": "python",
   "name": "python3"
  },
  "language_info": {
   "codemirror_mode": {
    "name": "ipython",
    "version": 3
   },
   "file_extension": ".py",
   "mimetype": "text/x-python",
   "name": "python",
   "nbconvert_exporter": "python",
   "pygments_lexer": "ipython3",
   "version": "3.10.16"
  }
 },
 "nbformat": 4,
 "nbformat_minor": 5
}
