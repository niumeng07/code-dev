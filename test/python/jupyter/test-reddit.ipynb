{
 "cells": [
  {
   "cell_type": "code",
   "execution_count": 1,
   "metadata": {},
   "outputs": [],
   "source": [
    "import pandas as pd"
   ]
  },
  {
   "cell_type": "code",
   "execution_count": 2,
   "metadata": {},
   "outputs": [],
   "source": [
    "df = pd.read_csv('/Users/liuda/Local/data/trading/data/download/community/reddit/20250326/community_reddit.csv')"
   ]
  },
  {
   "cell_type": "code",
   "execution_count": 9,
   "metadata": {},
   "outputs": [
    {
     "data": {
      "text/plain": [
       "Index(['id', 'author_id', 'platform_id', 'publish_time', 'ticker_id', 'trend',\n",
       "       'sentiment_score', 'reason', 'quality_score', 'logic_score',\n",
       "       'relevance_score', 'evidence_score', 'quailty_score_v2', 'title',\n",
       "       'selftext', 'url', 'comment', 'created_utc', 'clicked', 'num_comments',\n",
       "       'score', 'upvote_ratio', 'link_flair_text', 'hotness', 'reddit_type',\n",
       "       'avg_sentiment_score', 'bull_count', 'bear_count', 'all_count',\n",
       "       'overall_sentiment_score'],\n",
       "      dtype='object')"
      ]
     },
     "execution_count": 9,
     "metadata": {},
     "output_type": "execute_result"
    }
   ],
   "source": [
    "df.columns"
   ]
  },
  {
   "cell_type": "code",
   "execution_count": 11,
   "metadata": {},
   "outputs": [],
   "source": [
    "import base64\n",
    "def base64_decode_str(encoded_str):\n",
    "    try:\n",
    "        byte_representation = encoded_str.encode('utf-8')\n",
    "        decoded_bytes = base64.b64decode(byte_representation)\n",
    "        decoded_str = decoded_bytes.decode('utf-8')\n",
    "        return decoded_str\n",
    "    except Exception as e:\n",
    "        return encoded_str"
   ]
  },
  {
   "cell_type": "code",
   "execution_count": 12,
   "metadata": {},
   "outputs": [],
   "source": [
    "df['selftext'] = df['selftext'].apply(base64_decode_str)\n",
    "df['comment'] = df['comment'].apply(base64_decode_str)"
   ]
  },
  {
   "cell_type": "code",
   "execution_count": 14,
   "metadata": {},
   "outputs": [],
   "source": [
    "df[['id', 'author_id', 'platform_id', 'ticker_id', 'trend', 'sentiment_score', 'logic_score',\n",
    "     'relevance_score', 'evidence_score' , 'quality_score', 'quailty_score_v2', 'reason', 'title',\n",
    "     'selftext']].to_csv(\"/Users/liuda/Desktop/community_debug.csv\", sep=',', index=False, encoding='utf-8')"
   ]
  },
  {
   "cell_type": "code",
   "execution_count": null,
   "metadata": {},
   "outputs": [],
   "source": []
  }
 ],
 "metadata": {
  "kernelspec": {
   "display_name": "Python 3",
   "language": "python",
   "name": "python3"
  },
  "language_info": {
   "codemirror_mode": {
    "name": "ipython",
    "version": 3
   },
   "file_extension": ".py",
   "mimetype": "text/x-python",
   "name": "python",
   "nbconvert_exporter": "python",
   "pygments_lexer": "ipython3",
   "version": "3.10.16"
  }
 },
 "nbformat": 4,
 "nbformat_minor": 2
}
