{
 "cells": [
  {
   "cell_type": "code",
   "execution_count": 1,
   "metadata": {},
   "outputs": [],
   "source": [
    "import pandas as pd"
   ]
  },
  {
   "cell_type": "code",
   "execution_count": 2,
   "metadata": {},
   "outputs": [],
   "source": [
    "df = pd.DataFrame({})"
   ]
  },
  {
   "cell_type": "code",
   "execution_count": 6,
   "metadata": {},
   "outputs": [],
   "source": [
    "import glob\n",
    "import os"
   ]
  },
  {
   "cell_type": "code",
   "execution_count": 8,
   "metadata": {},
   "outputs": [],
   "source": [
    "files = glob.glob(\"/Users/liuda/Desktop/xxx/*.csv\")\n",
    "frames = []\n",
    "for file_path in files:\n",
    "\tif os.path.getsize(file_path) < 100:\n",
    "\t\tcontinue\n",
    "\tdf_curr = pd.read_csv(file_path)\n",
    "\tframes.append(df_curr)\n",
    "\n",
    "merged_df = pd.concat(frames, ignore_index=True)"
   ]
  },
  {
   "cell_type": "code",
   "execution_count": 14,
   "metadata": {},
   "outputs": [],
   "source": [
    "import base64\n",
    "def base64_decode_str(encoded_str):\n",
    "    if not isinstance(encoded_str, str):\n",
    "        return \"\"\n",
    "    byte_representation = encoded_str.encode('utf-8')\n",
    "    decoded_bytes = base64.b64decode(byte_representation)\n",
    "    decoded_str = decoded_bytes.decode('utf-8')\n",
    "    return decoded_str\n",
    "# merged_df['selftext']\n",
    "merged_df['selftext'] = merged_df['selftext'].apply(base64_decode_str)\n",
    "merged_df['comment'] = merged_df['comment'].apply(base64_decode_str)"
   ]
  },
  {
   "cell_type": "code",
   "execution_count": 18,
   "metadata": {},
   "outputs": [],
   "source": [
    "merged_df[['id', 'title', 'selftext', 'comment', 'sentiment_score', 'quality_score', 'logic_score', 'relevance_score', 'evidence_score', 'ticker_id', 'trend']].to_csv('/Users/liuda/Desktop/xxx/merged.csv', index=False)"
   ]
  },
  {
   "cell_type": "code",
   "execution_count": null,
   "metadata": {},
   "outputs": [],
   "source": []
  }
 ],
 "metadata": {
  "kernelspec": {
   "display_name": "Python 3",
   "language": "python",
   "name": "python3"
  },
  "language_info": {
   "codemirror_mode": {
    "name": "ipython",
    "version": 3
   },
   "file_extension": ".py",
   "mimetype": "text/x-python",
   "name": "python",
   "nbconvert_exporter": "python",
   "pygments_lexer": "ipython3",
   "version": "3.10.16"
  }
 },
 "nbformat": 4,
 "nbformat_minor": 2
}
