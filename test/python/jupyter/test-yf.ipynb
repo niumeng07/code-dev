{
 "cells": [
  {
   "cell_type": "code",
   "execution_count": 3,
   "id": "c7f8224e-5081-4842-abde-f121bc13a89d",
   "metadata": {},
   "outputs": [],
   "source": [
    "import talib\n",
    "import pandas as pd"
   ]
  },
  {
   "cell_type": "code",
   "execution_count": 51,
   "id": "895cabf2-a357-402d-a1e9-4e09cb55087b",
   "metadata": {},
   "outputs": [],
   "source": [
    "ticker_data = pd.read_csv('/Users/liuda/Local/data/finance/stocks/ticker/history/AMZN.csv')"
   ]
  },
  {
   "cell_type": "code",
   "execution_count": 52,
   "id": "39cc371a-3678-4eee-aa1e-2d13adc8e930",
   "metadata": {},
   "outputs": [],
   "source": [
    "ticker_data['Adj High'] = ticker_data['High'] + ticker_data['Adj Close'] - ticker_data['Close']\n",
    "ticker_data['Adj Low'] = ticker_data['Low'] + ticker_data['Adj Close'] - ticker_data['Close']\n",
    "ticker_data['Adj Open'] = ticker_data['Open'] + ticker_data['Adj Close'] - ticker_data['Close']\n"
   ]
  },
  {
   "cell_type": "code",
   "execution_count": 53,
   "id": "ebe1ad28-9740-4bb5-ba7b-ca049feb9006",
   "metadata": {},
   "outputs": [],
   "source": [
    "ticker_data = ticker_data.sort_values(by=\"Date\").reset_index(drop=True)\n",
    "ticker_data['qt'] = ticker_data['Date'].apply(pd.to_datetime).dt.to_period('Q').astype(str).str.replace('Q', 'q')\n"
   ]
  },
  {
   "cell_type": "code",
   "execution_count": 55,
   "id": "9352498b-6c0a-4764-aabd-c69603bdeefa",
   "metadata": {},
   "outputs": [],
   "source": [
    "ticker_data = ticker_data.sort_values(by='Date').reset_index(drop=True)\n"
   ]
  },
  {
   "cell_type": "code",
   "execution_count": 56,
   "id": "4b4b9f4a-e4e3-4f87-95b5-77cf2742125f",
   "metadata": {},
   "outputs": [],
   "source": [
    "ticker_data['DateIndex'] = pd.to_datetime(ticker_data['Date'])\n"
   ]
  },
  {
   "cell_type": "code",
   "execution_count": 58,
   "id": "82a2c27f-83d0-4aaa-a57c-e873cbdb9a33",
   "metadata": {},
   "outputs": [],
   "source": [
    "ticker_data['atr'] = talib.ATR(ticker_data['Adj High'], ticker_data['Adj Low'], ticker_data['Adj Close'], timeperiod=14)\n"
   ]
  },
  {
   "cell_type": "code",
   "execution_count": 60,
   "id": "fbd60ba7-91c9-4c48-b453-4946091cee15",
   "metadata": {},
   "outputs": [],
   "source": [
    "indicators = [\n",
    "    (talib.EMA, \"EMA_13_day\", 13),\n",
    "    (talib.EMA, \"EMA_21_day\", 20),\n",
    "    (talib.EMA, \"EMA_144_day\", 144),\n",
    "    (talib.EMA, \"EMA_169_day\", 169),\n",
    "    (talib.SMA, \"SMA_5_day\", 5),\n",
    "    (talib.SMA, \"SMA_10_day\", 10),\n",
    "    (talib.SMA, \"SMA_20_day\", 20),\n",
    "    (talib.SMA, \"SMA_50_day\", 50),\n",
    "    (talib.SMA, \"SMA_100_day\", 100),\n",
    "]\n",
    "                                                                          \n",
    "                                                                          \n",
    "for func, name, period in indicators:\n",
    "    ticker_data[name] = func(ticker_data['Adj Close'], timeperiod=period)\n"
   ]
  },
  {
   "cell_type": "code",
   "execution_count": 62,
   "id": "a6614ed0-db71-4aae-8653-8d9dd996d403",
   "metadata": {},
   "outputs": [],
   "source": [
    "resample_rules = [(\"W\", \"weekly\"), (\"ME\", \"monthly\")]\n",
    "                                                      \n",
    "ticker_data.set_index('DateIndex', inplace=True)\n"
   ]
  },
  {
   "cell_type": "code",
   "execution_count": 67,
   "id": "e0420aa7-84db-4817-8c8c-7cbd156d3c77",
   "metadata": {},
   "outputs": [],
   "source": [
    "ticker_data_fill_30_day = ticker_data.copy(deep=True)\n",
    "future_dates = pd.date_range(start=ticker_data_fill_30_day.index[-1] + pd.Timedelta(days=1), periods=30)\n",
    "ticker_data_fill_30_day = ticker_data_fill_30_day.reindex(ticker_data_fill_30_day.index.union(future_dates))\n",
    "ticker_data_fill_30_day = ticker_data_fill_30_day.ffill()"
   ]
  },
  {
   "cell_type": "code",
   "execution_count": 72,
   "id": "73723a46-c6b6-42f5-a4dc-a1faab780439",
   "metadata": {},
   "outputs": [
    {
     "ename": "KeyError",
     "evalue": "\"['Direct_SMA_20_weekly', 'Direct_SMA_50_weekly'] not in index\"",
     "output_type": "error",
     "traceback": [
      "\u001b[0;31m---------------------------------------------------------------------------\u001b[0m",
      "\u001b[0;31mKeyError\u001b[0m                                  Traceback (most recent call last)",
      "Cell \u001b[0;32mIn[72], line 31\u001b[0m\n\u001b[1;32m     29\u001b[0m cols \u001b[38;5;241m=\u001b[39m [item[\u001b[38;5;241m1\u001b[39m] \u001b[38;5;28;01mfor\u001b[39;00m item \u001b[38;5;129;01min\u001b[39;00m resampled_indicators] \u001b[38;5;241m+\u001b[39m [\u001b[38;5;124mf\u001b[39m\u001b[38;5;124m\"\u001b[39m\u001b[38;5;124mDirect_\u001b[39m\u001b[38;5;132;01m{\u001b[39;00mitem[\u001b[38;5;241m1\u001b[39m]\u001b[38;5;132;01m}\u001b[39;00m\u001b[38;5;124m\"\u001b[39m \u001b[38;5;28;01mfor\u001b[39;00m item \u001b[38;5;129;01min\u001b[39;00m resampled_indicators]\n\u001b[1;32m     30\u001b[0m cols\u001b[38;5;241m.\u001b[39mappend(\u001b[38;5;124m'\u001b[39m\u001b[38;5;124mDate\u001b[39m\u001b[38;5;124m'\u001b[39m)\n\u001b[0;32m---> 31\u001b[0m ticker_data \u001b[38;5;241m=\u001b[39m ticker_data\u001b[38;5;241m.\u001b[39mmerge(resampled_data[cols], on\u001b[38;5;241m=\u001b[39m\u001b[38;5;124m'\u001b[39m\u001b[38;5;124mDate\u001b[39m\u001b[38;5;124m'\u001b[39m, how\u001b[38;5;241m=\u001b[39m\u001b[38;5;124m'\u001b[39m\u001b[38;5;124mouter\u001b[39m\u001b[38;5;124m'\u001b[39m, suffixes\u001b[38;5;241m=\u001b[39m(\u001b[38;5;124m'\u001b[39m\u001b[38;5;124m'\u001b[39m, \u001b[38;5;124m'\u001b[39m\u001b[38;5;124m_y\u001b[39m\u001b[38;5;124m'\u001b[39m))\n",
      "File \u001b[0;32m/opt/homebrew/lib/python3.10/site-packages/pandas/core/frame.py:4108\u001b[0m, in \u001b[0;36mDataFrame.__getitem__\u001b[0;34m(self, key)\u001b[0m\n\u001b[1;32m   4106\u001b[0m     \u001b[38;5;28;01mif\u001b[39;00m is_iterator(key):\n\u001b[1;32m   4107\u001b[0m         key \u001b[38;5;241m=\u001b[39m \u001b[38;5;28mlist\u001b[39m(key)\n\u001b[0;32m-> 4108\u001b[0m     indexer \u001b[38;5;241m=\u001b[39m \u001b[38;5;28;43mself\u001b[39;49m\u001b[38;5;241;43m.\u001b[39;49m\u001b[43mcolumns\u001b[49m\u001b[38;5;241;43m.\u001b[39;49m\u001b[43m_get_indexer_strict\u001b[49m\u001b[43m(\u001b[49m\u001b[43mkey\u001b[49m\u001b[43m,\u001b[49m\u001b[43m \u001b[49m\u001b[38;5;124;43m\"\u001b[39;49m\u001b[38;5;124;43mcolumns\u001b[39;49m\u001b[38;5;124;43m\"\u001b[39;49m\u001b[43m)\u001b[49m[\u001b[38;5;241m1\u001b[39m]\n\u001b[1;32m   4110\u001b[0m \u001b[38;5;66;03m# take() does not accept boolean indexers\u001b[39;00m\n\u001b[1;32m   4111\u001b[0m \u001b[38;5;28;01mif\u001b[39;00m \u001b[38;5;28mgetattr\u001b[39m(indexer, \u001b[38;5;124m\"\u001b[39m\u001b[38;5;124mdtype\u001b[39m\u001b[38;5;124m\"\u001b[39m, \u001b[38;5;28;01mNone\u001b[39;00m) \u001b[38;5;241m==\u001b[39m \u001b[38;5;28mbool\u001b[39m:\n",
      "File \u001b[0;32m/opt/homebrew/lib/python3.10/site-packages/pandas/core/indexes/base.py:6200\u001b[0m, in \u001b[0;36mIndex._get_indexer_strict\u001b[0;34m(self, key, axis_name)\u001b[0m\n\u001b[1;32m   6197\u001b[0m \u001b[38;5;28;01melse\u001b[39;00m:\n\u001b[1;32m   6198\u001b[0m     keyarr, indexer, new_indexer \u001b[38;5;241m=\u001b[39m \u001b[38;5;28mself\u001b[39m\u001b[38;5;241m.\u001b[39m_reindex_non_unique(keyarr)\n\u001b[0;32m-> 6200\u001b[0m \u001b[38;5;28;43mself\u001b[39;49m\u001b[38;5;241;43m.\u001b[39;49m\u001b[43m_raise_if_missing\u001b[49m\u001b[43m(\u001b[49m\u001b[43mkeyarr\u001b[49m\u001b[43m,\u001b[49m\u001b[43m \u001b[49m\u001b[43mindexer\u001b[49m\u001b[43m,\u001b[49m\u001b[43m \u001b[49m\u001b[43maxis_name\u001b[49m\u001b[43m)\u001b[49m\n\u001b[1;32m   6202\u001b[0m keyarr \u001b[38;5;241m=\u001b[39m \u001b[38;5;28mself\u001b[39m\u001b[38;5;241m.\u001b[39mtake(indexer)\n\u001b[1;32m   6203\u001b[0m \u001b[38;5;28;01mif\u001b[39;00m \u001b[38;5;28misinstance\u001b[39m(key, Index):\n\u001b[1;32m   6204\u001b[0m     \u001b[38;5;66;03m# GH 42790 - Preserve name from an Index\u001b[39;00m\n",
      "File \u001b[0;32m/opt/homebrew/lib/python3.10/site-packages/pandas/core/indexes/base.py:6252\u001b[0m, in \u001b[0;36mIndex._raise_if_missing\u001b[0;34m(self, key, indexer, axis_name)\u001b[0m\n\u001b[1;32m   6249\u001b[0m     \u001b[38;5;28;01mraise\u001b[39;00m \u001b[38;5;167;01mKeyError\u001b[39;00m(\u001b[38;5;124mf\u001b[39m\u001b[38;5;124m\"\u001b[39m\u001b[38;5;124mNone of [\u001b[39m\u001b[38;5;132;01m{\u001b[39;00mkey\u001b[38;5;132;01m}\u001b[39;00m\u001b[38;5;124m] are in the [\u001b[39m\u001b[38;5;132;01m{\u001b[39;00maxis_name\u001b[38;5;132;01m}\u001b[39;00m\u001b[38;5;124m]\u001b[39m\u001b[38;5;124m\"\u001b[39m)\n\u001b[1;32m   6251\u001b[0m not_found \u001b[38;5;241m=\u001b[39m \u001b[38;5;28mlist\u001b[39m(ensure_index(key)[missing_mask\u001b[38;5;241m.\u001b[39mnonzero()[\u001b[38;5;241m0\u001b[39m]]\u001b[38;5;241m.\u001b[39munique())\n\u001b[0;32m-> 6252\u001b[0m \u001b[38;5;28;01mraise\u001b[39;00m \u001b[38;5;167;01mKeyError\u001b[39;00m(\u001b[38;5;124mf\u001b[39m\u001b[38;5;124m\"\u001b[39m\u001b[38;5;132;01m{\u001b[39;00mnot_found\u001b[38;5;132;01m}\u001b[39;00m\u001b[38;5;124m not in index\u001b[39m\u001b[38;5;124m\"\u001b[39m)\n",
      "\u001b[0;31mKeyError\u001b[0m: \"['Direct_SMA_20_weekly', 'Direct_SMA_50_weekly'] not in index\""
     ]
    }
   ],
   "source": [
    "for rule, label in resample_rules:\n",
    "    resampled_data = ticker_data_fill_30_day.resample(   # 从fill 30 day 采样，避免尾部值缺失\n",
    "        rule, label=\"left\", offset=\"1D\"\n",
    "    ).agg(\n",
    "        {\n",
    "            \"Date\": \"first\",\n",
    "            \"Open\": \"first\",\n",
    "            \"High\": \"max\",\n",
    "            \"Low\": \"min\",\n",
    "            \"Adj High\": \"max\",\n",
    "            \"Adj Open\": \"first\",\n",
    "            \"Adj Low\": \"min\",\n",
    "            \"Adj Close\": \"last\",\n",
    "            \"Volume\": \"sum\",\n",
    "        }\n",
    "    )\n",
    "                                                                                                               \n",
    "    resampled_indicators = [\n",
    "        (talib.SMA, f\"SMA_20_{label}\", 20),\n",
    "        (talib.SMA, f\"SMA_50_{label}\", 50),\n",
    "    ]\n",
    "    for func, name, period in resampled_indicators:\n",
    "        resampled_data[name] = func(resampled_data[\"Adj Close\"], timeperiod=period)\n",
    "        # resampled_data = strategy_utils.cal_direction(resampled_data, name, f\"Direct_{name}\")\n",
    "                                                                                                               \n",
    "    # 方便采样，按day补齐\n",
    "    resampled_data = resampled_data.resample(\"D\").ffill()\n",
    "                                                                                                               \n",
    "    cols = [item[1] for item in resampled_indicators] + [f\"Direct_{item[1]}\" for item in resampled_indicators]\n",
    "    cols.append('Date')\n",
    "    ticker_data = ticker_data.merge(resampled_data[cols], on='Date', how='outer', suffixes=('', '_y'))"
   ]
  },
  {
   "cell_type": "code",
   "execution_count": 69,
   "id": "d85da97f-9cef-48e6-8046-1c7fa3b9d91e",
   "metadata": {},
   "outputs": [
    {
     "name": "stdout",
     "output_type": "stream",
     "text": [
      "<class 'pandas.core.frame.DataFrame'>\n",
      "DatetimeIndex: 3770 entries, 2010-01-19 to 2025-01-10\n",
      "Data columns (total 21 columns):\n",
      " #   Column       Non-Null Count  Dtype  \n",
      "---  ------       --------------  -----  \n",
      " 0   Date         3770 non-null   object \n",
      " 1   Open         3770 non-null   float64\n",
      " 2   High         3770 non-null   float64\n",
      " 3   Low          3770 non-null   float64\n",
      " 4   Close        3770 non-null   float64\n",
      " 5   Adj Close    3770 non-null   float64\n",
      " 6   Volume       3770 non-null   int64  \n",
      " 7   Adj High     3770 non-null   float64\n",
      " 8   Adj Low      3770 non-null   float64\n",
      " 9   Adj Open     3770 non-null   float64\n",
      " 10  qt           3770 non-null   object \n",
      " 11  atr          3756 non-null   float64\n",
      " 12  EMA_13_day   3758 non-null   float64\n",
      " 13  EMA_21_day   3751 non-null   float64\n",
      " 14  EMA_144_day  3627 non-null   float64\n",
      " 15  EMA_169_day  3602 non-null   float64\n",
      " 16  SMA_5_day    3766 non-null   float64\n",
      " 17  SMA_10_day   3761 non-null   float64\n",
      " 18  SMA_20_day   3751 non-null   float64\n",
      " 19  SMA_50_day   3721 non-null   float64\n",
      " 20  SMA_100_day  3671 non-null   float64\n",
      "dtypes: float64(18), int64(1), object(2)\n",
      "memory usage: 777.0+ KB\n"
     ]
    }
   ],
   "source": [
    "ticker_data.info()"
   ]
  },
  {
   "cell_type": "code",
   "execution_count": null,
   "id": "9efbfc83-8265-4d25-9755-2376ed70fcad",
   "metadata": {},
   "outputs": [],
   "source": []
  },
  {
   "cell_type": "code",
   "execution_count": null,
   "id": "6a866e5c-e2e0-475e-a738-e8db446d0f02",
   "metadata": {},
   "outputs": [],
   "source": []
  },
  {
   "cell_type": "code",
   "execution_count": null,
   "id": "80890949-148f-4433-a001-90caf6bdadc2",
   "metadata": {},
   "outputs": [],
   "source": []
  },
  {
   "cell_type": "code",
   "execution_count": null,
   "id": "e214bfb1-d740-46d1-84f4-44409003a3f5",
   "metadata": {},
   "outputs": [],
   "source": []
  },
  {
   "cell_type": "code",
   "execution_count": null,
   "id": "5329edfa-ae8c-4a0a-9745-6c541097b5b1",
   "metadata": {},
   "outputs": [],
   "source": []
  },
  {
   "cell_type": "code",
   "execution_count": null,
   "id": "1c67cb30-e893-41a4-b0ff-9740e759f546",
   "metadata": {},
   "outputs": [],
   "source": []
  },
  {
   "cell_type": "code",
   "execution_count": null,
   "id": "53d848fa-27c2-4953-9fbe-69b0df65f49b",
   "metadata": {},
   "outputs": [],
   "source": []
  },
  {
   "cell_type": "code",
   "execution_count": null,
   "id": "79143d79-92d3-4058-9ef7-809f9c23aa21",
   "metadata": {},
   "outputs": [],
   "source": []
  },
  {
   "cell_type": "code",
   "execution_count": null,
   "id": "bf8489c2-d8b9-475a-82e6-925a35ecd8d7",
   "metadata": {},
   "outputs": [],
   "source": []
  },
  {
   "cell_type": "code",
   "execution_count": null,
   "id": "a6dae924-3cc5-41b0-aaf5-d59a6ae7c21f",
   "metadata": {},
   "outputs": [],
   "source": []
  },
  {
   "cell_type": "code",
   "execution_count": null,
   "id": "eaae33fe-364a-4d1f-b490-67a16b87cee4",
   "metadata": {},
   "outputs": [],
   "source": []
  },
  {
   "cell_type": "code",
   "execution_count": null,
   "id": "1283fc37-30e3-4ef4-a3b5-f2b99586ec6a",
   "metadata": {},
   "outputs": [],
   "source": []
  }
 ],
 "metadata": {
  "kernelspec": {
   "display_name": "Python 3 (ipykernel)",
   "language": "python",
   "name": "python3"
  },
  "language_info": {
   "codemirror_mode": {
    "name": "ipython",
    "version": 3
   },
   "file_extension": ".py",
   "mimetype": "text/x-python",
   "name": "python",
   "nbconvert_exporter": "python",
   "pygments_lexer": "ipython3",
   "version": "3.10.16"
  }
 },
 "nbformat": 4,
 "nbformat_minor": 5
}
