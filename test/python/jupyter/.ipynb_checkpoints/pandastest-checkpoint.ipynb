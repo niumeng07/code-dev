{
 "cells": [
  {
   "cell_type": "code",
   "execution_count": 4,
   "id": "12add47b-1b96-4369-ac4f-df4a559989df",
   "metadata": {},
   "outputs": [],
   "source": [
    "import pandas as pd"
   ]
  },
  {
   "cell_type": "code",
   "execution_count": null,
   "id": "0340bec6-0c23-417f-a11e-05276918dd0a",
   "metadata": {},
   "outputs": [],
   "source": []
  },
  {
   "cell_type": "code",
   "execution_count": 5,
   "id": "adbc5a83-2e64-42ff-9683-2dab7f198911",
   "metadata": {},
   "outputs": [],
   "source": [
    "df1 = pd.DataFrame({'A': [1,2,3], 'B': [3,4,5]})\n",
    "df2 = pd.DataFrame({'A': [1,3,4], 'B': [3,4,5]})"
   ]
  },
  {
   "cell_type": "code",
   "execution_count": 6,
   "id": "c9487df8-083b-4c55-b44e-c968d994d809",
   "metadata": {},
   "outputs": [],
   "source": [
    "df = pd.merge(df1, df2, on=['A'], how='outer', suffixes=['_x', '_y'])"
   ]
  },
  {
   "cell_type": "code",
   "execution_count": null,
   "id": "da7f8ae4-e6e2-46ad-a98a-717758109349",
   "metadata": {},
   "outputs": [],
   "source": []
  },
  {
   "cell_type": "code",
   "execution_count": 7,
   "id": "b80bf696-2578-486f-affe-b06e9cc12851",
   "metadata": {},
   "outputs": [],
   "source": [
    "df['B'] = df['B_x'].combine_first(df['B_y'])\n",
    "df.drop(columns=['B_x', 'B_y'], inplace=True)"
   ]
  },
  {
   "cell_type": "code",
   "execution_count": 12,
   "id": "81ecd9bd-9210-49e1-b2e4-a63e75be8de4",
   "metadata": {},
   "outputs": [],
   "source": [
    "from io import StringIO\n",
    "\n",
    "csv_buffer = StringIO()\n",
    "df.to_csv(csv_buffer, index=False)\n",
    "\n",
    "csv_string = csv_buffer.getvalue()"
   ]
  },
  {
   "cell_type": "code",
   "execution_count": 14,
   "id": "cef81a62-dcef-4b2d-a378-db0fb7cc2b9c",
   "metadata": {},
   "outputs": [
    {
     "name": "stdout",
     "output_type": "stream",
     "text": [
      "A,B\n",
      "1,3.0\n",
      "2,4.0\n",
      "3,5.0\n",
      "4,5.0\n",
      "\n"
     ]
    }
   ],
   "source": [
    "print(csv_string)"
   ]
  },
  {
   "cell_type": "code",
   "execution_count": 102,
   "id": "2261c39c-54dd-480e-a249-5682a4bd735b",
   "metadata": {},
   "outputs": [],
   "source": [
    "df1 = pd.DataFrame({'A': [1,2,3], 'B': [3,4,5]})\n",
    "df2 = pd.DataFrame({'A': [1,3,4], 'B': [3,4,5]})\n",
    "\n",
    "df = pd.merge(df1, df2, on=['A'], how='outer', suffixes=['_x', '_y'])"
   ]
  },
  {
   "cell_type": "code",
   "execution_count": 103,
   "id": "2028028a-8529-4fa1-8ec6-b26309b3aca0",
   "metadata": {},
   "outputs": [
    {
     "data": {
      "text/html": [
       "<div>\n",
       "<style scoped>\n",
       "    .dataframe tbody tr th:only-of-type {\n",
       "        vertical-align: middle;\n",
       "    }\n",
       "\n",
       "    .dataframe tbody tr th {\n",
       "        vertical-align: top;\n",
       "    }\n",
       "\n",
       "    .dataframe thead th {\n",
       "        text-align: right;\n",
       "    }\n",
       "</style>\n",
       "<table border=\"1\" class=\"dataframe\">\n",
       "  <thead>\n",
       "    <tr style=\"text-align: right;\">\n",
       "      <th></th>\n",
       "      <th>B_x</th>\n",
       "      <th>B_y</th>\n",
       "    </tr>\n",
       "  </thead>\n",
       "  <tbody>\n",
       "    <tr>\n",
       "      <th>0</th>\n",
       "      <td>3.0</td>\n",
       "      <td>3.0</td>\n",
       "    </tr>\n",
       "    <tr>\n",
       "      <th>1</th>\n",
       "      <td>4.0</td>\n",
       "      <td>0.0</td>\n",
       "    </tr>\n",
       "    <tr>\n",
       "      <th>2</th>\n",
       "      <td>5.0</td>\n",
       "      <td>4.0</td>\n",
       "    </tr>\n",
       "    <tr>\n",
       "      <th>3</th>\n",
       "      <td>0.0</td>\n",
       "      <td>5.0</td>\n",
       "    </tr>\n",
       "  </tbody>\n",
       "</table>\n",
       "</div>"
      ],
      "text/plain": [
       "   B_x  B_y\n",
       "0  3.0  3.0\n",
       "1  4.0  0.0\n",
       "2  5.0  4.0\n",
       "3  0.0  5.0"
      ]
     },
     "execution_count": 103,
     "metadata": {},
     "output_type": "execute_result"
    }
   ],
   "source": [
    "df[['B_x', 'B_y']].fillna(0)"
   ]
  },
  {
   "cell_type": "code",
   "execution_count": null,
   "id": "307d0cc0-054d-474b-a157-254f2b7a3666",
   "metadata": {},
   "outputs": [],
   "source": []
  },
  {
   "cell_type": "code",
   "execution_count": 105,
   "id": "b420f763-ac0e-4900-a836-3565cffbbfc9",
   "metadata": {},
   "outputs": [],
   "source": [
    "df1 = pd.DataFrame({'A': [1,2,3], 'B': [3,4,5]})\n",
    "df2 = pd.DataFrame({'A': [1,3,4], 'B': [3,4,5]})\n",
    "\n",
    "df = pd.merge(df1, df2, on=['A'], how='outer', suffixes=['_x', '_y'])"
   ]
  },
  {
   "cell_type": "code",
   "execution_count": null,
   "id": "4406079c-e6e3-481f-a91f-f50420fbaf7b",
   "metadata": {},
   "outputs": [],
   "source": []
  },
  {
   "cell_type": "code",
   "execution_count": 107,
   "id": "d68e5644-91a8-4a6b-88c3-24fe6ccecd5b",
   "metadata": {},
   "outputs": [],
   "source": [
    "df_filter = df[df['A']==1].copy()"
   ]
  },
  {
   "cell_type": "code",
   "execution_count": 109,
   "id": "a56434ac-fe53-428f-ac34-ba07b3fd33eb",
   "metadata": {},
   "outputs": [],
   "source": [
    "df_filter['A']  = 111"
   ]
  },
  {
   "cell_type": "code",
   "execution_count": null,
   "id": "8fab73b0-b106-4f3f-8a53-20de0226f96e",
   "metadata": {},
   "outputs": [],
   "source": []
  },
  {
   "cell_type": "code",
   "execution_count": 110,
   "id": "70d6fa10-7ecc-45a2-9a7b-c3deaf00e1f9",
   "metadata": {},
   "outputs": [
    {
     "name": "stdout",
     "output_type": "stream",
     "text": [
      "1\n",
      "run 1 2\n"
     ]
    }
   ],
   "source": [
    "class Test:\n",
    "    a = 1\n",
    "    b = 0\n",
    "    def __init__(self):\n",
    "        self.b = 2\n",
    "        print(self.a)\n",
    "    def run(self):\n",
    "        print('run', self.a, self.b)\n",
    "\n",
    "\n",
    "Test().run()"
   ]
  },
  {
   "cell_type": "code",
   "execution_count": 111,
   "id": "7fbf2106-ab83-4d8d-8184-4ec72f816a7c",
   "metadata": {},
   "outputs": [],
   "source": [
    "df = pd.DataFrame({\n",
    "    'opening_date': ['2014-02-14','2014-04-21','2014-08-19','2014-10-21','2014-12-19'],\n",
    "    'T_LongBullBuy2_3': [0,1.0,1.0,1.0,1.0],\n",
    "    'T_H_H_strategy1' : [0,0,1.0,0,1.0],\n",
    "    'T_H_M_strategy1' : [0,1.0,0,1.0,1.0],\n",
    "    'T_LongBullBuy2_2': [0.0,1.0,1.0,1.0,1.0]\n",
    "})\n",
    "\n",
    "df['trigger'] = df[['T_LongBullBuy2_3', 'T_H_H_strategy1', 'T_H_M_strategy1', 'T_LongBullBuy2_2']].sum(axis=1)"
   ]
  },
  {
   "cell_type": "code",
   "execution_count": 112,
   "id": "459fca6d-c31b-4138-ac41-2af565ac2699",
   "metadata": {},
   "outputs": [],
   "source": [
    "df['trigger2'] = df['trigger'].astype(bool).astype(int)"
   ]
  },
  {
   "cell_type": "code",
   "execution_count": 113,
   "id": "60b3cb6f-bed5-46cb-b0de-c25123d85478",
   "metadata": {},
   "outputs": [
    {
     "data": {
      "text/html": [
       "<div>\n",
       "<style scoped>\n",
       "    .dataframe tbody tr th:only-of-type {\n",
       "        vertical-align: middle;\n",
       "    }\n",
       "\n",
       "    .dataframe tbody tr th {\n",
       "        vertical-align: top;\n",
       "    }\n",
       "\n",
       "    .dataframe thead th {\n",
       "        text-align: right;\n",
       "    }\n",
       "</style>\n",
       "<table border=\"1\" class=\"dataframe\">\n",
       "  <thead>\n",
       "    <tr style=\"text-align: right;\">\n",
       "      <th></th>\n",
       "      <th>opening_date</th>\n",
       "      <th>T_LongBullBuy2_3</th>\n",
       "      <th>T_H_H_strategy1</th>\n",
       "      <th>T_H_M_strategy1</th>\n",
       "      <th>T_LongBullBuy2_2</th>\n",
       "      <th>trigger</th>\n",
       "      <th>trigger2</th>\n",
       "    </tr>\n",
       "  </thead>\n",
       "  <tbody>\n",
       "    <tr>\n",
       "      <th>0</th>\n",
       "      <td>2014-02-14</td>\n",
       "      <td>0.0</td>\n",
       "      <td>0.0</td>\n",
       "      <td>0.0</td>\n",
       "      <td>0.0</td>\n",
       "      <td>0.0</td>\n",
       "      <td>0</td>\n",
       "    </tr>\n",
       "    <tr>\n",
       "      <th>1</th>\n",
       "      <td>2014-04-21</td>\n",
       "      <td>1.0</td>\n",
       "      <td>0.0</td>\n",
       "      <td>1.0</td>\n",
       "      <td>1.0</td>\n",
       "      <td>3.0</td>\n",
       "      <td>1</td>\n",
       "    </tr>\n",
       "    <tr>\n",
       "      <th>2</th>\n",
       "      <td>2014-08-19</td>\n",
       "      <td>1.0</td>\n",
       "      <td>1.0</td>\n",
       "      <td>0.0</td>\n",
       "      <td>1.0</td>\n",
       "      <td>3.0</td>\n",
       "      <td>1</td>\n",
       "    </tr>\n",
       "    <tr>\n",
       "      <th>3</th>\n",
       "      <td>2014-10-21</td>\n",
       "      <td>1.0</td>\n",
       "      <td>0.0</td>\n",
       "      <td>1.0</td>\n",
       "      <td>1.0</td>\n",
       "      <td>3.0</td>\n",
       "      <td>1</td>\n",
       "    </tr>\n",
       "    <tr>\n",
       "      <th>4</th>\n",
       "      <td>2014-12-19</td>\n",
       "      <td>1.0</td>\n",
       "      <td>1.0</td>\n",
       "      <td>1.0</td>\n",
       "      <td>1.0</td>\n",
       "      <td>4.0</td>\n",
       "      <td>1</td>\n",
       "    </tr>\n",
       "  </tbody>\n",
       "</table>\n",
       "</div>"
      ],
      "text/plain": [
       "  opening_date  T_LongBullBuy2_3  T_H_H_strategy1  T_H_M_strategy1  \\\n",
       "0   2014-02-14               0.0              0.0              0.0   \n",
       "1   2014-04-21               1.0              0.0              1.0   \n",
       "2   2014-08-19               1.0              1.0              0.0   \n",
       "3   2014-10-21               1.0              0.0              1.0   \n",
       "4   2014-12-19               1.0              1.0              1.0   \n",
       "\n",
       "   T_LongBullBuy2_2  trigger  trigger2  \n",
       "0               0.0      0.0         0  \n",
       "1               1.0      3.0         1  \n",
       "2               1.0      3.0         1  \n",
       "3               1.0      3.0         1  \n",
       "4               1.0      4.0         1  "
      ]
     },
     "execution_count": 113,
     "metadata": {},
     "output_type": "execute_result"
    }
   ],
   "source": [
    "df"
   ]
  },
  {
   "cell_type": "code",
   "execution_count": 114,
   "id": "336a3548-e1c8-420f-be03-1c438542659a",
   "metadata": {},
   "outputs": [],
   "source": [
    "df1 = pd.DataFrame({'A': [1,2,3], 'B': [3,4,5]})"
   ]
  },
  {
   "cell_type": "code",
   "execution_count": 115,
   "id": "6a32a71e-d1b1-483c-b7d2-92dece115320",
   "metadata": {},
   "outputs": [],
   "source": [
    "first_index = df1.index[0]\n",
    "first_value = df1.at[first_index, 'A']"
   ]
  },
  {
   "cell_type": "code",
   "execution_count": 116,
   "id": "93f7f984-e5e1-4c6c-b53f-ae26ea07a569",
   "metadata": {},
   "outputs": [],
   "source": [
    "from datetime import datetime\n",
    "\n",
    "x = (datetime.strptime('2020-01-01', '%Y-%m-%d') - datetime.strptime('2019-01-01', '%Y-%m-%d')).days"
   ]
  },
  {
   "cell_type": "code",
   "execution_count": null,
   "id": "1e6fb084-dee0-42e8-8948-d6346c117373",
   "metadata": {},
   "outputs": [],
   "source": []
  },
  {
   "cell_type": "code",
   "execution_count": 117,
   "id": "58c60ddb-fb05-4159-b049-add129d54545",
   "metadata": {},
   "outputs": [],
   "source": [
    "df1 = pd.DataFrame({'A': [1,2,3], 'B': [3,4,5]})\n",
    "df2 = pd.DataFrame({'A': [1,3,4], 'B': [3,4,5]})"
   ]
  },
  {
   "cell_type": "code",
   "execution_count": 118,
   "id": "ea87f173-59a5-4710-823d-099a1453d797",
   "metadata": {},
   "outputs": [],
   "source": [
    "df1 = df1.rename(columns={'A': 'AA'})"
   ]
  },
  {
   "cell_type": "code",
   "execution_count": 119,
   "id": "503131e0-4bf5-4ea9-86de-bc4bc23d0379",
   "metadata": {},
   "outputs": [],
   "source": [
    "df = pd.DataFrame({\n",
    "    'entry_name': ['entry_name'],\n",
    "    'entry_count': [1],\n",
    "    'duration': [2],\n",
    "    'profit_rate':  [3],\n",
    "    'win': [4],\n",
    "    'none_exit': [6],\n",
    "})"
   ]
  },
  {
   "cell_type": "code",
   "execution_count": null,
   "id": "a08058ec-c10b-44d7-8d67-5278bd2b21d4",
   "metadata": {},
   "outputs": [],
   "source": []
  },
  {
   "cell_type": "code",
   "execution_count": null,
   "id": "ae7e6c31-b751-49ba-a3cf-9096e6fdd461",
   "metadata": {},
   "outputs": [],
   "source": []
  },
  {
   "cell_type": "code",
   "execution_count": 152,
   "id": "5018d6ef-05d0-4d06-afc0-ec399750b0e0",
   "metadata": {},
   "outputs": [],
   "source": [
    "indicator_data = {\n",
    "    'strategy_qt': ['2019q4', '2020q1', '2020q2', '2020q3', '2020q4', '2021q1', '2021q2', '2021q3', '2021q4', '2022q1', \n",
    "                    '2022q2', '2022q3', '2022q4', '2023q1', '2023q2', '2023q3', '2023q4', '2024q1'],\n",
    "    'Indicator': [53109457408, 60012626448, 68546915040, 63316608224, 59819847040, 77790598224, 75984470816, \n",
    "                  53505656000, 65591031856, 91077370000, 82907569200, 71627768448, 48075447054, 60578692858, \n",
    "                  63115695714, 55230978728, 62662285465, 84901869586]\n",
    "}"
   ]
  },
  {
   "cell_type": "code",
   "execution_count": null,
   "id": "fdecfd99-f321-404a-aed8-946a7d805078",
   "metadata": {},
   "outputs": [],
   "source": []
  },
  {
   "cell_type": "code",
   "execution_count": 155,
   "id": "3858777d-a422-435c-8210-1f95b763584e",
   "metadata": {},
   "outputs": [],
   "source": [
    "df = pd.DataFrame(indicator_data)"
   ]
  },
  {
   "cell_type": "code",
   "execution_count": 161,
   "id": "13cc3fda-67e4-4c7a-a6e3-a3e883fa1791",
   "metadata": {},
   "outputs": [],
   "source": [
    "df  = df.sort_values(by='Indicator').reset_index(drop=True)"
   ]
  },
  {
   "cell_type": "code",
   "execution_count": 147,
   "id": "8188efd8-1696-4f5f-b2eb-97088c5f306e",
   "metadata": {},
   "outputs": [],
   "source": [
    "df = df['strategy_qt'].apply(pd.to_datetime)"
   ]
  },
  {
   "cell_type": "code",
   "execution_count": 148,
   "id": "a59d6944-f51d-469f-831d-9bf6d6ca2f04",
   "metadata": {},
   "outputs": [
    {
     "data": {
      "text/plain": [
       "0    2019-10-01\n",
       "1    2020-01-01\n",
       "2    2020-04-01\n",
       "3    2020-07-01\n",
       "4    2020-10-01\n",
       "5    2021-01-01\n",
       "6    2021-04-01\n",
       "7    2021-07-01\n",
       "8    2021-10-01\n",
       "9    2022-01-01\n",
       "10   2022-04-01\n",
       "11   2022-07-01\n",
       "12   2022-10-01\n",
       "13   2023-01-01\n",
       "14   2023-04-01\n",
       "15   2023-07-01\n",
       "16   2023-10-01\n",
       "17   2024-01-01\n",
       "Name: strategy_qt, dtype: datetime64[ns]"
      ]
     },
     "execution_count": 148,
     "metadata": {},
     "output_type": "execute_result"
    }
   ],
   "source": [
    "\n"
   ]
  },
  {
   "cell_type": "code",
   "execution_count": 123,
   "id": "28357676-6727-4bc5-b158-2ff1cd32af79",
   "metadata": {},
   "outputs": [
    {
     "name": "stdout",
     "output_type": "stream",
     "text": [
      "DataFrame 1:\n",
      "            Value1\n",
      "Date              \n",
      "2024-01-01      10\n",
      "2024-01-02      20\n",
      "2024-01-03      30\n",
      "\n",
      "DataFrame 2:\n",
      "        Date  Value2\n",
      "0 2024-01-01      40\n",
      "1 2024-01-02      50\n",
      "2 2024-01-04      60\n"
     ]
    }
   ],
   "source": [
    "import pandas as pd\n",
    "\n",
    "# 创建示例 DataFrame\n",
    "data1 = {'Date': ['2024-01-01', '2024-01-02', '2024-01-03'], 'Value1': [10, 20, 30]}\n",
    "df1 = pd.DataFrame(data1)\n",
    "df1['Date'] = pd.to_datetime(df1['Date'])\n",
    "df1.set_index('Date', inplace=True)\n",
    "\n",
    "data2 = {'Date': ['2024-01-01', '2024-01-02', '2024-01-04'], 'Value2': [40, 50, 60]}\n",
    "df2 = pd.DataFrame(data2)\n",
    "df2['Date'] = pd.to_datetime(df2['Date'])\n",
    "\n",
    "print(\"DataFrame 1:\")\n",
    "print(df1)\n",
    "print(\"\\nDataFrame 2:\")\n",
    "print(df2)\n",
    "\n",
    "# 通过普通列 Date 进行合并\n",
    "result = df1.reset_index().merge(df2, on='Date')\n"
   ]
  },
  {
   "cell_type": "code",
   "execution_count": null,
   "id": "57bae275-390d-4093-a520-89cb01fe60f5",
   "metadata": {},
   "outputs": [],
   "source": []
  },
  {
   "cell_type": "code",
   "execution_count": 140,
   "id": "57276cc0-7a05-46d6-9099-6292a8d63c14",
   "metadata": {},
   "outputs": [
    {
     "name": "stdout",
     "output_type": "stream",
     "text": [
      "            Open  High  Low  Adj Close  Volume\n",
      "Date                                          \n",
      "2024-01-01   100   110   90        108    1000\n",
      "2024-01-02   102   112   92        109    1500\n",
      "2024-01-03   103   113   93        110    2000\n",
      "2024-01-04     1     0    1        111    2500\n",
      "2024-01-05     0     0    0        112    3000\n"
     ]
    }
   ],
   "source": [
    "import pandas as pd\n",
    "import talib\n",
    "\n",
    "# 创建示例 DataFrame\n",
    "data = {\n",
    "    'Date': ['2024-01-01', '2024-01-02', '2024-01-03', '2024-01-04', '2024-01-05'],\n",
    "    'Open': [100, 102, 103, 1, 0],\n",
    "    'High': [110, 112, 113, 0, 0],\n",
    "    'Low': [90, 92, 93, 1, 0],\n",
    "    'Adj Close': [108, 109, 110, 111, 112],\n",
    "    'Volume': [1000, 1500, 2000, 2500, 3000]\n",
    "}\n",
    "ticker_data = pd.DataFrame(data)\n",
    "\n",
    "# 确保 Date 列是 datetime 类型，并设置为 DatetimeIndex\n",
    "ticker_data['Date'] = pd.to_datetime(ticker_data['Date'])\n",
    "ticker_data.set_index('Date', inplace=True)\n",
    "\n",
    "print(ticker_data)"
   ]
  },
  {
   "cell_type": "code",
   "execution_count": 141,
   "id": "9d36cc30-f909-4835-b9e9-b5e5169371d3",
   "metadata": {},
   "outputs": [],
   "source": [
    "df_reset = ticker_data.reset_index(drop=False)\n"
   ]
  },
  {
   "cell_type": "code",
   "execution_count": 142,
   "id": "3e71d2fd-c00d-496a-b8d9-a093ed2d252f",
   "metadata": {},
   "outputs": [
    {
     "data": {
      "text/plain": [
       "0     True\n",
       "1     True\n",
       "2     True\n",
       "3     True\n",
       "4    False\n",
       "dtype: bool"
      ]
     },
     "execution_count": 142,
     "metadata": {},
     "output_type": "execute_result"
    }
   ],
   "source": [
    "df_reset['High'].astype(bool) | df_reset['Low'].astype(bool)"
   ]
  },
  {
   "cell_type": "code",
   "execution_count": 162,
   "id": "bb06ddd8-24cc-4f6b-853f-c6eb8c259dca",
   "metadata": {},
   "outputs": [
    {
     "data": {
      "text/plain": [
       "'{\"1\": 1, \"2\": 2}'"
      ]
     },
     "execution_count": 162,
     "metadata": {},
     "output_type": "execute_result"
    }
   ],
   "source": [
    "m = {1:1, '2': 2}\n",
    "import json\n",
    "json.dumps(m)"
   ]
  },
  {
   "cell_type": "code",
   "execution_count": 42,
   "id": "3303f8b0-d9cc-4828-8cde-e0a7cd82e3ab",
   "metadata": {},
   "outputs": [
    {
     "name": "stdout",
     "output_type": "stream",
     "text": [
      "     A   B   C   D\n",
      "0   95  99  76  83\n",
      "1   69  59  99  34\n",
      "2   43  90  48  38\n",
      "3   13  26  33  92\n",
      "4   20  16  96  99\n",
      "..  ..  ..  ..  ..\n",
      "95  53  24  24  36\n",
      "96  72  45  85  22\n",
      "97  59  46  44  52\n",
      "98  96  14  38  69\n",
      "99  21  40  72  42\n",
      "\n",
      "[100000 rows x 4 columns]\n",
      "0:00:00.358717\n"
     ]
    }
   ],
   "source": [
    "# 测试concat时间\n",
    "\n",
    "import pandas as pd\n",
    "import numpy as np\n",
    "from datetime import datetime\n",
    "\n",
    "start_time = datetime.now()\n",
    "df = pd.DataFrame({})\n",
    "\n",
    "for i in range(1000):\n",
    "    df_new = pd.DataFrame(np.random.randint(0,100,size=(100, 4)), columns=list('ABCD'))\n",
    "    df = pd.concat([df, df_new])    \n",
    "print(df)\n",
    "\n",
    "print(datetime.now() - start_time)"
   ]
  },
  {
   "cell_type": "code",
   "execution_count": 45,
   "id": "f42bceb0-1474-42b7-b9aa-0d471da40932",
   "metadata": {},
   "outputs": [
    {
     "name": "stdout",
     "output_type": "stream",
     "text": [
      "A    4944747\n",
      "B    4947958\n",
      "C    4958340\n",
      "D    4950268\n",
      "dtype: int64\n",
      "A    4944747\n",
      "B    4947958\n",
      "C    4958340\n",
      "D    4950268\n",
      "dtype: int64\n",
      "       A     B     C     D\n",
      "0   True  True  True  True\n",
      "1   True  True  True  True\n",
      "2   True  True  True  True\n",
      "3   True  True  True  True\n",
      "4   True  True  True  True\n",
      "..   ...   ...   ...   ...\n",
      "95  True  True  True  True\n",
      "96  True  True  True  True\n",
      "97  True  True  True  True\n",
      "98  True  True  True  True\n",
      "99  True  True  True  True\n",
      "\n",
      "[100000 rows x 4 columns]\n",
      "0:00:00.338047\n"
     ]
    }
   ],
   "source": [
    "# 测试concat时间\n",
    "\n",
    "import pandas as pd\n",
    "import numpy as np\n",
    "from datetime import datetime\n",
    "\n",
    "start_time = datetime.now()\n",
    "\n",
    "df_list = []\n",
    "df111 = pd.DataFrame({})\n",
    "\n",
    "for i in range(1000):\n",
    "    df_new = pd.DataFrame(np.random.randint(0,100,size=(100, 4)), columns=list('ABCD'))\n",
    "    df_list.append(df_new)\n",
    "    df111 = pd.concat([df111, df_new])    \n",
    "\n",
    "df = pd.concat(df_list)\n",
    "print(df.sum())\n",
    "print(df111.sum())\n",
    "print(df==df111)\n",
    "print(datetime.now() - start_time)"
   ]
  },
  {
   "cell_type": "code",
   "execution_count": 46,
   "id": "2aed9cfe-f011-4fba-b3dd-2cacbcb6dc6b",
   "metadata": {},
   "outputs": [
    {
     "data": {
      "text/html": [
       "<div>\n",
       "<style scoped>\n",
       "    .dataframe tbody tr th:only-of-type {\n",
       "        vertical-align: middle;\n",
       "    }\n",
       "\n",
       "    .dataframe tbody tr th {\n",
       "        vertical-align: top;\n",
       "    }\n",
       "\n",
       "    .dataframe thead th {\n",
       "        text-align: right;\n",
       "    }\n",
       "</style>\n",
       "<table border=\"1\" class=\"dataframe\">\n",
       "  <thead>\n",
       "    <tr style=\"text-align: right;\">\n",
       "      <th></th>\n",
       "      <th>A</th>\n",
       "      <th>B</th>\n",
       "      <th>C</th>\n",
       "      <th>D</th>\n",
       "    </tr>\n",
       "  </thead>\n",
       "  <tbody>\n",
       "    <tr>\n",
       "      <th>0</th>\n",
       "      <td>89</td>\n",
       "      <td>7</td>\n",
       "      <td>76</td>\n",
       "      <td>6</td>\n",
       "    </tr>\n",
       "    <tr>\n",
       "      <th>1</th>\n",
       "      <td>57</td>\n",
       "      <td>6</td>\n",
       "      <td>98</td>\n",
       "      <td>51</td>\n",
       "    </tr>\n",
       "    <tr>\n",
       "      <th>2</th>\n",
       "      <td>6</td>\n",
       "      <td>35</td>\n",
       "      <td>44</td>\n",
       "      <td>92</td>\n",
       "    </tr>\n",
       "    <tr>\n",
       "      <th>3</th>\n",
       "      <td>22</td>\n",
       "      <td>15</td>\n",
       "      <td>20</td>\n",
       "      <td>47</td>\n",
       "    </tr>\n",
       "    <tr>\n",
       "      <th>4</th>\n",
       "      <td>37</td>\n",
       "      <td>86</td>\n",
       "      <td>19</td>\n",
       "      <td>31</td>\n",
       "    </tr>\n",
       "    <tr>\n",
       "      <th>...</th>\n",
       "      <td>...</td>\n",
       "      <td>...</td>\n",
       "      <td>...</td>\n",
       "      <td>...</td>\n",
       "    </tr>\n",
       "    <tr>\n",
       "      <th>95</th>\n",
       "      <td>13</td>\n",
       "      <td>10</td>\n",
       "      <td>65</td>\n",
       "      <td>72</td>\n",
       "    </tr>\n",
       "    <tr>\n",
       "      <th>96</th>\n",
       "      <td>57</td>\n",
       "      <td>14</td>\n",
       "      <td>56</td>\n",
       "      <td>52</td>\n",
       "    </tr>\n",
       "    <tr>\n",
       "      <th>97</th>\n",
       "      <td>20</td>\n",
       "      <td>74</td>\n",
       "      <td>29</td>\n",
       "      <td>43</td>\n",
       "    </tr>\n",
       "    <tr>\n",
       "      <th>98</th>\n",
       "      <td>23</td>\n",
       "      <td>39</td>\n",
       "      <td>17</td>\n",
       "      <td>79</td>\n",
       "    </tr>\n",
       "    <tr>\n",
       "      <th>99</th>\n",
       "      <td>41</td>\n",
       "      <td>87</td>\n",
       "      <td>7</td>\n",
       "      <td>71</td>\n",
       "    </tr>\n",
       "  </tbody>\n",
       "</table>\n",
       "<p>100000 rows × 4 columns</p>\n",
       "</div>"
      ],
      "text/plain": [
       "     A   B   C   D\n",
       "0   89   7  76   6\n",
       "1   57   6  98  51\n",
       "2    6  35  44  92\n",
       "3   22  15  20  47\n",
       "4   37  86  19  31\n",
       "..  ..  ..  ..  ..\n",
       "95  13  10  65  72\n",
       "96  57  14  56  52\n",
       "97  20  74  29  43\n",
       "98  23  39  17  79\n",
       "99  41  87   7  71\n",
       "\n",
       "[100000 rows x 4 columns]"
      ]
     },
     "execution_count": 46,
     "metadata": {},
     "output_type": "execute_result"
    }
   ],
   "source": [
    "df"
   ]
  },
  {
   "cell_type": "code",
   "execution_count": null,
   "id": "75f0175e-60f7-43dd-b0bb-d00bd456a1ef",
   "metadata": {},
   "outputs": [],
   "source": []
  },
  {
   "cell_type": "code",
   "execution_count": 7,
   "id": "72870915-568e-4ad0-aa1a-c3d4706a464d",
   "metadata": {},
   "outputs": [
    {
     "data": {
      "text/plain": [
       "'\\nEarnings Date,EPS Estimate,Reported EPS,Surprise(%)\\n2025-07-28 06:00:00-04:00,,,\\n2025-04-28 06:00:00-04:00,,,\\n2025-01-28 16:00:00-05:00,,,\\n2024-10-29 06:00:00-04:00,0.91,,\\n2024-07-30 16:00:00-04:00,0.68,0.69,0.0207\\n2024-04-30 16:00:00-04:00,0.61,0.62,0.0175\\n2024-01-30 16:00:00-05:00,0.77,0.77,-0.0032\\n2023-10-31 16:00:00-04:00,0.68,0.7,0.0344\\n2023-08-01 16:00:00-04:00,0.57,0.58,0.0149\\n2023-05-02 16:00:00-04:00,0.56,0.6,0.0636\\n2023-01-31 16:00:00-05:00,0.67,0.69,0.032799999999999996\\n2022-11-01 16:00:00-04:00,0.68,0.67,-0.0215\\n'"
      ]
     },
     "execution_count": 7,
     "metadata": {},
     "output_type": "execute_result"
    }
   ],
   "source": [
    "\"\"\"\n",
    "Earnings Date,EPS Estimate,Reported EPS,Surprise(%)\n",
    "2025-07-28 06:00:00-04:00,,,\n",
    "2025-04-28 06:00:00-04:00,,,\n",
    "2025-01-28 16:00:00-05:00,,,\n",
    "2024-10-29 06:00:00-04:00,0.91,,\n",
    "2024-07-30 16:00:00-04:00,0.68,0.69,0.0207\n",
    "2024-04-30 16:00:00-04:00,0.61,0.62,0.0175\n",
    "2024-01-30 16:00:00-05:00,0.77,0.77,-0.0032\n",
    "2023-10-31 16:00:00-04:00,0.68,0.7,0.0344\n",
    "2023-08-01 16:00:00-04:00,0.57,0.58,0.0149\n",
    "2023-05-02 16:00:00-04:00,0.56,0.6,0.0636\n",
    "2023-01-31 16:00:00-05:00,0.67,0.69,0.032799999999999996\n",
    "2022-11-01 16:00:00-04:00,0.68,0.67,-0.0215\n",
    "\"\"\" "
   ]
  },
  {
   "cell_type": "code",
   "execution_count": 149,
   "id": "d6670522-5f65-4800-8d94-022bbf01eb97",
   "metadata": {},
   "outputs": [],
   "source": [
    "import pandas as pd\n",
    "\n",
    "# 创建 DataFrame\n",
    "df = pd.read_csv('/Users/liuda/Desktop/AMD.csv')"
   ]
  },
  {
   "cell_type": "code",
   "execution_count": 151,
   "id": "5386d525-6ed4-42c5-a9ab-77d7e257658f",
   "metadata": {},
   "outputs": [
    {
     "ename": "AttributeError",
     "evalue": "Can only use .dt accessor with datetimelike values",
     "output_type": "error",
     "traceback": [
      "\u001b[0;31m---------------------------------------------------------------------------\u001b[0m",
      "\u001b[0;31mAttributeError\u001b[0m                            Traceback (most recent call last)",
      "Cell \u001b[0;32mIn[151], line 1\u001b[0m\n\u001b[0;32m----> 1\u001b[0m df[\u001b[38;5;124m'\u001b[39m\u001b[38;5;124mEarnings Date\u001b[39m\u001b[38;5;124m'\u001b[39m] \u001b[38;5;241m=\u001b[39m pd\u001b[38;5;241m.\u001b[39mto_datetime(df[\u001b[38;5;124m'\u001b[39m\u001b[38;5;124mEarnings Date\u001b[39m\u001b[38;5;124m'\u001b[39m])\u001b[38;5;241m.\u001b[39mdt\u001b[38;5;241m.\u001b[39mtz_convert(\u001b[38;5;124m'\u001b[39m\u001b[38;5;124mUTC\u001b[39m\u001b[38;5;124m'\u001b[39m)\n",
      "File \u001b[0;32m/opt/homebrew/lib/python3.10/site-packages/pandas/core/generic.py:5902\u001b[0m, in \u001b[0;36mNDFrame.__getattr__\u001b[0;34m(self, name)\u001b[0m\n\u001b[1;32m   5895\u001b[0m \u001b[38;5;28;01mif\u001b[39;00m (\n\u001b[1;32m   5896\u001b[0m     name \u001b[38;5;129;01mnot\u001b[39;00m \u001b[38;5;129;01min\u001b[39;00m \u001b[38;5;28mself\u001b[39m\u001b[38;5;241m.\u001b[39m_internal_names_set\n\u001b[1;32m   5897\u001b[0m     \u001b[38;5;129;01mand\u001b[39;00m name \u001b[38;5;129;01mnot\u001b[39;00m \u001b[38;5;129;01min\u001b[39;00m \u001b[38;5;28mself\u001b[39m\u001b[38;5;241m.\u001b[39m_metadata\n\u001b[1;32m   5898\u001b[0m     \u001b[38;5;129;01mand\u001b[39;00m name \u001b[38;5;129;01mnot\u001b[39;00m \u001b[38;5;129;01min\u001b[39;00m \u001b[38;5;28mself\u001b[39m\u001b[38;5;241m.\u001b[39m_accessors\n\u001b[1;32m   5899\u001b[0m     \u001b[38;5;129;01mand\u001b[39;00m \u001b[38;5;28mself\u001b[39m\u001b[38;5;241m.\u001b[39m_info_axis\u001b[38;5;241m.\u001b[39m_can_hold_identifiers_and_holds_name(name)\n\u001b[1;32m   5900\u001b[0m ):\n\u001b[1;32m   5901\u001b[0m     \u001b[38;5;28;01mreturn\u001b[39;00m \u001b[38;5;28mself\u001b[39m[name]\n\u001b[0;32m-> 5902\u001b[0m \u001b[38;5;28;01mreturn\u001b[39;00m \u001b[38;5;28;43mobject\u001b[39;49m\u001b[38;5;241;43m.\u001b[39;49m\u001b[38;5;21;43m__getattribute__\u001b[39;49m\u001b[43m(\u001b[49m\u001b[38;5;28;43mself\u001b[39;49m\u001b[43m,\u001b[49m\u001b[43m \u001b[49m\u001b[43mname\u001b[49m\u001b[43m)\u001b[49m\n",
      "File \u001b[0;32m/opt/homebrew/lib/python3.10/site-packages/pandas/core/accessor.py:182\u001b[0m, in \u001b[0;36mCachedAccessor.__get__\u001b[0;34m(self, obj, cls)\u001b[0m\n\u001b[1;32m    179\u001b[0m \u001b[38;5;28;01mif\u001b[39;00m obj \u001b[38;5;129;01mis\u001b[39;00m \u001b[38;5;28;01mNone\u001b[39;00m:\n\u001b[1;32m    180\u001b[0m     \u001b[38;5;66;03m# we're accessing the attribute of the class, i.e., Dataset.geo\u001b[39;00m\n\u001b[1;32m    181\u001b[0m     \u001b[38;5;28;01mreturn\u001b[39;00m \u001b[38;5;28mself\u001b[39m\u001b[38;5;241m.\u001b[39m_accessor\n\u001b[0;32m--> 182\u001b[0m accessor_obj \u001b[38;5;241m=\u001b[39m \u001b[38;5;28;43mself\u001b[39;49m\u001b[38;5;241;43m.\u001b[39;49m\u001b[43m_accessor\u001b[49m\u001b[43m(\u001b[49m\u001b[43mobj\u001b[49m\u001b[43m)\u001b[49m\n\u001b[1;32m    183\u001b[0m \u001b[38;5;66;03m# Replace the property with the accessor object. Inspired by:\u001b[39;00m\n\u001b[1;32m    184\u001b[0m \u001b[38;5;66;03m# https://www.pydanny.com/cached-property.html\u001b[39;00m\n\u001b[1;32m    185\u001b[0m \u001b[38;5;66;03m# We need to use object.__setattr__ because we overwrite __setattr__ on\u001b[39;00m\n\u001b[1;32m    186\u001b[0m \u001b[38;5;66;03m# NDFrame\u001b[39;00m\n\u001b[1;32m    187\u001b[0m \u001b[38;5;28mobject\u001b[39m\u001b[38;5;241m.\u001b[39m\u001b[38;5;21m__setattr__\u001b[39m(obj, \u001b[38;5;28mself\u001b[39m\u001b[38;5;241m.\u001b[39m_name, accessor_obj)\n",
      "File \u001b[0;32m/opt/homebrew/lib/python3.10/site-packages/pandas/core/indexes/accessors.py:512\u001b[0m, in \u001b[0;36mCombinedDatetimelikeProperties.__new__\u001b[0;34m(cls, data)\u001b[0m\n\u001b[1;32m    509\u001b[0m \u001b[38;5;28;01melif\u001b[39;00m is_period_dtype(data\u001b[38;5;241m.\u001b[39mdtype):\n\u001b[1;32m    510\u001b[0m     \u001b[38;5;28;01mreturn\u001b[39;00m PeriodProperties(data, orig)\n\u001b[0;32m--> 512\u001b[0m \u001b[38;5;28;01mraise\u001b[39;00m \u001b[38;5;167;01mAttributeError\u001b[39;00m(\u001b[38;5;124m\"\u001b[39m\u001b[38;5;124mCan only use .dt accessor with datetimelike values\u001b[39m\u001b[38;5;124m\"\u001b[39m)\n",
      "\u001b[0;31mAttributeError\u001b[0m: Can only use .dt accessor with datetimelike values"
     ]
    }
   ],
   "source": [
    "df['Earnings Date'] = pd.to_datetime(df['Earnings Date']).dt.tz_convert('UTC')\n",
    "\n",
    "# df['Earnings Date'] = pd.to_datetime(df['Earnings Date'], format='%Y-%m-%d %H:%M:%S%z', errors='coerce')\n",
    "\n",
    "# 检查数据类型\n",
    "# print(df['Earnings Date'].dtype)  # 应该为 datetime64[ns]\n"
   ]
  },
  {
   "cell_type": "code",
   "execution_count": 144,
   "id": "4b4d69ea-fdb0-4fe8-bb8e-adb2a96e1e33",
   "metadata": {},
   "outputs": [
    {
     "name": "stdout",
     "output_type": "stream",
     "text": [
      "object\n",
      "               Earnings Date  EPS Estimate  Reported EPS  Surprise(%)  \\\n",
      "0  2025-07-28 06:00:00-04:00           NaN           NaN          NaN   \n",
      "1  2025-04-28 06:00:00-04:00           NaN           NaN          NaN   \n",
      "2  2025-01-28 16:00:00-05:00           NaN           NaN          NaN   \n",
      "3  2024-10-29 06:00:00-04:00          0.91           NaN          NaN   \n",
      "4  2024-07-30 16:00:00-04:00          0.68          0.69       0.0207   \n",
      "\n",
      "                        date  \n",
      "0  2025-07-28 06:00:00-04:00  \n",
      "1  2025-04-28 06:00:00-04:00  \n",
      "2  2025-01-28 16:00:00-05:00  \n",
      "3  2024-10-29 06:00:00-04:00  \n",
      "4  2024-07-30 16:00:00-04:00  \n"
     ]
    }
   ],
   "source": [
    "print(df['Earnings Date'].dtype)  # 应该是 datetime64[ns]\n",
    "\n",
    "# 打印 DataFrame 的前几行以验证\n",
    "print(df.head())"
   ]
  },
  {
   "cell_type": "code",
   "execution_count": 137,
   "id": "04e93e0b-7eef-4250-95a8-eb7cda053be7",
   "metadata": {},
   "outputs": [
    {
     "data": {
      "text/html": [
       "<div>\n",
       "<style scoped>\n",
       "    .dataframe tbody tr th:only-of-type {\n",
       "        vertical-align: middle;\n",
       "    }\n",
       "\n",
       "    .dataframe tbody tr th {\n",
       "        vertical-align: top;\n",
       "    }\n",
       "\n",
       "    .dataframe thead th {\n",
       "        text-align: right;\n",
       "    }\n",
       "</style>\n",
       "<table border=\"1\" class=\"dataframe\">\n",
       "  <thead>\n",
       "    <tr style=\"text-align: right;\">\n",
       "      <th></th>\n",
       "      <th>Earnings Date</th>\n",
       "      <th>EPS Estimate</th>\n",
       "      <th>Reported EPS</th>\n",
       "      <th>Surprise(%)</th>\n",
       "      <th>date</th>\n",
       "    </tr>\n",
       "  </thead>\n",
       "  <tbody>\n",
       "    <tr>\n",
       "      <th>0</th>\n",
       "      <td>2025-07-28 06:00:00-04:00</td>\n",
       "      <td>NaN</td>\n",
       "      <td>NaN</td>\n",
       "      <td>NaN</td>\n",
       "      <td>2025-07-28 06:00:00-04:00</td>\n",
       "    </tr>\n",
       "    <tr>\n",
       "      <th>1</th>\n",
       "      <td>2025-04-28 06:00:00-04:00</td>\n",
       "      <td>NaN</td>\n",
       "      <td>NaN</td>\n",
       "      <td>NaN</td>\n",
       "      <td>2025-04-28 06:00:00-04:00</td>\n",
       "    </tr>\n",
       "    <tr>\n",
       "      <th>2</th>\n",
       "      <td>2025-01-28 16:00:00-05:00</td>\n",
       "      <td>NaN</td>\n",
       "      <td>NaN</td>\n",
       "      <td>NaN</td>\n",
       "      <td>2025-01-28 16:00:00-05:00</td>\n",
       "    </tr>\n",
       "    <tr>\n",
       "      <th>3</th>\n",
       "      <td>2024-10-29 06:00:00-04:00</td>\n",
       "      <td>0.91</td>\n",
       "      <td>NaN</td>\n",
       "      <td>NaN</td>\n",
       "      <td>2024-10-29 06:00:00-04:00</td>\n",
       "    </tr>\n",
       "    <tr>\n",
       "      <th>4</th>\n",
       "      <td>2024-07-30 16:00:00-04:00</td>\n",
       "      <td>0.68</td>\n",
       "      <td>0.69</td>\n",
       "      <td>0.0207</td>\n",
       "      <td>2024-07-30 16:00:00-04:00</td>\n",
       "    </tr>\n",
       "    <tr>\n",
       "      <th>5</th>\n",
       "      <td>2024-04-30 16:00:00-04:00</td>\n",
       "      <td>0.61</td>\n",
       "      <td>0.62</td>\n",
       "      <td>0.0175</td>\n",
       "      <td>2024-04-30 16:00:00-04:00</td>\n",
       "    </tr>\n",
       "    <tr>\n",
       "      <th>6</th>\n",
       "      <td>2024-01-30 16:00:00-05:00</td>\n",
       "      <td>0.77</td>\n",
       "      <td>0.77</td>\n",
       "      <td>-0.0032</td>\n",
       "      <td>2024-01-30 16:00:00-05:00</td>\n",
       "    </tr>\n",
       "    <tr>\n",
       "      <th>7</th>\n",
       "      <td>2023-10-31 16:00:00-04:00</td>\n",
       "      <td>0.68</td>\n",
       "      <td>0.70</td>\n",
       "      <td>0.0344</td>\n",
       "      <td>2023-10-31 16:00:00-04:00</td>\n",
       "    </tr>\n",
       "    <tr>\n",
       "      <th>8</th>\n",
       "      <td>2023-08-01 16:00:00-04:00</td>\n",
       "      <td>0.57</td>\n",
       "      <td>0.58</td>\n",
       "      <td>0.0149</td>\n",
       "      <td>2023-08-01 16:00:00-04:00</td>\n",
       "    </tr>\n",
       "    <tr>\n",
       "      <th>9</th>\n",
       "      <td>2023-05-02 16:00:00-04:00</td>\n",
       "      <td>0.56</td>\n",
       "      <td>0.60</td>\n",
       "      <td>0.0636</td>\n",
       "      <td>2023-05-02 16:00:00-04:00</td>\n",
       "    </tr>\n",
       "    <tr>\n",
       "      <th>10</th>\n",
       "      <td>2023-01-31 16:00:00-05:00</td>\n",
       "      <td>0.67</td>\n",
       "      <td>0.69</td>\n",
       "      <td>0.0328</td>\n",
       "      <td>2023-01-31 16:00:00-05:00</td>\n",
       "    </tr>\n",
       "    <tr>\n",
       "      <th>11</th>\n",
       "      <td>2022-11-01 16:00:00-04:00</td>\n",
       "      <td>0.68</td>\n",
       "      <td>0.67</td>\n",
       "      <td>-0.0215</td>\n",
       "      <td>2022-11-01 16:00:00-04:00</td>\n",
       "    </tr>\n",
       "  </tbody>\n",
       "</table>\n",
       "</div>"
      ],
      "text/plain": [
       "                Earnings Date  EPS Estimate  Reported EPS  Surprise(%)  \\\n",
       "0   2025-07-28 06:00:00-04:00           NaN           NaN          NaN   \n",
       "1   2025-04-28 06:00:00-04:00           NaN           NaN          NaN   \n",
       "2   2025-01-28 16:00:00-05:00           NaN           NaN          NaN   \n",
       "3   2024-10-29 06:00:00-04:00          0.91           NaN          NaN   \n",
       "4   2024-07-30 16:00:00-04:00          0.68          0.69       0.0207   \n",
       "5   2024-04-30 16:00:00-04:00          0.61          0.62       0.0175   \n",
       "6   2024-01-30 16:00:00-05:00          0.77          0.77      -0.0032   \n",
       "7   2023-10-31 16:00:00-04:00          0.68          0.70       0.0344   \n",
       "8   2023-08-01 16:00:00-04:00          0.57          0.58       0.0149   \n",
       "9   2023-05-02 16:00:00-04:00          0.56          0.60       0.0636   \n",
       "10  2023-01-31 16:00:00-05:00          0.67          0.69       0.0328   \n",
       "11  2022-11-01 16:00:00-04:00          0.68          0.67      -0.0215   \n",
       "\n",
       "                         date  \n",
       "0   2025-07-28 06:00:00-04:00  \n",
       "1   2025-04-28 06:00:00-04:00  \n",
       "2   2025-01-28 16:00:00-05:00  \n",
       "3   2024-10-29 06:00:00-04:00  \n",
       "4   2024-07-30 16:00:00-04:00  \n",
       "5   2024-04-30 16:00:00-04:00  \n",
       "6   2024-01-30 16:00:00-05:00  \n",
       "7   2023-10-31 16:00:00-04:00  \n",
       "8   2023-08-01 16:00:00-04:00  \n",
       "9   2023-05-02 16:00:00-04:00  \n",
       "10  2023-01-31 16:00:00-05:00  \n",
       "11  2022-11-01 16:00:00-04:00  "
      ]
     },
     "execution_count": 137,
     "metadata": {},
     "output_type": "execute_result"
    }
   ],
   "source": [
    "df"
   ]
  },
  {
   "cell_type": "code",
   "execution_count": null,
   "id": "2974e231-ce8e-4830-8357-12cfbdc7fad3",
   "metadata": {},
   "outputs": [],
   "source": []
  }
 ],
 "metadata": {
  "kernelspec": {
   "display_name": "Python 3 (ipykernel)",
   "language": "python",
   "name": "python3"
  },
  "language_info": {
   "codemirror_mode": {
    "name": "ipython",
    "version": 3
   },
   "file_extension": ".py",
   "mimetype": "text/x-python",
   "name": "python",
   "nbconvert_exporter": "python",
   "pygments_lexer": "ipython3",
   "version": "3.10.14"
  }
 },
 "nbformat": 4,
 "nbformat_minor": 5
}
