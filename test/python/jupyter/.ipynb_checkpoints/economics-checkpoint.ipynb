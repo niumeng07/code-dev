{
 "cells": [
  {
   "cell_type": "code",
   "execution_count": 142,
   "id": "2e1912c3-e509-4d26-a0a1-485636395802",
   "metadata": {},
   "outputs": [],
   "source": [
    "import requests\n",
    "import itertools\n",
    "from bs4 import BeautifulSoup\n",
    "\n",
    "# 目标页面 URL\n",
    "url = 'https://www.forexfactory.com/calendar?week=this'\n",
    "\n",
    "# 设置请求头，模拟浏览器访问，防止被识别为爬虫\n",
    "headers = {\n",
    "    'User-Agent': 'Mozilla/5.0 (Windows NT 10.0; Win64; x64) AppleWebKit/537.36 (KHTML, like Gecko) Chrome/91.0.4472.124 Safari/537.36'\n",
    "}\n",
    "\n",
    "# 发送 GET 请求获取页面内容\n",
    "response = requests.get(url, headers=headers)\n"
   ]
  },
  {
   "cell_type": "code",
   "execution_count": 88,
   "id": "4f3dc1f5-8126-4f4d-bda4-a08c468aaaca",
   "metadata": {},
   "outputs": [],
   "source": [
    "rows = None\n",
    "# 检查响应状态码\n",
    "\n",
    "if response.status_code == 200:\n",
    "    # 解析 HTML 页面\n",
    "    soup = BeautifulSoup(response.content, 'html.parser')\n",
    "\n",
    "    # 查找包含经济事件的表格\n",
    "    events_table = soup.find('table', {'class': 'calendar__table'})\n",
    "\n",
    "    # 获取所有的行（每一行代表一个经济事件）\n",
    "    rows = events_table.find_all('tr')\n",
    "\n",
    "# calendar__row calendar__row--day-breaker calendar__row--alt\n",
    "# calendar__row calendar__row--day-breaker"
   ]
  },
  {
   "cell_type": "code",
   "execution_count": 122,
   "id": "82394879-dc97-48ee-be96-cec51cef96ed",
   "metadata": {},
   "outputs": [],
   "source": [
    "table_results = {}\n",
    "\n",
    "for index, row in enumerate(rows):\n",
    "    columns = row.find_all('td')\n",
    "    row_result = {}\n",
    "    for idx, col in enumerate(columns):\n",
    "        try:\n",
    "            col_name = col.get('class')[1]\n",
    "            col_value = col.get_text(strip=True)\n",
    "            row_result[col_name] = col_value\n",
    "        except Exception as e:\n",
    "            pass\n",
    "    table_results[index] = row_result"
   ]
  },
  {
   "cell_type": "code",
   "execution_count": 147,
   "id": "f7b33f09-5da7-4108-bb43-293112a4d1c3",
   "metadata": {},
   "outputs": [
    {
     "name": "stdout",
     "output_type": "stream",
     "text": [
      "['calendar__date', 'calendar__event', 'calendar__detail', 'calendar__forecast', 'calendar__previous', 'calendar__sub', 'calendar__impact', 'calendar__currency', 'calendar__graph', 'calendar__time', 'calendar__actual', 'Index']\n"
     ]
    }
   ],
   "source": [
    "# print(json.dumps(table_results, indent=4))\n",
    "columns = [value.keys() for key, value in table_results.items()]\n",
    "columns = list(set(list(itertools.chain(*columns))))\n",
    "columns.append('Index')\n",
    "print(columns)"
   ]
  },
  {
   "cell_type": "code",
   "execution_count": 164,
   "id": "88fc6282-768d-4d22-95ec-10c2f77a1d91",
   "metadata": {},
   "outputs": [],
   "source": []
  },
  {
   "cell_type": "code",
   "execution_count": 168,
   "id": "1fdc033d-b9f6-4422-a337-c83f1388c70a",
   "metadata": {},
   "outputs": [],
   "source": [
    "df = pd.DataFrame({key: [] for key in columns})\n",
    "\n",
    "for index, values in table_results.items():\n",
    "    curr_row = {}\n",
    "    for col in columns:\n",
    "        if col == 'Index':\n",
    "            curr_row[col] = [int(index)]\n",
    "        else:\n",
    "            curr_row[col] = [values.get(col, None)]\n",
    "    new_row = pd.DataFrame(curr_row)  # Create a DataFrame for the new row\n",
    "\n",
    "    df = pd.concat([df, new_row], ignore_index=True)\n",
    "\n",
    "df = df.sort_values(by=['Index']).reset_index(drop=True)\n",
    "df = df[df['calendar__event'].notna()]\n",
    "df['calendar__date'] = df['calendar__date'].ffill()"
   ]
  },
  {
   "cell_type": "code",
   "execution_count": 170,
   "id": "ee148b9f-feeb-45ec-a5f1-9c14947db3b0",
   "metadata": {},
   "outputs": [],
   "source": [
    "df.to_csv('/Users/liuda/Desktop/economic.csv', index=False)"
   ]
  },
  {
   "cell_type": "code",
   "execution_count": null,
   "id": "6cfbbf86-1c07-499a-9045-fa75a55fc217",
   "metadata": {},
   "outputs": [],
   "source": []
  }
 ],
 "metadata": {
  "kernelspec": {
   "display_name": "Python 3 (ipykernel)",
   "language": "python",
   "name": "python3"
  },
  "language_info": {
   "codemirror_mode": {
    "name": "ipython",
    "version": 3
   },
   "file_extension": ".py",
   "mimetype": "text/x-python",
   "name": "python",
   "nbconvert_exporter": "python",
   "pygments_lexer": "ipython3",
   "version": "3.10.16"
  }
 },
 "nbformat": 4,
 "nbformat_minor": 5
}
