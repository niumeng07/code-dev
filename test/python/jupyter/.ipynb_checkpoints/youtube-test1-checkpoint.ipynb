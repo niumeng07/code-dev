{
 "cells": [
  {
   "cell_type": "code",
   "execution_count": 9,
   "id": "1c747e46-3755-4e5f-bd3c-acdfb91ce845",
   "metadata": {},
   "outputs": [],
   "source": [
    "from importall import *"
   ]
  },
  {
   "cell_type": "code",
   "execution_count": null,
   "id": "af3ff94d-9587-4ec6-b13a-bf7aced8d2f9",
   "metadata": {},
   "outputs": [],
   "source": []
  },
  {
   "cell_type": "code",
   "execution_count": null,
   "id": "586dc903-df81-45f1-a572-a2ed5492b11f",
   "metadata": {},
   "outputs": [],
   "source": []
  },
  {
   "cell_type": "code",
   "execution_count": null,
   "id": "ac1b5eb5-7993-4946-a32e-7465c2edbb72",
   "metadata": {},
   "outputs": [],
   "source": []
  },
  {
   "cell_type": "code",
   "execution_count": null,
   "id": "26d89f9a-1f5f-4c4a-ad31-6a3454221eff",
   "metadata": {},
   "outputs": [],
   "source": []
  },
  {
   "cell_type": "code",
   "execution_count": null,
   "id": "4badeaa0-7967-425d-aadb-9489ea6bc636",
   "metadata": {},
   "outputs": [],
   "source": []
  }
 ],
 "metadata": {
  "kernelspec": {
   "display_name": "Python 3 (ipykernel)",
   "language": "python",
   "name": "python3"
  },
  "language_info": {
   "codemirror_mode": {
    "name": "ipython",
    "version": 3
   },
   "file_extension": ".py",
   "mimetype": "text/x-python",
   "name": "python",
   "nbconvert_exporter": "python",
   "pygments_lexer": "ipython3",
   "version": "3.10.14"
  }
 },
 "nbformat": 4,
 "nbformat_minor": 5
}
