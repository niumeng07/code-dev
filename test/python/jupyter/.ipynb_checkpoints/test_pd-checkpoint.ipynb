{
 "cells": [
  {
   "cell_type": "code",
   "execution_count": 1,
   "id": "f4f69e2c-7545-42aa-8840-2060c56dd24c",
   "metadata": {},
   "outputs": [
    {
     "name": "stdout",
     "output_type": "stream",
     "text": [
      "            value\n",
      "date             \n",
      "2023-01-01      0\n",
      "2023-01-08      7\n",
      "2023-01-15      9\n"
     ]
    }
   ],
   "source": [
    "import pandas as pd\n",
    "\n",
    "# 示例数据\n",
    "data = {'date': pd.date_range(start='2023-01-01', periods=10, freq='D'),\n",
    "        'value': range(10)}\n",
    "df = pd.DataFrame(data).set_index('date')\n",
    "\n",
    "# 按周取最后一个值，向前填充缺失值\n",
    "result = df.resample('W').last().ffill()\n",
    "\n",
    "print(result)"
   ]
  },
  {
   "cell_type": "code",
   "execution_count": null,
   "id": "2cea20ce-56a9-4040-9e55-36ad64a85898",
   "metadata": {},
   "outputs": [],
   "source": []
  }
 ],
 "metadata": {
  "kernelspec": {
   "display_name": "Python 3 (ipykernel)",
   "language": "python",
   "name": "python3"
  },
  "language_info": {
   "codemirror_mode": {
    "name": "ipython",
    "version": 3
   },
   "file_extension": ".py",
   "mimetype": "text/x-python",
   "name": "python",
   "nbconvert_exporter": "python",
   "pygments_lexer": "ipython3",
   "version": "3.10.15"
  }
 },
 "nbformat": 4,
 "nbformat_minor": 5
}
