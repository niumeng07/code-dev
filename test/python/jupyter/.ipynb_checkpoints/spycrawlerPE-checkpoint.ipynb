{
 "cells": [
  {
   "cell_type": "code",
   "execution_count": 37,
   "id": "ab7fe4ed-b785-42fe-86d7-f9b5499fd8a1",
   "metadata": {},
   "outputs": [],
   "source": [
    "import requests\n",
    "from datetime import datetime"
   ]
  },
  {
   "cell_type": "code",
   "execution_count": 9,
   "id": "f5149d14-e38a-46d4-bcb5-34f8e9753bac",
   "metadata": {},
   "outputs": [],
   "source": [
    "response = requests.get('https://www.multpl.com/s-p-500-pe-ratio/table/by-month')"
   ]
  },
  {
   "cell_type": "code",
   "execution_count": 12,
   "id": "e38c9a99-22bb-4628-bb9a-d4bac486975e",
   "metadata": {},
   "outputs": [],
   "source": [
    "html_content = response.text"
   ]
  },
  {
   "cell_type": "code",
   "execution_count": 14,
   "id": "a5889e10-ead5-4e00-8ee7-3d27e1e4431d",
   "metadata": {},
   "outputs": [],
   "source": [
    "from bs4 import BeautifulSoup"
   ]
  },
  {
   "cell_type": "code",
   "execution_count": 16,
   "id": "eed2137c-e8f5-4e6c-84d7-c3a0b58e9357",
   "metadata": {},
   "outputs": [],
   "source": [
    "soup = BeautifulSoup(html_content, 'html.parser')"
   ]
  },
  {
   "cell_type": "code",
   "execution_count": 42,
   "id": "777520d8-eacd-4ae6-832c-501e0f277907",
   "metadata": {},
   "outputs": [],
   "source": [
    "table_div = soup.find('div', id='_table')\n",
    "\n",
    "# If the div is found and it contains a table, proceed to parse it\n",
    "\n",
    "SPY_PE_ratio = {'Date': [], 'PE_ratio': []}\n",
    "if table_div:\n",
    "    # Assuming the div contains a <table>\n",
    "    table = table_div.find('table')\n",
    "\n",
    "    # Extract all rows from the table\n",
    "    rows = table.find_all('tr')\n",
    "\n",
    "    # Loop through each row to extract table data\n",
    "    for row in rows:\n",
    "        # Extract columns (td or th)\n",
    "        cols = row.find_all(['td', 'th'])\n",
    "        cols = [col.text.strip() for col in cols]  # Get text and strip extra spaces\n",
    "        if cols[0] == 'Date':\n",
    "            continue\n",
    "        date_obj = datetime.strptime(cols[0], \"%b %d, %Y\")\n",
    "        formatted_date = date_obj.strftime(\"%Y-%m-%d\")\n",
    "        SPY_PE_ratio['Date'].append(formatted_date)\n",
    "        PE_ratio = cols[1].replace(\"\\n\", \"\")\n",
    "        SPY_PE_ratio['PE_ratio'].append(PE_ratio)\n",
    "else:\n",
    "    print(\"No <div> with id '_table' or no table found.\")\n",
    "\n",
    "import pandas as pd\n",
    "SPY_PE_ratio = pd.DataFrame(SPY_PE_ratio)"
   ]
  },
  {
   "cell_type": "code",
   "execution_count": null,
   "id": "83c0b170-3640-4258-972a-26e773d539e6",
   "metadata": {},
   "outputs": [],
   "source": []
  },
  {
   "cell_type": "code",
   "execution_count": 43,
   "id": "32af928a-d214-4749-96df-7fc9516f5f0a",
   "metadata": {},
   "outputs": [
    {
     "name": "stdout",
     "output_type": "stream",
     "text": [
      "            Date PE_ratio\n",
      "0     2024-09-11   †29.02\n",
      "1     2024-09-01   †28.89\n",
      "2     2024-08-01   †28.62\n",
      "3     2024-07-01   †28.94\n",
      "4     2024-06-01   †28.29\n",
      "...          ...      ...\n",
      "1841  1871-05-01    12.15\n",
      "1842  1871-04-01    11.85\n",
      "1843  1871-03-01    11.52\n",
      "1844  1871-02-01    11.25\n",
      "1845  1871-01-01    11.10\n",
      "\n",
      "[1846 rows x 2 columns]\n"
     ]
    }
   ],
   "source": [
    "print(SPY_PE_ratio)"
   ]
  },
  {
   "cell_type": "code",
   "execution_count": 44,
   "id": "9edf4a8d-957a-4d4a-95a0-bbbf8c53b0f2",
   "metadata": {},
   "outputs": [],
   "source": [
    "SPY_PE_ratio.to_csv(f'/Users/liuda/Local/data/finance/stocks/index_ticker/SPY/SPY_PE_ratio.csv')"
   ]
  },
  {
   "cell_type": "code",
   "execution_count": null,
   "id": "02ff6abe-341a-4680-8c8c-fc416e1ae472",
   "metadata": {},
   "outputs": [],
   "source": []
  }
 ],
 "metadata": {
  "kernelspec": {
   "display_name": "Python 3 (ipykernel)",
   "language": "python",
   "name": "python3"
  },
  "language_info": {
   "codemirror_mode": {
    "name": "ipython",
    "version": 3
   },
   "file_extension": ".py",
   "mimetype": "text/x-python",
   "name": "python",
   "nbconvert_exporter": "python",
   "pygments_lexer": "ipython3",
   "version": "3.10.14"
  }
 },
 "nbformat": 4,
 "nbformat_minor": 5
}
