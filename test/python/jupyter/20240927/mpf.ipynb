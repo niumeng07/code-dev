{
 "cells": [
  {
   "cell_type": "code",
   "execution_count": 1,
   "id": "76e9820a-17cc-4203-a357-c183f72df52c",
   "metadata": {},
   "outputs": [],
   "source": [
    "# This allows multiple outputs from a single jupyter notebook cell:\n",
    "from IPython.core.interactiveshell import InteractiveShell\n",
    "InteractiveShell.ast_node_interactivity = \"all\""
   ]
  },
  {
   "cell_type": "code",
   "execution_count": 2,
   "id": "ac66d254-0d31-433f-98cc-eb411a0978ab",
   "metadata": {},
   "outputs": [
    {
     "data": {
      "text/plain": [
       "'2.2.2'"
      ]
     },
     "execution_count": 2,
     "metadata": {},
     "output_type": "execute_result"
    }
   ],
   "source": [
    "%matplotlib inline\n",
    "import pandas as pd\n",
    "pd.__version__  # for the record"
   ]
  },
  {
   "cell_type": "code",
   "execution_count": 17,
   "id": "95e3c5ba-7133-4321-a736-045fb24c334f",
   "metadata": {},
   "outputs": [
    {
     "data": {
      "text/plain": [
       "(3771, 6)"
      ]
     },
     "execution_count": 17,
     "metadata": {},
     "output_type": "execute_result"
    },
    {
     "data": {
      "text/html": [
       "<div>\n",
       "<style scoped>\n",
       "    .dataframe tbody tr th:only-of-type {\n",
       "        vertical-align: middle;\n",
       "    }\n",
       "\n",
       "    .dataframe tbody tr th {\n",
       "        vertical-align: top;\n",
       "    }\n",
       "\n",
       "    .dataframe thead th {\n",
       "        text-align: right;\n",
       "    }\n",
       "</style>\n",
       "<table border=\"1\" class=\"dataframe\">\n",
       "  <thead>\n",
       "    <tr style=\"text-align: right;\">\n",
       "      <th></th>\n",
       "      <th>Open</th>\n",
       "      <th>High</th>\n",
       "      <th>Low</th>\n",
       "      <th>Close</th>\n",
       "      <th>Adj Close</th>\n",
       "      <th>Volume</th>\n",
       "    </tr>\n",
       "    <tr>\n",
       "      <th>Date</th>\n",
       "      <th></th>\n",
       "      <th></th>\n",
       "      <th></th>\n",
       "      <th></th>\n",
       "      <th></th>\n",
       "      <th></th>\n",
       "    </tr>\n",
       "  </thead>\n",
       "  <tbody>\n",
       "    <tr>\n",
       "      <th>2009-08-24</th>\n",
       "      <td>4.2585</td>\n",
       "      <td>4.2795</td>\n",
       "      <td>4.2120</td>\n",
       "      <td>4.2250</td>\n",
       "      <td>4.2250</td>\n",
       "      <td>94464000</td>\n",
       "    </tr>\n",
       "    <tr>\n",
       "      <th>2009-08-25</th>\n",
       "      <td>4.2330</td>\n",
       "      <td>4.3170</td>\n",
       "      <td>4.1975</td>\n",
       "      <td>4.2095</td>\n",
       "      <td>4.2095</td>\n",
       "      <td>95820000</td>\n",
       "    </tr>\n",
       "    <tr>\n",
       "      <th>2009-08-26</th>\n",
       "      <td>4.2050</td>\n",
       "      <td>4.2380</td>\n",
       "      <td>4.1690</td>\n",
       "      <td>4.2000</td>\n",
       "      <td>4.2000</td>\n",
       "      <td>72276000</td>\n",
       "    </tr>\n",
       "  </tbody>\n",
       "</table>\n",
       "</div>"
      ],
      "text/plain": [
       "              Open    High     Low   Close  Adj Close    Volume\n",
       "Date                                                           \n",
       "2009-08-24  4.2585  4.2795  4.2120  4.2250     4.2250  94464000\n",
       "2009-08-25  4.2330  4.3170  4.1975  4.2095     4.2095  95820000\n",
       "2009-08-26  4.2050  4.2380  4.1690  4.2000     4.2000  72276000"
      ]
     },
     "execution_count": 17,
     "metadata": {},
     "output_type": "execute_result"
    },
    {
     "data": {
      "text/html": [
       "<div>\n",
       "<style scoped>\n",
       "    .dataframe tbody tr th:only-of-type {\n",
       "        vertical-align: middle;\n",
       "    }\n",
       "\n",
       "    .dataframe tbody tr th {\n",
       "        vertical-align: top;\n",
       "    }\n",
       "\n",
       "    .dataframe thead th {\n",
       "        text-align: right;\n",
       "    }\n",
       "</style>\n",
       "<table border=\"1\" class=\"dataframe\">\n",
       "  <thead>\n",
       "    <tr style=\"text-align: right;\">\n",
       "      <th></th>\n",
       "      <th>Open</th>\n",
       "      <th>High</th>\n",
       "      <th>Low</th>\n",
       "      <th>Close</th>\n",
       "      <th>Adj Close</th>\n",
       "      <th>Volume</th>\n",
       "    </tr>\n",
       "    <tr>\n",
       "      <th>Date</th>\n",
       "      <th></th>\n",
       "      <th></th>\n",
       "      <th></th>\n",
       "      <th></th>\n",
       "      <th></th>\n",
       "      <th></th>\n",
       "    </tr>\n",
       "  </thead>\n",
       "  <tbody>\n",
       "    <tr>\n",
       "      <th>2024-08-14</th>\n",
       "      <td>172.110001</td>\n",
       "      <td>172.279999</td>\n",
       "      <td>168.860001</td>\n",
       "      <td>170.100006</td>\n",
       "      <td>170.100006</td>\n",
       "      <td>28843800</td>\n",
       "    </tr>\n",
       "    <tr>\n",
       "      <th>2024-08-15</th>\n",
       "      <td>174.860001</td>\n",
       "      <td>177.910004</td>\n",
       "      <td>173.990005</td>\n",
       "      <td>177.589996</td>\n",
       "      <td>177.589996</td>\n",
       "      <td>51698500</td>\n",
       "    </tr>\n",
       "    <tr>\n",
       "      <th>2024-08-16</th>\n",
       "      <td>177.039993</td>\n",
       "      <td>178.339996</td>\n",
       "      <td>176.259995</td>\n",
       "      <td>177.059998</td>\n",
       "      <td>177.059998</td>\n",
       "      <td>31440000</td>\n",
       "    </tr>\n",
       "  </tbody>\n",
       "</table>\n",
       "</div>"
      ],
      "text/plain": [
       "                  Open        High         Low       Close   Adj Close  \\\n",
       "Date                                                                     \n",
       "2024-08-14  172.110001  172.279999  168.860001  170.100006  170.100006   \n",
       "2024-08-15  174.860001  177.910004  173.990005  177.589996  177.589996   \n",
       "2024-08-16  177.039993  178.339996  176.259995  177.059998  177.059998   \n",
       "\n",
       "              Volume  \n",
       "Date                  \n",
       "2024-08-14  28843800  \n",
       "2024-08-15  51698500  \n",
       "2024-08-16  31440000  "
      ]
     },
     "execution_count": 17,
     "metadata": {},
     "output_type": "execute_result"
    }
   ],
   "source": [
    "df = pd.read_csv('/Users/liuda/Local/data/finance/stocks/ticker/history/AMZN.csv',index_col=0,parse_dates=True)\n",
    "\n",
    "df.shape\n",
    "df.head(3)\n",
    "df.tail(3)"
   ]
  },
  {
   "cell_type": "code",
   "execution_count": 18,
   "id": "7d7ca55d-6fa0-4591-b252-c4126415c6bd",
   "metadata": {},
   "outputs": [
    {
     "data": {
      "text/plain": [
       "'0.12.10b0'"
      ]
     },
     "execution_count": 18,
     "metadata": {},
     "output_type": "execute_result"
    }
   ],
   "source": [
    "import mplfinance as mpf\n",
    "mpf.__version__"
   ]
  },
  {
   "cell_type": "code",
   "execution_count": 19,
   "id": "84cdb34f-d175-4f4b-86ab-ecb06d7e4346",
   "metadata": {},
   "outputs": [],
   "source": [
    "df = df[df.index>'2024-01-01']"
   ]
  },
  {
   "cell_type": "code",
   "execution_count": 80,
   "id": "26cd67d3-873b-41f6-be63-96e7191081c5",
   "metadata": {},
   "outputs": [],
   "source": [
    "import matplotlib.pyplot as plt\n",
    "\n",
    "\n",
    "def plot_candle_figure(ticker_name, df, x):\n",
    "    df['Close'] = df['Adj Close']\n",
    "    df['Low'] = df['Adj Low']\n",
    "    df['High'] = df['Adj High']\n",
    "    df['Open'] = df['Adj Open']\n",
    "\n",
    "    # Ensure 'Low' is not greater than 'Open' or 'Close'\n",
    "    df['Low'] = df[['Low', 'Open', 'Close']].min(axis=1)\n",
    "    df['High'] = df[['High', 'Open', 'Close']].max(axis=1)\n",
    "\n",
    "    df.index = pd.to_datetime(df[\"Date\"])\n",
    "\n",
    "    \"\"\"\n",
    "    addplot = [mpf.make_addplot(df['Open'], label='Open', width=1.0)]\n",
    "\n",
    "\n",
    "    mpf.plot(df, type='candle', volume=True, style='charles',\n",
    "                             title=\"XXX\",\n",
    "                             addplot=addplot, \n",
    "                         returnfig=True,\n",
    "                             figscale=1.2,\n",
    "                             figsize=(12, 6))\n",
    "    for ax in axes:\n",
    "        ax.legend(loc=3, bbox_to_anchor=(1.02, 0), borderaxespad=1, fontsize='small')\n",
    "    \"\"\"\n",
    "    add_plot = []\n",
    "    for col in df.columns:\n",
    "        if col in [\"Volume\", \"Date\", \"Open\", \"Close\", \"High\", \"Low\",\n",
    "                   \"Adj Open\", \"Adj Close\", \"Adj High\", \"Adj Low\"]:\n",
    "            continue\n",
    "\n",
    "        linestyle = \"solid\"\n",
    "        if \"day\" in col:\n",
    "            linestyle = \"dashed\"\n",
    "        elif \"week\" in col:\n",
    "            linestyle = \"dashdot\"\n",
    "        elif \"month\" in col:\n",
    "            linestyle = \"dotted\"\n",
    "\n",
    "        addplot = mpf.make_addplot(df[col], linestyle=linestyle, label=col, width=1.0)\n",
    "        add_plot.append(addplot)\n",
    "\n",
    "    mpf.plot(df, type='candle', volume=True, style='charles',\n",
    "                         title=f'{ticker_name}',\n",
    "                         addplot=add_plot,\n",
    "                         returnfig=True,\n",
    "                         figscale=1.2,\n",
    "                         figsize=(12, 6),\n",
    "                         savefig=\"/Users/liuda/Desktop/1.png\"\n",
    "            )\n"
   ]
  },
  {
   "cell_type": "code",
   "execution_count": 81,
   "id": "60d2b533-89a6-4de6-8592-f6bb97f3b580",
   "metadata": {},
   "outputs": [
    {
     "name": "stderr",
     "output_type": "stream",
     "text": [
      "/opt/homebrew/lib/python3.10/site-packages/mplfinance/_arg_validators.py:84: UserWarning: \n",
      "\n",
      " ================================================================= \n",
      "\n",
      "   WARNING: YOU ARE PLOTTING SO MUCH DATA THAT IT MAY NOT BE\n",
      "            POSSIBLE TO SEE DETAILS (Candles, Ohlc-Bars, Etc.)\n",
      "   For more information see:\n",
      "   - https://github.com/matplotlib/mplfinance/wiki/Plotting-Too-Much-Data\n",
      "   \n",
      "   TO SILENCE THIS WARNING, set `type='line'` in `mpf.plot()`\n",
      "   OR set kwarg `warn_too_much_data=N` where N is an integer \n",
      "   LARGER than the number of data points you want to plot.\n",
      "\n",
      " ================================================================ \n",
      "  warnings.warn('\\n\\n ================================================================= '+\n"
     ]
    }
   ],
   "source": [
    "from datetime import datetime, timedelta\n",
    "\n",
    "figure_data = pd.read_csv('/Users/liuda/Local/data/finance/output/entries/AMZN.csv')\n",
    "figure_data = figure_data[['Date',\n",
    "                           \"Open\", \"High\", \"Low\",\n",
    "                           \"Adj Open\", \"Adj High\", \"Adj Low\", 'Adj Close',\n",
    "                           \"Volume\",\n",
    "                           'EMA_13_day', 'EMA_21_day', 'SMA_50_day', 'SMA_100_day',\n",
    "                           'SMA_50_weekly']]\n",
    "\n",
    "data_start_date = (datetime.now() + timedelta(days=-90)).strftime('%Y-%m-%d')\n",
    "\n",
    "\n",
    "plot_candle_figure('XXX', figure_data, 'Date')"
   ]
  },
  {
   "cell_type": "code",
   "execution_count": null,
   "id": "10eca14e-20dc-4500-93a7-a787f3d28b7c",
   "metadata": {},
   "outputs": [],
   "source": []
  },
  {
   "cell_type": "code",
   "execution_count": null,
   "id": "c874bdcc-6747-4f22-b249-ebeba3afbacb",
   "metadata": {},
   "outputs": [],
   "source": []
  }
 ],
 "metadata": {
  "kernelspec": {
   "display_name": "Python 3 (ipykernel)",
   "language": "python",
   "name": "python3"
  },
  "language_info": {
   "codemirror_mode": {
    "name": "ipython",
    "version": 3
   },
   "file_extension": ".py",
   "mimetype": "text/x-python",
   "name": "python",
   "nbconvert_exporter": "python",
   "pygments_lexer": "ipython3",
   "version": "3.10.14"
  }
 },
 "nbformat": 4,
 "nbformat_minor": 5
}
