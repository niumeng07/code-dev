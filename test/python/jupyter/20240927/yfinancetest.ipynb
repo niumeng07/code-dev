{
 "cells": [
  {
   "cell_type": "code",
   "execution_count": 25,
   "id": "71bd0fc8-b5e7-4eb8-94bb-f8a92e686fb2",
   "metadata": {},
   "outputs": [],
   "source": [
    "import yfinance as yf"
   ]
  },
  {
   "cell_type": "code",
   "execution_count": 26,
   "id": "8400e80b-c4a4-4bcd-9449-6d74b5ed45f1",
   "metadata": {},
   "outputs": [
    {
     "data": {
      "text/plain": [
       "'0.2.44'"
      ]
     },
     "execution_count": 26,
     "metadata": {},
     "output_type": "execute_result"
    }
   ],
   "source": [
    "yf.__version__"
   ]
  },
  {
   "cell_type": "code",
   "execution_count": 27,
   "id": "0e44dcdd-2b57-439c-a1c8-8a720cdb15b3",
   "metadata": {},
   "outputs": [],
   "source": [
    "ticker_name = 'AMZN'\n",
    "start_date = '2023-01-01'\n",
    "end_date = '2024-11-26'"
   ]
  },
  {
   "cell_type": "code",
   "execution_count": 28,
   "id": "1c90b0e9-4aff-496a-922c-e61f60660df1",
   "metadata": {},
   "outputs": [],
   "source": [
    "yf_ticker = yf.Ticker(ticker_name, proxy='http://127.0.0.1:8001')"
   ]
  },
  {
   "cell_type": "code",
   "execution_count": 29,
   "id": "a212fd25-7670-498d-96b7-41d628e61fdf",
   "metadata": {},
   "outputs": [
    {
     "data": {
      "text/html": [
       "<div>\n",
       "<style scoped>\n",
       "    .dataframe tbody tr th:only-of-type {\n",
       "        vertical-align: middle;\n",
       "    }\n",
       "\n",
       "    .dataframe tbody tr th {\n",
       "        vertical-align: top;\n",
       "    }\n",
       "\n",
       "    .dataframe thead th {\n",
       "        text-align: right;\n",
       "    }\n",
       "</style>\n",
       "<table border=\"1\" class=\"dataframe\">\n",
       "  <thead>\n",
       "    <tr style=\"text-align: right;\">\n",
       "      <th></th>\n",
       "      <th>epsEstimate</th>\n",
       "      <th>epsActual</th>\n",
       "      <th>epsDifference</th>\n",
       "      <th>surprisePercent</th>\n",
       "    </tr>\n",
       "  </thead>\n",
       "  <tbody>\n",
       "    <tr>\n",
       "      <th>2023-12-31</th>\n",
       "      <td>0.80400</td>\n",
       "      <td>1.00</td>\n",
       "      <td>0.20</td>\n",
       "      <td>0.2438</td>\n",
       "    </tr>\n",
       "    <tr>\n",
       "      <th>2024-03-31</th>\n",
       "      <td>0.83227</td>\n",
       "      <td>0.98</td>\n",
       "      <td>0.15</td>\n",
       "      <td>0.1775</td>\n",
       "    </tr>\n",
       "    <tr>\n",
       "      <th>2024-06-30</th>\n",
       "      <td>1.02503</td>\n",
       "      <td>1.26</td>\n",
       "      <td>0.23</td>\n",
       "      <td>0.2292</td>\n",
       "    </tr>\n",
       "    <tr>\n",
       "      <th>2024-09-30</th>\n",
       "      <td>1.14242</td>\n",
       "      <td>1.43</td>\n",
       "      <td>0.29</td>\n",
       "      <td>0.2517</td>\n",
       "    </tr>\n",
       "  </tbody>\n",
       "</table>\n",
       "</div>"
      ],
      "text/plain": [
       "            epsEstimate  epsActual  epsDifference  surprisePercent\n",
       "2023-12-31      0.80400       1.00           0.20           0.2438\n",
       "2024-03-31      0.83227       0.98           0.15           0.1775\n",
       "2024-06-30      1.02503       1.26           0.23           0.2292\n",
       "2024-09-30      1.14242       1.43           0.29           0.2517"
      ]
     },
     "execution_count": 29,
     "metadata": {},
     "output_type": "execute_result"
    }
   ],
   "source": [
    "yf_ticker.earnings_history"
   ]
  },
  {
   "cell_type": "code",
   "execution_count": 30,
   "id": "50353634-f766-4dbb-84e4-51609eac993b",
   "metadata": {},
   "outputs": [
    {
     "data": {
      "text/html": [
       "<div>\n",
       "<style scoped>\n",
       "    .dataframe tbody tr th:only-of-type {\n",
       "        vertical-align: middle;\n",
       "    }\n",
       "\n",
       "    .dataframe tbody tr th {\n",
       "        vertical-align: top;\n",
       "    }\n",
       "\n",
       "    .dataframe thead th {\n",
       "        text-align: right;\n",
       "    }\n",
       "</style>\n",
       "<table border=\"1\" class=\"dataframe\">\n",
       "  <thead>\n",
       "    <tr style=\"text-align: right;\">\n",
       "      <th></th>\n",
       "      <th>numberOfAnalysts</th>\n",
       "      <th>avg</th>\n",
       "      <th>low</th>\n",
       "      <th>high</th>\n",
       "      <th>yearAgoEps</th>\n",
       "      <th>growth</th>\n",
       "    </tr>\n",
       "  </thead>\n",
       "  <tbody>\n",
       "    <tr>\n",
       "      <th>0q</th>\n",
       "      <td>42</td>\n",
       "      <td>1.46722</td>\n",
       "      <td>1.29</td>\n",
       "      <td>1.83</td>\n",
       "      <td>1.00000</td>\n",
       "      <td>0.4672</td>\n",
       "    </tr>\n",
       "    <tr>\n",
       "      <th>+1q</th>\n",
       "      <td>27</td>\n",
       "      <td>1.36904</td>\n",
       "      <td>1.18</td>\n",
       "      <td>1.53</td>\n",
       "      <td>0.98000</td>\n",
       "      <td>0.3970</td>\n",
       "    </tr>\n",
       "    <tr>\n",
       "      <th>0y</th>\n",
       "      <td>57</td>\n",
       "      <td>5.12191</td>\n",
       "      <td>4.73</td>\n",
       "      <td>5.49</td>\n",
       "      <td>2.90000</td>\n",
       "      <td>0.7662</td>\n",
       "    </tr>\n",
       "    <tr>\n",
       "      <th>+1y</th>\n",
       "      <td>57</td>\n",
       "      <td>6.16009</td>\n",
       "      <td>5.50</td>\n",
       "      <td>6.86</td>\n",
       "      <td>5.12191</td>\n",
       "      <td>0.2027</td>\n",
       "    </tr>\n",
       "  </tbody>\n",
       "</table>\n",
       "</div>"
      ],
      "text/plain": [
       "     numberOfAnalysts      avg   low  high  yearAgoEps  growth\n",
       "0q                 42  1.46722  1.29  1.83     1.00000  0.4672\n",
       "+1q                27  1.36904  1.18  1.53     0.98000  0.3970\n",
       "0y                 57  5.12191  4.73  5.49     2.90000  0.7662\n",
       "+1y                57  6.16009  5.50  6.86     5.12191  0.2027"
      ]
     },
     "execution_count": 30,
     "metadata": {},
     "output_type": "execute_result"
    }
   ],
   "source": [
    "yf_ticker.earnings_estimate"
   ]
  },
  {
   "cell_type": "code",
   "execution_count": null,
   "id": "43545fb7-14fc-4fbc-a4ab-09e31e45c08c",
   "metadata": {},
   "outputs": [],
   "source": []
  },
  {
   "cell_type": "code",
   "execution_count": null,
   "id": "23042178-b23d-4037-9aed-dea5d26680c4",
   "metadata": {},
   "outputs": [],
   "source": []
  },
  {
   "cell_type": "code",
   "execution_count": null,
   "id": "c11cb80e-a00b-4f23-bb7e-35ffa71fe2a0",
   "metadata": {},
   "outputs": [],
   "source": [
    "print(yf_ticker.major_holders)\n",
    "print(yf_ticker.institutional_holders)\n",
    "yf_ticker.mutualfund_holders\n",
    "yf_ticker.insider_transactions\n",
    "yf_ticker.insider_purchases\n",
    "yf_ticker.insider_roster_holders\n",
    "yf_ticker.splits\n",
    "yf_ticker.actions\n",
    "# yf_ticker.shares\n",
    "yf_ticker.info\n",
    "yf_ticker.calendar\n",
    "yf_ticker.recommendations\n",
    "yf_ticker.recommendations_summary\n",
    "yf_ticker.upgrades_downgrades\n",
    "yf_ticker.quarterly_cashflow\n",
    "yf_ticker.cashflow\n",
    "yf_ticker.quarterly_balance_sheet\n",
    "yf_ticker.balance_sheet\n",
    "yf_ticker.quarterly_income_stmt\n",
    "yf_ticker.income_stmt\n",
    "# yf_ticker.analyst_price_targets\n",
    "# yf_ticker.earnings_estimate\n",
    "# yf_ticker.revenue_estimate\n",
    "# yf_ticker.earnings_history\n",
    "# yf_ticker.eps_trend\n",
    "# yf_ticker.eps_revisions\n",
    "# yf_ticker.growth_estimates\n",
    "# yf_ticker.sustainability\n",
    "# yf_ticker.options\n",
    "# yf_ticker.news\n",
    "# yf_ticker.earnings_dates"
   ]
  },
  {
   "cell_type": "code",
   "execution_count": null,
   "id": "95a2fb33-cda3-44e3-a63a-5515a18ebeca",
   "metadata": {},
   "outputs": [],
   "source": []
  },
  {
   "cell_type": "code",
   "execution_count": 17,
   "id": "de67fbe0-24ca-4179-ab35-015501dced7c",
   "metadata": {},
   "outputs": [],
   "source": [
    "import pandas as pd"
   ]
  },
  {
   "cell_type": "code",
   "execution_count": 18,
   "id": "cb2ea61b-fa32-4967-bbfd-fed431e36f6e",
   "metadata": {},
   "outputs": [],
   "source": [
    "input_file = '/Users/liuda/Local/data/finance/stocks/ticker/earnings_history/AAPL.csv'"
   ]
  },
  {
   "cell_type": "code",
   "execution_count": 19,
   "id": "c70462d5-419b-45ff-9fe6-a70db7ca57de",
   "metadata": {},
   "outputs": [],
   "source": [
    "data = pd.read_csv(input_file)"
   ]
  },
  {
   "cell_type": "code",
   "execution_count": 22,
   "id": "6df6510e-fb4c-478e-93dd-28ed76623218",
   "metadata": {},
   "outputs": [
    {
     "data": {
      "text/plain": [
       "'2024-09-30'"
      ]
     },
     "execution_count": 22,
     "metadata": {},
     "output_type": "execute_result"
    }
   ],
   "source": [
    "data['Unnamed: 0'].iloc[-1]"
   ]
  },
  {
   "cell_type": "code",
   "execution_count": 23,
   "id": "968d8f98-85c3-493e-82bf-df3d72e2f8fa",
   "metadata": {},
   "outputs": [
    {
     "data": {
      "text/plain": [
       "'2024-09-30'"
      ]
     },
     "execution_count": 23,
     "metadata": {},
     "output_type": "execute_result"
    }
   ],
   "source": [
    "data.iloc[-1]['Unnamed: 0']"
   ]
  },
  {
   "cell_type": "code",
   "execution_count": 32,
   "id": "d224d02d-88e9-405d-95fe-fee011e48492",
   "metadata": {},
   "outputs": [],
   "source": [
    "import yfinance"
   ]
  },
  {
   "cell_type": "code",
   "execution_count": null,
   "id": "eb557550-bb6c-47cf-b80f-0b40d1d9d856",
   "metadata": {},
   "outputs": [],
   "source": []
  }
 ],
 "metadata": {
  "kernelspec": {
   "display_name": "Python 3 (ipykernel)",
   "language": "python",
   "name": "python3"
  },
  "language_info": {
   "codemirror_mode": {
    "name": "ipython",
    "version": 3
   },
   "file_extension": ".py",
   "mimetype": "text/x-python",
   "name": "python",
   "nbconvert_exporter": "python",
   "pygments_lexer": "ipython3",
   "version": "3.10.15"
  }
 },
 "nbformat": 4,
 "nbformat_minor": 5
}
