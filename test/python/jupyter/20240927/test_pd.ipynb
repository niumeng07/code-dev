{
 "cells": [
  {
   "cell_type": "code",
   "execution_count": 39,
   "id": "f4f69e2c-7545-42aa-8840-2060c56dd24c",
   "metadata": {},
   "outputs": [],
   "source": [
    "import pandas as pd\n",
    "\n",
    "# 示例数据\n",
    "data = {'date': pd.date_range(start='2024-09-01', periods=10, freq='D'),'value': range(10)}\n",
    "df = pd.DataFrame(data).set_index('date')\n",
    "\n",
    "future_dates = pd.date_range(start=df.index[-1] + pd.Timedelta(days=1), periods=30)\n",
    "\n",
    "# 将未来日期添加到原数据\n",
    "df = df.reindex(df.index.union(future_dates))\n",
    "\n",
    "# 向后填充\n",
    "df = df.ffill()"
   ]
  },
  {
   "cell_type": "code",
   "execution_count": 44,
   "id": "2cea20ce-56a9-4040-9e55-36ad64a85898",
   "metadata": {},
   "outputs": [
    {
     "name": "stdout",
     "output_type": "stream",
     "text": [
      "            value\n",
      "2024-09-01    0.0\n",
      "2024-09-02    1.0\n",
      "2024-09-03    2.0\n",
      "2024-09-04    3.0\n",
      "2024-09-05    4.0\n",
      "2024-09-06    5.0\n",
      "2024-09-07    6.0\n",
      "2024-09-08    7.0\n",
      "2024-09-09    8.0\n",
      "2024-09-10    9.0\n",
      "2024-09-11    9.0\n",
      "2024-09-12    9.0\n",
      "2024-09-13    9.0\n",
      "2024-09-14    9.0\n",
      "2024-09-15    9.0\n",
      "2024-09-16    9.0\n",
      "2024-09-17    9.0\n",
      "2024-09-18    9.0\n",
      "2024-09-19    9.0\n",
      "2024-09-20    9.0\n",
      "2024-09-21    9.0\n",
      "2024-09-22    9.0\n",
      "2024-09-23    9.0\n",
      "2024-09-24    9.0\n",
      "2024-09-25    9.0\n",
      "2024-09-26    9.0\n",
      "2024-09-27    9.0\n",
      "2024-09-28    9.0\n",
      "2024-09-29    9.0\n",
      "2024-09-30    9.0\n",
      "2024-10-01    9.0\n",
      "2024-10-02    9.0\n",
      "2024-10-03    9.0\n",
      "2024-10-04    9.0\n",
      "2024-10-05    9.0\n",
      "2024-10-06    9.0\n",
      "2024-10-07    9.0\n",
      "2024-10-08    9.0\n",
      "2024-10-09    9.0\n",
      "2024-10-10    9.0\n"
     ]
    }
   ],
   "source": [
    "print(df)"
   ]
  },
  {
   "cell_type": "code",
   "execution_count": 45,
   "id": "a0ce08ea-139f-438e-879d-92e028b255bb",
   "metadata": {},
   "outputs": [
    {
     "name": "stdout",
     "output_type": "stream",
     "text": [
      "            value\n",
      "2024-08-25    0.0\n",
      "2024-08-26    0.0\n",
      "2024-08-27    0.0\n",
      "2024-08-28    0.0\n",
      "2024-08-29    0.0\n",
      "2024-08-30    0.0\n",
      "2024-08-31    0.0\n",
      "2024-09-01    7.0\n",
      "2024-09-02    7.0\n",
      "2024-09-03    7.0\n",
      "2024-09-04    7.0\n",
      "2024-09-05    7.0\n",
      "2024-09-06    7.0\n",
      "2024-09-07    7.0\n",
      "2024-09-08    9.0\n",
      "2024-09-09    9.0\n",
      "2024-09-10    9.0\n",
      "2024-09-11    9.0\n",
      "2024-09-12    9.0\n",
      "2024-09-13    9.0\n",
      "2024-09-14    9.0\n",
      "2024-09-15    9.0\n",
      "2024-09-16    9.0\n",
      "2024-09-17    9.0\n",
      "2024-09-18    9.0\n",
      "2024-09-19    9.0\n",
      "2024-09-20    9.0\n",
      "2024-09-21    9.0\n",
      "2024-09-22    9.0\n",
      "2024-09-23    9.0\n",
      "2024-09-24    9.0\n",
      "2024-09-25    9.0\n",
      "2024-09-26    9.0\n",
      "2024-09-27    9.0\n",
      "2024-09-28    9.0\n",
      "2024-09-29    9.0\n",
      "2024-09-30    9.0\n",
      "2024-10-01    9.0\n",
      "2024-10-02    9.0\n",
      "2024-10-03    9.0\n",
      "2024-10-04    9.0\n",
      "2024-10-05    9.0\n",
      "2024-10-06    9.0\n"
     ]
    }
   ],
   "source": [
    "# 按周取最后一个值，向前填充缺失值\n",
    "resample_left = df.resample(\"W\", label=\"left\", offset=\"1D\").agg({'value': 'last',}).ffill()\n",
    "print(resample_left.resample(\"D\").ffill())"
   ]
  },
  {
   "cell_type": "code",
   "execution_count": null,
   "id": "827bc72d-7419-458f-97f8-45f9e1221ae3",
   "metadata": {},
   "outputs": [],
   "source": []
  },
  {
   "cell_type": "code",
   "execution_count": null,
   "id": "2a17babd-356e-4d6d-b0af-f9750e74206e",
   "metadata": {},
   "outputs": [],
   "source": []
  },
  {
   "cell_type": "code",
   "execution_count": null,
   "id": "ba5a5817-4833-4ce8-8a4c-5d48807b38ed",
   "metadata": {},
   "outputs": [],
   "source": []
  }
 ],
 "metadata": {
  "kernelspec": {
   "display_name": "Python 3 (ipykernel)",
   "language": "python",
   "name": "python3"
  },
  "language_info": {
   "codemirror_mode": {
    "name": "ipython",
    "version": 3
   },
   "file_extension": ".py",
   "mimetype": "text/x-python",
   "name": "python",
   "nbconvert_exporter": "python",
   "pygments_lexer": "ipython3",
   "version": "3.10.15"
  }
 },
 "nbformat": 4,
 "nbformat_minor": 5
}
