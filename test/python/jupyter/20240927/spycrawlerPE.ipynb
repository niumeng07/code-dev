{
 "cells": [
  {
   "cell_type": "code",
   "execution_count": 45,
   "id": "ab7fe4ed-b785-42fe-86d7-f9b5499fd8a1",
   "metadata": {},
   "outputs": [],
   "source": []
  },
  {
   "cell_type": "code",
   "execution_count": 48,
   "id": "f5149d14-e38a-46d4-bcb5-34f8e9753bac",
   "metadata": {},
   "outputs": [],
   "source": [
    "import requests\n",
    "from datetime import datetime\n",
    "import pandas as pd\n",
    "from bs4 import BeautifulSoup\n",
    "\n",
    "response = requests.get('https://www.multpl.com/s-p-500-pe-ratio/table/by-month')\n",
    "\n",
    "html_content = response.text\n",
    "\n",
    "soup = BeautifulSoup(html_content, 'html.parser')\n",
    "\n",
    "table_div = soup.find('div', id='_table')\n",
    "\n",
    "# If the div is found and it contains a table, proceed to parse it\n",
    "\n",
    "SPY_PE_ratio = {'Date': [], 'PE_ratio': []}\n",
    "if table_div:\n",
    "    # Assuming the div contains a <table>\n",
    "    table = table_div.find('table')\n",
    "\n",
    "    # Extract all rows from the table\n",
    "    rows = table.find_all('tr')\n",
    "\n",
    "    # Loop through each row to extract table data\n",
    "    for row in rows:\n",
    "        # Extract columns (td or th)\n",
    "        cols = row.find_all(['td', 'th'])\n",
    "        cols = [col.text.strip() for col in cols]  # Get text and strip extra spaces\n",
    "        if cols[0] == 'Date':\n",
    "            continue\n",
    "        date_obj = datetime.strptime(cols[0], \"%b %d, %Y\")\n",
    "        formatted_date = date_obj.strftime(\"%Y-%m-%d\")\n",
    "        SPY_PE_ratio['Date'].append(formatted_date)\n",
    "        PE_ratio = cols[1].replace(\"\\n\", \"\")\n",
    "        SPY_PE_ratio['PE_ratio'].append(PE_ratio)\n",
    "else:\n",
    "    print(\"No <div> with id '_table' or no table found.\")\n",
    "\n",
    "SPY_PE_ratio = pd.DataFrame(SPY_PE_ratio)\n",
    "\n",
    "SPY_PE_ratio.to_csv(f'/Users/liuda/Local/data/finance/stocks/index_ticker/SPY/SPY_PE_ratio.csv')"
   ]
  },
  {
   "cell_type": "code",
   "execution_count": null,
   "id": "e38c9a99-22bb-4628-bb9a-d4bac486975e",
   "metadata": {},
   "outputs": [],
   "source": []
  },
  {
   "cell_type": "code",
   "execution_count": 53,
   "id": "a5889e10-ead5-4e00-8ee7-3d27e1e4431d",
   "metadata": {},
   "outputs": [
    {
     "name": "stdout",
     "output_type": "stream",
     "text": [
      "            Date PE_ratio\n",
      "0     2024-03-31    10.10\n",
      "1     2024-02-29    10.10\n",
      "2     2024-01-31    10.10\n",
      "3     2023-12-31    10.10\n",
      "4     2023-11-30    10.10\n",
      "...          ...      ...\n",
      "1834  1871-05-31    10.10\n",
      "1835  1871-04-30    10.10\n",
      "1836  1871-03-31    10.10\n",
      "1837  1871-02-28    10.10\n",
      "1838  1871-01-31    10.10\n",
      "\n",
      "[1839 rows x 2 columns]\n"
     ]
    }
   ],
   "source": [
    "response = requests.get('https://www.multpl.com/s-p-500-earnings/table/by-month')\n",
    "html_content = response.text\n",
    "\n",
    "soup = BeautifulSoup(html_content, 'html.parser')\n",
    "\n",
    "table_div = soup.find('div', id='_table')\n",
    "\n",
    "SPY_PE_ratio = {'Date': [], 'PE_ratio': []}\n",
    "if table_div:\n",
    "    table = table_div.find('table')\n",
    "\n",
    "    rows = table.find_all('tr')\n",
    "\n",
    "    for row in rows:\n",
    "        cols = row.find_all(['td', 'th'])\n",
    "        cols = [col.text.strip() for col in cols]  # Get text and strip extra spaces\n",
    "        if cols[0] == 'Date':\n",
    "            continue\n",
    "        date_obj = datetime.strptime(cols[0], \"%b %d, %Y\")\n",
    "        formatted_date = date_obj.strftime(\"%Y-%m-%d\")\n",
    "        SPY_PE_ratio['Date'].append(formatted_date)\n",
    "        # PE_ratio = cols[1].replace(\"\\n\", \"\")\n",
    "        SPY_PE_ratio['PE_ratio'].append(PE_ratio)\n",
    "else:\n",
    "    logger.error(\"No <div> with id '_table' or no table found.\")\n",
    "\n",
    "SPY_PE_ratio = pd.DataFrame(SPY_PE_ratio)\n"
   ]
  },
  {
   "cell_type": "code",
   "execution_count": null,
   "id": "eed2137c-e8f5-4e6c-84d7-c3a0b58e9357",
   "metadata": {},
   "outputs": [],
   "source": []
  },
  {
   "cell_type": "code",
   "execution_count": null,
   "id": "777520d8-eacd-4ae6-832c-501e0f277907",
   "metadata": {},
   "outputs": [],
   "source": []
  },
  {
   "cell_type": "code",
   "execution_count": null,
   "id": "83c0b170-3640-4258-972a-26e773d539e6",
   "metadata": {},
   "outputs": [],
   "source": []
  },
  {
   "cell_type": "code",
   "execution_count": null,
   "id": "32af928a-d214-4749-96df-7fc9516f5f0a",
   "metadata": {},
   "outputs": [],
   "source": []
  },
  {
   "cell_type": "code",
   "execution_count": 44,
   "id": "9edf4a8d-957a-4d4a-95a0-bbbf8c53b0f2",
   "metadata": {},
   "outputs": [],
   "source": []
  },
  {
   "cell_type": "code",
   "execution_count": null,
   "id": "02ff6abe-341a-4680-8c8c-fc416e1ae472",
   "metadata": {},
   "outputs": [],
   "source": []
  }
 ],
 "metadata": {
  "kernelspec": {
   "display_name": "Python 3 (ipykernel)",
   "language": "python",
   "name": "python3"
  },
  "language_info": {
   "codemirror_mode": {
    "name": "ipython",
    "version": 3
   },
   "file_extension": ".py",
   "mimetype": "text/x-python",
   "name": "python",
   "nbconvert_exporter": "python",
   "pygments_lexer": "ipython3",
   "version": "3.10.14"
  }
 },
 "nbformat": 4,
 "nbformat_minor": 5
}
