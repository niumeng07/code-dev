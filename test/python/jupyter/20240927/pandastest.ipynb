{
 "cells": [
  {
   "cell_type": "code",
   "execution_count": 4,
   "id": "12add47b-1b96-4369-ac4f-df4a559989df",
   "metadata": {},
   "outputs": [],
   "source": [
    "import pandas as pd"
   ]
  },
  {
   "cell_type": "code",
   "execution_count": null,
   "id": "0340bec6-0c23-417f-a11e-05276918dd0a",
   "metadata": {},
   "outputs": [],
   "source": []
  },
  {
   "cell_type": "code",
   "execution_count": 5,
   "id": "adbc5a83-2e64-42ff-9683-2dab7f198911",
   "metadata": {},
   "outputs": [],
   "source": [
    "df1 = pd.DataFrame({'A': [1,2,3], 'B': [3,4,5]})\n",
    "df2 = pd.DataFrame({'A': [1,3,4], 'B': [3,4,5]})"
   ]
  },
  {
   "cell_type": "code",
   "execution_count": 6,
   "id": "c9487df8-083b-4c55-b44e-c968d994d809",
   "metadata": {},
   "outputs": [],
   "source": [
    "df = pd.merge(df1, df2, on=['A'], how='outer', suffixes=['_x', '_y'])"
   ]
  },
  {
   "cell_type": "code",
   "execution_count": null,
   "id": "da7f8ae4-e6e2-46ad-a98a-717758109349",
   "metadata": {},
   "outputs": [],
   "source": []
  },
  {
   "cell_type": "code",
   "execution_count": 7,
   "id": "b80bf696-2578-486f-affe-b06e9cc12851",
   "metadata": {},
   "outputs": [],
   "source": [
    "df['B'] = df['B_x'].combine_first(df['B_y'])\n",
    "df.drop(columns=['B_x', 'B_y'], inplace=True)"
   ]
  },
  {
   "cell_type": "code",
   "execution_count": 12,
   "id": "81ecd9bd-9210-49e1-b2e4-a63e75be8de4",
   "metadata": {},
   "outputs": [],
   "source": [
    "from io import StringIO\n",
    "\n",
    "csv_buffer = StringIO()\n",
    "df.to_csv(csv_buffer, index=False)\n",
    "\n",
    "csv_string = csv_buffer.getvalue()"
   ]
  },
  {
   "cell_type": "code",
   "execution_count": 14,
   "id": "cef81a62-dcef-4b2d-a378-db0fb7cc2b9c",
   "metadata": {},
   "outputs": [
    {
     "name": "stdout",
     "output_type": "stream",
     "text": [
      "A,B\n",
      "1,3.0\n",
      "2,4.0\n",
      "3,5.0\n",
      "4,5.0\n",
      "\n"
     ]
    }
   ],
   "source": [
    "print(csv_string)"
   ]
  },
  {
   "cell_type": "code",
   "execution_count": 102,
   "id": "2261c39c-54dd-480e-a249-5682a4bd735b",
   "metadata": {},
   "outputs": [],
   "source": [
    "df1 = pd.DataFrame({'A': [1,2,3], 'B': [3,4,5]})\n",
    "df2 = pd.DataFrame({'A': [1,3,4], 'B': [3,4,5]})\n",
    "\n",
    "df = pd.merge(df1, df2, on=['A'], how='outer', suffixes=['_x', '_y'])"
   ]
  },
  {
   "cell_type": "code",
   "execution_count": 103,
   "id": "2028028a-8529-4fa1-8ec6-b26309b3aca0",
   "metadata": {},
   "outputs": [
    {
     "data": {
      "text/html": [
       "<div>\n",
       "<style scoped>\n",
       "    .dataframe tbody tr th:only-of-type {\n",
       "        vertical-align: middle;\n",
       "    }\n",
       "\n",
       "    .dataframe tbody tr th {\n",
       "        vertical-align: top;\n",
       "    }\n",
       "\n",
       "    .dataframe thead th {\n",
       "        text-align: right;\n",
       "    }\n",
       "</style>\n",
       "<table border=\"1\" class=\"dataframe\">\n",
       "  <thead>\n",
       "    <tr style=\"text-align: right;\">\n",
       "      <th></th>\n",
       "      <th>B_x</th>\n",
       "      <th>B_y</th>\n",
       "    </tr>\n",
       "  </thead>\n",
       "  <tbody>\n",
       "    <tr>\n",
       "      <th>0</th>\n",
       "      <td>3.0</td>\n",
       "      <td>3.0</td>\n",
       "    </tr>\n",
       "    <tr>\n",
       "      <th>1</th>\n",
       "      <td>4.0</td>\n",
       "      <td>0.0</td>\n",
       "    </tr>\n",
       "    <tr>\n",
       "      <th>2</th>\n",
       "      <td>5.0</td>\n",
       "      <td>4.0</td>\n",
       "    </tr>\n",
       "    <tr>\n",
       "      <th>3</th>\n",
       "      <td>0.0</td>\n",
       "      <td>5.0</td>\n",
       "    </tr>\n",
       "  </tbody>\n",
       "</table>\n",
       "</div>"
      ],
      "text/plain": [
       "   B_x  B_y\n",
       "0  3.0  3.0\n",
       "1  4.0  0.0\n",
       "2  5.0  4.0\n",
       "3  0.0  5.0"
      ]
     },
     "execution_count": 103,
     "metadata": {},
     "output_type": "execute_result"
    }
   ],
   "source": [
    "df[['B_x', 'B_y']].fillna(0)"
   ]
  },
  {
   "cell_type": "code",
   "execution_count": null,
   "id": "307d0cc0-054d-474b-a157-254f2b7a3666",
   "metadata": {},
   "outputs": [],
   "source": []
  },
  {
   "cell_type": "code",
   "execution_count": 105,
   "id": "b420f763-ac0e-4900-a836-3565cffbbfc9",
   "metadata": {},
   "outputs": [],
   "source": [
    "df1 = pd.DataFrame({'A': [1,2,3], 'B': [3,4,5]})\n",
    "df2 = pd.DataFrame({'A': [1,3,4], 'B': [3,4,5]})\n",
    "\n",
    "df = pd.merge(df1, df2, on=['A'], how='outer', suffixes=['_x', '_y'])"
   ]
  },
  {
   "cell_type": "code",
   "execution_count": null,
   "id": "4406079c-e6e3-481f-a91f-f50420fbaf7b",
   "metadata": {},
   "outputs": [],
   "source": []
  },
  {
   "cell_type": "code",
   "execution_count": 107,
   "id": "d68e5644-91a8-4a6b-88c3-24fe6ccecd5b",
   "metadata": {},
   "outputs": [],
   "source": [
    "df_filter = df[df['A']==1].copy()"
   ]
  },
  {
   "cell_type": "code",
   "execution_count": 109,
   "id": "a56434ac-fe53-428f-ac34-ba07b3fd33eb",
   "metadata": {},
   "outputs": [],
   "source": [
    "df_filter['A']  = 111"
   ]
  },
  {
   "cell_type": "code",
   "execution_count": null,
   "id": "8fab73b0-b106-4f3f-8a53-20de0226f96e",
   "metadata": {},
   "outputs": [],
   "source": []
  },
  {
   "cell_type": "code",
   "execution_count": 110,
   "id": "70d6fa10-7ecc-45a2-9a7b-c3deaf00e1f9",
   "metadata": {},
   "outputs": [
    {
     "name": "stdout",
     "output_type": "stream",
     "text": [
      "1\n",
      "run 1 2\n"
     ]
    }
   ],
   "source": [
    "class Test:\n",
    "    a = 1\n",
    "    b = 0\n",
    "    def __init__(self):\n",
    "        self.b = 2\n",
    "        print(self.a)\n",
    "    def run(self):\n",
    "        print('run', self.a, self.b)\n",
    "\n",
    "\n",
    "Test().run()"
   ]
  },
  {
   "cell_type": "code",
   "execution_count": 111,
   "id": "7fbf2106-ab83-4d8d-8184-4ec72f816a7c",
   "metadata": {},
   "outputs": [],
   "source": [
    "df = pd.DataFrame({\n",
    "    'opening_date': ['2014-02-14','2014-04-21','2014-08-19','2014-10-21','2014-12-19'],\n",
    "    'T_LongBullBuy2_3': [0,1.0,1.0,1.0,1.0],\n",
    "    'T_H_H_strategy1' : [0,0,1.0,0,1.0],\n",
    "    'T_H_M_strategy1' : [0,1.0,0,1.0,1.0],\n",
    "    'T_LongBullBuy2_2': [0.0,1.0,1.0,1.0,1.0]\n",
    "})\n",
    "\n",
    "df['trigger'] = df[['T_LongBullBuy2_3', 'T_H_H_strategy1', 'T_H_M_strategy1', 'T_LongBullBuy2_2']].sum(axis=1)"
   ]
  },
  {
   "cell_type": "code",
   "execution_count": 112,
   "id": "459fca6d-c31b-4138-ac41-2af565ac2699",
   "metadata": {},
   "outputs": [],
   "source": [
    "df['trigger2'] = df['trigger'].astype(bool).astype(int)"
   ]
  },
  {
   "cell_type": "code",
   "execution_count": 113,
   "id": "60b3cb6f-bed5-46cb-b0de-c25123d85478",
   "metadata": {},
   "outputs": [
    {
     "data": {
      "text/html": [
       "<div>\n",
       "<style scoped>\n",
       "    .dataframe tbody tr th:only-of-type {\n",
       "        vertical-align: middle;\n",
       "    }\n",
       "\n",
       "    .dataframe tbody tr th {\n",
       "        vertical-align: top;\n",
       "    }\n",
       "\n",
       "    .dataframe thead th {\n",
       "        text-align: right;\n",
       "    }\n",
       "</style>\n",
       "<table border=\"1\" class=\"dataframe\">\n",
       "  <thead>\n",
       "    <tr style=\"text-align: right;\">\n",
       "      <th></th>\n",
       "      <th>opening_date</th>\n",
       "      <th>T_LongBullBuy2_3</th>\n",
       "      <th>T_H_H_strategy1</th>\n",
       "      <th>T_H_M_strategy1</th>\n",
       "      <th>T_LongBullBuy2_2</th>\n",
       "      <th>trigger</th>\n",
       "      <th>trigger2</th>\n",
       "    </tr>\n",
       "  </thead>\n",
       "  <tbody>\n",
       "    <tr>\n",
       "      <th>0</th>\n",
       "      <td>2014-02-14</td>\n",
       "      <td>0.0</td>\n",
       "      <td>0.0</td>\n",
       "      <td>0.0</td>\n",
       "      <td>0.0</td>\n",
       "      <td>0.0</td>\n",
       "      <td>0</td>\n",
       "    </tr>\n",
       "    <tr>\n",
       "      <th>1</th>\n",
       "      <td>2014-04-21</td>\n",
       "      <td>1.0</td>\n",
       "      <td>0.0</td>\n",
       "      <td>1.0</td>\n",
       "      <td>1.0</td>\n",
       "      <td>3.0</td>\n",
       "      <td>1</td>\n",
       "    </tr>\n",
       "    <tr>\n",
       "      <th>2</th>\n",
       "      <td>2014-08-19</td>\n",
       "      <td>1.0</td>\n",
       "      <td>1.0</td>\n",
       "      <td>0.0</td>\n",
       "      <td>1.0</td>\n",
       "      <td>3.0</td>\n",
       "      <td>1</td>\n",
       "    </tr>\n",
       "    <tr>\n",
       "      <th>3</th>\n",
       "      <td>2014-10-21</td>\n",
       "      <td>1.0</td>\n",
       "      <td>0.0</td>\n",
       "      <td>1.0</td>\n",
       "      <td>1.0</td>\n",
       "      <td>3.0</td>\n",
       "      <td>1</td>\n",
       "    </tr>\n",
       "    <tr>\n",
       "      <th>4</th>\n",
       "      <td>2014-12-19</td>\n",
       "      <td>1.0</td>\n",
       "      <td>1.0</td>\n",
       "      <td>1.0</td>\n",
       "      <td>1.0</td>\n",
       "      <td>4.0</td>\n",
       "      <td>1</td>\n",
       "    </tr>\n",
       "  </tbody>\n",
       "</table>\n",
       "</div>"
      ],
      "text/plain": [
       "  opening_date  T_LongBullBuy2_3  T_H_H_strategy1  T_H_M_strategy1  \\\n",
       "0   2014-02-14               0.0              0.0              0.0   \n",
       "1   2014-04-21               1.0              0.0              1.0   \n",
       "2   2014-08-19               1.0              1.0              0.0   \n",
       "3   2014-10-21               1.0              0.0              1.0   \n",
       "4   2014-12-19               1.0              1.0              1.0   \n",
       "\n",
       "   T_LongBullBuy2_2  trigger  trigger2  \n",
       "0               0.0      0.0         0  \n",
       "1               1.0      3.0         1  \n",
       "2               1.0      3.0         1  \n",
       "3               1.0      3.0         1  \n",
       "4               1.0      4.0         1  "
      ]
     },
     "execution_count": 113,
     "metadata": {},
     "output_type": "execute_result"
    }
   ],
   "source": [
    "df"
   ]
  },
  {
   "cell_type": "code",
   "execution_count": 114,
   "id": "336a3548-e1c8-420f-be03-1c438542659a",
   "metadata": {},
   "outputs": [],
   "source": [
    "df1 = pd.DataFrame({'A': [1,2,3], 'B': [3,4,5]})"
   ]
  },
  {
   "cell_type": "code",
   "execution_count": 115,
   "id": "6a32a71e-d1b1-483c-b7d2-92dece115320",
   "metadata": {},
   "outputs": [],
   "source": [
    "first_index = df1.index[0]\n",
    "first_value = df1.at[first_index, 'A']"
   ]
  },
  {
   "cell_type": "code",
   "execution_count": 116,
   "id": "93f7f984-e5e1-4c6c-b53f-ae26ea07a569",
   "metadata": {},
   "outputs": [],
   "source": [
    "from datetime import datetime\n",
    "\n",
    "x = (datetime.strptime('2020-01-01', '%Y-%m-%d') - datetime.strptime('2019-01-01', '%Y-%m-%d')).days"
   ]
  },
  {
   "cell_type": "code",
   "execution_count": null,
   "id": "1e6fb084-dee0-42e8-8948-d6346c117373",
   "metadata": {},
   "outputs": [],
   "source": []
  },
  {
   "cell_type": "code",
   "execution_count": 117,
   "id": "58c60ddb-fb05-4159-b049-add129d54545",
   "metadata": {},
   "outputs": [],
   "source": [
    "df1 = pd.DataFrame({'A': [1,2,3], 'B': [3,4,5]})\n",
    "df2 = pd.DataFrame({'A': [1,3,4], 'B': [3,4,5]})"
   ]
  },
  {
   "cell_type": "code",
   "execution_count": 118,
   "id": "ea87f173-59a5-4710-823d-099a1453d797",
   "metadata": {},
   "outputs": [],
   "source": [
    "df1 = df1.rename(columns={'A': 'AA'})"
   ]
  },
  {
   "cell_type": "code",
   "execution_count": 119,
   "id": "503131e0-4bf5-4ea9-86de-bc4bc23d0379",
   "metadata": {},
   "outputs": [],
   "source": [
    "df = pd.DataFrame({\n",
    "    'entry_name': ['entry_name'],\n",
    "    'entry_count': [1],\n",
    "    'duration': [2],\n",
    "    'profit_rate':  [3],\n",
    "    'win': [4],\n",
    "    'none_exit': [6],\n",
    "})"
   ]
  },
  {
   "cell_type": "code",
   "execution_count": null,
   "id": "a08058ec-c10b-44d7-8d67-5278bd2b21d4",
   "metadata": {},
   "outputs": [],
   "source": []
  },
  {
   "cell_type": "code",
   "execution_count": null,
   "id": "ae7e6c31-b751-49ba-a3cf-9096e6fdd461",
   "metadata": {},
   "outputs": [],
   "source": []
  },
  {
   "cell_type": "code",
   "execution_count": 152,
   "id": "5018d6ef-05d0-4d06-afc0-ec399750b0e0",
   "metadata": {},
   "outputs": [],
   "source": [
    "indicator_data = {\n",
    "    'strategy_qt': ['2019q4', '2020q1', '2020q2', '2020q3', '2020q4', '2021q1', '2021q2', '2021q3', '2021q4', '2022q1', \n",
    "                    '2022q2', '2022q3', '2022q4', '2023q1', '2023q2', '2023q3', '2023q4', '2024q1'],\n",
    "    'Indicator': [53109457408, 60012626448, 68546915040, 63316608224, 59819847040, 77790598224, 75984470816, \n",
    "                  53505656000, 65591031856, 91077370000, 82907569200, 71627768448, 48075447054, 60578692858, \n",
    "                  63115695714, 55230978728, 62662285465, 84901869586]\n",
    "}"
   ]
  },
  {
   "cell_type": "code",
   "execution_count": null,
   "id": "fdecfd99-f321-404a-aed8-946a7d805078",
   "metadata": {},
   "outputs": [],
   "source": []
  },
  {
   "cell_type": "code",
   "execution_count": 155,
   "id": "3858777d-a422-435c-8210-1f95b763584e",
   "metadata": {},
   "outputs": [],
   "source": [
    "df = pd.DataFrame(indicator_data)"
   ]
  },
  {
   "cell_type": "code",
   "execution_count": 161,
   "id": "13cc3fda-67e4-4c7a-a6e3-a3e883fa1791",
   "metadata": {},
   "outputs": [],
   "source": [
    "df  = df.sort_values(by='Indicator').reset_index(drop=True)"
   ]
  },
  {
   "cell_type": "code",
   "execution_count": 147,
   "id": "8188efd8-1696-4f5f-b2eb-97088c5f306e",
   "metadata": {},
   "outputs": [],
   "source": [
    "df = df['strategy_qt'].apply(pd.to_datetime)"
   ]
  },
  {
   "cell_type": "code",
   "execution_count": 148,
   "id": "a59d6944-f51d-469f-831d-9bf6d6ca2f04",
   "metadata": {},
   "outputs": [
    {
     "data": {
      "text/plain": [
       "0    2019-10-01\n",
       "1    2020-01-01\n",
       "2    2020-04-01\n",
       "3    2020-07-01\n",
       "4    2020-10-01\n",
       "5    2021-01-01\n",
       "6    2021-04-01\n",
       "7    2021-07-01\n",
       "8    2021-10-01\n",
       "9    2022-01-01\n",
       "10   2022-04-01\n",
       "11   2022-07-01\n",
       "12   2022-10-01\n",
       "13   2023-01-01\n",
       "14   2023-04-01\n",
       "15   2023-07-01\n",
       "16   2023-10-01\n",
       "17   2024-01-01\n",
       "Name: strategy_qt, dtype: datetime64[ns]"
      ]
     },
     "execution_count": 148,
     "metadata": {},
     "output_type": "execute_result"
    }
   ],
   "source": [
    "\n"
   ]
  },
  {
   "cell_type": "code",
   "execution_count": 123,
   "id": "28357676-6727-4bc5-b158-2ff1cd32af79",
   "metadata": {},
   "outputs": [
    {
     "name": "stdout",
     "output_type": "stream",
     "text": [
      "DataFrame 1:\n",
      "            Value1\n",
      "Date              \n",
      "2024-01-01      10\n",
      "2024-01-02      20\n",
      "2024-01-03      30\n",
      "\n",
      "DataFrame 2:\n",
      "        Date  Value2\n",
      "0 2024-01-01      40\n",
      "1 2024-01-02      50\n",
      "2 2024-01-04      60\n"
     ]
    }
   ],
   "source": [
    "import pandas as pd\n",
    "\n",
    "# 创建示例 DataFrame\n",
    "data1 = {'Date': ['2024-01-01', '2024-01-02', '2024-01-03'], 'Value1': [10, 20, 30]}\n",
    "df1 = pd.DataFrame(data1)\n",
    "df1['Date'] = pd.to_datetime(df1['Date'])\n",
    "df1.set_index('Date', inplace=True)\n",
    "\n",
    "data2 = {'Date': ['2024-01-01', '2024-01-02', '2024-01-04'], 'Value2': [40, 50, 60]}\n",
    "df2 = pd.DataFrame(data2)\n",
    "df2['Date'] = pd.to_datetime(df2['Date'])\n",
    "\n",
    "print(\"DataFrame 1:\")\n",
    "print(df1)\n",
    "print(\"\\nDataFrame 2:\")\n",
    "print(df2)\n",
    "\n",
    "# 通过普通列 Date 进行合并\n",
    "result = df1.reset_index().merge(df2, on='Date')\n"
   ]
  },
  {
   "cell_type": "code",
   "execution_count": null,
   "id": "57bae275-390d-4093-a520-89cb01fe60f5",
   "metadata": {},
   "outputs": [],
   "source": []
  },
  {
   "cell_type": "code",
   "execution_count": 140,
   "id": "57276cc0-7a05-46d6-9099-6292a8d63c14",
   "metadata": {},
   "outputs": [
    {
     "name": "stdout",
     "output_type": "stream",
     "text": [
      "            Open  High  Low  Adj Close  Volume\n",
      "Date                                          \n",
      "2024-01-01   100   110   90        108    1000\n",
      "2024-01-02   102   112   92        109    1500\n",
      "2024-01-03   103   113   93        110    2000\n",
      "2024-01-04     1     0    1        111    2500\n",
      "2024-01-05     0     0    0        112    3000\n"
     ]
    }
   ],
   "source": [
    "import pandas as pd\n",
    "import talib\n",
    "\n",
    "# 创建示例 DataFrame\n",
    "data = {\n",
    "    'Date': ['2024-01-01', '2024-01-02', '2024-01-03', '2024-01-04', '2024-01-05'],\n",
    "    'Open': [100, 102, 103, 1, 0],\n",
    "    'High': [110, 112, 113, 0, 0],\n",
    "    'Low': [90, 92, 93, 1, 0],\n",
    "    'Adj Close': [108, 109, 110, 111, 112],\n",
    "    'Volume': [1000, 1500, 2000, 2500, 3000]\n",
    "}\n",
    "ticker_data = pd.DataFrame(data)\n",
    "\n",
    "# 确保 Date 列是 datetime 类型，并设置为 DatetimeIndex\n",
    "ticker_data['Date'] = pd.to_datetime(ticker_data['Date'])\n",
    "ticker_data.set_index('Date', inplace=True)\n",
    "\n",
    "print(ticker_data)"
   ]
  },
  {
   "cell_type": "code",
   "execution_count": 141,
   "id": "9d36cc30-f909-4835-b9e9-b5e5169371d3",
   "metadata": {},
   "outputs": [],
   "source": [
    "df_reset = ticker_data.reset_index(drop=False)\n"
   ]
  },
  {
   "cell_type": "code",
   "execution_count": 142,
   "id": "3e71d2fd-c00d-496a-b8d9-a093ed2d252f",
   "metadata": {},
   "outputs": [
    {
     "data": {
      "text/plain": [
       "0     True\n",
       "1     True\n",
       "2     True\n",
       "3     True\n",
       "4    False\n",
       "dtype: bool"
      ]
     },
     "execution_count": 142,
     "metadata": {},
     "output_type": "execute_result"
    }
   ],
   "source": [
    "df_reset['High'].astype(bool) | df_reset['Low'].astype(bool)"
   ]
  },
  {
   "cell_type": "code",
   "execution_count": 162,
   "id": "bb06ddd8-24cc-4f6b-853f-c6eb8c259dca",
   "metadata": {},
   "outputs": [
    {
     "data": {
      "text/plain": [
       "'{\"1\": 1, \"2\": 2}'"
      ]
     },
     "execution_count": 162,
     "metadata": {},
     "output_type": "execute_result"
    }
   ],
   "source": [
    "m = {1:1, '2': 2}\n",
    "import json\n",
    "json.dumps(m)"
   ]
  },
  {
   "cell_type": "code",
   "execution_count": 42,
   "id": "3303f8b0-d9cc-4828-8cde-e0a7cd82e3ab",
   "metadata": {},
   "outputs": [
    {
     "name": "stdout",
     "output_type": "stream",
     "text": [
      "     A   B   C   D\n",
      "0   95  99  76  83\n",
      "1   69  59  99  34\n",
      "2   43  90  48  38\n",
      "3   13  26  33  92\n",
      "4   20  16  96  99\n",
      "..  ..  ..  ..  ..\n",
      "95  53  24  24  36\n",
      "96  72  45  85  22\n",
      "97  59  46  44  52\n",
      "98  96  14  38  69\n",
      "99  21  40  72  42\n",
      "\n",
      "[100000 rows x 4 columns]\n",
      "0:00:00.358717\n"
     ]
    }
   ],
   "source": [
    "# 测试concat时间\n",
    "\n",
    "import pandas as pd\n",
    "import numpy as np\n",
    "from datetime import datetime\n",
    "\n",
    "start_time = datetime.now()\n",
    "df = pd.DataFrame({})\n",
    "\n",
    "for i in range(1000):\n",
    "    df_new = pd.DataFrame(np.random.randint(0,100,size=(100, 4)), columns=list('ABCD'))\n",
    "    df = pd.concat([df, df_new])    \n",
    "print(df)\n",
    "\n",
    "print(datetime.now() - start_time)"
   ]
  },
  {
   "cell_type": "code",
   "execution_count": 45,
   "id": "f42bceb0-1474-42b7-b9aa-0d471da40932",
   "metadata": {},
   "outputs": [
    {
     "name": "stdout",
     "output_type": "stream",
     "text": [
      "A    4944747\n",
      "B    4947958\n",
      "C    4958340\n",
      "D    4950268\n",
      "dtype: int64\n",
      "A    4944747\n",
      "B    4947958\n",
      "C    4958340\n",
      "D    4950268\n",
      "dtype: int64\n",
      "       A     B     C     D\n",
      "0   True  True  True  True\n",
      "1   True  True  True  True\n",
      "2   True  True  True  True\n",
      "3   True  True  True  True\n",
      "4   True  True  True  True\n",
      "..   ...   ...   ...   ...\n",
      "95  True  True  True  True\n",
      "96  True  True  True  True\n",
      "97  True  True  True  True\n",
      "98  True  True  True  True\n",
      "99  True  True  True  True\n",
      "\n",
      "[100000 rows x 4 columns]\n",
      "0:00:00.338047\n"
     ]
    }
   ],
   "source": [
    "# 测试concat时间\n",
    "\n",
    "import pandas as pd\n",
    "import numpy as np\n",
    "from datetime import datetime\n",
    "\n",
    "start_time = datetime.now()\n",
    "\n",
    "df_list = []\n",
    "df111 = pd.DataFrame({})\n",
    "\n",
    "for i in range(1000):\n",
    "    df_new = pd.DataFrame(np.random.randint(0,100,size=(100, 4)), columns=list('ABCD'))\n",
    "    df_list.append(df_new)\n",
    "    df111 = pd.concat([df111, df_new])    \n",
    "\n",
    "df = pd.concat(df_list)\n",
    "print(df.sum())\n",
    "print(df111.sum())\n",
    "print(df==df111)\n",
    "print(datetime.now() - start_time)"
   ]
  },
  {
   "cell_type": "code",
   "execution_count": 46,
   "id": "2aed9cfe-f011-4fba-b3dd-2cacbcb6dc6b",
   "metadata": {},
   "outputs": [
    {
     "data": {
      "text/html": [
       "<div>\n",
       "<style scoped>\n",
       "    .dataframe tbody tr th:only-of-type {\n",
       "        vertical-align: middle;\n",
       "    }\n",
       "\n",
       "    .dataframe tbody tr th {\n",
       "        vertical-align: top;\n",
       "    }\n",
       "\n",
       "    .dataframe thead th {\n",
       "        text-align: right;\n",
       "    }\n",
       "</style>\n",
       "<table border=\"1\" class=\"dataframe\">\n",
       "  <thead>\n",
       "    <tr style=\"text-align: right;\">\n",
       "      <th></th>\n",
       "      <th>A</th>\n",
       "      <th>B</th>\n",
       "      <th>C</th>\n",
       "      <th>D</th>\n",
       "    </tr>\n",
       "  </thead>\n",
       "  <tbody>\n",
       "    <tr>\n",
       "      <th>0</th>\n",
       "      <td>89</td>\n",
       "      <td>7</td>\n",
       "      <td>76</td>\n",
       "      <td>6</td>\n",
       "    </tr>\n",
       "    <tr>\n",
       "      <th>1</th>\n",
       "      <td>57</td>\n",
       "      <td>6</td>\n",
       "      <td>98</td>\n",
       "      <td>51</td>\n",
       "    </tr>\n",
       "    <tr>\n",
       "      <th>2</th>\n",
       "      <td>6</td>\n",
       "      <td>35</td>\n",
       "      <td>44</td>\n",
       "      <td>92</td>\n",
       "    </tr>\n",
       "    <tr>\n",
       "      <th>3</th>\n",
       "      <td>22</td>\n",
       "      <td>15</td>\n",
       "      <td>20</td>\n",
       "      <td>47</td>\n",
       "    </tr>\n",
       "    <tr>\n",
       "      <th>4</th>\n",
       "      <td>37</td>\n",
       "      <td>86</td>\n",
       "      <td>19</td>\n",
       "      <td>31</td>\n",
       "    </tr>\n",
       "    <tr>\n",
       "      <th>...</th>\n",
       "      <td>...</td>\n",
       "      <td>...</td>\n",
       "      <td>...</td>\n",
       "      <td>...</td>\n",
       "    </tr>\n",
       "    <tr>\n",
       "      <th>95</th>\n",
       "      <td>13</td>\n",
       "      <td>10</td>\n",
       "      <td>65</td>\n",
       "      <td>72</td>\n",
       "    </tr>\n",
       "    <tr>\n",
       "      <th>96</th>\n",
       "      <td>57</td>\n",
       "      <td>14</td>\n",
       "      <td>56</td>\n",
       "      <td>52</td>\n",
       "    </tr>\n",
       "    <tr>\n",
       "      <th>97</th>\n",
       "      <td>20</td>\n",
       "      <td>74</td>\n",
       "      <td>29</td>\n",
       "      <td>43</td>\n",
       "    </tr>\n",
       "    <tr>\n",
       "      <th>98</th>\n",
       "      <td>23</td>\n",
       "      <td>39</td>\n",
       "      <td>17</td>\n",
       "      <td>79</td>\n",
       "    </tr>\n",
       "    <tr>\n",
       "      <th>99</th>\n",
       "      <td>41</td>\n",
       "      <td>87</td>\n",
       "      <td>7</td>\n",
       "      <td>71</td>\n",
       "    </tr>\n",
       "  </tbody>\n",
       "</table>\n",
       "<p>100000 rows × 4 columns</p>\n",
       "</div>"
      ],
      "text/plain": [
       "     A   B   C   D\n",
       "0   89   7  76   6\n",
       "1   57   6  98  51\n",
       "2    6  35  44  92\n",
       "3   22  15  20  47\n",
       "4   37  86  19  31\n",
       "..  ..  ..  ..  ..\n",
       "95  13  10  65  72\n",
       "96  57  14  56  52\n",
       "97  20  74  29  43\n",
       "98  23  39  17  79\n",
       "99  41  87   7  71\n",
       "\n",
       "[100000 rows x 4 columns]"
      ]
     },
     "execution_count": 46,
     "metadata": {},
     "output_type": "execute_result"
    }
   ],
   "source": [
    "df"
   ]
  },
  {
   "cell_type": "code",
   "execution_count": null,
   "id": "75f0175e-60f7-43dd-b0bb-d00bd456a1ef",
   "metadata": {},
   "outputs": [],
   "source": []
  },
  {
   "cell_type": "code",
   "execution_count": null,
   "id": "72870915-568e-4ad0-aa1a-c3d4706a464d",
   "metadata": {},
   "outputs": [],
   "source": []
  },
  {
   "cell_type": "code",
   "execution_count": 127,
   "id": "d6670522-5f65-4800-8d94-022bbf01eb97",
   "metadata": {},
   "outputs": [],
   "source": [
    "import pandas as pd\n",
    "\n",
    "# 创建 DataFra\n",
    "data = pd.read_csv('/Users/liuda/Desktop/AMD.csv')"
   ]
  },
  {
   "cell_type": "code",
   "execution_count": null,
   "id": "5386d525-6ed4-42c5-a9ab-77d7e257658f",
   "metadata": {},
   "outputs": [],
   "source": []
  },
  {
   "cell_type": "code",
   "execution_count": null,
   "id": "4b4d69ea-fdb0-4fe8-bb8e-adb2a96e1e33",
   "metadata": {},
   "outputs": [],
   "source": []
  },
  {
   "cell_type": "code",
   "execution_count": 128,
   "id": "04e93e0b-7eef-4250-95a8-eb7cda053be7",
   "metadata": {},
   "outputs": [
    {
     "name": "stderr",
     "output_type": "stream",
     "text": [
      "/var/folders/td/16v_twyd2fq9rhdl5vysffbw0000gn/T/ipykernel_60595/1392032302.py:2: UserWarning: Converting to PeriodArray/Index representation will drop timezone information.\n",
      "  data['qt'] = data['Earnings Date'].dt.to_period('Q').astype(str).str.replace('Q', 'q')\n"
     ]
    }
   ],
   "source": [
    "data['Earnings Date'] = pd.to_datetime(data['Earnings Date'], utc=True)  \n",
    "data['qt'] = data['Earnings Date'].dt.to_period('Q').astype(str).str.replace('Q', 'q')\n",
    "data[['year', 'quarter']] = data['qt'].str.split('q', expand=True)\n",
    "data['date'] = data['Earnings Date'].dt.strftime('%Y%m%d')\n",
    "\n",
    "data['pre_year'] = data['year'].astype(int) - 1\n",
    "data['pre_year'] = data['pre_year'].astype(str)\n",
    "data['pre_qt'] = data['pre_year'] + 'q' + data['quarter']\n",
    "\n",
    "data = pd.merge(data, data, left_on='pre_qt', right_on='qt', how='left', suffixes=['', ' y'])\n",
    "data = data[['Earnings Date', 'qt', 'EPS Estimate', 'Reported EPS', 'Surprise(%)', 'Earnings Date y', 'EPS Estimate y', 'Reported EPS y', 'Surprise(%) y']]\n",
    "\n",
    "data = data.sort_values(by='qt').dropna(subset=['EPS Estimate', 'Reported EPS', 'Surprise(%)'])  # .reset_index(drop=True)\n",
    "data = data.nlargest(4, 'Earnings Date').reset_index(drop=True)"
   ]
  },
  {
   "cell_type": "code",
   "execution_count": null,
   "id": "2974e231-ce8e-4830-8357-12cfbdc7fad3",
   "metadata": {},
   "outputs": [],
   "source": []
  },
  {
   "cell_type": "code",
   "execution_count": null,
   "id": "d8030121-705d-419e-b672-79b3f0708633",
   "metadata": {},
   "outputs": [],
   "source": []
  },
  {
   "cell_type": "code",
   "execution_count": 129,
   "id": "549adba2-fcb9-445b-baa4-59d7a704dbb6",
   "metadata": {},
   "outputs": [
    {
     "data": {
      "text/html": [
       "<div>\n",
       "<style scoped>\n",
       "    .dataframe tbody tr th:only-of-type {\n",
       "        vertical-align: middle;\n",
       "    }\n",
       "\n",
       "    .dataframe tbody tr th {\n",
       "        vertical-align: top;\n",
       "    }\n",
       "\n",
       "    .dataframe thead th {\n",
       "        text-align: right;\n",
       "    }\n",
       "</style>\n",
       "<table border=\"1\" class=\"dataframe\">\n",
       "  <thead>\n",
       "    <tr style=\"text-align: right;\">\n",
       "      <th></th>\n",
       "      <th>Earnings Date</th>\n",
       "      <th>qt</th>\n",
       "      <th>EPS Estimate</th>\n",
       "      <th>Reported EPS</th>\n",
       "      <th>Surprise(%)</th>\n",
       "      <th>Earnings Date y</th>\n",
       "      <th>EPS Estimate y</th>\n",
       "      <th>Reported EPS y</th>\n",
       "      <th>Surprise(%) y</th>\n",
       "    </tr>\n",
       "  </thead>\n",
       "  <tbody>\n",
       "    <tr>\n",
       "      <th>0</th>\n",
       "      <td>2024-07-30 20:00:00+00:00</td>\n",
       "      <td>2024q3</td>\n",
       "      <td>0.68</td>\n",
       "      <td>0.69</td>\n",
       "      <td>0.0207</td>\n",
       "      <td>2023-08-01 20:00:00+00:00</td>\n",
       "      <td>0.57</td>\n",
       "      <td>0.58</td>\n",
       "      <td>0.0149</td>\n",
       "    </tr>\n",
       "    <tr>\n",
       "      <th>1</th>\n",
       "      <td>2024-04-30 20:00:00+00:00</td>\n",
       "      <td>2024q2</td>\n",
       "      <td>0.61</td>\n",
       "      <td>0.62</td>\n",
       "      <td>0.0175</td>\n",
       "      <td>2023-05-02 20:00:00+00:00</td>\n",
       "      <td>0.56</td>\n",
       "      <td>0.60</td>\n",
       "      <td>0.0636</td>\n",
       "    </tr>\n",
       "    <tr>\n",
       "      <th>2</th>\n",
       "      <td>2024-01-30 21:00:00+00:00</td>\n",
       "      <td>2024q1</td>\n",
       "      <td>0.77</td>\n",
       "      <td>0.77</td>\n",
       "      <td>-0.0032</td>\n",
       "      <td>2023-01-31 21:00:00+00:00</td>\n",
       "      <td>0.67</td>\n",
       "      <td>0.69</td>\n",
       "      <td>0.0328</td>\n",
       "    </tr>\n",
       "    <tr>\n",
       "      <th>3</th>\n",
       "      <td>2023-10-31 20:00:00+00:00</td>\n",
       "      <td>2023q4</td>\n",
       "      <td>0.68</td>\n",
       "      <td>0.70</td>\n",
       "      <td>0.0344</td>\n",
       "      <td>2022-11-01 20:00:00+00:00</td>\n",
       "      <td>0.68</td>\n",
       "      <td>0.67</td>\n",
       "      <td>-0.0215</td>\n",
       "    </tr>\n",
       "  </tbody>\n",
       "</table>\n",
       "</div>"
      ],
      "text/plain": [
       "              Earnings Date      qt  EPS Estimate  Reported EPS  Surprise(%)  \\\n",
       "0 2024-07-30 20:00:00+00:00  2024q3          0.68          0.69       0.0207   \n",
       "1 2024-04-30 20:00:00+00:00  2024q2          0.61          0.62       0.0175   \n",
       "2 2024-01-30 21:00:00+00:00  2024q1          0.77          0.77      -0.0032   \n",
       "3 2023-10-31 20:00:00+00:00  2023q4          0.68          0.70       0.0344   \n",
       "\n",
       "            Earnings Date y  EPS Estimate y  Reported EPS y  Surprise(%) y  \n",
       "0 2023-08-01 20:00:00+00:00            0.57            0.58         0.0149  \n",
       "1 2023-05-02 20:00:00+00:00            0.56            0.60         0.0636  \n",
       "2 2023-01-31 21:00:00+00:00            0.67            0.69         0.0328  \n",
       "3 2022-11-01 20:00:00+00:00            0.68            0.67        -0.0215  "
      ]
     },
     "execution_count": 129,
     "metadata": {},
     "output_type": "execute_result"
    }
   ],
   "source": [
    "data"
   ]
  },
  {
   "cell_type": "code",
   "execution_count": 130,
   "id": "2a70398c-a4f4-466d-a344-15cecc7b7dc9",
   "metadata": {},
   "outputs": [
    {
     "name": "stdout",
     "output_type": "stream",
     "text": [
      "True\n"
     ]
    }
   ],
   "source": [
    "df = pd.DataFrame({'A': []})\n",
    "print(df.empty)"
   ]
  },
  {
   "cell_type": "code",
   "execution_count": 131,
   "id": "38d05ab2-740d-4d1d-a015-3fafca8a3051",
   "metadata": {},
   "outputs": [],
   "source": []
  },
  {
   "cell_type": "code",
   "execution_count": null,
   "id": "fe6fcb74-09d0-4560-b863-f7b5a499947a",
   "metadata": {},
   "outputs": [],
   "source": []
  },
  {
   "cell_type": "code",
   "execution_count": 172,
   "id": "eda0c1aa-cdd5-4f63-b22c-7346c7a4783f",
   "metadata": {},
   "outputs": [],
   "source": [
    "def join_hedge_filter(ticker_data, hedge_filter):\n",
    "    filter_names = hedge_filter['filter_name'].drop_duplicates().items()\n",
    "    columns=['Date', 'Open', 'High', 'Low', 'Close', 'Adj Close', 'Volume', 'Adj Open', 'Adj High', 'Adj Low', 'qt', 'TICKER']\n",
    "    for _, filter_name in filter_names:\n",
    "        filter_df = hedge_filter[hedge_filter['filter_name'] == filter_name].copy()\n",
    "        ticker_data = pd.merge(ticker_data, filter_df, left_on='qt', right_on='filter_qt', how='left')\n",
    "        ticker_data = ticker_data.rename(columns={'filter_value': f'{filter_name}'})\n",
    "        columns.append(filter_name)\n",
    "        ticker_data = ticker_data[columns]\n",
    "        ticker_data[f'{filter_name}'] = ticker_data[f'{filter_name}'].fillna(0)\n",
    "\n",
    "    ticker_data = ticker_data[columns]\n",
    "    return ticker_data\n"
   ]
  },
  {
   "cell_type": "code",
   "execution_count": 176,
   "id": "418cc984-679f-4f63-b173-1aaec739e7d4",
   "metadata": {},
   "outputs": [],
   "source": [
    "hedge_filter = pd.read_csv('/Users/liuda/Local/data/finance/output/filter/hedge_filters.csv')\n",
    "\n",
    "ticker_data = pd.read_csv('/Users/liuda/Local/data/finance/stocks/ticker/history/AMZN.csv', sep=\",\")\n",
    "ticker_data['TICKER'] = 'AMZN'\n",
    "ticker_data['Adj High'] = ticker_data['High'] + ticker_data['Adj Close'] - ticker_data['Close']\n",
    "ticker_data['Adj Low'] = ticker_data['Low'] + ticker_data['Adj Close'] - ticker_data['Close']\n",
    "ticker_data['Adj Open'] = ticker_data['Open'] + ticker_data['Adj Close'] - ticker_data['Close']\n",
    "ticker_data = ticker_data.sort_values(by=\"Date\").reset_index(drop=True)\n",
    "ticker_data['qt'] = ticker_data['Date'].apply(pd.to_datetime).dt.to_period('Q').astype(str).str.replace('Q', 'q')\n",
    "\n",
    "\n",
    "ticker_data = join_hedge_filter(ticker_data, hedge_filter)\n",
    "\n",
    "\n",
    "ticker_data = ticker_data.sort_values(by=\"Date\").reset_index(drop=True)\n",
    "ticker_data['Date'] = pd.to_datetime(ticker_data['Date'])\n",
    "ticker_data.set_index('Date', inplace=True)\n",
    "\n",
    "rule, label = \"W\", \"weekly\"\n",
    "resampled_data = ticker_data.resample(\n",
    "    rule, label=\"left\", offset=\"1D\"\n",
    ").agg(\n",
    "    {\"Open\": \"first\",\n",
    "     \"High\": \"max\",\n",
    "     \"Low\": \"min\",\n",
    "     \"Adj High\": \"max\",\n",
    "     \"Adj Open\": \"first\",\n",
    "     \"Adj Low\": \"min\",\n",
    "     \"Adj Close\": \"last\",\n",
    "     \"Volume\": \"sum\", }\n",
    ")"
   ]
  },
  {
   "cell_type": "code",
   "execution_count": 171,
   "id": "a31252bb-5033-4f59-acb2-fa88a5b6599d",
   "metadata": {},
   "outputs": [
    {
     "name": "stdout",
     "output_type": "stream",
     "text": [
      "                  Open        High         Low       Close   Adj Close  \\\n",
      "Date                                                                     \n",
      "2009-08-24    4.258500    4.279500    4.212000    4.225000    4.225000   \n",
      "2009-08-25    4.233000    4.317000    4.197500    4.209500    4.209500   \n",
      "2009-08-26    4.205000    4.238000    4.169000    4.200000    4.200000   \n",
      "2009-08-27    4.200500    4.242500    4.157000    4.215500    4.215500   \n",
      "2009-08-28    4.239000    4.249500    4.128500    4.138000    4.138000   \n",
      "...                ...         ...         ...         ...         ...   \n",
      "2024-08-12  168.139999  168.550003  166.110001  166.800003  166.800003   \n",
      "2024-08-13  167.809998  171.039993  167.100006  170.229996  170.229996   \n",
      "2024-08-14  172.110001  172.279999  168.860001  170.100006  170.100006   \n",
      "2024-08-15  174.860001  177.910004  173.990005  177.589996  177.589996   \n",
      "2024-08-16  177.039993  178.339996  176.259995  177.059998  177.059998   \n",
      "\n",
      "              Volume TICKER    Adj High     Adj Low    Adj Open  \n",
      "Date                                                             \n",
      "2009-08-24  94464000   AMZN    4.279500    4.212000    4.258500  \n",
      "2009-08-25  95820000   AMZN    4.317000    4.197500    4.233000  \n",
      "2009-08-26  72276000   AMZN    4.238000    4.169000    4.205000  \n",
      "2009-08-27  79954000   AMZN    4.242500    4.157000    4.200500  \n",
      "2009-08-28  92414000   AMZN    4.249500    4.128500    4.239000  \n",
      "...              ...    ...         ...         ...         ...  \n",
      "2024-08-12  30072800   AMZN  168.550003  166.110001  168.139999  \n",
      "2024-08-13  39237900   AMZN  171.039993  167.100006  167.809998  \n",
      "2024-08-14  28843800   AMZN  172.279999  168.860001  172.110001  \n",
      "2024-08-15  51698500   AMZN  177.910004  173.990005  174.860001  \n",
      "2024-08-16  31440000   AMZN  178.339996  176.259995  177.039993  \n",
      "\n",
      "[3771 rows x 10 columns]\n"
     ]
    }
   ],
   "source": [
    "print(ticker_data)"
   ]
  },
  {
   "cell_type": "code",
   "execution_count": 157,
   "id": "c5903f0e-0f2d-4a14-9bc0-ee2c17faff1a",
   "metadata": {},
   "outputs": [],
   "source": []
  },
  {
   "cell_type": "code",
   "execution_count": 163,
   "id": "75b46fb5-40a6-49a2-94e9-35ca16ce1dea",
   "metadata": {},
   "outputs": [],
   "source": []
  },
  {
   "cell_type": "code",
   "execution_count": null,
   "id": "13ab31d6-d8ea-4ff6-8cff-23f6d2ae62f7",
   "metadata": {},
   "outputs": [],
   "source": []
  },
  {
   "cell_type": "code",
   "execution_count": 177,
   "id": "b533bb9b-d849-4a59-967b-06d16b44d2ec",
   "metadata": {},
   "outputs": [],
   "source": [
    "import pandas as pd"
   ]
  },
  {
   "cell_type": "code",
   "execution_count": 178,
   "id": "ec55d0aa-799a-4cd1-9738-7c735f90d27a",
   "metadata": {},
   "outputs": [],
   "source": [
    "df = pd.DataFrame({'qt': ['2024q1', '2023q4'], 'TOP_HOLD_COUNT': [1195, 1018]})"
   ]
  },
  {
   "cell_type": "code",
   "execution_count": 179,
   "id": "ee812caa-0211-4ed9-b8df-1c39133eba58",
   "metadata": {},
   "outputs": [
    {
     "data": {
      "text/html": [
       "<div>\n",
       "<style scoped>\n",
       "    .dataframe tbody tr th:only-of-type {\n",
       "        vertical-align: middle;\n",
       "    }\n",
       "\n",
       "    .dataframe tbody tr th {\n",
       "        vertical-align: top;\n",
       "    }\n",
       "\n",
       "    .dataframe thead th {\n",
       "        text-align: right;\n",
       "    }\n",
       "</style>\n",
       "<table border=\"1\" class=\"dataframe\">\n",
       "  <thead>\n",
       "    <tr style=\"text-align: right;\">\n",
       "      <th></th>\n",
       "      <th>qt</th>\n",
       "      <th>TOP_HOLD_COUNT</th>\n",
       "    </tr>\n",
       "  </thead>\n",
       "  <tbody>\n",
       "    <tr>\n",
       "      <th>0</th>\n",
       "      <td>2024q1</td>\n",
       "      <td>1195</td>\n",
       "    </tr>\n",
       "    <tr>\n",
       "      <th>1</th>\n",
       "      <td>2023q4</td>\n",
       "      <td>1018</td>\n",
       "    </tr>\n",
       "  </tbody>\n",
       "</table>\n",
       "</div>"
      ],
      "text/plain": [
       "       qt  TOP_HOLD_COUNT\n",
       "0  2024q1            1195\n",
       "1  2023q4            1018"
      ]
     },
     "execution_count": 179,
     "metadata": {},
     "output_type": "execute_result"
    }
   ],
   "source": [
    "df"
   ]
  },
  {
   "cell_type": "code",
   "execution_count": 183,
   "id": "b0c3d489-344c-4f18-a4a7-10ad785da979",
   "metadata": {},
   "outputs": [],
   "source": [
    "a = dict(zip(df.qt, df.TOP_HOLD_COUNT))"
   ]
  },
  {
   "cell_type": "code",
   "execution_count": 184,
   "id": "6f7bebf4-01e0-4960-b391-af22f90f79fa",
   "metadata": {},
   "outputs": [
    {
     "data": {
      "text/plain": [
       "{'2024q1': 1195, '2023q4': 1018}"
      ]
     },
     "execution_count": 184,
     "metadata": {},
     "output_type": "execute_result"
    }
   ],
   "source": [
    "a"
   ]
  },
  {
   "cell_type": "code",
   "execution_count": null,
   "id": "9ec42cf2-8780-4381-acba-407a17a474c0",
   "metadata": {},
   "outputs": [],
   "source": [
    "b = {'a': 1}"
   ]
  }
 ],
 "metadata": {
  "kernelspec": {
   "display_name": "Python 3 (ipykernel)",
   "language": "python",
   "name": "python3"
  },
  "language_info": {
   "codemirror_mode": {
    "name": "ipython",
    "version": 3
   },
   "file_extension": ".py",
   "mimetype": "text/x-python",
   "name": "python",
   "nbconvert_exporter": "python",
   "pygments_lexer": "ipython3",
   "version": "3.10.14"
  }
 },
 "nbformat": 4,
 "nbformat_minor": 5
}
