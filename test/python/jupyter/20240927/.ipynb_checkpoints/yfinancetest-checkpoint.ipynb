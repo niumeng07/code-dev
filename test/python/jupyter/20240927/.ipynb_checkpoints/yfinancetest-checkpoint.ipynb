{
 "cells": [
  {
   "cell_type": "code",
   "execution_count": 1,
   "id": "71bd0fc8-b5e7-4eb8-94bb-f8a92e686fb2",
   "metadata": {},
   "outputs": [],
   "source": [
    "import yfinance as yf"
   ]
  },
  {
   "cell_type": "code",
   "execution_count": 2,
   "id": "8400e80b-c4a4-4bcd-9449-6d74b5ed45f1",
   "metadata": {},
   "outputs": [
    {
     "data": {
      "text/plain": [
       "'0.2.44'"
      ]
     },
     "execution_count": 2,
     "metadata": {},
     "output_type": "execute_result"
    }
   ],
   "source": [
    "yf.__version__"
   ]
  },
  {
   "cell_type": "code",
   "execution_count": 3,
   "id": "0e44dcdd-2b57-439c-a1c8-8a720cdb15b3",
   "metadata": {},
   "outputs": [],
   "source": [
    "ticker_name = 'AMZN'\n",
    "start_date = '2023-01-01'\n",
    "end_date = '2024-11-26'"
   ]
  },
  {
   "cell_type": "code",
   "execution_count": 4,
   "id": "1c90b0e9-4aff-496a-922c-e61f60660df1",
   "metadata": {},
   "outputs": [],
   "source": [
    "yf_ticker = yf.Ticker(ticker_name)"
   ]
  },
  {
   "cell_type": "code",
   "execution_count": null,
   "id": "a212fd25-7670-498d-96b7-41d628e61fdf",
   "metadata": {},
   "outputs": [],
   "source": []
  },
  {
   "cell_type": "code",
   "execution_count": null,
   "id": "c11cb80e-a00b-4f23-bb7e-35ffa71fe2a0",
   "metadata": {},
   "outputs": [],
   "source": [
    "print(yf_ticker.major_holders)\n",
    "print(yf_ticker.institutional_holders)\n",
    "yf_ticker.mutualfund_holders\n",
    "yf_ticker.insider_transactions\n",
    "yf_ticker.insider_purchases\n",
    "yf_ticker.insider_roster_holders\n",
    "yf_ticker.splits\n",
    "yf_ticker.actions\n",
    "# yf_ticker.shares\n",
    "yf_ticker.info\n",
    "yf_ticker.calendar\n",
    "yf_ticker.recommendations\n",
    "yf_ticker.recommendations_summary\n",
    "yf_ticker.upgrades_downgrades\n",
    "yf_ticker.quarterly_cashflow\n",
    "yf_ticker.cashflow\n",
    "yf_ticker.quarterly_balance_sheet\n",
    "yf_ticker.balance_sheet\n",
    "yf_ticker.quarterly_income_stmt\n",
    "yf_ticker.income_stmt\n",
    "# yf_ticker.analyst_price_targets\n",
    "# yf_ticker.earnings_estimate\n",
    "# yf_ticker.revenue_estimate\n",
    "# yf_ticker.earnings_history\n",
    "# yf_ticker.eps_trend\n",
    "# yf_ticker.eps_revisions\n",
    "# yf_ticker.growth_estimates\n",
    "# yf_ticker.sustainability\n",
    "# yf_ticker.options\n",
    "# yf_ticker.news\n",
    "# yf_ticker.earnings_dates"
   ]
  },
  {
   "cell_type": "code",
   "execution_count": null,
   "id": "95a2fb33-cda3-44e3-a63a-5515a18ebeca",
   "metadata": {},
   "outputs": [],
   "source": []
  },
  {
   "cell_type": "code",
   "execution_count": null,
   "id": "de67fbe0-24ca-4179-ab35-015501dced7c",
   "metadata": {},
   "outputs": [],
   "source": []
  },
  {
   "cell_type": "code",
   "execution_count": null,
   "id": "cb2ea61b-fa32-4967-bbfd-fed431e36f6e",
   "metadata": {},
   "outputs": [],
   "source": []
  }
 ],
 "metadata": {
  "kernelspec": {
   "display_name": "Python 3 (ipykernel)",
   "language": "python",
   "name": "python3"
  },
  "language_info": {
   "codemirror_mode": {
    "name": "ipython",
    "version": 3
   },
   "file_extension": ".py",
   "mimetype": "text/x-python",
   "name": "python",
   "nbconvert_exporter": "python",
   "pygments_lexer": "ipython3",
   "version": "3.10.15"
  }
 },
 "nbformat": 4,
 "nbformat_minor": 5
}
