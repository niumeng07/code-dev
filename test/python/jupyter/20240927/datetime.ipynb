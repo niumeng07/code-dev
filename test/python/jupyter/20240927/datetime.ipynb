{
 "cells": [
  {
   "cell_type": "code",
   "execution_count": 2,
   "id": "7cc386fb-f95d-4993-91a8-10e2c19f9d4c",
   "metadata": {},
   "outputs": [],
   "source": [
    "from datetime import datetime"
   ]
  },
  {
   "cell_type": "code",
   "execution_count": 3,
   "id": "6923c051-c5f9-4ff0-8542-3bd4e70aaa9b",
   "metadata": {},
   "outputs": [],
   "source": [
    "time_str = \"2024-08-01 16:00:00-04:00\"\n",
    "\n",
    "dt = datetime.strptime(time_str, \"%Y-%m-%d %H:%M:%S%z\")\n"
   ]
  },
  {
   "cell_type": "code",
   "execution_count": 4,
   "id": "7877a03f-57de-4442-afa9-9d900d253dd6",
   "metadata": {},
   "outputs": [
    {
     "data": {
      "text/plain": [
       "datetime.datetime(2024, 8, 1, 16, 0, tzinfo=datetime.timezone(datetime.timedelta(days=-1, seconds=72000)))"
      ]
     },
     "execution_count": 4,
     "metadata": {},
     "output_type": "execute_result"
    }
   ],
   "source": [
    "dt"
   ]
  },
  {
   "cell_type": "code",
   "execution_count": 6,
   "id": "49398c8e-aa6e-49bb-839b-1b32aa63ad02",
   "metadata": {},
   "outputs": [],
   "source": [
    "import pandas as pd\n",
    "\n",
    "xx = pd.read_csv('/Users/liuda/Local/data/finance/output/trigger/AMZN.csv')"
   ]
  },
  {
   "cell_type": "code",
   "execution_count": 8,
   "id": "2cdc0b30-55a7-41b3-9747-7066e00bbe7b",
   "metadata": {},
   "outputs": [],
   "source": [
    "ticker_history = xx"
   ]
  },
  {
   "cell_type": "code",
   "execution_count": 17,
   "id": "bf55b7bf-0e34-42f0-93d6-1373787509c9",
   "metadata": {},
   "outputs": [
    {
     "name": "stdout",
     "output_type": "stream",
     "text": [
      "<class 'pandas.core.series.Series'>\n",
      "RangeIndex: 3772 entries, 0 to 3771\n",
      "Series name: Date\n",
      "Non-Null Count  Dtype \n",
      "--------------  ----- \n",
      "3772 non-null   object\n",
      "dtypes: object(1)\n",
      "memory usage: 29.6+ KB\n"
     ]
    },
    {
     "data": {
      "text/plain": [
       "'2.2.2'"
      ]
     },
     "execution_count": 17,
     "metadata": {},
     "output_type": "execute_result"
    }
   ],
   "source": [
    "ticker_history['Date'].info()\n",
    "pd.__version__"
   ]
  },
  {
   "cell_type": "code",
   "execution_count": 37,
   "id": "95242d61-08f6-43d9-a186-d0b0f1b8374f",
   "metadata": {},
   "outputs": [],
   "source": [
    "from datetime import datetime\n",
    "from dateutil.relativedelta import relativedelta\n",
    "\n",
    "def get_previous_quarter():\n",
    "    # 获取当前日期\n",
    "    now = datetime.now()\n",
    "    \n",
    "    # 计算当前的季度 (1=Jan-Mar, 2=Apr-Jun, 3=Jul-Sep, 4=Oct-Dec)\n",
    "    current_quarter = (now.month - 1) // 3 + 1\n",
    "    \n",
    "    # 计算上一个季度的结束时间\n",
    "    if current_quarter == 1:\n",
    "        # 如果当前是第1季度，上一季度是去年的第4季度\n",
    "        end_date = datetime(now.year - 1, 12, 31)\n",
    "        start_date = datetime(now.year - 1, 10, 1)\n",
    "    else:\n",
    "        # 如果是第2、3、4季度\n",
    "        end_date = datetime(now.year, 3 * current_quarter - 1, 31)\n",
    "        start_date = datetime(now.year, 3 * (current_quarter - 1) - 2, 1)\n",
    "    \n",
    "    return start_date, end_date\n",
    "\n",
    "# 调用函数\n",
    "start_date, end_date = get_previous_quarter()"
   ]
  },
  {
   "cell_type": "code",
   "execution_count": 39,
   "id": "0fc8f44f-bfed-406b-9aeb-c961fc304927",
   "metadata": {},
   "outputs": [
    {
     "data": {
      "text/plain": [
       "('2024-04-01', datetime.datetime(2024, 8, 31, 0, 0))"
      ]
     },
     "execution_count": 39,
     "metadata": {},
     "output_type": "execute_result"
    }
   ],
   "source": [
    "start_date.strftime('%Y-%m-%d'), end_date"
   ]
  },
  {
   "cell_type": "code",
   "execution_count": 4,
   "id": "76a04674-b62a-4be2-a8d0-e36585173e98",
   "metadata": {},
   "outputs": [],
   "source": [
    "from datetime import datetime\n",
    "next_earning_days = datetime.strptime('2025-09-10','%Y-%m-%d')\n",
    "next_earning_days = datetime.now() - next_earning_days"
   ]
  },
  {
   "cell_type": "code",
   "execution_count": 6,
   "id": "a2f83b3f-6ea2-46a8-b658-579506cce3b5",
   "metadata": {},
   "outputs": [
    {
     "data": {
      "text/plain": [
       "-357"
      ]
     },
     "execution_count": 6,
     "metadata": {},
     "output_type": "execute_result"
    }
   ],
   "source": [
    "next_earning_days.days"
   ]
  },
  {
   "cell_type": "code",
   "execution_count": 7,
   "id": "e36a4ea5-661b-42cd-91e9-556f0d2ae8d4",
   "metadata": {},
   "outputs": [
    {
     "data": {
      "text/plain": [
       "datetime.datetime(2025, 9, 10, 0, 0)"
      ]
     },
     "execution_count": 7,
     "metadata": {},
     "output_type": "execute_result"
    }
   ],
   "source": [
    "datetime.strptime('2025-09-10','%Y-%m-%d')\n"
   ]
  },
  {
   "cell_type": "code",
   "execution_count": 8,
   "id": "75fdce4e-5b78-4099-b76a-91264384e93f",
   "metadata": {},
   "outputs": [
    {
     "data": {
      "text/plain": [
       "-357"
      ]
     },
     "execution_count": 8,
     "metadata": {},
     "output_type": "execute_result"
    }
   ],
   "source": [
    "next_earning_days.days"
   ]
  },
  {
   "cell_type": "code",
   "execution_count": null,
   "id": "c1f1e685-acbb-40f1-95d2-a2d9d195b4f9",
   "metadata": {},
   "outputs": [],
   "source": []
  }
 ],
 "metadata": {
  "kernelspec": {
   "display_name": "Python 3 (ipykernel)",
   "language": "python",
   "name": "python3"
  },
  "language_info": {
   "codemirror_mode": {
    "name": "ipython",
    "version": 3
   },
   "file_extension": ".py",
   "mimetype": "text/x-python",
   "name": "python",
   "nbconvert_exporter": "python",
   "pygments_lexer": "ipython3",
   "version": "3.10.14"
  }
 },
 "nbformat": 4,
 "nbformat_minor": 5
}
