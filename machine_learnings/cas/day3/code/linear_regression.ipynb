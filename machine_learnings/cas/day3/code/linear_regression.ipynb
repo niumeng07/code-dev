{
 "cells": [
  {
   "cell_type": "code",
   "execution_count": 23,
   "metadata": {},
   "outputs": [],
   "source": [
    "% matplotlib inline\n",
    "# encoding:utf-8\n",
    "import numpy as np\n",
    "import tensorflow as tf\n",
    "import matplotlib.pyplot as plt"
   ]
  },
  {
   "cell_type": "markdown",
   "metadata": {},
   "source": [
    "### 按照函数sin构造数据，加上一定噪声，学习模型拟合函数"
   ]
  },
  {
   "cell_type": "code",
   "execution_count": 24,
   "metadata": {},
   "outputs": [
    {
     "data": {
      "image/png": "[encoded data removed]",
      "text/plain": [
       "<matplotlib.figure.Figure at 0x7f7702939590>"
      ]
     },
     "metadata": {},
     "output_type": "display_data"
    }
   ],
   "source": [
    "plt.ion()\n",
    "n_observations = 100\n",
    "fig, ax = plt.subplots(1, 1)\n",
    "xs = np.linspace(-3, 3, n_observations)\n",
    "ys = np.sin(xs) + np.random.uniform(-0.5, 0.5, n_observations)\n",
    "ax.scatter(xs, ys)\n",
    "fig.show()\n",
    "plt.draw()"
   ]
  },
  {
   "cell_type": "markdown",
   "metadata": {},
   "source": [
    "### 设置使用GPU设备\n",
    "```\n",
    "import os\n",
    "os.environ[\"CUDA_VISIBLE_DEVICES\"] = \"0\"\n",
    "```"
   ]
  },
  {
   "cell_type": "code",
   "execution_count": 25,
   "metadata": {
    "collapsed": true
   },
   "outputs": [],
   "source": [
    "graph = tf.Graph() # 自定义Graph 可以不设置\n",
    "with graph.as_default():\n",
    "    # 定义模型输入和目标\n",
    "    input_X = tf.placeholder(tf.float32, name=\"input_X\")\n",
    "    input_Y = tf.placeholder(tf.float32, name=\"input_Y\")\n",
    "    # 定义权重变量\n",
    "    W = tf.Variable(tf.random_normal([1]), name='weight')\n",
    "    b = tf.Variable(tf.random_normal([1]), name='bias')\n",
    "    # 定义计算函数\n",
    "    Y_pred = tf.add(tf.multiply(input_X, W, name=\"mul\"), b, name=\"add\")\n",
    "    # 定义损失函数\n",
    "    cost = tf.reduce_sum(tf.pow(Y_pred - input_Y, 2)) / (100 - 1)\n",
    "    tf.summary.scalar('cost', cost)\n",
    "    # 使用优化方法，定义参数更新过程\n",
    "    learning_rate = 0.01\n",
    "    optimizer = tf.train.GradientDescentOptimizer(learning_rate).minimize(cost)\n",
    "    merged = tf.summary.merge_all() # 方便使用TensorBoard"
   ]
  },
  {
   "cell_type": "code",
   "execution_count": 26,
   "metadata": {},
   "outputs": [
    {
     "name": "stdout",
     "output_type": "stream",
     "text": [
      "4.03652\n",
      "3.88534\n",
      "3.74043\n",
      "3.60152\n",
      "3.46833\n",
      "3.34062\n",
      "3.21815\n",
      "3.10068\n",
      "2.98801\n",
      "2.87991\n",
      "2.77621\n",
      "2.67671\n",
      "2.58124\n",
      "2.48963\n",
      "2.40171\n",
      "2.31733\n",
      "2.23634\n",
      "2.15861\n",
      "2.08399\n",
      "2.01237\n",
      "1.94361\n",
      "1.87761\n",
      "1.81424\n",
      "1.75341\n",
      "1.695\n",
      "1.63892\n",
      "1.58508\n",
      "1.53338\n",
      "1.48374\n",
      "1.43608\n",
      "1.39031\n",
      "1.34637\n",
      "1.30417\n",
      "1.26364\n",
      "1.22473\n",
      "1.18736\n",
      "1.15147\n",
      "1.11701\n",
      "1.08391\n",
      "1.05213\n",
      "1.02161\n",
      "0.992298\n",
      "0.964147\n",
      "0.937112\n",
      "0.911149\n",
      "0.886214\n",
      "0.862266\n",
      "0.839267\n",
      "0.817178\n",
      "0.795964\n"
     ]
    },
    {
     "data": {
      "text/plain": [
       "<matplotlib.figure.Figure at 0x7f77055297d0>"
      ]
     },
     "metadata": {},
     "output_type": "display_data"
    }
   ],
   "source": [
    "n_epochs = 50\n",
    "# 创建Session\n",
    "with tf.Session(graph=graph) as sess:\n",
    "    train_writer = tf.summary.FileWriter('linear/train', sess.graph)\n",
    "    sess.run(tf.global_variables_initializer()) # 初始化参数\n",
    "\n",
    "    prev_training_cost = 0.0\n",
    "    for epoch_i in range(n_epochs):\n",
    "        for (x, y) in zip(xs, ys):\n",
    "            sess.run(optimizer, feed_dict={input_X: x, input_Y: y})\n",
    "        summary, training_cost = sess.run([merged, cost], feed_dict={input_X: xs, input_Y: ys})\n",
    "        train_writer.add_summary(summary, epoch_i)\n",
    "        print(training_cost)\n",
    "        \n",
    "        if epoch_i % 20 == 0:\n",
    "            ax.plot(xs, Y_pred.eval(feed_dict={input_X: xs}, session=sess), 'k', alpha= epoch_i / n_epochs)\n",
    "            fig.show()\n",
    "            plt.draw()\n",
    "            \n",
    "        if np.abs(prev_training_cost - training_cost) < 0.000001:\n",
    "            break\n",
    "        prev_training_cost = training_cost\n",
    "#fig.show()\n",
    "#plt.draw()"
   ]
  },
  {
   "cell_type": "code",
   "execution_count": null,
   "metadata": {
    "collapsed": true
   },
   "outputs": [],
   "source": []
  }
 ],
 "metadata": {
  "kernelspec": {
   "display_name": "Python 2",
   "language": "python",
   "name": "python2"
  },
  "language_info": {
   "codemirror_mode": {
    "name": "ipython",
    "version": 2
   },
   "file_extension": ".py",
   "mimetype": "text/x-python",
   "name": "python",
   "nbconvert_exporter": "python",
   "pygments_lexer": "ipython2",
   "version": "2.7.12"
  }
 },
 "nbformat": 4,
 "nbformat_minor": 2
}
