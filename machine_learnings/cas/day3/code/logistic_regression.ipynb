{
 "cells": [
  {
   "cell_type": "code",
   "execution_count": 1,
   "metadata": {
    "collapsed": true
   },
   "outputs": [],
   "source": [
    "# encoding:utf-8\n",
    "\n",
    "import tensorflow as tf\n",
    "import numpy as np\n",
    "import input_data"
   ]
  },
  {
   "cell_type": "code",
   "execution_count": null,
   "metadata": {},
   "outputs": [],
   "source": [
    "mnist = input_data.read_data_sets(\"../MNIST_data/\", one_hot=True)\n",
    "trX, trY, teX, teY = mnist.train.images, mnist.train.labels, mnist.test.images, mnist.test.labels"
   ]
  },
  {
   "cell_type": "code",
   "execution_count": 4,
   "metadata": {
    "collapsed": true
   },
   "outputs": [],
   "source": [
    "log_dir = \"mnist_logs\""
   ]
  },
  {
   "cell_type": "code",
   "execution_count": 5,
   "metadata": {
    "collapsed": true
   },
   "outputs": [],
   "source": [
    "def variable_summaries(var):\n",
    "  with tf.name_scope('summaries'):\n",
    "    mean = tf.reduce_mean(var)\n",
    "    tf.summary.scalar('mean', mean)\n",
    "    with tf.name_scope('stddev'):\n",
    "      stddev = tf.sqrt(tf.reduce_mean(tf.square(var - mean)))\n",
    "    tf.summary.scalar('stddev', stddev)\n",
    "    tf.summary.scalar('max', tf.reduce_max(var))\n",
    "    tf.summary.scalar('min', tf.reduce_min(var))\n",
    "    tf.summary.histogram('histogram', var)"
   ]
  },
  {
   "cell_type": "code",
   "execution_count": 6,
   "metadata": {
    "collapsed": true
   },
   "outputs": [],
   "source": [
    "def init_weights(shape):\n",
    "    return tf.Variable(tf.random_normal(shape, stddev=0.01), name=\"weight_w\")\n",
    "\n",
    "def model(X, w):\n",
    "    return tf.matmul(X, w)"
   ]
  },
  {
   "cell_type": "code",
   "execution_count": 7,
   "metadata": {
    "collapsed": true
   },
   "outputs": [],
   "source": [
    "graph = tf.Graph()\n",
    "with graph.as_default():\n",
    "\n",
    "    input_X = tf.placeholder(\"float\", [None, 784], name=\"input_X\")\n",
    "    input_Y = tf.placeholder(\"float\", [None, 10], name=\"input_Y\")\n",
    "\n",
    "    global_step = tf.Variable(0, trainable=False)\n",
    "\n",
    "    with tf.name_scope('input_reshape'):\n",
    "        image_shaped_input = tf.reshape(input_X, [-1, 28, 28, 1])\n",
    "        tf.summary.image('input', image_shaped_input, 10)\n",
    "\n",
    "    w = init_weights([784, 10])\n",
    "    variable_summaries(w)\n",
    "    py_x = model(input_X, w)\n",
    "    tf.summary.tensor_summary(\"predict\", py_x)\n",
    "\n",
    "    cost = tf.reduce_mean(tf.nn.softmax_cross_entropy_with_logits(logits=py_x, labels=input_Y))\n",
    "    tf.summary.scalar(\"cost\", cost)\n",
    "\n",
    "    optimizer = tf.train.GradientDescentOptimizer(0.05).minimize(cost, global_step=global_step)\n",
    "    predict_op = tf.argmax(py_x, 1)\n",
    "\n",
    "    merged = tf.summary.merge_all()\n",
    "    with tf.device(\"/cpu:0\"):\n",
    "        saver = tf.train.Saver(tf.global_variables(), max_to_keep=2)"
   ]
  },
  {
   "cell_type": "code",
   "execution_count": 8,
   "metadata": {},
   "outputs": [
    {
     "name": "stdout",
     "output_type": "stream",
     "text": [
      "第 1 轮学习, 准确率为:  0.8845\n",
      "第 2 轮学习, 准确率为:  0.896\n",
      "第 3 轮学习, 准确率为:  0.9035\n",
      "第 4 轮学习, 准确率为:  0.9077\n",
      "第 5 轮学习, 准确率为:  0.9104\n",
      "第 6 轮学习, 准确率为:  0.9107\n",
      "第 7 轮学习, 准确率为:  0.9125\n",
      "第 8 轮学习, 准确率为:  0.9133\n",
      "第 9 轮学习, 准确率为:  0.9152\n",
      "第 10 轮学习, 准确率为:  0.916\n",
      "第 11 轮学习, 准确率为:  0.9161\n",
      "第 12 轮学习, 准确率为:  0.9164\n",
      "第 13 轮学习, 准确率为:  0.9169\n",
      "第 14 轮学习, 准确率为:  0.9172\n",
      "第 15 轮学习, 准确率为:  0.9173\n",
      "第 16 轮学习, 准确率为:  0.9176\n",
      "第 17 轮学习, 准确率为:  0.9181\n",
      "第 18 轮学习, 准确率为:  0.9188\n",
      "第 19 轮学习, 准确率为:  0.9193\n",
      "第 20 轮学习, 准确率为:  0.9194\n",
      "第 21 轮学习, 准确率为:  0.9197\n",
      "第 22 轮学习, 准确率为:  0.9199\n",
      "第 23 轮学习, 准确率为:  0.9204\n",
      "第 24 轮学习, 准确率为:  0.9204\n",
      "第 25 轮学习, 准确率为:  0.9207\n",
      "第 26 轮学习, 准确率为:  0.9208\n",
      "第 27 轮学习, 准确率为:  0.921\n",
      "第 28 轮学习, 准确率为:  0.921\n",
      "第 29 轮学习, 准确率为:  0.9211\n",
      "第 30 轮学习, 准确率为:  0.9214\n",
      "第 31 轮学习, 准确率为:  0.9214\n",
      "第 32 轮学习, 准确率为:  0.9216\n",
      "第 33 轮学习, 准确率为:  0.9216\n",
      "第 34 轮学习, 准确率为:  0.9217\n",
      "第 35 轮学习, 准确率为:  0.9216\n",
      "第 36 轮学习, 准确率为:  0.9214\n",
      "第 37 轮学习, 准确率为:  0.9216\n",
      "第 38 轮学习, 准确率为:  0.9218\n",
      "第 39 轮学习, 准确率为:  0.9217\n",
      "第 40 轮学习, 准确率为:  0.9217\n",
      "第 41 轮学习, 准确率为:  0.9217\n",
      "第 42 轮学习, 准确率为:  0.9217\n",
      "第 43 轮学习, 准确率为:  0.9217\n",
      "第 44 轮学习, 准确率为:  0.9218\n",
      "第 45 轮学习, 准确率为:  0.9218\n",
      "第 46 轮学习, 准确率为:  0.9218\n",
      "第 47 轮学习, 准确率为:  0.9218\n",
      "第 48 轮学习, 准确率为:  0.9219\n",
      "第 49 轮学习, 准确率为:  0.922\n",
      "第 50 轮学习, 准确率为:  0.9221\n",
      "第 51 轮学习, 准确率为:  0.922\n",
      "第 52 轮学习, 准确率为:  0.922\n",
      "第 53 轮学习, 准确率为:  0.922\n",
      "第 54 轮学习, 准确率为:  0.9221\n",
      "第 55 轮学习, 准确率为:  0.9222\n",
      "第 56 轮学习, 准确率为:  0.9222\n",
      "第 57 轮学习, 准确率为:  0.9225\n",
      "第 58 轮学习, 准确率为:  0.9225\n",
      "第 59 轮学习, 准确率为:  0.9227\n",
      "第 60 轮学习, 准确率为:  0.9227\n",
      "第 61 轮学习, 准确率为:  0.9228\n",
      "第 62 轮学习, 准确率为:  0.923\n",
      "第 63 轮学习, 准确率为:  0.9231\n",
      "第 64 轮学习, 准确率为:  0.9232\n",
      "第 65 轮学习, 准确率为:  0.9232\n",
      "第 66 轮学习, 准确率为:  0.9231\n",
      "第 67 轮学习, 准确率为:  0.9234\n",
      "第 68 轮学习, 准确率为:  0.9235\n",
      "第 69 轮学习, 准确率为:  0.9235\n",
      "第 70 轮学习, 准确率为:  0.9235\n",
      "第 71 轮学习, 准确率为:  0.9235\n",
      "第 72 轮学习, 准确率为:  0.9236\n",
      "第 73 轮学习, 准确率为:  0.9234\n",
      "第 74 轮学习, 准确率为:  0.9235\n",
      "第 75 轮学习, 准确率为:  0.9235\n",
      "第 76 轮学习, 准确率为:  0.9234\n",
      "第 77 轮学习, 准确率为:  0.9234\n",
      "第 78 轮学习, 准确率为:  0.9235\n",
      "第 79 轮学习, 准确率为:  0.9236\n",
      "第 80 轮学习, 准确率为:  0.9238\n",
      "第 81 轮学习, 准确率为:  0.9239\n",
      "第 82 轮学习, 准确率为:  0.9238\n",
      "第 83 轮学习, 准确率为:  0.9238\n",
      "第 84 轮学习, 准确率为:  0.9237\n",
      "第 85 轮学习, 准确率为:  0.9237\n",
      "第 86 轮学习, 准确率为:  0.9236\n",
      "第 87 轮学习, 准确率为:  0.9237\n",
      "第 88 轮学习, 准确率为:  0.9237\n",
      "第 89 轮学习, 准确率为:  0.9237\n",
      "第 90 轮学习, 准确率为:  0.9239\n",
      "第 91 轮学习, 准确率为:  0.9238\n",
      "第 92 轮学习, 准确率为:  0.9236\n",
      "第 93 轮学习, 准确率为:  0.9237\n",
      "第 94 轮学习, 准确率为:  0.9237\n",
      "第 95 轮学习, 准确率为:  0.9237\n",
      "第 96 轮学习, 准确率为:  0.9236\n",
      "第 97 轮学习, 准确率为:  0.9235\n",
      "第 98 轮学习, 准确率为:  0.9235\n",
      "第 99 轮学习, 准确率为:  0.9235\n",
      "第 100 轮学习, 准确率为:  0.9235\n"
     ]
    }
   ],
   "source": [
    "with tf.Session(graph=graph) as sess:\n",
    "    train_writer = tf.summary.FileWriter(log_dir + '/train', sess.graph)\n",
    "    tf.global_variables_initializer().run()\n",
    "\n",
    "    for i in range(100):\n",
    "        for start, end in zip(range(0, len(trX), 128), range(128, len(trX)+1, 128)):\n",
    "            summary, _, step_id = sess.run([merged, optimizer, global_step],\n",
    "                                           feed_dict={input_X: trX[start:end],\n",
    "                                                      input_Y: trY[start:end]})\n",
    "            train_writer.add_summary(summary, step_id)\n",
    "\n",
    "        predict_results = sess.run(predict_op, feed_dict={input_X: teX})\n",
    "        accuracy = np.mean(np.argmax(teY, axis=1) == predict_results)\n",
    "        print \"第\", i+1, \"轮学习, 准确率为: \", accuracy\n",
    "    saver.save(sess, 'run/checkpoint', global_step=global_step)"
   ]
  },
  {
   "cell_type": "code",
   "execution_count": null,
   "metadata": {
    "collapsed": true
   },
   "outputs": [],
   "source": []
  }
 ],
 "metadata": {
  "kernelspec": {
   "display_name": "Python 2",
   "language": "python",
   "name": "python2"
  },
  "language_info": {
   "codemirror_mode": {
    "name": "ipython",
    "version": 2
   },
   "file_extension": ".py",
   "mimetype": "text/x-python",
   "name": "python",
   "nbconvert_exporter": "python",
   "pygments_lexer": "ipython2",
   "version": "2.7.12"
  }
 },
 "nbformat": 4,
 "nbformat_minor": 2
}
