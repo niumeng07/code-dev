{
 "cells": [
  {
   "cell_type": "markdown",
   "metadata": {},
   "source": [
    "### Python使用Gaussian Mixture Models\n",
    "### 使用sklearn包提供的GMM类"
   ]
  },
  {
   "cell_type": "code",
   "execution_count": 2,
   "metadata": {
    "collapsed": true
   },
   "outputs": [],
   "source": [
    "# encoding:utf-8\n",
    "\n",
    "import numpy as np\n",
    "import pylab as pl\n",
    "from sklearn import mixture\n",
    "\n",
    "\n",
    "%matplotlib inline  "
   ]
  },
  {
   "cell_type": "code",
   "execution_count": 3,
   "metadata": {
    "collapsed": true
   },
   "outputs": [],
   "source": [
    "def data_loader():\n",
    "    samples = list()\n",
    "    centers = [(-1.0, 0.0), (1.0, 0.0),\n",
    "               (0.0, -1.0), (0.0, 1.0)]\n",
    "    for center in centers:\n",
    "        samples.extend(zip(np.random.normal(center[0], 0.25, 100),\n",
    "                           np.random.normal(center[1], 0.25, 100)))\n",
    "    return samples\n",
    "\n",
    "cluster_num = 4\n",
    "instances = data_loader()"
   ]
  },
  {
   "cell_type": "code",
   "execution_count": 4,
   "metadata": {},
   "outputs": [
    {
     "name": "stderr",
     "output_type": "stream",
     "text": [
      "/home/dl/.pyenv/versions/2.7.12/lib/python2.7/site-packages/sklearn/utils/deprecation.py:57: DeprecationWarning: Class GMM is deprecated; The class GMM is deprecated in 0.18 and will be  removed in 0.20. Use class GaussianMixture instead.\n",
      "  warnings.warn(msg, category=DeprecationWarning)\n",
      "/home/dl/.pyenv/versions/2.7.12/lib/python2.7/site-packages/sklearn/utils/deprecation.py:75: DeprecationWarning: Function distribute_covar_matrix_to_match_covariance_type is deprecated; The function distribute_covar_matrix_to_match_covariance_typeis deprecated in 0.18 and will be removed in 0.20.\n",
      "  warnings.warn(msg, category=DeprecationWarning)\n",
      "/home/dl/.pyenv/versions/2.7.12/lib/python2.7/site-packages/sklearn/utils/deprecation.py:75: DeprecationWarning: Function log_multivariate_normal_density is deprecated; The function log_multivariate_normal_density is deprecated in 0.18 and will be removed in 0.20.\n",
      "  warnings.warn(msg, category=DeprecationWarning)\n",
      "/home/dl/.pyenv/versions/2.7.12/lib/python2.7/site-packages/sklearn/utils/deprecation.py:75: DeprecationWarning: Function log_multivariate_normal_density is deprecated; The function log_multivariate_normal_density is deprecated in 0.18 and will be removed in 0.20.\n",
      "  warnings.warn(msg, category=DeprecationWarning)\n",
      "/home/dl/.pyenv/versions/2.7.12/lib/python2.7/site-packages/sklearn/utils/deprecation.py:75: DeprecationWarning: Function log_multivariate_normal_density is deprecated; The function log_multivariate_normal_density is deprecated in 0.18 and will be removed in 0.20.\n",
      "  warnings.warn(msg, category=DeprecationWarning)\n",
      "/home/dl/.pyenv/versions/2.7.12/lib/python2.7/site-packages/sklearn/utils/deprecation.py:75: DeprecationWarning: Function log_multivariate_normal_density is deprecated; The function log_multivariate_normal_density is deprecated in 0.18 and will be removed in 0.20.\n",
      "  warnings.warn(msg, category=DeprecationWarning)\n",
      "/home/dl/.pyenv/versions/2.7.12/lib/python2.7/site-packages/sklearn/utils/deprecation.py:75: DeprecationWarning: Function log_multivariate_normal_density is deprecated; The function log_multivariate_normal_density is deprecated in 0.18 and will be removed in 0.20.\n",
      "  warnings.warn(msg, category=DeprecationWarning)\n",
      "/home/dl/.pyenv/versions/2.7.12/lib/python2.7/site-packages/sklearn/utils/deprecation.py:75: DeprecationWarning: Function log_multivariate_normal_density is deprecated; The function log_multivariate_normal_density is deprecated in 0.18 and will be removed in 0.20.\n",
      "  warnings.warn(msg, category=DeprecationWarning)\n",
      "/home/dl/.pyenv/versions/2.7.12/lib/python2.7/site-packages/sklearn/utils/deprecation.py:75: DeprecationWarning: Function log_multivariate_normal_density is deprecated; The function log_multivariate_normal_density is deprecated in 0.18 and will be removed in 0.20.\n",
      "  warnings.warn(msg, category=DeprecationWarning)\n"
     ]
    },
    {
     "data": {
      "text/plain": [
       "GMM(covariance_type='diag', init_params='wmc', min_covar=0.001,\n",
       "  n_components=4, n_init=1, n_iter=100, params='wmc', random_state=None,\n",
       "  tol=0.001, verbose=0)"
      ]
     },
     "execution_count": 4,
     "metadata": {},
     "output_type": "execute_result"
    }
   ],
   "source": [
    "gmm = mixture.GMM(cluster_num)\n",
    "gmm.fit(instances) # 估计模型参数"
   ]
  },
  {
   "cell_type": "code",
   "execution_count": 5,
   "metadata": {},
   "outputs": [
    {
     "name": "stdout",
     "output_type": "stream",
     "text": [
      "[ 0.25122033  0.25225942  0.24858557  0.24793468]\n",
      "[[ 0.01251432 -1.06365172]\n",
      " [-0.00198243  0.99578231]\n",
      " [ 1.04512366 -0.01034542]\n",
      " [-0.98266563  0.04165055]]\n",
      "[[ 0.05754426  0.08316429]\n",
      " [ 0.06630574  0.07559259]\n",
      " [ 0.06740233  0.06966623]\n",
      " [ 0.05472602  0.04389935]]\n"
     ]
    }
   ],
   "source": [
    "print gmm.weights_\n",
    "print gmm.means_\n",
    "print gmm.covars_"
   ]
  },
  {
   "cell_type": "code",
   "execution_count": 6,
   "metadata": {
    "collapsed": true
   },
   "outputs": [],
   "source": [
    "# 对某个样本进行聚类类别指派\n",
    "def assign(inst, _gmm):\n",
    "    return _gmm.predict(inst)\n"
   ]
  },
  {
   "cell_type": "code",
   "execution_count": 7,
   "metadata": {
    "collapsed": true
   },
   "outputs": [],
   "source": [
    "basic_colors = ['r', 'g', 'b', 'y']\n",
    "basic_markers = ['+', 'o', '*', '^']\n",
    "def plot_points(points, assigns=None, colors=None, markers=None):\n",
    "    if assigns is not None:\n",
    "        colors = [basic_colors[i] for i in assigns]\n",
    "        markers = [basic_markers[i] for i in assigns]\n",
    "    if colors is None or markers is None:\n",
    "        colors = ['r' for _ in points]\n",
    "        markers = ['+' for _ in points]\n",
    "    for p, c, m in zip(points, colors, markers):\n",
    "        pl.scatter(p[0], p[1], c=c, marker=m)\n",
    "    pl.title('dataset with %d clusters and known outcomes.' % cluster_num)\n",
    "    pl.show()"
   ]
  },
  {
   "cell_type": "code",
   "execution_count": 10,
   "metadata": {},
   "outputs": [
    {
     "name": "stderr",
     "output_type": "stream",
     "text": [
      "/home/dl/.pyenv/versions/2.7.12/lib/python2.7/site-packages/sklearn/utils/deprecation.py:75: DeprecationWarning: Function log_multivariate_normal_density is deprecated; The function log_multivariate_normal_density is deprecated in 0.18 and will be removed in 0.20.\n",
      "  warnings.warn(msg, category=DeprecationWarning)\n"
     ]
    },
    {
     "data": {
      "image/png": "[encoded data removed]",
      "text/plain": [
       "<matplotlib.figure.Figure at 0x7f225006d110>"
      ]
     },
     "metadata": {},
     "output_type": "display_data"
    }
   ],
   "source": [
    "labels = gmm.predict(instances)\n",
    "plot_points(instances, labels)"
   ]
  },
  {
   "cell_type": "code",
   "execution_count": null,
   "metadata": {
    "collapsed": true
   },
   "outputs": [],
   "source": []
  }
 ],
 "metadata": {
  "kernelspec": {
   "display_name": "Python 2",
   "language": "python",
   "name": "python2"
  },
  "language_info": {
   "codemirror_mode": {
    "name": "ipython",
    "version": 2
   },
   "file_extension": ".py",
   "mimetype": "text/x-python",
   "name": "python",
   "nbconvert_exporter": "python",
   "pygments_lexer": "ipython2",
   "version": "2.7.10"
  }
 },
 "nbformat": 4,
 "nbformat_minor": 2
}
