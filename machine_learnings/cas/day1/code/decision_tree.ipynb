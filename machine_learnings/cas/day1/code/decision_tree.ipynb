{
 "cells": [
  {
   "cell_type": "code",
   "execution_count": 1,
   "metadata": {
    "collapsed": true
   },
   "outputs": [],
   "source": [
    "# encoding:utf-8\n",
    "\n",
    "# 决策树分类器\n",
    "\n",
    "from enum import Enum, unique\n",
    "import random, math\n",
    "from collections import Counter"
   ]
  },
  {
   "cell_type": "code",
   "execution_count": 2,
   "metadata": {
    "collapsed": true
   },
   "outputs": [],
   "source": [
    "@unique\n",
    "class AttrType(Enum):\n",
    "    category = 0\n",
    "    numeric = 1"
   ]
  },
  {
   "cell_type": "code",
   "execution_count": 3,
   "metadata": {
    "collapsed": true
   },
   "outputs": [],
   "source": [
    "def data_loader():\n",
    "    insts = [['sunny','85','85','FALSE'],\n",
    "             ['sunny','80','90','TRUE'],\n",
    "             ['overcast','83','86','FALSE'],\n",
    "             ['rainy','70','96','FALSE'],\n",
    "             ['rainy','68','80','FALSE'],\n",
    "             ['rainy','65','70','TRUE'],\n",
    "             ['overcast','64','65','TRUE'],\n",
    "             ['sunny','72','95','FALSE'],\n",
    "             ['sunny','69','70','FALSE'],\n",
    "             ['rainy','75','80','FALSE'],\n",
    "             ['sunny','75','70','TRUE'],\n",
    "             ['overcast','72','90','TRUE'],\n",
    "             ['overcast','81','75','FALSE'],\n",
    "             ['rainy','71','91','TRUE']]\n",
    "    attrs = [('outlook', AttrType.category),\n",
    "             ('temperature', AttrType.category),\n",
    "             ('humidity', AttrType.category),\n",
    "             ('windy', AttrType.category)]\n",
    "    labels = ['no', 'no', 'yes', 'yes', 'yes', 'no', 'yes',\n",
    "              'no', 'yes', 'yes', 'yes', 'yes', 'yes', 'no']\n",
    "    total_instances = zip(insts, labels)\n",
    "    random.shuffle(total_instances)\n",
    "    inst_num_part = int(len(total_instances) * 0.1)\n",
    "    train_insts = total_instances[:7 * inst_num_part]\n",
    "    test_insts = total_instances[7 * inst_num_part:]\n",
    "\n",
    "    return attrs, train_insts, test_insts"
   ]
  },
  {
   "cell_type": "code",
   "execution_count": 4,
   "metadata": {
    "collapsed": true
   },
   "outputs": [],
   "source": [
    "# 计算熵\n",
    "def calc_shannon_ent(insts):\n",
    "    labels = [x[1] for x in insts]\n",
    "    label_frqs = dict()\n",
    "    for label in labels:\n",
    "        label_frqs[label] = label_frqs.get(label, 0) + 1\n",
    "    total_num = len(labels)\n",
    "    shannon_ent = 0.0\n",
    "    for key in label_frqs:\n",
    "        prob = float(label_frqs[key]) / total_num\n",
    "        shannon_ent -= prob * math.log(prob, 2)\n",
    "    return shannon_ent"
   ]
  },
  {
   "cell_type": "code",
   "execution_count": 5,
   "metadata": {
    "collapsed": true
   },
   "outputs": [],
   "source": [
    "def extract_values(insts, attr_id):\n",
    "    return list(set([x[0][attr_id] for x in insts]))"
   ]
  },
  {
   "cell_type": "code",
   "execution_count": 6,
   "metadata": {
    "collapsed": true
   },
   "outputs": [],
   "source": [
    "def split_instances(insts, attr_id, value):\n",
    "    ext_insts = list()\n",
    "    for inst in insts:\n",
    "        if inst[0][attr_id] == value:\n",
    "            ext_insts.append(inst)\n",
    "    return ext_insts"
   ]
  },
  {
   "cell_type": "code",
   "execution_count": 7,
   "metadata": {
    "collapsed": true
   },
   "outputs": [],
   "source": [
    "def train(train_insts, attr_ids, tree=None, attr_basic_ents=None):\n",
    "    if tree is None:\n",
    "        tree = dict()\n",
    "    labels = [x[1] for x in train_insts]\n",
    "    insts = [x[0] for x in train_insts]\n",
    "    if len(set(labels)) == 1: # 类别相同，停止划分\n",
    "        return labels[0]\n",
    "    if len(attr_ids) == 0:\n",
    "        label_counter = Counter()\n",
    "        label_counter.update(labels)\n",
    "        return label_counter.most_common(1)[0][0]\n",
    "    # 选择决策的属性\n",
    "    basic_ent = calc_shannon_ent(train_insts)\n",
    "    best_info_gain, best_attr = -100000, -1\n",
    "    for attr in attr_ids:\n",
    "        attr_values = [x[attr] for x in insts]\n",
    "        uni_values = set(attr_values)\n",
    "        new_ent = 0\n",
    "        for value in uni_values:\n",
    "            sub_insts = split_instances(train_insts, attr, value)\n",
    "            prob = len(sub_insts) * 1.0 / len(insts)\n",
    "            new_ent += prob * calc_shannon_ent(sub_insts)\n",
    "        info_gain = (basic_ent - new_ent) / attr_basic_ents[attr]\n",
    "        if info_gain > best_info_gain:\n",
    "            best_info_gain, best_attr = info_gain, attr\n",
    "    tree[best_attr] = dict()\n",
    "    for value in set([x[best_attr] for x in insts]):\n",
    "        sub_insts = split_instances(train_insts, best_attr, value)\n",
    "        new_attr_ids = [x for x in attr_ids]\n",
    "        new_attr_ids.remove(best_attr)\n",
    "        tree[best_attr][value] = train(sub_insts, new_attr_ids,\n",
    "                                       attr_basic_ents=attr_basic_ents)\n",
    "    return tree"
   ]
  },
  {
   "cell_type": "code",
   "execution_count": 8,
   "metadata": {
    "collapsed": true
   },
   "outputs": [],
   "source": [
    "def classify(inst, attrs, tree):\n",
    "    if isinstance(tree, str): # 叶子节点\n",
    "        return tree\n",
    "    curr_attr_id = list(tree.keys())[0] # 当前分类的属性ID\n",
    "    inst_attr_value = inst[curr_attr_id] # 当前样本的属性值\n",
    "    if inst_attr_value not in tree[curr_attr_id]: # 随机猜测\n",
    "        inst_attr_value = random.choice(list(tree[curr_attr_id].keys()))\n",
    "    sub_tree = tree[curr_attr_id][inst_attr_value]\n",
    "    if isinstance(sub_tree, dict):\n",
    "        return classify(inst, attrs, sub_tree)\n",
    "    else:\n",
    "        return sub_tree"
   ]
  },
  {
   "cell_type": "code",
   "execution_count": 9,
   "metadata": {
    "collapsed": false
   },
   "outputs": [
    {
     "name": "stdout",
     "output_type": "stream",
     "text": [
      "{3: {'FALSE': {0: {'rainy': 'yes', 'overcast': 'yes', 'sunny': 'no'}}, 'TRUE': 'no'}}\n",
      "accuracy:  42.8571428571\n"
     ]
    }
   ],
   "source": [
    "attrs, train_insts, test_insts = data_loader()\n",
    "# 计算不同属性的固有熵\n",
    "attr_basic_ents = list()\n",
    "for id, attr in enumerate(attrs):\n",
    "    attr_values = [x[0][id] for x in train_insts]\n",
    "    attr_basic_ents.append(calc_shannon_ent(attr_values))\n",
    "# classifier = train(train_insts, list(range(len(attrs))), attr_basic_ents=attr_basic_ents)\n",
    "classifier = train(train_insts, [0, 1, 2, 3], attr_basic_ents=attr_basic_ents)\n",
    "print classifier\n",
    "# {2: {'90': {0: {'overcast': 'yes', 'sunny': 'no'}}, '80': 'yes', '70': {3: {'FALSE': 'yes', 'TRUE': 'no'}}, '95': 'no', '85': 'no'}}\n",
    "accs = list()\n",
    "for inst, real_label in test_insts:\n",
    "    pred_label = classify(inst, list(range(len(attrs))), classifier)\n",
    "    if pred_label == real_label:\n",
    "        accs.append(1)\n",
    "    else:\n",
    "        accs.append(0)\n",
    "print \"accuracy: \", sum(accs) * 100.0 / len(accs)"
   ]
  },
  {
   "cell_type": "code",
   "execution_count": null,
   "metadata": {
    "collapsed": true
   },
   "outputs": [],
   "source": []
  }
 ],
 "metadata": {
  "kernelspec": {
   "display_name": "Python 2",
   "language": "python",
   "name": "python2"
  },
  "language_info": {
   "codemirror_mode": {
    "name": "ipython",
    "version": 2
   },
   "file_extension": ".py",
   "mimetype": "text/x-python",
   "name": "python",
   "nbconvert_exporter": "python",
   "pygments_lexer": "ipython2",
   "version": "2.7.12"
  }
 },
 "nbformat": 4,
 "nbformat_minor": 0
}
