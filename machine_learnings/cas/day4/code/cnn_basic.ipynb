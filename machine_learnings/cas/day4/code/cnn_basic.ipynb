{
 "cells": [
  {
   "cell_type": "code",
   "execution_count": 3,
   "metadata": {
    "collapsed": true
   },
   "outputs": [],
   "source": [
    "# encoding:utf-8\n",
    "import numpy as np\n",
    "import tensorflow as tf"
   ]
  },
  {
   "cell_type": "markdown",
   "metadata": {},
   "source": [
    "### 卷积操作示意"
   ]
  },
  {
   "cell_type": "code",
   "execution_count": 6,
   "metadata": {},
   "outputs": [],
   "source": [
    "# 输入数据（图像）\n",
    "x_image = tf.placeholder(tf.float32, shape=[5,5])\n",
    "x = tf.reshape(x_image, [1, 5, 5, 1])"
   ]
  },
  {
   "cell_type": "code",
   "execution_count": 7,
   "metadata": {
    "collapsed": true
   },
   "outputs": [],
   "source": [
    "# 滤波器\n",
    "W_cpu = np.array([[1,1,1], [0,-1, 0], [0, -1, 1]], dtype=np.float32)\n",
    "W = tf.Variable(W_cpu)\n",
    "W = tf.reshape(W, [3, 3, 1, 1])"
   ]
  },
  {
   "cell_type": "code",
   "execution_count": 8,
   "metadata": {
    "collapsed": true
   },
   "outputs": [],
   "source": [
    "# 步长,卷积类型\n",
    "strides = [1, 1, 1, 1]\n",
    "padding = 'VALID'\n",
    "\n",
    "# 卷积\n",
    "y = tf.nn.conv2d(x, W, strides, padding)"
   ]
  },
  {
   "cell_type": "code",
   "execution_count": 9,
   "metadata": {
    "collapsed": true
   },
   "outputs": [],
   "source": [
    "x_data = np.array(\n",
    "    [\n",
    "        [1,0,0,0,0],\n",
    "        [2,1,1,2,1],\n",
    "        [1,1,2,2,0],\n",
    "        [2,2,1,0,0],\n",
    "        [2,1,2,1,1]        \n",
    "    ]\n",
    ")"
   ]
  },
  {
   "cell_type": "code",
   "execution_count": 10,
   "metadata": {
    "collapsed": true
   },
   "outputs": [],
   "source": [
    "with tf.Session() as sess:\n",
    "    sess.run(tf.global_variables_initializer())\n",
    "    \n",
    "    x = sess.run(x, feed_dict={x_image:x_data})\n",
    "    W = sess.run(W, feed_dict={x_image:x_data})\n",
    "    y = sess.run(y, feed_dict={x_image:x_data})\n",
    "    "
   ]
  },
  {
   "cell_type": "code",
   "execution_count": 13,
   "metadata": {},
   "outputs": [
    {
     "name": "stdout",
     "output_type": "stream",
     "text": [
      "The shape of X:  (1, 5, 5, 1)\n",
      "[[ 1.  0.  0.  0.  0.]\n",
      " [ 2.  1.  1.  2.  1.]\n",
      " [ 1.  1.  2.  2.  0.]\n",
      " [ 2.  2.  1.  0.  0.]\n",
      " [ 2.  1.  2.  1.  1.]]\n",
      "\n",
      "The shape of W:  (3, 3, 1, 1)\n",
      "[[ 1.  1.  1.]\n",
      " [ 0. -1.  0.]\n",
      " [ 0. -1.  1.]]\n",
      "\n",
      "The shape of y:  (1, 3, 3, 1)\n",
      "[[ 1. -1. -4.]\n",
      " [ 2.  1.  2.]\n",
      " [ 3.  3.  4.]]\n",
      "\n"
     ]
    }
   ],
   "source": [
    "print \"The shape of X: \", x.shape\n",
    "print x.reshape(5, 5)\n",
    "print \"\"\n",
    "\n",
    "print \"The shape of W: \", W.shape\n",
    "print W.reshape(3, 3)\n",
    "print \"\"\n",
    "\n",
    "print \"The shape of y: \", y.shape\n",
    "print y.reshape(3, 3)\n",
    "print \"\""
   ]
  },
  {
   "cell_type": "markdown",
   "metadata": {},
   "source": [
    "### 池化操作示意"
   ]
  },
  {
   "cell_type": "code",
   "execution_count": 14,
   "metadata": {
    "collapsed": true
   },
   "outputs": [],
   "source": [
    "# 输入X\n",
    "x_image = tf.placeholder(tf.float32, shape=[4,4])\n",
    "x = tf.reshape(x_image, [1, 4, 4, 1])\n",
    "\n",
    "# ksize & Stride & Padding\n",
    "ksize = [1, 2, 2, 1]\n",
    "strides = [1, 2, 2, 1]\n",
    "padding = 'VALID'\n",
    "\n",
    "# max_pooling\n",
    "y = tf.nn.max_pool(x, ksize, strides, padding)"
   ]
  },
  {
   "cell_type": "code",
   "execution_count": 15,
   "metadata": {
    "collapsed": true
   },
   "outputs": [],
   "source": [
    "x_data = np.array([\n",
    "    [4, 3, 1, 8],\n",
    "    [7, 2, 6, 3],\n",
    "    [2, 0, 1, 1],\n",
    "    [3, 4, 2, 5]\n",
    "])"
   ]
  },
  {
   "cell_type": "code",
   "execution_count": 16,
   "metadata": {
    "collapsed": true
   },
   "outputs": [],
   "source": [
    "with tf.Session() as sess:\n",
    "    sess.run(tf.global_variables_initializer())\n",
    "    \n",
    "    x = sess.run(x, feed_dict={x_image:x_data})\n",
    "    y = sess.run(y, feed_dict={x_image:x_data})"
   ]
  },
  {
   "cell_type": "code",
   "execution_count": 17,
   "metadata": {},
   "outputs": [
    {
     "name": "stdout",
     "output_type": "stream",
     "text": [
      "The shape of X:  (1, 4, 4, 1)\n",
      "[[ 4.  3.  1.  8.]\n",
      " [ 7.  2.  6.  3.]\n",
      " [ 2.  0.  1.  1.]\n",
      " [ 3.  4.  2.  5.]]\n",
      "\n",
      "The shape of y:  (1, 2, 2, 1)\n",
      "[[ 7.  8.]\n",
      " [ 4.  5.]]\n",
      "\n"
     ]
    }
   ],
   "source": [
    "print \"The shape of X: \", x.shape\n",
    "print x.reshape(4, 4)\n",
    "print \"\"\n",
    "\n",
    "\n",
    "print \"The shape of y: \", y.shape\n",
    "print y.reshape(2, 2)\n",
    "print \"\""
   ]
  },
  {
   "cell_type": "code",
   "execution_count": null,
   "metadata": {
    "collapsed": true
   },
   "outputs": [],
   "source": []
  }
 ],
 "metadata": {
  "kernelspec": {
   "display_name": "Python 2",
   "language": "python",
   "name": "python2"
  },
  "language_info": {
   "codemirror_mode": {
    "name": "ipython",
    "version": 2
   },
   "file_extension": ".py",
   "mimetype": "text/x-python",
   "name": "python",
   "nbconvert_exporter": "python",
   "pygments_lexer": "ipython2",
   "version": "2.7.12"
  }
 },
 "nbformat": 4,
 "nbformat_minor": 2
}
